{
 "cells": [
  {
   "cell_type": "code",
   "execution_count": 1,
   "metadata": {
    "scrolled": true
   },
   "outputs": [
    {
     "name": "stderr",
     "output_type": "stream",
     "text": [
      "Using TensorFlow backend.\n"
     ]
    }
   ],
   "source": [
    "from source.regency import Regency\n",
    "from source.run import rungame\n",
    "from source.mapping import Mapping\n",
    "from source.DQNAgent import DQNAgent\n",
    "from IPython.display import clear_output\n",
    "import pandas as pd\n",
    "import warnings\n",
    "warnings.filterwarnings('ignore')"
   ]
  },
  {
   "cell_type": "code",
   "execution_count": 2,
   "metadata": {},
   "outputs": [],
   "source": [
    "%matplotlib notebook"
   ]
  },
  {
   "cell_type": "code",
   "execution_count": 3,
   "metadata": {
    "scrolled": false
   },
   "outputs": [
    {
     "name": "stdout",
     "output_type": "stream",
     "text": [
      "WARNING:tensorflow:From C:\\ProgramData\\Anaconda3\\lib\\site-packages\\tensorflow\\python\\framework\\op_def_library.py:263: colocate_with (from tensorflow.python.framework.ops) is deprecated and will be removed in a future version.\n",
      "Instructions for updating:\n",
      "Colocations handled automatically by placer.\n",
      "WARNING:tensorflow:From C:\\ProgramData\\Anaconda3\\lib\\site-packages\\keras\\backend\\tensorflow_backend.py:3445: calling dropout (from tensorflow.python.ops.nn_ops) with keep_prob is deprecated and will be removed in a future version.\n",
      "Instructions for updating:\n",
      "Please use `rate` instead of `keep_prob`. Rate should be set to `rate = 1 - keep_prob`.\n",
      "WARNING:tensorflow:From C:\\ProgramData\\Anaconda3\\lib\\site-packages\\tensorflow\\python\\ops\\math_ops.py:3066: to_int32 (from tensorflow.python.ops.math_ops) is deprecated and will be removed in a future version.\n",
      "Instructions for updating:\n",
      "Use tf.cast instead.\n",
      "Continuing Game\n",
      "missing actionion 3 - Initiative 21\n",
      "missing action\n",
      "missing action\n",
      "Time to Finish the Rounditiative -1\n",
      "error 44 EHAction 1 - Initiative  5\n",
      "Time to Finish the Rounditiative  0\n",
      "Time to Finish the Rounditiative  0\n",
      "error 44 JRAction 3 - Initiative 19\n",
      "Time to Finish the Rounditiative  0\n",
      "Time to Finish the Rounditiative  2\n",
      "error 22 SMAction 2 - Initiative 18\n",
      "Time to Finish the Rounditiative  2\n",
      "Time to Finish the Rounditiative  2\n",
      "   Regent                                          Full Name  Final Score  First Score  Score\n",
      "17     GG                          Overthane Grimm Graybeard          275           96    179\n",
      "39     DA                                        Darien Avan          326          209    117\n",
      "51    LPA  Life and Protection of Avanalae (Medhlorie Hae...          118           45     73\n",
      "37     GK   Guilder Kalien (Endier, Heartlanders Outfitters)          127           58     69\n",
      "8      SM                                         Sword Mage           94           42     52\n",
      "43    COS                                 College of Sorcery           49            3     46\n",
      "38     AV                                       Arron Vaumel          125          104     21\n",
      "56     RA                                     Rogr Aglondier           86           65     21\n",
      "63     AB                          Aeric Boeruine (Boeruine)          204          188     16\n",
      "20     Is                              Emerald Queen Isaelie          114          104     10\n"
     ]
    },
    {
     "data": {
      "text/html": [
       "<div>\n",
       "<style scoped>\n",
       "    .dataframe tbody tr th:only-of-type {\n",
       "        vertical-align: middle;\n",
       "    }\n",
       "\n",
       "    .dataframe tbody tr th {\n",
       "        vertical-align: top;\n",
       "    }\n",
       "\n",
       "    .dataframe thead th {\n",
       "        text-align: right;\n",
       "    }\n",
       "</style>\n",
       "<table border=\"1\" class=\"dataframe\">\n",
       "  <thead>\n",
       "    <tr style=\"text-align: right;\">\n",
       "      <th></th>\n",
       "      <th>Year</th>\n",
       "      <th>Location</th>\n",
       "      <th>Event</th>\n",
       "      <th>Notes</th>\n",
       "    </tr>\n",
       "  </thead>\n",
       "  <tbody>\n",
       "    <tr>\n",
       "      <th>0</th>\n",
       "      <td>Deismir, year 1524 HC</td>\n",
       "      <td>Lindholme</td>\n",
       "      <td>Occupation of Lindholme</td>\n",
       "      <td>Stjordvik Traders (Storm Holtson)'s forces occ...</td>\n",
       "    </tr>\n",
       "    <tr>\n",
       "      <th>0</th>\n",
       "      <td>Deismir, year 1524 HC</td>\n",
       "      <td>Ice Haven</td>\n",
       "      <td>Occupation of Ice Haven</td>\n",
       "      <td>Stjordvik Traders (Storm Holtson)'s forces occ...</td>\n",
       "    </tr>\n",
       "    <tr>\n",
       "      <th>0</th>\n",
       "      <td>Erntenir, year 1524 HC</td>\n",
       "      <td>Lindholme</td>\n",
       "      <td>Occupation of Lindholme</td>\n",
       "      <td>Stjordvik Traders (Storm Holtson)'s forces occ...</td>\n",
       "    </tr>\n",
       "    <tr>\n",
       "      <th>0</th>\n",
       "      <td>Erntenir, year 1524 HC</td>\n",
       "      <td>Brothendar</td>\n",
       "      <td>Occupation of Brothendar</td>\n",
       "      <td>Swamp Mage's forces occupied Brothendar, quash...</td>\n",
       "    </tr>\n",
       "    <tr>\n",
       "      <th>0</th>\n",
       "      <td>Erntenir, year 1524 HC</td>\n",
       "      <td>Ice Haven</td>\n",
       "      <td>Occupation of Ice Haven</td>\n",
       "      <td>Stjordvik Traders (Storm Holtson)'s forces occ...</td>\n",
       "    </tr>\n",
       "    <tr>\n",
       "      <th>0</th>\n",
       "      <td>Sehnir, year 1524 HC</td>\n",
       "      <td>Lindholme</td>\n",
       "      <td>Occupation of Lindholme</td>\n",
       "      <td>Stjordvik Traders (Storm Holtson)'s forces occ...</td>\n",
       "    </tr>\n",
       "    <tr>\n",
       "      <th>0</th>\n",
       "      <td>Sehnir, year 1524 HC</td>\n",
       "      <td>Brothendar</td>\n",
       "      <td>Occupation of Brothendar</td>\n",
       "      <td>Swamp Mage's forces occupied Brothendar, sacki...</td>\n",
       "    </tr>\n",
       "    <tr>\n",
       "      <th>0</th>\n",
       "      <td>Sehnir, year 1524 HC</td>\n",
       "      <td>Ice Haven</td>\n",
       "      <td>Occupation of Ice Haven</td>\n",
       "      <td>Stjordvik Traders (Storm Holtson)'s forces occ...</td>\n",
       "    </tr>\n",
       "    <tr>\n",
       "      <th>0</th>\n",
       "      <td>Emmanir, year 1524 HC</td>\n",
       "      <td>Lindholme</td>\n",
       "      <td>Occupation of Lindholme</td>\n",
       "      <td>Stjordvik Traders (Storm Holtson)'s forces occ...</td>\n",
       "    </tr>\n",
       "    <tr>\n",
       "      <th>0</th>\n",
       "      <td>Emmanir, year 1524 HC</td>\n",
       "      <td>Brothendar</td>\n",
       "      <td>Occupation of Brothendar</td>\n",
       "      <td>Swamp Mage's forces occupied Brothendar, sacki...</td>\n",
       "    </tr>\n",
       "    <tr>\n",
       "      <th>0</th>\n",
       "      <td>Emmanir, year 1524 HC</td>\n",
       "      <td>Ice Haven</td>\n",
       "      <td>Occupation of Ice Haven</td>\n",
       "      <td>Stjordvik Traders (Storm Holtson)'s forces occ...</td>\n",
       "    </tr>\n",
       "  </tbody>\n",
       "</table>\n",
       "</div>"
      ],
      "text/plain": [
       "                     Year    Location                     Event  \\\n",
       "0   Deismir, year 1524 HC   Lindholme   Occupation of Lindholme   \n",
       "0   Deismir, year 1524 HC   Ice Haven   Occupation of Ice Haven   \n",
       "0  Erntenir, year 1524 HC   Lindholme   Occupation of Lindholme   \n",
       "0  Erntenir, year 1524 HC  Brothendar  Occupation of Brothendar   \n",
       "0  Erntenir, year 1524 HC   Ice Haven   Occupation of Ice Haven   \n",
       "0    Sehnir, year 1524 HC   Lindholme   Occupation of Lindholme   \n",
       "0    Sehnir, year 1524 HC  Brothendar  Occupation of Brothendar   \n",
       "0    Sehnir, year 1524 HC   Ice Haven   Occupation of Ice Haven   \n",
       "0   Emmanir, year 1524 HC   Lindholme   Occupation of Lindholme   \n",
       "0   Emmanir, year 1524 HC  Brothendar  Occupation of Brothendar   \n",
       "0   Emmanir, year 1524 HC   Ice Haven   Occupation of Ice Haven   \n",
       "\n",
       "                                               Notes  \n",
       "0  Stjordvik Traders (Storm Holtson)'s forces occ...  \n",
       "0  Stjordvik Traders (Storm Holtson)'s forces occ...  \n",
       "0  Stjordvik Traders (Storm Holtson)'s forces occ...  \n",
       "0  Swamp Mage's forces occupied Brothendar, quash...  \n",
       "0  Stjordvik Traders (Storm Holtson)'s forces occ...  \n",
       "0  Stjordvik Traders (Storm Holtson)'s forces occ...  \n",
       "0  Swamp Mage's forces occupied Brothendar, sacki...  \n",
       "0  Stjordvik Traders (Storm Holtson)'s forces occ...  \n",
       "0  Stjordvik Traders (Storm Holtson)'s forces occ...  \n",
       "0  Swamp Mage's forces occupied Brothendar, sacki...  \n",
       "0  Stjordvik Traders (Storm Holtson)'s forces occ...  "
      ]
     },
     "execution_count": 3,
     "metadata": {},
     "output_type": "execute_result"
    }
   ],
   "source": [
    "X = 3\n",
    "my_game = rungame('TestGame', train=True, GameLength=X, IntDC = 20)\n",
    "Game = my_game.Game\n",
    "for a in range(X):\n",
    "    Game.random_events()\n",
    "    Game.collect_regency_points()\n",
    "    Game.domain_initiative()\n",
    "    Game.collect_gold_bars()\n",
    "    Game.maintenance_costs(Update=True)\n",
    "    Game.take_domain_actions()\n",
    "    Game.take_domain_actions()\n",
    "    Game.take_domain_actions()\n",
    "Game.War"
   ]
  },
  {
   "cell_type": "code",
   "execution_count": 7,
   "metadata": {},
   "outputs": [
    {
     "data": {
      "text/html": [
       "<div>\n",
       "<style scoped>\n",
       "    .dataframe tbody tr th:only-of-type {\n",
       "        vertical-align: middle;\n",
       "    }\n",
       "\n",
       "    .dataframe tbody tr th {\n",
       "        vertical-align: top;\n",
       "    }\n",
       "\n",
       "    .dataframe thead th {\n",
       "        text-align: right;\n",
       "    }\n",
       "</style>\n",
       "<table border=\"1\" class=\"dataframe\">\n",
       "  <thead>\n",
       "    <tr style=\"text-align: right;\">\n",
       "      <th></th>\n",
       "      <th>Regent</th>\n",
       "      <th>Full Name</th>\n",
       "      <th>Final Score</th>\n",
       "      <th>First Score</th>\n",
       "      <th>Score</th>\n",
       "    </tr>\n",
       "  </thead>\n",
       "  <tbody>\n",
       "    <tr>\n",
       "      <th>17</th>\n",
       "      <td>GG</td>\n",
       "      <td>Overthane Grimm Graybeard</td>\n",
       "      <td>275</td>\n",
       "      <td>96</td>\n",
       "      <td>179</td>\n",
       "    </tr>\n",
       "    <tr>\n",
       "      <th>39</th>\n",
       "      <td>DA</td>\n",
       "      <td>Darien Avan</td>\n",
       "      <td>326</td>\n",
       "      <td>209</td>\n",
       "      <td>117</td>\n",
       "    </tr>\n",
       "    <tr>\n",
       "      <th>51</th>\n",
       "      <td>LPA</td>\n",
       "      <td>Life and Protection of Avanalae (Medhlorie Hae...</td>\n",
       "      <td>118</td>\n",
       "      <td>45</td>\n",
       "      <td>73</td>\n",
       "    </tr>\n",
       "    <tr>\n",
       "      <th>37</th>\n",
       "      <td>GK</td>\n",
       "      <td>Guilder Kalien (Endier, Heartlanders Outfitters)</td>\n",
       "      <td>127</td>\n",
       "      <td>58</td>\n",
       "      <td>69</td>\n",
       "    </tr>\n",
       "    <tr>\n",
       "      <th>8</th>\n",
       "      <td>SM</td>\n",
       "      <td>Sword Mage</td>\n",
       "      <td>94</td>\n",
       "      <td>42</td>\n",
       "      <td>52</td>\n",
       "    </tr>\n",
       "  </tbody>\n",
       "</table>\n",
       "</div>"
      ],
      "text/plain": [
       "   Regent                                          Full Name  Final Score  \\\n",
       "17     GG                          Overthane Grimm Graybeard          275   \n",
       "39     DA                                        Darien Avan          326   \n",
       "51    LPA  Life and Protection of Avanalae (Medhlorie Hae...          118   \n",
       "37     GK   Guilder Kalien (Endier, Heartlanders Outfitters)          127   \n",
       "8      SM                                         Sword Mage           94   \n",
       "\n",
       "    First Score  Score  \n",
       "17           96    179  \n",
       "39          209    117  \n",
       "51           45     73  \n",
       "37           58     69  \n",
       "8            42     52  "
      ]
     },
     "execution_count": 7,
     "metadata": {},
     "output_type": "execute_result"
    }
   ],
   "source": [
    "Game.Score = Game.Score.sort_values('Score', ascending=False)\n",
    "Game.Score.head()"
   ]
  },
  {
   "cell_type": "code",
   "execution_count": 19,
   "metadata": {},
   "outputs": [
    {
     "data": {
      "text/plain": [
       "3"
      ]
     },
     "execution_count": 19,
     "metadata": {},
     "output_type": "execute_result"
    }
   ],
   "source": [
    "len(Game.errors)"
   ]
  },
  {
   "cell_type": "code",
   "execution_count": 29,
   "metadata": {},
   "outputs": [],
   "source": [
    "import numpy as np\n",
    "import pandas as pd\n",
    "self = Game\n",
    "\n",
    "Regent, decision, actor, Type, state, capital, high_pop, low_pop, friend, enemy, rando, enemy_capital = Game.errors[2]"
   ]
  },
  {
   "cell_type": "code",
   "execution_count": 30,
   "metadata": {},
   "outputs": [
    {
     "data": {
      "text/plain": [
       "22"
      ]
     },
     "execution_count": 30,
     "metadata": {},
     "output_type": "execute_result"
    }
   ],
   "source": [
    "np.argmax(decision)"
   ]
  },
  {
   "cell_type": "code",
   "execution_count": 34,
   "metadata": {},
   "outputs": [
    {
     "data": {
      "text/html": [
       "<div>\n",
       "<style scoped>\n",
       "    .dataframe tbody tr th:only-of-type {\n",
       "        vertical-align: middle;\n",
       "    }\n",
       "\n",
       "    .dataframe tbody tr th {\n",
       "        vertical-align: top;\n",
       "    }\n",
       "\n",
       "    .dataframe thead th {\n",
       "        text-align: right;\n",
       "    }\n",
       "</style>\n",
       "<table border=\"1\" class=\"dataframe\">\n",
       "  <thead>\n",
       "    <tr style=\"text-align: right;\">\n",
       "      <th></th>\n",
       "      <th>Regent</th>\n",
       "      <th>Other</th>\n",
       "      <th>Diplomacy</th>\n",
       "      <th>Payment</th>\n",
       "      <th>Vassalage</th>\n",
       "      <th>At War</th>\n",
       "      <th>Trade Permission</th>\n",
       "    </tr>\n",
       "  </thead>\n",
       "  <tbody>\n",
       "    <tr>\n",
       "      <th>116</th>\n",
       "      <td>SM</td>\n",
       "      <td>CA</td>\n",
       "      <td>0</td>\n",
       "      <td>0</td>\n",
       "      <td>0</td>\n",
       "      <td>1</td>\n",
       "      <td>0</td>\n",
       "    </tr>\n",
       "  </tbody>\n",
       "</table>\n",
       "</div>"
      ],
      "text/plain": [
       "    Regent Other  Diplomacy  Payment  Vassalage  At War  Trade Permission\n",
       "116     SM    CA          0        0          0       1                 0"
      ]
     },
     "execution_count": 34,
     "metadata": {},
     "output_type": "execute_result"
    }
   ],
   "source": [
    "temp = self.Relationships[self.Relationships['Regent']==Regent]\n",
    "temp = temp[temp['Other']==enemy]\n",
    "\n",
    "temp"
   ]
  },
  {
   "cell_type": "code",
   "execution_count": 37,
   "metadata": {},
   "outputs": [],
   "source": [
    "animosity = -1*temp['Diplomacy'].values[0]\n",
    "animosity = 1\n",
    "\n",
    "animosity = 2*animosity - state[89] + 3*state[87]"
   ]
  },
  {
   "cell_type": "code",
   "execution_count": null,
   "metadata": {
    "collapsed": true
   },
   "outputs": [],
   "source": []
  },
  {
   "cell_type": "code",
   "execution_count": null,
   "metadata": {},
   "outputs": [],
   "source": []
  }
 ],
 "metadata": {
  "kernelspec": {
   "display_name": "Python 3",
   "language": "python",
   "name": "python3"
  },
  "language_info": {
   "codemirror_mode": {
    "name": "ipython",
    "version": 3
   },
   "file_extension": ".py",
   "mimetype": "text/x-python",
   "name": "python",
   "nbconvert_exporter": "python",
   "pygments_lexer": "ipython3",
   "version": "3.7.3"
  }
 },
 "nbformat": 4,
 "nbformat_minor": 2
}
