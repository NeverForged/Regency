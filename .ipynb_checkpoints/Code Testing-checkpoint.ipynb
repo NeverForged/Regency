{
 "cells": [
  {
   "cell_type": "markdown",
   "metadata": {},
   "source": [
    "### Structure of DataFrames\n",
    "* **Provences**: [Provence, Domain, Regent, Terrain, Loyalty, Taxation, Population, Magic, Castle, Capital, Position, Troops]\n",
    "* **Holdings**: [Provence, Domain, Regent, Type, Level]\n",
    "* **Regents**: [Regent, Full Name, Player, Class, Level, Alignment, Str, Dex, Con, Int, Wis, Cha, Insight, Deception, Persuasion, Regency Points, Gold Bars, Regency Bonus, Attitude, Lieutenants]\n",
    "* **Geography**: [Provence, Neighbor, Border, Road, Caravan, Shipping]\n",
    "* **Relationship**: [Regent, Other, Diplomacy, Payment, Vassalage]\n",
    "* **Troops**: [Regent, Provence, Type, Cost, CR]\n",
    "\n",
    "* **Seasons**: A dctionary of season-dataframes (to keep track of waht happened)\n",
    "\n"
   ]
  },
  {
   "cell_type": "code",
   "execution_count": 1,
   "metadata": {
    "scrolled": true
   },
   "outputs": [],
   "source": [
    "from source.regency import Regency\n",
    "from source.DQNAgent import DQNAgent\n",
    "from IPython.display import clear_output\n",
    "\n",
    "Game = Regency()\n",
    "clear_output()\n",
    "for a in range(1):\n",
    "    Game.random_events(Threshold=0)\n",
    "    print(len((Game.Seasons[Game.Season]['Season'])))\n",
    "    Game.collect_regency_points()\n",
    "    print(len((Game.Seasons[Game.Season]['Season'])))\n",
    "    Game.domain_initiative()\n",
    "    print(len((Game.Seasons[Game.Season]['Season'])))\n",
    "    Game.collect_gold_bars()\n",
    "    print(len((Game.Seasons[Game.Season]['Season'])))\n",
    "    Game.maintenance_costs()\n",
    "    print(len((Game.Seasons[Game.Season]['Season'])))\n",
    "\n",
    "\n",
    "Game.Seasons[Game.Season]['Season']"
   ]
  },
  {
   "cell_type": "code",
   "execution_count": 2,
   "metadata": {},
   "outputs": [],
   "source": [
    "Game.Regents"
   ]
  },
  {
   "cell_type": "code",
   "execution_count": null,
   "metadata": {},
   "outputs": [],
   "source": [
    "import pandas as pd\n",
    "\n",
    "Game.random_events(Threshold=.999)\n",
    "df = Game.Seasons[Game.Season]['Season']\n",
    "self = Game\n",
    "df"
   ]
  },
  {
   "cell_type": "code",
   "execution_count": null,
   "metadata": {},
   "outputs": [],
   "source": [
    "import numpy as np\n",
    "df = Game.Seasons[Game.Season]['Season']\n",
    "self = Game\n",
    "# start\n",
    "\n",
    "df = pd.merge(df, self.Regents[['Regent', 'Gold Bars']], on='Regent', how='left')\n",
    "df = df[df['Gold Bars']>10]\n",
    "df['Cost'] = np.random.randint(1,4,df.shape[0])\n",
    "\n",
    "temp = pd.merge(df['Regent'], self.Provences[['Provence', 'Regent', 'Loyalty']].copy(), on='Regent', how='left').fillna('High')\n",
    "temp = temp[temp['Loyalty']!='High'].copy()  # pointless\n",
    "\n",
    "temp['Loyalty'] = temp['Loyalty'].str.replace('Rebellious','1').replace('Poor','2').replace('Average',3).astype(int)\n",
    "\n",
    "temp = pd.merge(temp[['Regent', 'Loyalty']].groupby('Regent').min().reset_index(), temp, on=['Regent', 'Loyalty'], how='left')\n",
    "\n",
    "df = pd.merge(temp, df, on='Regent', how='left')\n",
    "df['Loyalty'] = df['Loyalty'].astype(str).str.replace('1', 'Poor').replace('2', 'Average').replace('3','High')\n",
    "for i, row in df.iterrows():\n",
    "    self.change_regent(row['Regent'], Gold_Bars = row['Gold Bars'] - row['Cost'])\n",
    "    self.change_provence(row['Provence'], Loyalty=row['Loyalty'])\n"
   ]
  },
  {
   "cell_type": "code",
   "execution_count": null,
   "metadata": {},
   "outputs": [],
   "source": [
    "self.Regents"
   ]
  },
  {
   "cell_type": "code",
   "execution_count": null,
   "metadata": {},
   "outputs": [],
   "source": [
    "Game.Provences"
   ]
  },
  {
   "cell_type": "code",
   "execution_count": null,
   "metadata": {},
   "outputs": [],
   "source": [
    "self = Game"
   ]
  },
  {
   "cell_type": "code",
   "execution_count": null,
   "metadata": {},
   "outputs": [],
   "source": [
    "self.Relationships[['Other', 'Vassalage']].copy()"
   ]
  },
  {
   "cell_type": "code",
   "execution_count": null,
   "metadata": {},
   "outputs": [],
   "source": []
  }
 ],
 "metadata": {
  "kernelspec": {
   "display_name": "Python 3",
   "language": "python",
   "name": "python3"
  },
  "language_info": {
   "codemirror_mode": {
    "name": "ipython",
    "version": 3
   },
   "file_extension": ".py",
   "mimetype": "text/x-python",
   "name": "python",
   "nbconvert_exporter": "python",
   "pygments_lexer": "ipython3",
   "version": "3.7.3"
  }
 },
 "nbformat": 4,
 "nbformat_minor": 1
}
