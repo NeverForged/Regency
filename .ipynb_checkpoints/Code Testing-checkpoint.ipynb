{
 "cells": [
  {
   "cell_type": "code",
   "execution_count": null,
   "metadata": {
    "scrolled": true
   },
   "outputs": [],
   "source": [
    "from source.regency import Regency\n",
    "from source.DQNAgent import DQNAgent\n",
    "from IPython.display import clear_output\n",
    "\n",
    "Game = Regency()\n",
    "clear_output()\n",
    "for a in range(1):\n",
    "    Game.random_events(Threshold=0)\n",
    "    print(len((Game.Seasons[Game.Season]['Season'])))\n",
    "    Game.collect_regency_points()\n",
    "    print(len((Game.Seasons[Game.Season]['Season'])))\n",
    "    Game.domain_initiative()\n",
    "    print(len((Game.Seasons[Game.Season]['Season'])))\n",
    "    Game.collect_gold_bars()\n",
    "    print(len((Game.Seasons[Game.Season]['Season'])))\n",
    "    Game.maintenance_costs()\n",
    "    print(len((Game.Seasons[Game.Season]['Season'])))\n",
    "\n",
    "Game.clear_screen()\n",
    "Game.Seasons[Game.Season]['Season']"
   ]
  },
  {
   "cell_type": "code",
   "execution_count": null,
   "metadata": {},
   "outputs": [],
   "source": [
    "import pandas as pd\n",
    "\n",
    "Game.random_events(Threshold=.999)\n",
    "df = Game.Seasons[Game.Season]['Season']\n",
    "self = Game\n",
    "Game.clear_screen()\n",
    "df"
   ]
  },
  {
   "cell_type": "code",
   "execution_count": null,
   "metadata": {
    "scrolled": true
   },
   "outputs": [],
   "source": [
    "import numpy as np\n",
    "df = Game.Seasons[Game.Season]['Season']\n",
    "self = Game\n",
    "# start\n",
    "\n",
    "df = pd.merge(df, self.Provences[['Regent', 'Provence', 'Loyalty', 'Population']].copy(), on='Regent')\n",
    "df['Roll'] = np.random.randint(1, 1000, df.shape[0])\n",
    "df = df.sort_values('Roll')\n",
    "\n",
    "lst = []\n",
    "for i, row in df.iterrows():\n",
    "    if row['Regent'] not in lst:\n",
    "        if row['Loyalty'] == 'High':\n",
    "            self.change_provence(row['Provence'], Loyalty='Poor')\n",
    "        elif row['Loyalty'] == 'Average':\n",
    "            self.change_provence(row['Provence'], Loyalty='Rebellious')\n",
    "        else:\n",
    "            if self.Regents[self.Regents['Regent']=='Rebellion'].shape[0] == 0:\n",
    "                self.add_regent('Rebellion', Archetype='Commoner')\n",
    "            self.add_relationship('Rebellion', row['Regent'], Diplomacy=-5, At_War=1)\n",
    "            self.add_relationship(row['Regent'], 'Rebellion', Diplomacy=-5, At_War=1)\n",
    "            self.change_provence(row['Provence'], 'Rebellion', Loyalty='Poor', Population=0, Attitude='Aggressive')\n",
    "            for a in range(row['Population']):\n",
    "                self.add_troops('Rebellion', row['Provence'], 'Levies', home_provence=row['Provence'])\n",
    "df       "
   ]
  },
  {
   "cell_type": "code",
   "execution_count": null,
   "metadata": {},
   "outputs": [],
   "source": []
  }
 ],
 "metadata": {
  "kernelspec": {
   "display_name": "Python 3",
   "language": "python",
   "name": "python3"
  },
  "language_info": {
   "codemirror_mode": {
    "name": "ipython",
    "version": 3
   },
   "file_extension": ".py",
   "mimetype": "text/x-python",
   "name": "python",
   "nbconvert_exporter": "python",
   "pygments_lexer": "ipython3",
   "version": "3.7.3"
  }
 },
 "nbformat": 4,
 "nbformat_minor": 1
}
