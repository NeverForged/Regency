{
 "cells": [
  {
   "cell_type": "markdown",
   "metadata": {},
   "source": [
    "**Fun with dictionaries and data **"
   ]
  },
  {
   "cell_type": "code",
   "execution_count": 1,
   "metadata": {
    "collapsed": true
   },
   "outputs": [],
   "source": [
    "import pandas as pd"
   ]
  },
  {
   "cell_type": "code",
   "execution_count": 10,
   "metadata": {
    "collapsed": true
   },
   "outputs": [],
   "source": [
    "provences = pd.DataFrame(columns=['Provence', 'Domain', 'Regent', 'Population', 'Magic', 'Law', 'Guild', 'Temple', 'Source'])\n",
    "regents = pd.DataFrame(columns=['Regent', 'Class', 'Level', 'Alignment', 'Str', 'Dex', 'Con', 'Int', 'Wis', 'Cha', 'Insight', 'Perception', 'Deception', 'Persuasion', 'Regency Points', 'Gold Bars', 'Regency Bonus'])"
   ]
  },
  {
   "cell_type": "code",
   "execution_count": null,
   "metadata": {
    "collapsed": true
   },
   "outputs": [],
   "source": [
    "pdct['Domian'] = []\n",
    "pdct['Domian'] .append('Osoerde')\n",
    "set_up_regent('Jaison Raenech', ('Fighter',7), 'LE', (2,1,1,0,-1,2), 36)\n",
    "set_up_regent('Impregnable Heart of Haelyn')\n",
    "set_up_regent('Dirk Watershold')\n",
    "set_up_regent('Swamp Mage')\n",
    "\n",
    "p = 'Brothendar'\n",
    "set_up_regent(\"Church of Storm's Height\")\n",
    "set_up_regent(\"Highland/Overland Traders\")\n",
    "set_up_provence(p,'Osoerde'\n",
    "                , (3,2)\n",
    "                , [('Jaison Raenech',3)]\n",
    "                ,[(\"Church of Storm's Height\",3)]\n",
    "                ,[('Highland/Overland Traders',3)]\n",
    "                ,[('Swamp Mage',3)]\n",
    "                ,['Algael'])\n",
    "set_up_regent('Second Swamp Mage')\n",
    "set_up_provence('Ghalliere', 'Osoerde'\n",
    "                ,(2,3)\n",
    "                ,[('Jaison Raenech',1)]\n",
    "                ,[('Impregnable Heart of Haelyn',2)]\n",
    "                ,[('Highland/Overland Traders',2)]\n",
    "                ,[('Second Swamp Mage',3)]\n",
    "                ,['Brothendar'])\n",
    "\n",
    "set_up_provence('Gulfport', 'Osoerde'\n",
    "                ,(3,2)\n",
    "                ,[('Jaison Raenech',3)]\n",
    "                ,[(\"Church of Storm's Height\",2)]\n",
    "                ,[()]\n",
    "                ,[('Second Swamp Mage',2)]\n",
    "                ,['Brothendar'])\n",
    "set_up_regent('William Moergen')\n",
    "set_up_provence('Moergen', 'Osoerde'\n",
    "                ,(2,3)\n",
    "                ,[('William Moergen',2)]\n",
    "                ,[('Impregnable Heart of Haelyn',2)]\n",
    "                ,[('Dirk Watershold',2)]\n",
    "                ,[('Second Swamp Mage',3)]\n",
    "                ,['Ghalliere', 'Gulfport'])\n",
    "set_up_regent('One True Church of Vosgaard')\n",
    "set_up_provence('Morial', 'Osoerde'\n",
    "                ,(4,1)\n",
    "                ,[('Jaison Raenech',3), ('William Moergen',1)]\n",
    "                ,[(\"Church of Storm's Height\",3),('One True Church of Vosgaard',1)]\n",
    "                ,[('Dirk Watershold',1),('Highland/Overland Traders',2)]\n",
    "                ,[('Second Swamp Mage',1)]\n",
    "                ,['Ghalliere', 'Gulfport', 'Brothendar', 'Moergen']\n",
    "                ,Capital = True)\n",
    "set_up_provence('Spirtisend', 'Osoerde'\n",
    "                ,(2,6)\n",
    "                ,[('Jaison Raenech',1)]\n",
    "                ,[]\n",
    "                ,[('Dirk Watershold',2)]\n",
    "                ,[('Swamp Mage',6)]\n",
    "                ,['Algael', 'Gulfport', 'Brothendar', 'Morial'])\n",
    "set_up_provence('Sunken Lands', 'Osoerde'\n",
    "                ,(2,6)\n",
    "                ,[('William Moergen',2)]\n",
    "                ,[(\"Church of Storm's Height\",2)]\n",
    "                ,[]\n",
    "                ,[('Second Swamp Mage',6)]\n",
    "                ,['Moergen', 'Gulfport'])\n",
    "assign_domain('Osoerde', 'Jaison Raenech')"
   ]
  },
  {
   "cell_type": "code",
   "execution_count": null,
   "metadata": {
    "collapsed": true
   },
   "outputs": [],
   "source": []
  },
  {
   "cell_type": "code",
   "execution_count": null,
   "metadata": {
    "collapsed": true
   },
   "outputs": [],
   "source": []
  },
  {
   "cell_type": "code",
   "execution_count": null,
   "metadata": {
    "collapsed": true
   },
   "outputs": [],
   "source": []
  }
 ],
 "metadata": {
  "anaconda-cloud": {},
  "kernelspec": {
   "display_name": "Python [default]",
   "language": "python",
   "name": "python3"
  },
  "language_info": {
   "codemirror_mode": {
    "name": "ipython",
    "version": 3
   },
   "file_extension": ".py",
   "mimetype": "text/x-python",
   "name": "python",
   "nbconvert_exporter": "python",
   "pygments_lexer": "ipython3",
   "version": "3.5.2"
  }
 },
 "nbformat": 4,
 "nbformat_minor": 1
}
