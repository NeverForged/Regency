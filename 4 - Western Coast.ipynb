{
 "cells": [
  {
   "cell_type": "code",
   "execution_count": null,
   "metadata": {},
   "outputs": [],
   "source": []
  },
  {
   "cell_type": "code",
   "execution_count": null,
   "metadata": {},
   "outputs": [],
   "source": [
    "Game.add_regent('CJS', 'Celestial Jewel of Sarimie (Temais Coumain)', Archetype='Priest')\n",
    "\n",
    "Game.add_regent('CSH', \"Church of Storm's End\", Archetype='Priest')\n",
    "Game.add_regent('TCV', 'One True Church of Vosgaard', Archetype='Priest')\n",
    "Game.add_regent('EM', \"Rriene Mierelen (Brosen Royal Guild)\")\n",
    "Game.add_regent('AV', \"Arron Vaumel (Straits of Aerele Shipping)\", Archetype='Mage')\n",
    "Game.add_regent('HK', \"Harald Khorien\", Archetype='Mage')\n",
    "\n",
    "\n",
    "Game.add_regent('TF', 'The Fortress (Tugaere Issimane)', Archetype='Priest')\n",
    "Game.add_regent('WB', \"Water's Blessing (Phisiad Uriene)\", Archetype='Priest')\n",
    "Game.add_regent('MOC', \"Militant Order of Cuiraecen (Fhylie the Sword)\", Archetype='Priest')\n",
    "Game.add_regent('GTh', \"Gaelin Thuried (Upper Anuire Traders)\")\n",
    "Game.add_regent('AB', \"Aeric Boeruine (Boeruine)\")\n",
    "Game.add_regent('MB', \"Mheallie Bireon (Stonecrown Coster, Source of the Maesil, Northlands Exchange)\")\n",
    "Game.add_regent('Rh', \"Rhuobhe the Elf\", Archetype='Archmage', Race='Elf')\n",
    "\n",
    "Game.add_regent('EL', \"Elamien Lamier (Points East Trading Guild)\")\n",
    "Game.add_regent('HA', \"Haelyn's Aegis (Anita Maricoere)\", Archetype='Priest')"
   ]
  }
 ],
 "metadata": {
  "kernelspec": {
   "display_name": "Python 3",
   "language": "python",
   "name": "python3"
  },
  "language_info": {
   "codemirror_mode": {
    "name": "ipython",
    "version": 3
   },
   "file_extension": ".py",
   "mimetype": "text/x-python",
   "name": "python",
   "nbconvert_exporter": "python",
   "pygments_lexer": "ipython3",
   "version": "3.7.3"
  }
 },
 "nbformat": 4,
 "nbformat_minor": 2
}
