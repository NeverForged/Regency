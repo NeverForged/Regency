{
 "cells": [
  {
   "cell_type": "markdown",
   "metadata": {},
   "source": [
    "### Structure of DataFrames\n",
    "* **Provences**: [Provence, Domain, Regent, Terrain, Loyalty, Taxation, Population, Magic, Castle, Capital, Position]\n",
    "* ** Holdings ** [Provence, Domain, Regent, Type, Level]\n",
    "* **Regents**: [Regent, Full Name, Player, Class, Level, Alignment, Str, Dex, Con, Int, Wis, Cha, Insight, Deception, Persuasion, Regency Points, Gold Bars, Regency Bonus, Attitude, Lieutenants]\n",
    "* **Geography**: [Provence, Neighbor, Border, Road, Caravan, Shipping]\n",
    "* **Diplomacy**: [Regent, Other, Relationship, Payment]\n"
   ]
  },
  {
   "cell_type": "code",
   "execution_count": 135,
   "metadata": {
    "collapsed": false
   },
   "outputs": [],
   "source": [
    "import pandas as pd\n",
    "import numpy as np\n",
    "\n",
    "cols = ['Provence', 'Domain', 'Regent', 'Terrain', 'Loyalty', 'Taxation',\n",
    "        'Population', 'Magic', 'Castle', 'Capital', 'Position', 'Troops']\n",
    "Provences = pd.DataFrame(columns=cols)\n",
    "\n",
    "def add_provence(Provence, Domain, Regent, x, y, df=Provences\n",
    "                 , Population=0, Magic=1, Law=None\n",
    "                 , Capital=False, Terrain='Plains', Loyalty='Average', Taxation='Moderate'\n",
    "                 , Troops='', Castle=0, Holdings=Holdings):\n",
    "    '''\n",
    "    Provence: pkey, Name\n",
    "    Domain: Name \n",
    "    Regent: Name, foreign key on Regents \n",
    "    Terrain: 'Desert', 'Tundra', 'Forest', 'Mountain', 'Glacier', 'Hills', \n",
    "            'Plains', 'Farmland', 'Steppes', 'Swamp', 'Marsh' \n",
    "    Taxation: 'Light', 'Moderate', or 'Severe'\n",
    "    Loyalty: 'High', 'Average', 'Poor', or 'Rebellious'\n",
    "    Population: 0 thru 9\n",
    "    Magic: 1 thru 9 (lowers when population increases, minimumm 1)\n",
    "    Castle: 0+ (when they fortify, they get this)\n",
    "    Capital: True or False if Capital of Domain\n",
    "    x,y: x and y position\n",
    "    Troops: String Values of type(subtype), comma seperated\n",
    "    '''\n",
    "    \n",
    "    df.loc[df.shape[0]] = [Provence, Domain, Regent, Terrain, Loyalty, Taxation,\n",
    "                           Population, Magic, Castle, Capital, np.array([x, y]), Troops]\n",
    "   \n",
    "    df['Magic'] = df['Magic'].astype(int)\n",
    "    df['Population'] = df['Population'].astype(int)\n",
    "    df['Castle'] = df['Castle'].astype(int)\n",
    "    df = df.drop_duplicates(subset='Provence', keep=\"last\")\n",
    "    \n",
    "    if Law == None:\n",
    "        return df\n",
    "    else:\n",
    "        return df, add_holding(Provence, Regent, 'Law', Law, Holdings)\n",
    "\n",
    "cols= ['Provence', 'Regent', 'Type', 'Level']\n",
    "Holdings = pd.DataFrame(columns=cols)    \n",
    "    \n",
    "def add_holding(Provence, Regent, Type='Law', Level=1, df=Holdings):\n",
    "    '''\n",
    "     Provence: match to provence\n",
    "     Regent: match to regent\n",
    "     Type: 'Law', 'Guild', 'Temple', 'Source' \n",
    "     Level: 1 to Population (or Magic for source)\n",
    "    '''\n",
    "    df.loc[df.shape[0]] = [Provence, Regent, Type, Level]\n",
    "    df['Level'] = df['Level'].astype(int)\n",
    "    return df\n",
    "\n",
    "def remove_holding(Provence, Regent, Type, df=Holdings):\n",
    "    '''\n",
    "    Remove all rows where Regent, Provence, Type are\n",
    "    equakl to those set.\n",
    "    '''\n",
    "    temp = df[df['Provence']==Provence] # just the provence in question\n",
    "    df = df[df['Provence'] != Provence] # all others are safe\n",
    "     # add back all other regents ion that provence\n",
    "    df = pd.concat(df, temp[temp['Regent'] != Regent]) \n",
    "    # isolate regent\n",
    "    temp = temp[temp['Regent'] == Regent]\n",
    "    # add back all other types\n",
    "    df = pd.concat(df, temp[temp['Regent'] != Type])\n",
    "    \n",
    "    #done\n",
    "    return df\n",
    "\n",
    "cols = ['Regent', 'Full Name', 'Player', \n",
    "         'Class', 'Level', 'Alignment', 'Str', 'Dex', 'Con', 'Int', 'Wis', 'Cha',\n",
    "        'Insight', 'Deception', 'Persuasion',\n",
    "         'Regency Points', 'Gold Bars', 'Regency Bonus', 'Attitude', 'Lieutenants']\n",
    "Regents = pd.DataFrame(columns=cols)\n",
    "\n",
    "def add_regent(Regent, Name, Player=False, df=Regents, Class='Noble', Level=2, Alignment = 'NN'\n",
    "               , Str = 0, Dex = 1, Con = 0, Int = 1, Wis = 2, Cha = 3\n",
    "               , Insight = 4, Deception = 5, Persuasion = 5\n",
    "               , Regency_Points = 0, Gold_Bars = 0, Regency_Bonus = 1\n",
    "               , Attitude = 'Normal', Lieutenants=[], Archetype=None):\n",
    "    '''\n",
    "    Archetype: Allows forpre-loaded skill and ability mods based on NPC statblocks\n",
    "    '''\n",
    "    if Archetype != None:\n",
    "        # set the stats based on archetype\n",
    "        Class, Level, Str, Dex, Con, Int, Wis, Cha, Insight, Deception, Persuasion = get_archetype(Archetype)\n",
    "\n",
    "    df.loc[df.shape[0]] = [Regent, Name, Player, Class, Level, Alignment, \n",
    "                           Str, Dex, Con, Int, Wis, Cha, Insight, Deception, Persuasion,\n",
    "                           Regency_Points, Gold_Bars, Regency_Bonus, Attitude, Lieutenants]\n",
    "    df = df.drop_duplicates(subset='Regent', keep='last')\n",
    "    return df\n",
    "\n",
    "def get_archetype(Archetype):\n",
    "    # return  Class, Level, Str, Dex, Con, Int, Wis, Cha, Insight, Deception, Persuasion\n",
    "    if Archetype == 'Noble':\n",
    "        return 'Noble', 2, 0, 1, 0, 1, 2, 3, 4, 5, 5\n",
    "    elif Archetype == 'Archmage':\n",
    "        return 'Archmage', 18, 0, 2, 1, 5, 2, 3, 5, 3, 3\n",
    "    elif Archetype == 'Assassin':\n",
    "        return 'Assassin', 12, 0, 3, 2, 1, 0, 0, 1, 3, 0\n",
    "    elif Archetype == 'Bandit' or Archetype == 'Bandit Captain':\n",
    "        return 'Bandit Captain', 10, 2, 3, 2, 2, 0, 2, 2, 4, 2\n",
    "    elif Archetype == 'Commoner':\n",
    "        return 'Commoner', 1, 0, 0, 0, 0, 0, 0, 0, 0, 0\n",
    "    elif Archetype == 'Druid':\n",
    "        return 'Druid', 5, 0, 1, 1, 1, 2, 0, 1, 0, 0\n",
    "    elif Archetype == 'Knight':\n",
    "        return 'Knight', 8, 3, 0, 2, 0, 0, 2, 0, 2, 2\n",
    "    elif Archetype == 'Lich':\n",
    "        return 'Lich', 18, 0, 3, 3, 5, 2, 3, 9, 3, 3\n",
    "    elif Archetype == 'Mage':\n",
    "        return 'Mage', 9, -1, 2, 0, 3, 1, 0, 3, 0, 0\n",
    "    elif Archetype == 'Hag' or Archetype == 'Green Hag':\n",
    "        return 'Green Hag', 11, 4, 1, 3, 1, 2, 2, 1, 4, 2\n",
    "    elif Archetype == 'Priest':\n",
    "        return 'Priest', 5, 0, 0, 1, 1, 3, 1, 1, 1, 3\n",
    "    \n",
    "    # if none of the above, return Noble stats\n",
    "    else:\n",
    "        return 'Noble', 2, 0, 1, 0, 1, 2, 3, 4, 5, 5"
   ]
  },
  {
   "cell_type": "code",
   "execution_count": 136,
   "metadata": {
    "collapsed": false
   },
   "outputs": [],
   "source": [
    "domain='Coeranys'\n",
    "p = 'Bogsend'\n",
    "Provences = add_provence(p, domain, 'EC', 1543, -1985, Population=3, Magic=2, Terrain='Swamp')\n",
    "Holdings = add_holding(p, 'EC', 'Law', 1)\n",
    "Holdings = add_holding(p, 'LPA', 'Temple', 1)\n",
    "Holdings = add_holding(p, 'GH', 'Guild', 3)\n",
    "Holdings = add_holding(p, 'Sw2', 'Source', 2)\n",
    "\n",
    "Regents = add_regent('EC', 'Eluvie Cariele', Player=True, Class='Fighter', Alignment='CG', Regency_Bonus=2\n",
    "                     , Attitude='Peaceful', Lieutenants=['Aedric Bherenstae'])\n",
    "Regents = add_regent('LPA', 'Life abd Protection of Avanalae (Medhlorie Haensen)', Archetype='Priest', Regency_Bonus=3)\n",
    "Regents = add_regent('GH', 'Ghorien Hiriele (Highland/Overland Traders)')\n",
    "Regents = add_regent('Sw2', 'Second Swamp Mage', Archetype='Hag')\n",
    "Regents = add_regent('HA', \"Haelyn's Aegis (Anita Maricoere)\", Archetype='Priest')\n",
    "Regents = add_regent('DW', \"Diirk Watersold (Royal Guild of Baruk-Azhir)\")\n",
    "Regents = add_regent('TBM', \"Three Brother Mages\", Archetype='Mage')\n",
    "Regents = add_regent('EL', \"Elamien Lamier (Points East Trading Guild)\")\n",
    "\n",
    "\n",
    "\n",
    "Provences = add_provence('Caudraight', domain, 'EC', 0, 0, Population=4, Magic=1)\n",
    "Provences = add_provence('Deepshadow', domain, 'EC', 0, 0, Population=3, Magic=2)\n",
    "Provences, Holdings = add_provence('Duornil', domain, 'EC', 0, 0, Population=2, Magic=3, Law=1)\n",
    "Provences, Holdings = add_provence('Mistil', domain, 'EC', 0, 0, Population=2, Magic=3, Law=1)"
   ]
  },
  {
   "cell_type": "code",
   "execution_count": 138,
   "metadata": {
    "collapsed": false
   },
   "outputs": [
    {
     "data": {
      "text/html": [
       "<div>\n",
       "<table border=\"1\" class=\"dataframe\">\n",
       "  <thead>\n",
       "    <tr style=\"text-align: right;\">\n",
       "      <th></th>\n",
       "      <th>Provence</th>\n",
       "      <th>Domain</th>\n",
       "      <th>Regent</th>\n",
       "      <th>Terrain</th>\n",
       "      <th>Loyalty</th>\n",
       "      <th>Taxation</th>\n",
       "      <th>Population</th>\n",
       "      <th>Magic</th>\n",
       "      <th>Castle</th>\n",
       "      <th>Capital</th>\n",
       "      <th>Position</th>\n",
       "      <th>Troops</th>\n",
       "    </tr>\n",
       "  </thead>\n",
       "  <tbody>\n",
       "    <tr>\n",
       "      <th>0</th>\n",
       "      <td>Bogsend</td>\n",
       "      <td>Coeranys</td>\n",
       "      <td>EC</td>\n",
       "      <td>Swamp</td>\n",
       "      <td>Average</td>\n",
       "      <td>Moderate</td>\n",
       "      <td>3</td>\n",
       "      <td>2</td>\n",
       "      <td>0</td>\n",
       "      <td>False</td>\n",
       "      <td>[1543, -1985]</td>\n",
       "      <td></td>\n",
       "    </tr>\n",
       "    <tr>\n",
       "      <th>1</th>\n",
       "      <td>Caudraight</td>\n",
       "      <td>Coeranys</td>\n",
       "      <td>EC</td>\n",
       "      <td>Plains</td>\n",
       "      <td>Average</td>\n",
       "      <td>Moderate</td>\n",
       "      <td>4</td>\n",
       "      <td>1</td>\n",
       "      <td>0</td>\n",
       "      <td>False</td>\n",
       "      <td>[0, 0]</td>\n",
       "      <td></td>\n",
       "    </tr>\n",
       "    <tr>\n",
       "      <th>2</th>\n",
       "      <td>Deepshadow</td>\n",
       "      <td>Coeranys</td>\n",
       "      <td>EC</td>\n",
       "      <td>Plains</td>\n",
       "      <td>Average</td>\n",
       "      <td>Moderate</td>\n",
       "      <td>3</td>\n",
       "      <td>2</td>\n",
       "      <td>0</td>\n",
       "      <td>False</td>\n",
       "      <td>[0, 0]</td>\n",
       "      <td></td>\n",
       "    </tr>\n",
       "    <tr>\n",
       "      <th>3</th>\n",
       "      <td>Duornil</td>\n",
       "      <td>Coeranys</td>\n",
       "      <td>EC</td>\n",
       "      <td>Plains</td>\n",
       "      <td>Average</td>\n",
       "      <td>Moderate</td>\n",
       "      <td>2</td>\n",
       "      <td>3</td>\n",
       "      <td>0</td>\n",
       "      <td>False</td>\n",
       "      <td>[0, 0]</td>\n",
       "      <td></td>\n",
       "    </tr>\n",
       "    <tr>\n",
       "      <th>4</th>\n",
       "      <td>Mistil</td>\n",
       "      <td>Coeranys</td>\n",
       "      <td>EC</td>\n",
       "      <td>Plains</td>\n",
       "      <td>Average</td>\n",
       "      <td>Moderate</td>\n",
       "      <td>2</td>\n",
       "      <td>3</td>\n",
       "      <td>0</td>\n",
       "      <td>False</td>\n",
       "      <td>[0, 0]</td>\n",
       "      <td></td>\n",
       "    </tr>\n",
       "  </tbody>\n",
       "</table>\n",
       "</div>"
      ],
      "text/plain": [
       "     Provence    Domain Regent Terrain  Loyalty  Taxation  Population  Magic  \\\n",
       "0     Bogsend  Coeranys     EC   Swamp  Average  Moderate           3      2   \n",
       "1  Caudraight  Coeranys     EC  Plains  Average  Moderate           4      1   \n",
       "2  Deepshadow  Coeranys     EC  Plains  Average  Moderate           3      2   \n",
       "3     Duornil  Coeranys     EC  Plains  Average  Moderate           2      3   \n",
       "4      Mistil  Coeranys     EC  Plains  Average  Moderate           2      3   \n",
       "\n",
       "   Castle Capital       Position Troops  \n",
       "0       0   False  [1543, -1985]         \n",
       "1       0   False         [0, 0]         \n",
       "2       0   False         [0, 0]         \n",
       "3       0   False         [0, 0]         \n",
       "4       0   False         [0, 0]         "
      ]
     },
     "execution_count": 138,
     "metadata": {},
     "output_type": "execute_result"
    }
   ],
   "source": [
    "Provences"
   ]
  },
  {
   "cell_type": "code",
   "execution_count": 112,
   "metadata": {
    "collapsed": false
   },
   "outputs": [
    {
     "data": {
      "text/html": [
       "<div>\n",
       "<table border=\"1\" class=\"dataframe\">\n",
       "  <thead>\n",
       "    <tr style=\"text-align: right;\">\n",
       "      <th></th>\n",
       "      <th>Provence</th>\n",
       "      <th>Regent</th>\n",
       "      <th>Type</th>\n",
       "      <th>Level</th>\n",
       "    </tr>\n",
       "  </thead>\n",
       "  <tbody>\n",
       "    <tr>\n",
       "      <th>0</th>\n",
       "      <td>Bogsend</td>\n",
       "      <td>EC</td>\n",
       "      <td>Law</td>\n",
       "      <td>1</td>\n",
       "    </tr>\n",
       "  </tbody>\n",
       "</table>\n",
       "</div>"
      ],
      "text/plain": [
       "  Provence Regent Type  Level\n",
       "0  Bogsend     EC  Law      1"
      ]
     },
     "execution_count": 112,
     "metadata": {},
     "output_type": "execute_result"
    }
   ],
   "source": [
    "\n",
    "Holdings.head()"
   ]
  },
  {
   "cell_type": "code",
   "execution_count": 121,
   "metadata": {
    "collapsed": false
   },
   "outputs": [
    {
     "data": {
      "text/html": [
       "<div>\n",
       "<table border=\"1\" class=\"dataframe\">\n",
       "  <thead>\n",
       "    <tr style=\"text-align: right;\">\n",
       "      <th></th>\n",
       "      <th>Provence</th>\n",
       "      <th>Regent</th>\n",
       "      <th>Type</th>\n",
       "      <th>Level</th>\n",
       "    </tr>\n",
       "  </thead>\n",
       "  <tbody>\n",
       "    <tr>\n",
       "      <th>0</th>\n",
       "      <td>Test</td>\n",
       "      <td>TS</td>\n",
       "      <td>Law</td>\n",
       "      <td>2</td>\n",
       "    </tr>\n",
       "    <tr>\n",
       "      <th>1</th>\n",
       "      <td>Bogsend</td>\n",
       "      <td>EC</td>\n",
       "      <td>Law</td>\n",
       "      <td>2</td>\n",
       "    </tr>\n",
       "  </tbody>\n",
       "</table>\n",
       "</div>"
      ],
      "text/plain": [
       "  Provence Regent Type  Level\n",
       "0     Test     TS  Law      2\n",
       "1  Bogsend     EC  Law      2"
      ]
     },
     "execution_count": 121,
     "metadata": {},
     "output_type": "execute_result"
    }
   ],
   "source": [
    "\n",
    "Provence='Bogsend'\n",
    "Regent='EC'\n",
    "Type='Law'\n",
    "Level=2\n",
    "\n",
    "\n",
    "df.loc[df.shape[0]] = [Provence, Regent, Type, Level]\n",
    "df['Level'] = df['Level'].astype(int)\n",
    "df['Test'] = df['Regent'] + df['Provence'] + df['Type']\n",
    "\n",
    "df = df.drop_duplicates(subset=['Test'], keep=\"last\")\n",
    "df.drop(['Test'], axis=1, inplace=True)\n",
    "df = df.reset_index(drop=True)\n",
    "df.head()\n"
   ]
  },
  {
   "cell_type": "code",
   "execution_count": 119,
   "metadata": {
    "collapsed": true
   },
   "outputs": [],
   "source": [
    "df = Holdings.copy()"
   ]
  },
  {
   "cell_type": "code",
   "execution_count": 117,
   "metadata": {
    "collapsed": false
   },
   "outputs": [
    {
     "data": {
      "text/html": [
       "<div>\n",
       "<table border=\"1\" class=\"dataframe\">\n",
       "  <thead>\n",
       "    <tr style=\"text-align: right;\">\n",
       "      <th></th>\n",
       "      <th>Provence</th>\n",
       "      <th>Regent</th>\n",
       "      <th>Type</th>\n",
       "      <th>Level</th>\n",
       "    </tr>\n",
       "  </thead>\n",
       "  <tbody>\n",
       "    <tr>\n",
       "      <th>0</th>\n",
       "      <td>Bogsend</td>\n",
       "      <td>EC</td>\n",
       "      <td>Law</td>\n",
       "      <td>1</td>\n",
       "    </tr>\n",
       "  </tbody>\n",
       "</table>\n",
       "</div>"
      ],
      "text/plain": [
       "  Provence Regent Type  Level\n",
       "0  Bogsend     EC  Law      1"
      ]
     },
     "execution_count": 117,
     "metadata": {},
     "output_type": "execute_result"
    }
   ],
   "source": [
    "df"
   ]
  },
  {
   "cell_type": "code",
   "execution_count": 98,
   "metadata": {
    "collapsed": false
   },
   "outputs": [
    {
     "data": {
      "text/plain": [
       "('Test', 'TS', 'Law', 2)"
      ]
     },
     "execution_count": 98,
     "metadata": {},
     "output_type": "execute_result"
    }
   ],
   "source": []
  },
  {
   "cell_type": "code",
   "execution_count": null,
   "metadata": {
    "collapsed": true
   },
   "outputs": [],
   "source": []
  }
 ],
 "metadata": {
  "kernelspec": {
   "display_name": "Python [conda root]",
   "language": "python",
   "name": "conda-root-py"
  },
  "language_info": {
   "codemirror_mode": {
    "name": "ipython",
    "version": 3
   },
   "file_extension": ".py",
   "mimetype": "text/x-python",
   "name": "python",
   "nbconvert_exporter": "python",
   "pygments_lexer": "ipython3",
   "version": "3.5.2"
  }
 },
 "nbformat": 4,
 "nbformat_minor": 1
}
