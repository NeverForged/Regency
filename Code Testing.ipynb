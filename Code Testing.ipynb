{
 "cells": [
  {
   "cell_type": "code",
   "execution_count": 1,
   "metadata": {
    "scrolled": false
   },
   "outputs": [
    {
     "name": "stdout",
     "output_type": "stream",
     "text": [
      "{'investure_invest_friend', 'diplomacy_force_tribute', 'disband_army', 'espionage_heresy', 'espionage_assassination', 'espionage_discover_troop_movements', 'contest_provence', 'rule_holdings', 'espionage_diplomatic_details', 'espionage_corruption', 'decree_asset_seizure', 'declare_war', 'investure_divest_enemy', 'espionage_intrigue', 'diplomacy_troop_permission', 'diplomacy_trade_agreement', 'realm_magic_demagogue_friend', 'grant', 'create_holding', 'contest_holding', 'muster_mercenaries', 'realm_magic_demagogue_enemy', 'adventuring', 'realm_magic_alchemy', 'agitiate_for_friend', 'muster_levies', 'decree_general', 'diplomacy_form_alliance', 'disband_mercenaries', 'diplomacy_respond_to_brigandage', 'Lieutenant', 'muster_army', 'investiture_become_vassal_friend', 'realm_magic_mass_destruction'}\n",
      "\n",
      "{'investure_invest_friend', 'diplomacy_force_tribute', 'disband_army', 'contest_provence', 'rule_holdings', 'espionage_diplomatic_details', 'espionage_corruption', 'decree_asset_seizure', 'declare_war', 'investure_divest_enemy', 'diplomacy_troop_permission', 'espionage_intrigue', 'diplomacy_trade_agreement', 'grant', 'create_holding', 'contest_holding', 'muster_mercenaries', 'adventuring', 'realm_magic_alchemy', 'agitiate_for_friend', 'muster_levies', 'decree_general', 'diplomacy_form_alliance', 'disband_mercenaries', 'Lieutenant', 'investiture_become_vassal_friend'}\n"
     ]
    },
    {
     "data": {
      "text/html": [
       "<div>\n",
       "<style scoped>\n",
       "    .dataframe tbody tr th:only-of-type {\n",
       "        vertical-align: middle;\n",
       "    }\n",
       "\n",
       "    .dataframe tbody tr th {\n",
       "        vertical-align: top;\n",
       "    }\n",
       "\n",
       "    .dataframe thead th {\n",
       "        text-align: right;\n",
       "    }\n",
       "</style>\n",
       "<table border=\"1\" class=\"dataframe\">\n",
       "  <thead>\n",
       "    <tr style=\"text-align: right;\">\n",
       "      <th></th>\n",
       "      <th>Year</th>\n",
       "      <th>Location</th>\n",
       "      <th>Event</th>\n",
       "      <th>Notes</th>\n",
       "    </tr>\n",
       "  </thead>\n",
       "  <tbody>\n",
       "    <tr>\n",
       "      <th>0</th>\n",
       "      <td>Winter, year 1524 HC</td>\n",
       "      <td>Moergen</td>\n",
       "      <td>Occupation of Moergen</td>\n",
       "      <td>WM occupied Moergen with 1 Irregulars sacking ...</td>\n",
       "    </tr>\n",
       "    <tr>\n",
       "      <th>0</th>\n",
       "      <td>Spring, year 1524 HC</td>\n",
       "      <td>Moergen</td>\n",
       "      <td>Occupation of Moergen</td>\n",
       "      <td>WM occupied Moergen with 1 Irregulars sacking ...</td>\n",
       "    </tr>\n",
       "    <tr>\n",
       "      <th>0</th>\n",
       "      <td>Summer, year 1524 HC</td>\n",
       "      <td>Moergen</td>\n",
       "      <td>Occupation of Moergen</td>\n",
       "      <td>WM occupied Moergen with 1 Irregulars sacking ...</td>\n",
       "    </tr>\n",
       "    <tr>\n",
       "      <th>0</th>\n",
       "      <td>Autumn, year 1524 HC</td>\n",
       "      <td>Moergen</td>\n",
       "      <td>Occupation of Moergen</td>\n",
       "      <td>WM occupied Moergen with 1 Irregulars sacking ...</td>\n",
       "    </tr>\n",
       "    <tr>\n",
       "      <th>0</th>\n",
       "      <td>Autumn, year 1525 HC</td>\n",
       "      <td>Moergen</td>\n",
       "      <td>Occupation of Moergen</td>\n",
       "      <td>WM occupied Moergen with 1 Irregulars sacking ...</td>\n",
       "    </tr>\n",
       "  </tbody>\n",
       "</table>\n",
       "</div>"
      ],
      "text/plain": [
       "                   Year Location                  Event  \\\n",
       "0  Winter, year 1524 HC  Moergen  Occupation of Moergen   \n",
       "0  Spring, year 1524 HC  Moergen  Occupation of Moergen   \n",
       "0  Summer, year 1524 HC  Moergen  Occupation of Moergen   \n",
       "0  Autumn, year 1524 HC  Moergen  Occupation of Moergen   \n",
       "0  Autumn, year 1525 HC  Moergen  Occupation of Moergen   \n",
       "\n",
       "                                               Notes  \n",
       "0  WM occupied Moergen with 1 Irregulars sacking ...  \n",
       "0  WM occupied Moergen with 1 Irregulars sacking ...  \n",
       "0  WM occupied Moergen with 1 Irregulars sacking ...  \n",
       "0  WM occupied Moergen with 1 Irregulars sacking ...  \n",
       "0  WM occupied Moergen with 1 Irregulars sacking ...  "
      ]
     },
     "execution_count": 1,
     "metadata": {},
     "output_type": "execute_result"
    }
   ],
   "source": [
    "from source.regency import Regency\n",
    "from source.mapping import Mapping\n",
    "from source.DQNAgent import DQNAgent\n",
    "from IPython.display import clear_output\n",
    "import pandas as pd\n",
    "import warnings\n",
    "warnings.filterwarnings('ignore')\n",
    "\n",
    "\n",
    "seasons = 10\n",
    "Game = Regency(True)\n",
    "clear_output()\n",
    "Game.add_relationship('WM','JR', At_War=1)\n",
    "Game.add_troops('WM', 'Moergen', 'Irregulars')\n",
    "for a in range(seasons):\n",
    "    print(a)\n",
    "    Game.random_events()\n",
    "    Game.collect_regency_points()\n",
    "    Game.domain_initiative()\n",
    "    Game.collect_gold_bars()\n",
    "    Game.maintenance_costs(Update=True)\n",
    "    Game.Seasons[Game.Season]['Season']\n",
    "    Game.take_domain_actions()\n",
    "    Game.war_move()\n",
    "    Game.clean_up()\n",
    "    Game.clear_screen()\n",
    "\n",
    "df = pd.concat([Game.Seasons[b]['Actions'][a+1] for a in range(3) for b in range(seasons)])\n",
    "print(set(df['Action']))\n",
    "print()\n",
    "print(set(df[df['Success?']==True]['Action']))\n",
    "Game.War\n"
   ]
  },
  {
   "cell_type": "code",
   "execution_count": 6,
   "metadata": {},
   "outputs": [
    {
     "data": {
      "text/plain": [
       "(5, 4)"
      ]
     },
     "execution_count": 6,
     "metadata": {},
     "output_type": "execute_result"
    }
   ],
   "source": [
    "Game.War"
   ]
  },
  {
   "cell_type": "code",
   "execution_count": 3,
   "metadata": {},
   "outputs": [
    {
     "data": {
      "text/plain": [
       "[('GG', 'Move-step2', 4, Empty DataFrame\n",
       "  Columns: [Provence]\n",
       "  Index: []), ('GG', 'Move-step2', 4, Empty DataFrame\n",
       "  Columns: [Provence]\n",
       "  Index: []), ('GG', 'Move-step2', 4, Empty DataFrame\n",
       "  Columns: [Provence]\n",
       "  Index: []), ('GG', 'Move-step2', 4, Empty DataFrame\n",
       "  Columns: [Provence]\n",
       "  Index: []), ('GG', 'Move-step2', 4, Empty DataFrame\n",
       "  Columns: [Provence]\n",
       "  Index: []), ('GG', 'Move-step2', 4, Empty DataFrame\n",
       "  Columns: [Provence]\n",
       "  Index: []), ('DW', 'Move-step3', 4, 0,     Provence  roll\n",
       "  21   Careine    25\n",
       "  25   Ruorkhe    42\n",
       "  23    Lyssan    52\n",
       "  22    Hamein    89\n",
       "  20  Barniere    93\n",
       "  24     Mhowe    99\n",
       "  26  Salviene    99), ('GG', 'Move-step2', 5, Empty DataFrame\n",
       "  Columns: [Provence]\n",
       "  Index: []), ('GG', 'Move-step2', 5, Empty DataFrame\n",
       "  Columns: [Provence]\n",
       "  Index: []), ('GG', 'Move-step2', 5, Empty DataFrame\n",
       "  Columns: [Provence]\n",
       "  Index: []), ('GG', 'Move-step2', 5, Empty DataFrame\n",
       "  Columns: [Provence]\n",
       "  Index: []), ('DW', 'Move-step3', 8, 0,     Provence  roll\n",
       "  22    Hamein    14\n",
       "  21   Careine    16\n",
       "  25   Ruorkhe    27\n",
       "  23    Lyssan    34\n",
       "  20  Barniere    56\n",
       "  24     Mhowe    74\n",
       "  26  Salviene    88), ('RA', 'Move-step2', 9, Empty DataFrame\n",
       "  Columns: [Provence]\n",
       "  Index: [])]"
      ]
     },
     "execution_count": 3,
     "metadata": {},
     "output_type": "execute_result"
    }
   ],
   "source": [
    "Game.errors"
   ]
  },
  {
   "cell_type": "code",
   "execution_count": 4,
   "metadata": {},
   "outputs": [
    {
     "data": {
      "text/html": [
       "<div>\n",
       "<style scoped>\n",
       "    .dataframe tbody tr th:only-of-type {\n",
       "        vertical-align: middle;\n",
       "    }\n",
       "\n",
       "    .dataframe tbody tr th {\n",
       "        vertical-align: top;\n",
       "    }\n",
       "\n",
       "    .dataframe thead th {\n",
       "        text-align: right;\n",
       "    }\n",
       "</style>\n",
       "<table border=\"1\" class=\"dataframe\">\n",
       "  <thead>\n",
       "    <tr style=\"text-align: right;\">\n",
       "      <th></th>\n",
       "      <th>Year</th>\n",
       "      <th>Location</th>\n",
       "      <th>Event</th>\n",
       "      <th>Notes</th>\n",
       "    </tr>\n",
       "  </thead>\n",
       "  <tbody>\n",
       "    <tr>\n",
       "      <th>0</th>\n",
       "      <td>Winter, year 1524 HC</td>\n",
       "      <td>Moergen</td>\n",
       "      <td>Occupation of Moergen</td>\n",
       "      <td>WM occupied Moergen with 1 Irregulars sacking ...</td>\n",
       "    </tr>\n",
       "    <tr>\n",
       "      <th>0</th>\n",
       "      <td>Spring, year 1524 HC</td>\n",
       "      <td>Moergen</td>\n",
       "      <td>Occupation of Moergen</td>\n",
       "      <td>WM occupied Moergen with 1 Irregulars sacking ...</td>\n",
       "    </tr>\n",
       "    <tr>\n",
       "      <th>0</th>\n",
       "      <td>Summer, year 1524 HC</td>\n",
       "      <td>Moergen</td>\n",
       "      <td>Occupation of Moergen</td>\n",
       "      <td>WM occupied Moergen with 1 Irregulars sacking ...</td>\n",
       "    </tr>\n",
       "    <tr>\n",
       "      <th>0</th>\n",
       "      <td>Autumn, year 1524 HC</td>\n",
       "      <td>Moergen</td>\n",
       "      <td>Occupation of Moergen</td>\n",
       "      <td>WM occupied Moergen with 1 Irregulars sacking ...</td>\n",
       "    </tr>\n",
       "    <tr>\n",
       "      <th>0</th>\n",
       "      <td>Autumn, year 1525 HC</td>\n",
       "      <td>Moergen</td>\n",
       "      <td>Occupation of Moergen</td>\n",
       "      <td>WM occupied Moergen with 1 Irregulars sacking ...</td>\n",
       "    </tr>\n",
       "  </tbody>\n",
       "</table>\n",
       "</div>"
      ],
      "text/plain": [
       "                   Year Location                  Event  \\\n",
       "0  Winter, year 1524 HC  Moergen  Occupation of Moergen   \n",
       "0  Spring, year 1524 HC  Moergen  Occupation of Moergen   \n",
       "0  Summer, year 1524 HC  Moergen  Occupation of Moergen   \n",
       "0  Autumn, year 1524 HC  Moergen  Occupation of Moergen   \n",
       "0  Autumn, year 1525 HC  Moergen  Occupation of Moergen   \n",
       "\n",
       "                                               Notes  \n",
       "0  WM occupied Moergen with 1 Irregulars sacking ...  \n",
       "0  WM occupied Moergen with 1 Irregulars sacking ...  \n",
       "0  WM occupied Moergen with 1 Irregulars sacking ...  \n",
       "0  WM occupied Moergen with 1 Irregulars sacking ...  \n",
       "0  WM occupied Moergen with 1 Irregulars sacking ...  "
      ]
     },
     "execution_count": 4,
     "metadata": {},
     "output_type": "execute_result"
    }
   ],
   "source": [
    "Game.War"
   ]
  },
  {
   "cell_type": "code",
   "execution_count": null,
   "metadata": {},
   "outputs": [],
   "source": [
    "Game.Troops"
   ]
  },
  {
   "cell_type": "code",
   "execution_count": null,
   "metadata": {},
   "outputs": [],
   "source": []
  }
 ],
 "metadata": {
  "kernelspec": {
   "display_name": "Python 3",
   "language": "python",
   "name": "python3"
  },
  "language_info": {
   "codemirror_mode": {
    "name": "ipython",
    "version": 3
   },
   "file_extension": ".py",
   "mimetype": "text/x-python",
   "name": "python",
   "nbconvert_exporter": "python",
   "pygments_lexer": "ipython3",
   "version": "3.7.3"
  }
 },
 "nbformat": 4,
 "nbformat_minor": 2
}
