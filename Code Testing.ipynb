{
 "cells": [
  {
   "cell_type": "code",
   "execution_count": 1,
   "metadata": {
    "scrolled": true
   },
   "outputs": [
    {
     "name": "stderr",
     "output_type": "stream",
     "text": [
      "Using TensorFlow backend.\n"
     ]
    }
   ],
   "source": [
    "from source.regency import Regency\n",
    "from source.mapping import Mapping\n",
    "from source.DQNAgent import DQNAgent\n",
    "from IPython.display import clear_output\n",
    "import pandas as pd\n",
    "import warnings\n",
    "warnings.filterwarnings('ignore')"
   ]
  },
  {
   "cell_type": "code",
   "execution_count": 2,
   "metadata": {},
   "outputs": [],
   "source": [
    "%matplotlib notebook"
   ]
  },
  {
   "cell_type": "code",
   "execution_count": 3,
   "metadata": {},
   "outputs": [
    {
     "data": {
      "text/html": [
       "<div>\n",
       "<style scoped>\n",
       "    .dataframe tbody tr th:only-of-type {\n",
       "        vertical-align: middle;\n",
       "    }\n",
       "\n",
       "    .dataframe tbody tr th {\n",
       "        vertical-align: top;\n",
       "    }\n",
       "\n",
       "    .dataframe thead th {\n",
       "        text-align: right;\n",
       "    }\n",
       "</style>\n",
       "<table border=\"1\" class=\"dataframe\">\n",
       "  <thead>\n",
       "    <tr style=\"text-align: right;\">\n",
       "      <th></th>\n",
       "      <th>Regent</th>\n",
       "      <th>Full Name</th>\n",
       "      <th>Bloodline</th>\n",
       "      <th>Culture</th>\n",
       "      <th>Player</th>\n",
       "      <th>Class</th>\n",
       "      <th>Level</th>\n",
       "      <th>Alignment</th>\n",
       "      <th>Race</th>\n",
       "      <th>Str</th>\n",
       "      <th>...</th>\n",
       "      <th>Insight</th>\n",
       "      <th>Deception</th>\n",
       "      <th>Persuasion</th>\n",
       "      <th>Regency Points</th>\n",
       "      <th>Gold Bars</th>\n",
       "      <th>Regency Bonus</th>\n",
       "      <th>Attitude</th>\n",
       "      <th>Alive</th>\n",
       "      <th>Divine</th>\n",
       "      <th>Arcane</th>\n",
       "    </tr>\n",
       "  </thead>\n",
       "  <tbody>\n",
       "    <tr>\n",
       "      <th>16</th>\n",
       "      <td>Ch</td>\n",
       "      <td>The Chimera</td>\n",
       "      <td></td>\n",
       "      <td>A</td>\n",
       "      <td>False</td>\n",
       "      <td>Archmage</td>\n",
       "      <td>18</td>\n",
       "      <td>CE</td>\n",
       "      <td>Elf</td>\n",
       "      <td>0</td>\n",
       "      <td>...</td>\n",
       "      <td>5</td>\n",
       "      <td>3</td>\n",
       "      <td>3</td>\n",
       "      <td>200</td>\n",
       "      <td>200</td>\n",
       "      <td>5</td>\n",
       "      <td>Aggressive</td>\n",
       "      <td>True</td>\n",
       "      <td>False</td>\n",
       "      <td>True</td>\n",
       "    </tr>\n",
       "  </tbody>\n",
       "</table>\n",
       "<p>1 rows × 25 columns</p>\n",
       "</div>"
      ],
      "text/plain": [
       "   Regent    Full Name Bloodline Culture Player     Class Level Alignment  \\\n",
       "16     Ch  The Chimera                 A  False  Archmage    18        CE   \n",
       "\n",
       "   Race Str  ... Insight Deception Persuasion Regency Points Gold Bars  \\\n",
       "16  Elf   0  ...       5         3          3            200       200   \n",
       "\n",
       "   Regency Bonus    Attitude Alive Divine Arcane  \n",
       "16             5  Aggressive  True  False   True  \n",
       "\n",
       "[1 rows x 25 columns]"
      ]
     },
     "execution_count": 3,
     "metadata": {},
     "output_type": "execute_result"
    }
   ],
   "source": [
    "seasons = 1\n",
    "Game = Regency(True)\n",
    "clear_output()\n",
    "Game.change_regent('Ch', Gold_Bars=200)\n",
    "Game.change_regent('Ch', Regency_Points=200)\n",
    "Game.Regents[Game.Regents['Regent']=='Ch']"
   ]
  },
  {
   "cell_type": "code",
   "execution_count": 4,
   "metadata": {},
   "outputs": [
    {
     "name": "stdout",
     "output_type": "stream",
     "text": [
      "WARNING:tensorflow:From C:\\Users\\darin\\Anaconda3\\lib\\site-packages\\tensorflow\\python\\ops\\math_ops.py:3066: to_int32 (from tensorflow.python.ops.math_ops) is deprecated and will be removed in a future version.\n",
      "Instructions for updating:\n",
      "Use tf.cast instead.\n"
     ]
    }
   ],
   "source": [
    "Game.random_events()\n",
    "Game.collect_regency_points()\n",
    "Game.domain_initiative()\n",
    "Game.collect_gold_bars()\n",
    "Game.maintenance_costs(Update=True)"
   ]
  },
  {
   "cell_type": "code",
   "execution_count": 5,
   "metadata": {},
   "outputs": [
    {
     "name": "stdout",
     "output_type": "stream",
     "text": [
      "The Chimera forged ley lines from Lyssan to Barniere\n",
      "The Chimera forged ley lines from Lyssan to Careine\n",
      "The Chimera forged ley lines from Lyssan to Hamein\n",
      "The Chimera failed to make a ley line from Lyssan to Lyssan\n",
      "The Chimera forged ley lines from Lyssan to Mhowe\n",
      "The Chimera failed to make a ley line from Lyssan to Ruorkhe\n",
      "The Chimera forged ley lines from Lyssan to Salviene\n"
     ]
    }
   ],
   "source": [
    "Game.Provences['Regent'] =  Game.Provences['Regent'].str.replace('CoL', 'Ch')\n",
    "for p in list(Game.Provences[Game.Provences['Regent']=='Ch']['Provence']):\n",
    "    _, _, message = Game.domain_action_forge_ley_line('Ch', 'Lyssan', p)\n",
    "    print(message)"
   ]
  },
  {
   "cell_type": "code",
   "execution_count": 6,
   "metadata": {
    "scrolled": false
   },
   "outputs": [
    {
     "name": "stdout",
     "output_type": "stream",
     "text": [
      "70 Ch Careine 0 1 0 0 1 1 1 1 1e 12\n",
      "Time to Finish the Rounditiative  3\n",
      "0\n"
     ]
    }
   ],
   "source": [
    "\n",
    "\n",
    "\n",
    "Game.set_override('Ch', 70)\n",
    "Game.take_domain_actions()"
   ]
  },
  {
   "cell_type": "code",
   "execution_count": 10,
   "metadata": {},
   "outputs": [
    {
     "name": "stdout",
     "output_type": "stream",
     "text": [
      "['The Chimera applies a tax or asset seizure, and gains 4 gold bars.'\n",
      " \"The Chimera cast 'Stronghold' in Barniere creating 'Drakessquare', a level 1 permanent castle.\"]\n"
     ]
    }
   ],
   "source": [
    "df = Game.Seasons[0]['Actions'][1]\n",
    "print(df[df['Regent'].str.contains('Ch')]['Message'].values)"
   ]
  },
  {
   "cell_type": "code",
   "execution_count": 8,
   "metadata": {},
   "outputs": [
    {
     "data": {
      "text/html": [
       "<div>\n",
       "<style scoped>\n",
       "    .dataframe tbody tr th:only-of-type {\n",
       "        vertical-align: middle;\n",
       "    }\n",
       "\n",
       "    .dataframe tbody tr th {\n",
       "        vertical-align: top;\n",
       "    }\n",
       "\n",
       "    .dataframe thead th {\n",
       "        text-align: right;\n",
       "    }\n",
       "</style>\n",
       "<table border=\"1\" class=\"dataframe\">\n",
       "  <thead>\n",
       "    <tr style=\"text-align: right;\">\n",
       "      <th></th>\n",
       "      <th>Regent</th>\n",
       "      <th>Provence</th>\n",
       "      <th>Other</th>\n",
       "    </tr>\n",
       "  </thead>\n",
       "  <tbody>\n",
       "    <tr>\n",
       "      <th>0</th>\n",
       "      <td>Ch</td>\n",
       "      <td>Lyssan</td>\n",
       "      <td>Barniere</td>\n",
       "    </tr>\n",
       "    <tr>\n",
       "      <th>1</th>\n",
       "      <td>Ch</td>\n",
       "      <td>Barniere</td>\n",
       "      <td>Lyssan</td>\n",
       "    </tr>\n",
       "    <tr>\n",
       "      <th>2</th>\n",
       "      <td>Ch</td>\n",
       "      <td>Lyssan</td>\n",
       "      <td>Careine</td>\n",
       "    </tr>\n",
       "    <tr>\n",
       "      <th>3</th>\n",
       "      <td>Ch</td>\n",
       "      <td>Careine</td>\n",
       "      <td>Lyssan</td>\n",
       "    </tr>\n",
       "    <tr>\n",
       "      <th>4</th>\n",
       "      <td>Ch</td>\n",
       "      <td>Lyssan</td>\n",
       "      <td>Hamein</td>\n",
       "    </tr>\n",
       "    <tr>\n",
       "      <th>5</th>\n",
       "      <td>Ch</td>\n",
       "      <td>Hamein</td>\n",
       "      <td>Lyssan</td>\n",
       "    </tr>\n",
       "    <tr>\n",
       "      <th>6</th>\n",
       "      <td>Ch</td>\n",
       "      <td>Hamein</td>\n",
       "      <td>Mhowe</td>\n",
       "    </tr>\n",
       "    <tr>\n",
       "      <th>7</th>\n",
       "      <td>Ch</td>\n",
       "      <td>Mhowe</td>\n",
       "      <td>Hamein</td>\n",
       "    </tr>\n",
       "    <tr>\n",
       "      <th>8</th>\n",
       "      <td>Ch</td>\n",
       "      <td>Lyssan</td>\n",
       "      <td>Salviene</td>\n",
       "    </tr>\n",
       "    <tr>\n",
       "      <th>9</th>\n",
       "      <td>Ch</td>\n",
       "      <td>Salviene</td>\n",
       "      <td>Lyssan</td>\n",
       "    </tr>\n",
       "  </tbody>\n",
       "</table>\n",
       "</div>"
      ],
      "text/plain": [
       "  Regent  Provence     Other\n",
       "0     Ch    Lyssan  Barniere\n",
       "1     Ch  Barniere    Lyssan\n",
       "2     Ch    Lyssan   Careine\n",
       "3     Ch   Careine    Lyssan\n",
       "4     Ch    Lyssan    Hamein\n",
       "5     Ch    Hamein    Lyssan\n",
       "6     Ch    Hamein     Mhowe\n",
       "7     Ch     Mhowe    Hamein\n",
       "8     Ch    Lyssan  Salviene\n",
       "9     Ch  Salviene    Lyssan"
      ]
     },
     "execution_count": 8,
     "metadata": {},
     "output_type": "execute_result"
    }
   ],
   "source": [
    "Game.LeyLines"
   ]
  },
  {
   "cell_type": "code",
   "execution_count": 9,
   "metadata": {},
   "outputs": [
    {
     "data": {
      "text/html": [
       "<div>\n",
       "<style scoped>\n",
       "    .dataframe tbody tr th:only-of-type {\n",
       "        vertical-align: middle;\n",
       "    }\n",
       "\n",
       "    .dataframe tbody tr th {\n",
       "        vertical-align: top;\n",
       "    }\n",
       "\n",
       "    .dataframe thead th {\n",
       "        text-align: right;\n",
       "    }\n",
       "</style>\n",
       "<table border=\"1\" class=\"dataframe\">\n",
       "  <thead>\n",
       "    <tr style=\"text-align: right;\">\n",
       "      <th></th>\n",
       "      <th>Provence</th>\n",
       "      <th>Domain</th>\n",
       "      <th>Region</th>\n",
       "      <th>Regent</th>\n",
       "      <th>Terrain</th>\n",
       "      <th>Loyalty</th>\n",
       "      <th>Taxation</th>\n",
       "      <th>Population</th>\n",
       "      <th>Magic</th>\n",
       "      <th>Castle</th>\n",
       "      <th>Castle Name</th>\n",
       "      <th>Capital</th>\n",
       "      <th>Position</th>\n",
       "      <th>Contested</th>\n",
       "      <th>Waterway</th>\n",
       "      <th>Brigands</th>\n",
       "    </tr>\n",
       "  </thead>\n",
       "  <tbody>\n",
       "    <tr>\n",
       "      <th>33</th>\n",
       "      <td>Barniere</td>\n",
       "      <td>The Chimaeron</td>\n",
       "      <td>The Eastern Marches</td>\n",
       "      <td>Ch</td>\n",
       "      <td>Plains</td>\n",
       "      <td>High</td>\n",
       "      <td>None</td>\n",
       "      <td>1</td>\n",
       "      <td>4</td>\n",
       "      <td>1</td>\n",
       "      <td>Drakessquare</td>\n",
       "      <td>False</td>\n",
       "      <td>[1798, 1906]</td>\n",
       "      <td>False</td>\n",
       "      <td>True</td>\n",
       "      <td>False</td>\n",
       "    </tr>\n",
       "  </tbody>\n",
       "</table>\n",
       "</div>"
      ],
      "text/plain": [
       "    Provence         Domain               Region Regent Terrain Loyalty  \\\n",
       "33  Barniere  The Chimaeron  The Eastern Marches     Ch  Plains    High   \n",
       "\n",
       "   Taxation  Population  Magic  Castle   Castle Name Capital      Position  \\\n",
       "33     None           1      4       1  Drakessquare   False  [1798, 1906]   \n",
       "\n",
       "   Contested Waterway Brigands  \n",
       "33     False     True    False  "
      ]
     },
     "execution_count": 9,
     "metadata": {},
     "output_type": "execute_result"
    }
   ],
   "source": [
    "Game.Provences[Game.Provences['Castle']>0]"
   ]
  },
  {
   "cell_type": "code",
   "execution_count": null,
   "metadata": {},
   "outputs": [],
   "source": []
  }
 ],
 "metadata": {
  "kernelspec": {
   "display_name": "Python 3",
   "language": "python",
   "name": "python3"
  },
  "language_info": {
   "codemirror_mode": {
    "name": "ipython",
    "version": 3
   },
   "file_extension": ".py",
   "mimetype": "text/x-python",
   "name": "python",
   "nbconvert_exporter": "python",
   "pygments_lexer": "ipython3",
   "version": "3.7.3"
  }
 },
 "nbformat": 4,
 "nbformat_minor": 2
}
