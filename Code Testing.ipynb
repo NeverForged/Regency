{
 "cells": [
  {
   "cell_type": "code",
   "execution_count": 1,
   "metadata": {},
   "outputs": [
    {
     "name": "stderr",
     "output_type": "stream",
     "text": [
      "Using TensorFlow backend.\n"
     ]
    }
   ],
   "source": [
    "from source.regency import Regency\n",
    "from source.run import rungame\n",
    "from source.mapping import Mapping\n",
    "from source.DQNAgent import DQNAgent\n",
    "from IPython.display import clear_output\n",
    "import pandas as pd\n",
    "import warnings\n",
    "warnings.filterwarnings('ignore')"
   ]
  },
  {
   "cell_type": "code",
   "execution_count": 2,
   "metadata": {},
   "outputs": [],
   "source": [
    "%matplotlib notebook"
   ]
  },
  {
   "cell_type": "code",
   "execution_count": 3,
   "metadata": {
    "scrolled": false
   },
   "outputs": [
    {
     "name": "stdout",
     "output_type": "stream",
     "text": [
      "WARNING:tensorflow:From C:\\ProgramData\\Anaconda3\\lib\\site-packages\\tensorflow\\python\\framework\\op_def_library.py:263: colocate_with (from tensorflow.python.framework.ops) is deprecated and will be removed in a future version.\n",
      "Instructions for updating:\n",
      "Colocations handled automatically by placer.\n",
      "WARNING:tensorflow:From C:\\ProgramData\\Anaconda3\\lib\\site-packages\\keras\\backend\\tensorflow_backend.py:3445: calling dropout (from tensorflow.python.ops.nn_ops) with keep_prob is deprecated and will be removed in a future version.\n",
      "Instructions for updating:\n",
      "Please use `rate` instead of `keep_prob`. Rate should be set to `rate = 1 - keep_prob`.\n",
      "WARNING:tensorflow:From C:\\ProgramData\\Anaconda3\\lib\\site-packages\\tensorflow\\python\\ops\\math_ops.py:3066: to_int32 (from tensorflow.python.ops.math_ops) is deprecated and will be removed in a future version.\n",
      "Instructions for updating:\n",
      "Use tf.cast instead.\n",
      "Continuing Game TestGame at Season 3 Action 3\n"
     ]
    }
   ],
   "source": [
    "X = 5\n",
    "my_game = rungame('TestGame', train=True, GameLength=X, IntDC = 15)\n",
    "Game = my_game.Game\n"
   ]
  },
  {
   "cell_type": "code",
   "execution_count": 13,
   "metadata": {
    "scrolled": true
   },
   "outputs": [
    {
     "name": "stdout",
     "output_type": "stream",
     "text": [
      "Time to Finish the Rounditiative  1\n",
      "Time to Finish the Rounditiative  1\n",
      "Time to Finish the Rounditiative  1\n",
      "   Regent                                          Full Name  Final Score  First Score  Score\n",
      "40     EM    Duchess Eriene Mierelen (Brosengae Royal Guild)          398           50    348\n",
      "69     AB                          Aeric Boeruine (Boeruine)          386          188    198\n",
      "12     CA                                       Carilon Alam          220           65    155\n",
      "56    WIT  Western Imperial Temple of Haelyn (Rhobber Nic...          202           75    127\n",
      "64     Is                              Emerald Queen Isaelie          207          104    103\n",
      "45     DW       Diirk Watersold (Royal Guild of Baruk-Azhir)           96           26     70\n",
      "87     AI                                        Arlen Innis           94           25     69\n",
      "50    GTr                   Kral Two-Toes (Goblin's Triumph)           79           17     62\n",
      "52     MR                                     Marlae Roesone          137           77     60\n",
      "61    LPA  Life and Protection of Avanalae (Medhlorie Hae...          102           45     57\n"
     ]
    },
    {
     "data": {
      "text/html": [
       "<div>\n",
       "<style scoped>\n",
       "    .dataframe tbody tr th:only-of-type {\n",
       "        vertical-align: middle;\n",
       "    }\n",
       "\n",
       "    .dataframe tbody tr th {\n",
       "        vertical-align: top;\n",
       "    }\n",
       "\n",
       "    .dataframe thead th {\n",
       "        text-align: right;\n",
       "    }\n",
       "</style>\n",
       "<table border=\"1\" class=\"dataframe\">\n",
       "  <thead>\n",
       "    <tr style=\"text-align: right;\">\n",
       "      <th></th>\n",
       "      <th>Year</th>\n",
       "      <th>Location</th>\n",
       "      <th>Event</th>\n",
       "      <th>Notes</th>\n",
       "    </tr>\n",
       "  </thead>\n",
       "  <tbody>\n",
       "    <tr>\n",
       "      <th>0</th>\n",
       "      <td>Taelinir, year 1524 HC</td>\n",
       "      <td>Conallier</td>\n",
       "      <td>Occupation of Conallier</td>\n",
       "      <td>Marlae Roesone's forces occupied Conallier, qu...</td>\n",
       "    </tr>\n",
       "    <tr>\n",
       "      <th>0</th>\n",
       "      <td>Roelir, year 1524 HC</td>\n",
       "      <td>Conallier</td>\n",
       "      <td>Occupation of Conallier</td>\n",
       "      <td>Marlae Roesone's forces occupied Conallier, sa...</td>\n",
       "    </tr>\n",
       "    <tr>\n",
       "      <th>0</th>\n",
       "      <td>Haelynir, year 1524 HC</td>\n",
       "      <td>Conallier</td>\n",
       "      <td>Occupation of Conallier</td>\n",
       "      <td>Marlae Roesone's forces occupied Conallier, sa...</td>\n",
       "    </tr>\n",
       "    <tr>\n",
       "      <th>0</th>\n",
       "      <td>Anarire, year 1524 HC</td>\n",
       "      <td>Conallier</td>\n",
       "      <td>Occupation of Conallier</td>\n",
       "      <td>Marlae Roesone's forces occupied Conallier, sa...</td>\n",
       "    </tr>\n",
       "    <tr>\n",
       "      <th>0</th>\n",
       "      <td>Deismir, year 1524 HC</td>\n",
       "      <td>Conallier</td>\n",
       "      <td>Occupation of Conallier</td>\n",
       "      <td>Marlae Roesone's forces occupied Conallier, sa...</td>\n",
       "    </tr>\n",
       "    <tr>\n",
       "      <th>0</th>\n",
       "      <td>Emmanir, year 1524 HC</td>\n",
       "      <td>Marilen</td>\n",
       "      <td>Occupation of Marilen</td>\n",
       "      <td>Harald Khorien's forces occupied Marilen, quas...</td>\n",
       "    </tr>\n",
       "    <tr>\n",
       "      <th>0</th>\n",
       "      <td>Faniele, year 1524 HC</td>\n",
       "      <td>Seasedge</td>\n",
       "      <td>Battle of Seasedge</td>\n",
       "      <td>Battle of Seasedge\\n\\nBelligerents:\\nArien Bor...</td>\n",
       "    </tr>\n",
       "    <tr>\n",
       "      <th>0</th>\n",
       "      <td>Faniele, year 1524 HC</td>\n",
       "      <td>Tariene</td>\n",
       "      <td>Battle of Tariene</td>\n",
       "      <td>Battle of Tariene\\n\\nBelligerents:\\nArien Bort...</td>\n",
       "    </tr>\n",
       "    <tr>\n",
       "      <th>0</th>\n",
       "      <td>Sarimiere, year 1525 HC</td>\n",
       "      <td>Anuire</td>\n",
       "      <td>Battle of Anuire</td>\n",
       "      <td>Battle of Anuire\\n\\nBelligerents:\\nHarald Khor...</td>\n",
       "    </tr>\n",
       "    <tr>\n",
       "      <th>0</th>\n",
       "      <td>Taelinir, year 1525 HC</td>\n",
       "      <td>Pechalinn</td>\n",
       "      <td>Occupation of Pechalinn</td>\n",
       "      <td>Rhuobhe \"Manslayer\"'s forces occupied Pechalin...</td>\n",
       "    </tr>\n",
       "    <tr>\n",
       "      <th>0</th>\n",
       "      <td>Roelir, year 1525 HC</td>\n",
       "      <td>Pechalinn</td>\n",
       "      <td>Occupation of Pechalinn</td>\n",
       "      <td>Rhuobhe \"Manslayer\"'s forces occupied Pechalin...</td>\n",
       "    </tr>\n",
       "  </tbody>\n",
       "</table>\n",
       "</div>"
      ],
      "text/plain": [
       "                      Year   Location                    Event  \\\n",
       "0   Taelinir, year 1524 HC  Conallier  Occupation of Conallier   \n",
       "0     Roelir, year 1524 HC  Conallier  Occupation of Conallier   \n",
       "0   Haelynir, year 1524 HC  Conallier  Occupation of Conallier   \n",
       "0    Anarire, year 1524 HC  Conallier  Occupation of Conallier   \n",
       "0    Deismir, year 1524 HC  Conallier  Occupation of Conallier   \n",
       "0    Emmanir, year 1524 HC    Marilen    Occupation of Marilen   \n",
       "0    Faniele, year 1524 HC   Seasedge       Battle of Seasedge   \n",
       "0    Faniele, year 1524 HC    Tariene        Battle of Tariene   \n",
       "0  Sarimiere, year 1525 HC     Anuire         Battle of Anuire   \n",
       "0   Taelinir, year 1525 HC  Pechalinn  Occupation of Pechalinn   \n",
       "0     Roelir, year 1525 HC  Pechalinn  Occupation of Pechalinn   \n",
       "\n",
       "                                               Notes  \n",
       "0  Marlae Roesone's forces occupied Conallier, qu...  \n",
       "0  Marlae Roesone's forces occupied Conallier, sa...  \n",
       "0  Marlae Roesone's forces occupied Conallier, sa...  \n",
       "0  Marlae Roesone's forces occupied Conallier, sa...  \n",
       "0  Marlae Roesone's forces occupied Conallier, sa...  \n",
       "0  Harald Khorien's forces occupied Marilen, quas...  \n",
       "0  Battle of Seasedge\\n\\nBelligerents:\\nArien Bor...  \n",
       "0  Battle of Tariene\\n\\nBelligerents:\\nArien Bort...  \n",
       "0  Battle of Anuire\\n\\nBelligerents:\\nHarald Khor...  \n",
       "0  Rhuobhe \"Manslayer\"'s forces occupied Pechalin...  \n",
       "0  Rhuobhe \"Manslayer\"'s forces occupied Pechalin...  "
      ]
     },
     "execution_count": 13,
     "metadata": {},
     "output_type": "execute_result"
    }
   ],
   "source": [
    "Game.random_events()\n",
    "Game.collect_regency_points()\n",
    "Game.domain_initiative()\n",
    "Game.collect_gold_bars()\n",
    "Game.maintenance_costs(Update=True)\n",
    "Game.set_override('HK',45)\n",
    "Game.take_domain_actions()\n",
    "Game.take_domain_actions()\n",
    "Game.take_domain_actions()\n",
    "Game.War"
   ]
  },
  {
   "cell_type": "code",
   "execution_count": 11,
   "metadata": {},
   "outputs": [
    {
     "data": {
      "text/html": [
       "<div>\n",
       "<style scoped>\n",
       "    .dataframe tbody tr th:only-of-type {\n",
       "        vertical-align: middle;\n",
       "    }\n",
       "\n",
       "    .dataframe tbody tr th {\n",
       "        vertical-align: top;\n",
       "    }\n",
       "\n",
       "    .dataframe thead th {\n",
       "        text-align: right;\n",
       "    }\n",
       "</style>\n",
       "<table border=\"1\" class=\"dataframe\">\n",
       "  <thead>\n",
       "    <tr style=\"text-align: right;\">\n",
       "      <th></th>\n",
       "      <th>Year</th>\n",
       "      <th>Location</th>\n",
       "      <th>Event</th>\n",
       "      <th>Notes</th>\n",
       "    </tr>\n",
       "  </thead>\n",
       "  <tbody>\n",
       "    <tr>\n",
       "      <th>0</th>\n",
       "      <td>Taelinir, year 1524 HC</td>\n",
       "      <td>Conallier</td>\n",
       "      <td>Occupation of Conallier</td>\n",
       "      <td>Marlae Roesone's forces occupied Conallier, qu...</td>\n",
       "    </tr>\n",
       "    <tr>\n",
       "      <th>0</th>\n",
       "      <td>Roelir, year 1524 HC</td>\n",
       "      <td>Conallier</td>\n",
       "      <td>Occupation of Conallier</td>\n",
       "      <td>Marlae Roesone's forces occupied Conallier, sa...</td>\n",
       "    </tr>\n",
       "    <tr>\n",
       "      <th>0</th>\n",
       "      <td>Haelynir, year 1524 HC</td>\n",
       "      <td>Conallier</td>\n",
       "      <td>Occupation of Conallier</td>\n",
       "      <td>Marlae Roesone's forces occupied Conallier, sa...</td>\n",
       "    </tr>\n",
       "    <tr>\n",
       "      <th>0</th>\n",
       "      <td>Anarire, year 1524 HC</td>\n",
       "      <td>Conallier</td>\n",
       "      <td>Occupation of Conallier</td>\n",
       "      <td>Marlae Roesone's forces occupied Conallier, sa...</td>\n",
       "    </tr>\n",
       "    <tr>\n",
       "      <th>0</th>\n",
       "      <td>Deismir, year 1524 HC</td>\n",
       "      <td>Conallier</td>\n",
       "      <td>Occupation of Conallier</td>\n",
       "      <td>Marlae Roesone's forces occupied Conallier, sa...</td>\n",
       "    </tr>\n",
       "    <tr>\n",
       "      <th>0</th>\n",
       "      <td>Emmanir, year 1524 HC</td>\n",
       "      <td>Marilen</td>\n",
       "      <td>Occupation of Marilen</td>\n",
       "      <td>Harald Khorien's forces occupied Marilen, quas...</td>\n",
       "    </tr>\n",
       "    <tr>\n",
       "      <th>0</th>\n",
       "      <td>Faniele, year 1524 HC</td>\n",
       "      <td>Seasedge</td>\n",
       "      <td>Battle of Seasedge</td>\n",
       "      <td>Battle of Seasedge\\n\\nBelligerents:\\nArien Bor...</td>\n",
       "    </tr>\n",
       "    <tr>\n",
       "      <th>0</th>\n",
       "      <td>Faniele, year 1524 HC</td>\n",
       "      <td>Tariene</td>\n",
       "      <td>Battle of Tariene</td>\n",
       "      <td>Battle of Tariene\\n\\nBelligerents:\\nArien Bort...</td>\n",
       "    </tr>\n",
       "    <tr>\n",
       "      <th>0</th>\n",
       "      <td>Sarimiere, year 1525 HC</td>\n",
       "      <td>Anuire</td>\n",
       "      <td>Battle of Anuire</td>\n",
       "      <td>Battle of Anuire\\n\\nBelligerents:\\nHarald Khor...</td>\n",
       "    </tr>\n",
       "  </tbody>\n",
       "</table>\n",
       "</div>"
      ],
      "text/plain": [
       "                      Year   Location                    Event  \\\n",
       "0   Taelinir, year 1524 HC  Conallier  Occupation of Conallier   \n",
       "0     Roelir, year 1524 HC  Conallier  Occupation of Conallier   \n",
       "0   Haelynir, year 1524 HC  Conallier  Occupation of Conallier   \n",
       "0    Anarire, year 1524 HC  Conallier  Occupation of Conallier   \n",
       "0    Deismir, year 1524 HC  Conallier  Occupation of Conallier   \n",
       "0    Emmanir, year 1524 HC    Marilen    Occupation of Marilen   \n",
       "0    Faniele, year 1524 HC   Seasedge       Battle of Seasedge   \n",
       "0    Faniele, year 1524 HC    Tariene        Battle of Tariene   \n",
       "0  Sarimiere, year 1525 HC     Anuire         Battle of Anuire   \n",
       "\n",
       "                                               Notes  \n",
       "0  Marlae Roesone's forces occupied Conallier, qu...  \n",
       "0  Marlae Roesone's forces occupied Conallier, sa...  \n",
       "0  Marlae Roesone's forces occupied Conallier, sa...  \n",
       "0  Marlae Roesone's forces occupied Conallier, sa...  \n",
       "0  Marlae Roesone's forces occupied Conallier, sa...  \n",
       "0  Harald Khorien's forces occupied Marilen, quas...  \n",
       "0  Battle of Seasedge\\n\\nBelligerents:\\nArien Bor...  \n",
       "0  Battle of Tariene\\n\\nBelligerents:\\nArien Bort...  \n",
       "0  Battle of Anuire\\n\\nBelligerents:\\nHarald Khor...  "
      ]
     },
     "execution_count": 11,
     "metadata": {},
     "output_type": "execute_result"
    }
   ],
   "source": [
    "self.War"
   ]
  },
  {
   "cell_type": "code",
   "execution_count": 12,
   "metadata": {},
   "outputs": [
    {
     "name": "stdout",
     "output_type": "stream",
     "text": [
      "Battle of Anuire\n",
      "\n",
      "Belligerents:\n",
      "Harald Khorien [A] vs. Duchess Eriene Mierelen (Brosengae Royal Guild) [D]\n",
      "\n",
      "Strength:\n",
      "[Harald Khorien]\n",
      "\n",
      " Darksjoy  Coaster\n",
      "\n",
      "[Duchess Eriene Mierelen (Brosengae Royal Guild)]\n",
      " Cavalry  1\n",
      "  The Sun's Vengence  Galleon\n",
      " The Troubador's Eye  Galleon\n",
      "   Haelyn's Begining  Galleon\n",
      "      The Seas' Wing  Galleon\n",
      " The Oceans' Victory  Galleon\n",
      "   Lady Halie's Rose  Galleon\n",
      "           Riverdusk  Galleon\n",
      "        The Red Gale  Caravel\n",
      "    The Ranger's Eye  Caravel\n",
      " The Wizard's Bounty  Caravel\n",
      " The Faerie's Runner  Caravel\n",
      "     Haelyn's Marlin  Caravel\n",
      "       Avanil's Gale  Coaster\n",
      " The Lady's Begining  Coaster\n",
      "      Erntenir's Gem  Coaster\n",
      "\n",
      "Casualties:\n",
      "[Harald Khorien]\n",
      "\n",
      " Darksjoy  Coaster\n",
      "[Duchess Eriene Mierelen (Brosengae Royal Guild)]\n",
      "\n",
      " Erntenir's Gem  Coaster\n",
      "\n",
      "Result: Duchess Eriene Mierelen (Brosengae Royal Guild) victory after 1 hours of fighting.\n"
     ]
    }
   ],
   "source": [
    "print(Game.War['Notes'].values[-1])"
   ]
  },
  {
   "cell_type": "code",
   "execution_count": 7,
   "metadata": {},
   "outputs": [
    {
     "ename": "IndexError",
     "evalue": "list index out of range",
     "output_type": "error",
     "traceback": [
      "\u001b[1;31m---------------------------------------------------------------------------\u001b[0m",
      "\u001b[1;31mIndexError\u001b[0m                                Traceback (most recent call last)",
      "\u001b[1;32m<ipython-input-7-2b4c14c9ce84>\u001b[0m in \u001b[0;36m<module>\u001b[1;34m\u001b[0m\n\u001b[0;32m      3\u001b[0m \u001b[0mself\u001b[0m \u001b[1;33m=\u001b[0m \u001b[0mGame\u001b[0m\u001b[1;33m\u001b[0m\u001b[1;33m\u001b[0m\u001b[0m\n\u001b[0;32m      4\u001b[0m \u001b[1;33m\u001b[0m\u001b[0m\n\u001b[1;32m----> 5\u001b[1;33m \u001b[0mRegent\u001b[0m\u001b[1;33m,\u001b[0m \u001b[0mdecision\u001b[0m\u001b[1;33m,\u001b[0m \u001b[0mactor\u001b[0m\u001b[1;33m,\u001b[0m \u001b[0mType\u001b[0m\u001b[1;33m,\u001b[0m \u001b[0mstate\u001b[0m\u001b[1;33m,\u001b[0m \u001b[0mcapital\u001b[0m\u001b[1;33m,\u001b[0m \u001b[0mhigh_pop\u001b[0m\u001b[1;33m,\u001b[0m \u001b[0mlow_pop\u001b[0m\u001b[1;33m,\u001b[0m \u001b[0mfriend\u001b[0m\u001b[1;33m,\u001b[0m \u001b[0menemy\u001b[0m\u001b[1;33m,\u001b[0m \u001b[0mrando\u001b[0m\u001b[1;33m,\u001b[0m \u001b[0menemy_capital\u001b[0m \u001b[1;33m=\u001b[0m \u001b[0mGame\u001b[0m\u001b[1;33m.\u001b[0m\u001b[0merrors\u001b[0m\u001b[1;33m[\u001b[0m\u001b[1;36m0\u001b[0m\u001b[1;33m]\u001b[0m\u001b[1;33m\u001b[0m\u001b[1;33m\u001b[0m\u001b[0m\n\u001b[0m",
      "\u001b[1;31mIndexError\u001b[0m: list index out of range"
     ]
    }
   ],
   "source": [
    "import numpy as np\n",
    "import pandas as pd\n",
    "self = Game\n",
    "\n",
    "Regent, decision, actor, Type, state, capital, high_pop, low_pop, friend, enemy, rando, enemy_capital = Game.errors[0]"
   ]
  },
  {
   "cell_type": "code",
   "execution_count": null,
   "metadata": {},
   "outputs": [],
   "source": [
    "Game.Troops[Game.Troops['Provence'].str.contains('Con')]"
   ]
  },
  {
   "cell_type": "code",
   "execution_count": null,
   "metadata": {},
   "outputs": [],
   "source": [
    "self.Provences[self.Provences['Provence'].str.contains('Con')]"
   ]
  },
  {
   "cell_type": "code",
   "execution_count": null,
   "metadata": {},
   "outputs": [],
   "source": []
  }
 ],
 "metadata": {
  "kernelspec": {
   "display_name": "Python 3",
   "language": "python",
   "name": "python3"
  },
  "language_info": {
   "codemirror_mode": {
    "name": "ipython",
    "version": 3
   },
   "file_extension": ".py",
   "mimetype": "text/x-python",
   "name": "python",
   "nbconvert_exporter": "python",
   "pygments_lexer": "ipython3",
   "version": "3.7.3"
  }
 },
 "nbformat": 4,
 "nbformat_minor": 2
}
