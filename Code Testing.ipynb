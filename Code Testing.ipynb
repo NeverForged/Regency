{
 "cells": [
  {
   "cell_type": "code",
   "execution_count": 1,
   "metadata": {
    "scrolled": true
   },
   "outputs": [
    {
     "name": "stderr",
     "output_type": "stream",
     "text": [
      "Using TensorFlow backend.\n"
     ]
    }
   ],
   "source": [
    "from source.regency import Regency\n",
    "from source.mapping import Mapping\n",
    "from source.DQNAgent import DQNAgent\n",
    "from IPython.display import clear_output\n",
    "import pandas as pd\n",
    "import warnings\n",
    "warnings.filterwarnings('ignore')"
   ]
  },
  {
   "cell_type": "code",
   "execution_count": 2,
   "metadata": {},
   "outputs": [],
   "source": [
    "%matplotlib notebook"
   ]
  },
  {
   "cell_type": "code",
   "execution_count": 3,
   "metadata": {},
   "outputs": [
    {
     "name": "stdout",
     "output_type": "stream",
     "text": [
      "WARNING:tensorflow:From C:\\ProgramData\\Anaconda3\\lib\\site-packages\\tensorflow\\python\\ops\\math_ops.py:3066: to_int32 (from tensorflow.python.ops.math_ops) is deprecated and will be removed in a future version.\n",
      "Instructions for updating:\n",
      "Use tf.cast instead.\n"
     ]
    }
   ],
   "source": [
    "seasons = 1\n",
    "Game = Regency(True)\n",
    "clear_output()\n",
    "\n",
    "for a in range(seasons):\n",
    "    Game.random_events()\n",
    "    Game.collect_regency_points()\n",
    "    Game.domain_initiative()\n",
    "    Game.collect_gold_bars()\n",
    "    Game.maintenance_costs(Update=True)\n",
    "    \n"
   ]
  },
  {
   "cell_type": "code",
   "execution_count": 4,
   "metadata": {},
   "outputs": [],
   "source": [
    "\n",
    "Game.change_regent('WM', Gold_Bars=200, Regency_Points=200)"
   ]
  },
  {
   "cell_type": "code",
   "execution_count": 5,
   "metadata": {
    "scrolled": true
   },
   "outputs": [
    {
     "name": "stdout",
     "output_type": "stream",
     "text": [
      "47 Ch 0 0 1Action 1 - Initiative 19\n",
      "47 TCV 0 0 1ction 1 - Initiative 16\n",
      "47 TCV 0 0 1\n",
      "47 TCV 0 0 1\n",
      "47 TCV 0 0 1\n",
      "47 TCV 0 0 1\n",
      "47 TCV 0 0 1\n",
      "47 TCV 0 0 1\n",
      "47 TCV 0 0 1\n",
      "47 TCV 0 0 1\n",
      "47 TCV 0 0 1\n",
      "47 TCV 0 0 1\n",
      "47 TCV 0 0 1\n",
      "47 TCV 0 0 1\n",
      "47 TCV 0 0 1\n",
      "47 TCV 0 0 1\n",
      "47 TCV 0 0 1\n",
      "47 TCV 0 0 1\n",
      "47 TCV 0 0 1\n",
      "47 TCV 0 0 1\n",
      "47 TCV 0 0 1\n",
      "47 TCV 0 0 1\n",
      "47 TCV 0 0 1\n",
      "47 TCV 0 0 1\n",
      "47 TCV 0 0 1\n",
      "47 TCV 0 0 1\n",
      "47 TCV 0 0 1\n",
      "47 TCV 0 0 1\n",
      "47 TCV 0 0 1\n",
      "47 TCV 0 0 1\n",
      "47 TCV 0 0 1\n",
      "47 TCV 0 0 1\n",
      "47 TCV 0 0 1\n",
      "47 TCV 0 0 1\n",
      "47 TCV 0 0 1\n",
      "47 TCV 0 0 1\n",
      "47 TCV 0 0 1\n",
      "47 TCV 0 0 1\n",
      "47 TCV 0 0 1\n",
      "47 TCV 0 0 1\n",
      "47 TCV 0 0 1\n",
      "47 TCV 0 0 1\n",
      "47 TCV 0 0 1\n",
      "47 TCV 0 0 1\n",
      "47 TCV 0 0 1\n",
      "47 TCV 0 0 1\n",
      "47 TCV 0 0 1\n",
      "47 TCV 0 0 1\n",
      "47 TCV 0 0 1\n",
      "47 TCV 0 0 1\n",
      "47 TCV 0 0 1\n",
      "47 TCV 0 0 1\n",
      "47 TCV 0 0 1\n",
      "47 TCV 0 0 1\n",
      "47 TCV 0 0 1\n",
      "47 TCV 0 0 1\n",
      "47 TCV 0 0 1\n",
      "47 TCV 0 0 1\n",
      "47 TCV 0 0 1\n",
      "47 TCV 0 0 1\n",
      "47 TCV 0 0 1\n",
      "47 TCV 0 0 1\n",
      "47 TCV 0 0 1\n",
      "47 TCV 0 0 1\n",
      "47 TCV 0 0 1\n",
      "47 TCV 0 0 1\n",
      "47 TCV 0 0 1\n",
      "47 TCV 0 0 1\n",
      "47 TCV 0 0 1\n",
      "47 TCV 0 0 1\n",
      "47 TCV 0 0 1\n",
      "47 TCV 0 0 1\n",
      "47 TCV 0 0 1\n",
      "47 TCV 0 0 1\n",
      "47 TCV 0 0 1\n",
      "47 TCV 0 0 1\n",
      "47 TCV 0 0 1\n",
      "47 TCV 0 0 1\n",
      "47 TCV 0 0 1\n",
      "47 TCV 0 0 1\n",
      "47 TCV 0 0 1\n",
      "47 TCV 0 0 1\n",
      "47 TCV 0 0 1\n",
      "47 TCV 0 0 1\n",
      "47 TCV 0 0 1\n",
      "47 TCV 0 0 1\n",
      "47 TCV 0 0 1\n",
      "47 TCV 0 0 1\n",
      "47 TCV 0 0 1\n",
      "47 TCV 0 0 1\n",
      "47 TCV 0 0 1\n",
      "47 TCV 0 0 1\n",
      "47 TCV 0 0 1\n",
      "47 TCV 0 0 1\n",
      "47 TCV 0 0 1\n",
      "47 TCV 0 0 1\n",
      "47 TCV 0 0 1\n",
      "47 TCV 0 0 1\n",
      "47 TCV 0 0 1\n",
      "47 TCV 0 0 1\n",
      "47 TCV 0 0 1\n",
      "47 TCV 0 0 1\n",
      "47 TCV 0 0 1\n",
      "47 TCV 0 0 1\n",
      "47 TCV 0 0 1\n",
      "47 TCV 0 0 1\n",
      "47 TCV 0 0 1\n",
      "47 TCV 0 0 1\n",
      "47 TCV 0 0 1\n",
      "47 TCV 0 0 1\n",
      "47 TCV 0 0 1\n",
      "47 TCV 0 0 1\n",
      "47 TCV 0 0 1\n",
      "47 TCV 0 0 1\n",
      "47 TCV 0 0 1\n",
      "47 TCV 0 0 1\n",
      "47 TCV 0 0 1\n",
      "47 TCV 0 0 1\n",
      "47 TCV 0 0 1\n",
      "47 TCV 0 0 1\n",
      "47 TCV 0 0 1\n",
      "47 TCV 0 0 1\n",
      "47 TCV 0 0 1\n",
      "47 TCV 0 0 1\n",
      "47 TCV 0 0 1\n",
      "47 TCV 0 0 1\n",
      "47 TCV 0 0 1\n",
      "47 TCV 0 0 1\n",
      "47 TCV 0 0 1\n",
      "47 TCV 0 0 1\n",
      "47 TCV 0 0 1\n",
      "47 TCV 0 0 1\n",
      "47 WM 0 0 1Action 1 - Initiative 14\n",
      "['Brothendar', 'Algael']itiative  8\n",
      "46 WB 0 0 0 0 0on 1 - Initiative  4\n",
      "Time to Finish the Rounditiative  3\n",
      "0\n"
     ]
    }
   ],
   "source": [
    "\n",
    "Game.set_override('WM', 48)\n",
    "Game.set_override('JR', 48)\n",
    "Game.take_domain_actions()\n"
   ]
  },
  {
   "cell_type": "code",
   "execution_count": 6,
   "metadata": {
    "scrolled": false
   },
   "outputs": [
    {
     "name": "stdout",
     "output_type": "stream",
     "text": [
      "46 MF 0 0 1 0 1on 2 - Initiative 12\n",
      "47 CSH 0 0 1ction 2 - Initiative 10\n",
      "46 WB 0 0 0 0 1on 2 - Initiative  4\n",
      "Time to Finish the Rounditiative  3\n",
      "1\n"
     ]
    }
   ],
   "source": [
    "\n",
    "Game.set_override('WM', 45, enemy='JR')\n",
    "Game.set_override('DW', 44, friend='GG')\n",
    "Game.take_domain_actions()\n"
   ]
  },
  {
   "cell_type": "code",
   "execution_count": 7,
   "metadata": {},
   "outputs": [
    {
     "name": "stdout",
     "output_type": "stream",
     "text": [
      "47 JR 0 0 0Action 3 - Initiative 17\n",
      "47 TCV 0 0 1ction 3 - Initiative 16\n",
      "['Annydwr', 'Cu Haellyrd']iative  7\n",
      "Time to Finish the Rounditiative  3\n",
      "2\n"
     ]
    }
   ],
   "source": [
    "\n",
    "\n",
    "Game.take_domain_actions()\n"
   ]
  },
  {
   "cell_type": "code",
   "execution_count": 8,
   "metadata": {
    "scrolled": true
   },
   "outputs": [],
   "source": [
    "for i in range(Game.War.shape[0]):\n",
    "    print('-'*20)\n",
    "    print(Game.War['Year'].values[i])\n",
    "    print()\n",
    "    print(Game.War['Notes'].values[i])\n",
    "    "
   ]
  },
  {
   "cell_type": "code",
   "execution_count": 9,
   "metadata": {},
   "outputs": [
    {
     "name": "stdout",
     "output_type": "stream",
     "text": [
      "{'muster_mercenaries', 'decree_asset_seizure', 'diplomacy_force_tribute', 'fortify_low_pop', 'espionage_heresy', 'disband_mercenaries', 'create_law_holding', 'investure_claim_provence', 'decree_general', 'adventuring', 'rule_high_pop', 'forge_ley_lines', 'agitiate_for_friend', 'muster_levies', 'espionage_discover_troop_movements', 'diplomacy_troop_permission', 'investure_invest_friend', 'muster_army', 'espionage_assassination', 'investure_divest_enemy', 'investiture_become_vassal_friend', 'grant', 'realm_magic_alchemy', 'create_guild_holding', 'declare_war'}\n",
      "\n",
      "{'muster_mercenaries', 'decree_asset_seizure', 'diplomacy_force_tribute', 'espionage_heresy', 'disband_mercenaries', 'fortify_low_pop', 'create_law_holding', 'investure_claim_provence', 'adventuring', 'rule_high_pop', 'forge_ley_lines', 'agitiate_for_friend', 'espionage_discover_troop_movements', 'investure_invest_friend', 'muster_army', 'investiture_become_vassal_friend', 'grant', 'realm_magic_alchemy', 'create_guild_holding', 'declare_war'}\n"
     ]
    }
   ],
   "source": [
    "df = pd.concat([Game.Seasons[b]['Actions'][a+1] for a in range(3) for b in range(seasons)])\n",
    "print(set(df['Action']))\n",
    "print()\n",
    "print(set(df[df['Success?']==True]['Action']))\n",
    "#Game.War\n",
    "\n"
   ]
  },
  {
   "cell_type": "code",
   "execution_count": 13,
   "metadata": {},
   "outputs": [
    {
     "data": {
      "text/plain": [
       "array(['Willaim Moergen claimed and Invested Moergen'], dtype=object)"
      ]
     },
     "execution_count": 13,
     "metadata": {},
     "output_type": "execute_result"
    }
   ],
   "source": [
    "df[df['Action'].str.contains('rule')]['Message'].values"
   ]
  },
  {
   "cell_type": "code",
   "execution_count": 11,
   "metadata": {},
   "outputs": [
    {
     "data": {
      "text/html": [
       "<div>\n",
       "<style scoped>\n",
       "    .dataframe tbody tr th:only-of-type {\n",
       "        vertical-align: middle;\n",
       "    }\n",
       "\n",
       "    .dataframe tbody tr th {\n",
       "        vertical-align: top;\n",
       "    }\n",
       "\n",
       "    .dataframe thead th {\n",
       "        text-align: right;\n",
       "    }\n",
       "</style>\n",
       "<table border=\"1\" class=\"dataframe\">\n",
       "  <thead>\n",
       "    <tr style=\"text-align: right;\">\n",
       "      <th></th>\n",
       "      <th>Regent</th>\n",
       "      <th>Project Type</th>\n",
       "      <th>Details</th>\n",
       "      <th>Gold Bars Left</th>\n",
       "    </tr>\n",
       "  </thead>\n",
       "  <tbody>\n",
       "    <tr>\n",
       "      <th>1</th>\n",
       "      <td>EC</td>\n",
       "      <td>Castle</td>\n",
       "      <td>(Duornil, 1)</td>\n",
       "      <td>4</td>\n",
       "    </tr>\n",
       "  </tbody>\n",
       "</table>\n",
       "</div>"
      ],
      "text/plain": [
       "  Regent Project Type       Details Gold Bars Left\n",
       "1     EC       Castle  (Duornil, 1)              4"
      ]
     },
     "execution_count": 11,
     "metadata": {},
     "output_type": "execute_result"
    }
   ],
   "source": [
    "Game.Projects"
   ]
  },
  {
   "cell_type": "code",
   "execution_count": 12,
   "metadata": {},
   "outputs": [
    {
     "data": {
      "text/plain": [
       "array(['investure_claim_provence', 'investure_invest_friend',\n",
       "       'investure_invest_friend', 'investure_invest_friend',\n",
       "       'investure_invest_friend', 'investure_invest_friend',\n",
       "       'investure_invest_friend'], dtype=object)"
      ]
     },
     "execution_count": 12,
     "metadata": {},
     "output_type": "execute_result"
    }
   ],
   "source": [
    "df[df['Message'].str.contains('Invest')]['Action'].values"
   ]
  },
  {
   "cell_type": "code",
   "execution_count": null,
   "metadata": {},
   "outputs": [],
   "source": []
  },
  {
   "cell_type": "code",
   "execution_count": 77,
   "metadata": {},
   "outputs": [
    {
     "data": {
      "text/html": [
       "<div>\n",
       "<style scoped>\n",
       "    .dataframe tbody tr th:only-of-type {\n",
       "        vertical-align: middle;\n",
       "    }\n",
       "\n",
       "    .dataframe tbody tr th {\n",
       "        vertical-align: top;\n",
       "    }\n",
       "\n",
       "    .dataframe thead th {\n",
       "        text-align: right;\n",
       "    }\n",
       "</style>\n",
       "<table border=\"1\" class=\"dataframe\">\n",
       "  <thead>\n",
       "    <tr style=\"text-align: right;\">\n",
       "      <th></th>\n",
       "      <th>Provence</th>\n",
       "      <th>Type</th>\n",
       "      <th>Raise</th>\n",
       "      <th>Contested</th>\n",
       "      <th>Level</th>\n",
       "      <th>Regent</th>\n",
       "    </tr>\n",
       "  </thead>\n",
       "  <tbody>\n",
       "    <tr>\n",
       "      <th>0</th>\n",
       "      <td>Careine</td>\n",
       "      <td>Law</td>\n",
       "      <td>1</td>\n",
       "      <td>0</td>\n",
       "      <td>1</td>\n",
       "      <td>CoL</td>\n",
       "    </tr>\n",
       "  </tbody>\n",
       "</table>\n",
       "</div>"
      ],
      "text/plain": [
       "  Provence Type  Raise  Contested  Level Regent\n",
       "0  Careine  Law      1          0      1    CoL"
      ]
     },
     "execution_count": 77,
     "metadata": {},
     "output_type": "execute_result"
    }
   ],
   "source": [
    "Regent = 'CoL'\n",
    "self = Game\n",
    "holdings = []\n",
    "for i, row in self.Holdings[self.Holdings['Regent']==Regent].iterrows():\n",
    "    holdings.append((row['Provence'], row['Type']))\n",
    "    \n",
    "temp = pd.concat([self.Holdings[self.Holdings['Regent']==Regent][self.Holdings['Provence']==a[0]][self.Holdings['Type']==a[1]] for a in holdings], sort=True)\n",
    "\n",
    "\n",
    "pop = pd.merge(temp[['Provence']].drop_duplicates(), self.Holdings.copy(), on='Provence', how='left')\n",
    "pop = pop[pop['Contested']==0]\n",
    "pop = pop[['Provence', 'Type', 'Level']].groupby(['Provence', 'Type']).sum().reset_index()\n",
    "pop = pd.merge(pop, self.Provences, on='Provence', how='left')\n",
    "pop1 = pop[pop['Type']!='Source']\n",
    "pop2 = pop[pop['Type']=='Source']\n",
    "pop1['Limit']=pop1['Population']\n",
    "pop2['Limit']=pop2['Magic']\n",
    "pop=pd.concat([pop1, pop2])\n",
    "pop = pop[pop['Level']<pop['Limit']][['Provence', 'Type', 'Level', 'Limit']]\n",
    "pop['Raise'] = pop['Limit'] - pop['Level']\n",
    "\n",
    "\n",
    "temp = pd.merge(pop[['Provence', 'Type', 'Raise']], temp, on=['Provence','Type'], how='left').fillna(-1)\n",
    "temp = temp[temp['Level']>-1]\n",
    "\n",
    "\n",
    "temp"
   ]
  },
  {
   "cell_type": "code",
   "execution_count": 63,
   "metadata": {},
   "outputs": [
    {
     "data": {
      "text/html": [
       "<div>\n",
       "<style scoped>\n",
       "    .dataframe tbody tr th:only-of-type {\n",
       "        vertical-align: middle;\n",
       "    }\n",
       "\n",
       "    .dataframe tbody tr th {\n",
       "        vertical-align: top;\n",
       "    }\n",
       "\n",
       "    .dataframe thead th {\n",
       "        text-align: right;\n",
       "    }\n",
       "</style>\n",
       "<table border=\"1\" class=\"dataframe\">\n",
       "  <thead>\n",
       "    <tr style=\"text-align: right;\">\n",
       "      <th></th>\n",
       "      <th>Provence</th>\n",
       "      <th>Regent</th>\n",
       "      <th>Type</th>\n",
       "      <th>Level</th>\n",
       "      <th>Contested</th>\n",
       "    </tr>\n",
       "  </thead>\n",
       "  <tbody>\n",
       "  </tbody>\n",
       "</table>\n",
       "</div>"
      ],
      "text/plain": [
       "Empty DataFrame\n",
       "Columns: [Provence, Regent, Type, Level, Contested]\n",
       "Index: []"
      ]
     },
     "execution_count": 63,
     "metadata": {},
     "output_type": "execute_result"
    }
   ],
   "source": [
    "self.Holdings[self.Holdings['Regent']=='EC']"
   ]
  },
  {
   "cell_type": "code",
   "execution_count": 76,
   "metadata": {},
   "outputs": [
    {
     "data": {
      "text/html": [
       "<div>\n",
       "<style scoped>\n",
       "    .dataframe tbody tr th:only-of-type {\n",
       "        vertical-align: middle;\n",
       "    }\n",
       "\n",
       "    .dataframe tbody tr th {\n",
       "        vertical-align: top;\n",
       "    }\n",
       "\n",
       "    .dataframe thead th {\n",
       "        text-align: right;\n",
       "    }\n",
       "</style>\n",
       "<table border=\"1\" class=\"dataframe\">\n",
       "  <thead>\n",
       "    <tr style=\"text-align: right;\">\n",
       "      <th></th>\n",
       "      <th>Provence</th>\n",
       "      <th>Type</th>\n",
       "      <th>Level</th>\n",
       "      <th>Limit</th>\n",
       "      <th>Raise</th>\n",
       "    </tr>\n",
       "  </thead>\n",
       "  <tbody>\n",
       "    <tr>\n",
       "      <th>3</th>\n",
       "      <td>Careine</td>\n",
       "      <td>Law</td>\n",
       "      <td>1</td>\n",
       "      <td>2</td>\n",
       "      <td>1</td>\n",
       "    </tr>\n",
       "    <tr>\n",
       "      <th>5</th>\n",
       "      <td>Careine</td>\n",
       "      <td>Temple</td>\n",
       "      <td>1</td>\n",
       "      <td>2</td>\n",
       "      <td>1</td>\n",
       "    </tr>\n",
       "    <tr>\n",
       "      <th>4</th>\n",
       "      <td>Careine</td>\n",
       "      <td>Source</td>\n",
       "      <td>5</td>\n",
       "      <td>6</td>\n",
       "      <td>1</td>\n",
       "    </tr>\n",
       "    <tr>\n",
       "      <th>8</th>\n",
       "      <td>Hamein</td>\n",
       "      <td>Source</td>\n",
       "      <td>4</td>\n",
       "      <td>5</td>\n",
       "      <td>1</td>\n",
       "    </tr>\n",
       "  </tbody>\n",
       "</table>\n",
       "</div>"
      ],
      "text/plain": [
       "  Provence    Type  Level  Limit  Raise\n",
       "3  Careine     Law      1      2      1\n",
       "5  Careine  Temple      1      2      1\n",
       "4  Careine  Source      5      6      1\n",
       "8   Hamein  Source      4      5      1"
      ]
     },
     "execution_count": 76,
     "metadata": {},
     "output_type": "execute_result"
    }
   ],
   "source": [
    "\n",
    "pop"
   ]
  },
  {
   "cell_type": "code",
   "execution_count": 74,
   "metadata": {},
   "outputs": [
    {
     "data": {
      "text/plain": [
       "Index(['Regent', 'Full Name', 'Bloodline', 'Culture', 'Player', 'Class',\n",
       "       'Level', 'Alignment', 'Race', 'Str', 'Dex', 'Con', 'Int', 'Wis', 'Cha',\n",
       "       'Insight', 'Deception', 'Persuasion', 'Regency Points', 'Gold Bars',\n",
       "       'Regency Bonus', 'Attitude', 'Alive', 'Divine', 'Arcane'],\n",
       "      dtype='object')"
      ]
     },
     "execution_count": 74,
     "metadata": {},
     "output_type": "execute_result"
    }
   ],
   "source": [
    "Game.Regents.keys()"
   ]
  },
  {
   "cell_type": "code",
   "execution_count": null,
   "metadata": {},
   "outputs": [],
   "source": []
  }
 ],
 "metadata": {
  "kernelspec": {
   "display_name": "Python 3",
   "language": "python",
   "name": "python3"
  },
  "language_info": {
   "codemirror_mode": {
    "name": "ipython",
    "version": 3
   },
   "file_extension": ".py",
   "mimetype": "text/x-python",
   "name": "python",
   "nbconvert_exporter": "python",
   "pygments_lexer": "ipython3",
   "version": "3.7.3"
  }
 },
 "nbformat": 4,
 "nbformat_minor": 2
}
