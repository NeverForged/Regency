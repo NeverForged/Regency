{
 "cells": [
  {
   "cell_type": "code",
   "execution_count": 2,
   "metadata": {
    "scrolled": false
   },
   "outputs": [
    {
     "ename": "SyntaxError",
     "evalue": "invalid syntax (regency.py, line 3536)",
     "output_type": "error",
     "traceback": [
      "Traceback \u001b[1;36m(most recent call last)\u001b[0m:\n",
      "  File \u001b[0;32m\"C:\\ProgramData\\Anaconda3\\lib\\site-packages\\IPython\\core\\interactiveshell.py\"\u001b[0m, line \u001b[0;32m3296\u001b[0m, in \u001b[0;35mrun_code\u001b[0m\n    exec(code_obj, self.user_global_ns, self.user_ns)\n",
      "\u001b[1;36m  File \u001b[1;32m\"<ipython-input-2-78fa893ea4f5>\"\u001b[1;36m, line \u001b[1;32m1\u001b[1;36m, in \u001b[1;35m<module>\u001b[1;36m\u001b[0m\n\u001b[1;33m    from source.regency import Regency\u001b[0m\n",
      "\u001b[1;36m  File \u001b[1;32m\"C:\\git\\Regency\\source\\regency.py\"\u001b[1;36m, line \u001b[1;32m3536\u001b[0m\n\u001b[1;33m    elif Type == 'Mercenaries'\u001b[0m\n\u001b[1;37m                              ^\u001b[0m\n\u001b[1;31mSyntaxError\u001b[0m\u001b[1;31m:\u001b[0m invalid syntax\n"
     ]
    }
   ],
   "source": [
    "from source.regency import Regency\n",
    "from source.DQNAgent import DQNAgent\n",
    "from IPython.display import clear_output\n",
    "\n",
    "Game = Regency()\n",
    "clear_output()\n",
    "for a in range(1):\n",
    "    Game.random_events()\n",
    "    print(len((Game.Seasons[Game.Season]['Season'])))\n",
    "    Game.collect_regency_points()\n",
    "    print(len((Game.Seasons[Game.Season]['Season'])))\n",
    "    Game.domain_initiative()\n",
    "    print(len((Game.Seasons[Game.Season]['Season'])))\n",
    "    Game.collect_gold_bars()\n",
    "    print(len((Game.Seasons[Game.Season]['Season'])))\n",
    "    Game.maintenance_costs()\n",
    "    print(len((Game.Seasons[Game.Season]['Season'])))\n",
    "\n",
    "Game.clear_screen()\n",
    "Game.Seasons[Game.Season]['Season']"
   ]
  },
  {
   "cell_type": "code",
   "execution_count": null,
   "metadata": {},
   "outputs": [],
   "source": [
    "Game.get_travel_cost('JR', 'Bogsend', 'Sunken Lands', 'Archers')"
   ]
  },
  {
   "cell_type": "code",
   "execution_count": null,
   "metadata": {},
   "outputs": [],
   "source": [
    "self = Game\n",
    "Regent = 'EC'\n",
    "import pandas as pd\n",
    "import numpy as np\n",
    "\n",
    "temp = pd.merge(self.Provences[self.Provences['Regent']=='EC'][['Regent', 'Provence']], self.Troops, on='Provence', how='left').fillna(0)\n",
    "temp = temp[temp['Type'] != 0]\n",
    "temp = temp[['Provence', 'CR']].groupby('Provence').sum().reset_index()\n",
    "temp['roll'] = np.random.randint(1, 100)+temp['CR']\n",
    "temp = temp.sort_values('roll', ascending=False)\n",
    "\n",
    "temp"
   ]
  },
  {
   "cell_type": "code",
   "execution_count": null,
   "metadata": {},
   "outputs": [],
   "source": [
    "Game.Troops"
   ]
  },
  {
   "cell_type": "code",
   "execution_count": null,
   "metadata": {},
   "outputs": [],
   "source": [
    "temp = self.Troops[self.Troops['Regent']=='EC'].copy()\n",
    "temp = temp[temp['Type'] == 'Pikemen']\n",
    "temp = temp[temp['Provence'] == 'Bogsend']\n",
    "\n",
    "temp"
   ]
  },
  {
   "cell_type": "code",
   "execution_count": null,
   "metadata": {},
   "outputs": [],
   "source": [
    "for i, row in temp.iterrows():\n",
    "    print(i, row)"
   ]
  },
  {
   "cell_type": "code",
   "execution_count": null,
   "metadata": {},
   "outputs": [],
   "source": [
    "self = Game\n",
    "Regent = 'EC'\n",
    "\n",
    "race = self.Regents[self.Regents['Regent']==Regent]['Race'].values[0]\n",
    "temp = pd.merge(self.Holdings[self.Holdings['Regent']==Regent].copy()\n",
    "                , self.troop_units[self.troop_units['Type'] == race].copy()\n",
    "                , left_on=['Type', 'Level'], right_on=['Requirements Holdings', 'Requirements Level']\n",
    "                , how='left')\n",
    "temp = temp[temp['Unit Type'] != 'Levies']\n",
    "# can I afford it\n",
    "gold = self.Regents[self.Regents['Regent'] == Regent]['Gold Bars'].values[0]\n",
    "temp = temp[temp['Muster Cost'] <= gold]\n",
    "\n",
    "temp.iloc[0]['Unit Type']"
   ]
  },
  {
   "cell_type": "code",
   "execution_count": null,
   "metadata": {},
   "outputs": [],
   "source": [
    "self.Troops"
   ]
  },
  {
   "cell_type": "code",
   "execution_count": null,
   "metadata": {},
   "outputs": [],
   "source": [
    "temp"
   ]
  },
  {
   "cell_type": "code",
   "execution_count": null,
   "metadata": {},
   "outputs": [],
   "source": [
    "Regent = 'LPA'\n",
    "Type = 'Irregulars'\n",
    "Provence = 'Sunken Lands'\n",
    "Garrisoned = 0\n",
    "Home = ''\n",
    "self.Troops = self.Troops.append(pd.DataFrame([[Regent\n",
    "\t\t\t\t\t\t\t\t\t\t\t\t\t\t   , Provence\n",
    "\t\t\t\t\t\t\t\t\t\t\t\t\t\t   , Type\n",
    "\t\t\t\t\t\t\t\t\t\t\t\t\t\t   , self.troop_units[self.troop_units['Unit Type'] == Type]['Maintenance Cost'].values[0]\n",
    "\t\t\t\t\t\t\t\t\t\t\t\t\t\t   , self.troop_units[self.troop_units['Unit Type'] == Type]['BCR'].values[0]\n",
    "\t\t\t\t\t\t\t\t\t\t\t\t\t\t   , Garrisoned\n",
    "\t\t\t\t\t\t\t\t\t\t\t\t\t\t   , Home]], columns=['Regent', 'Provence', 'Type', 'Cost', 'CR', 'Garrisoned', 'Home']))"
   ]
  },
  {
   "cell_type": "code",
   "execution_count": null,
   "metadata": {},
   "outputs": [],
   "source": [
    "self.Troops"
   ]
  },
  {
   "cell_type": "code",
   "execution_count": null,
   "metadata": {},
   "outputs": [],
   "source": [
    "self.Troops = self.Troops.append(pd.DataFrame([[Regent\n",
    "\t\t\t\t\t\t\t\t\t\t\t\t\t\t   , Provence\n",
    "\t\t\t\t\t\t\t\t\t\t\t\t\t\t   , Type\n",
    "\t\t\t\t\t\t\t\t\t\t\t\t\t\t   , self.troop_units[self.troop_units['Unit Type'] == Type]['Maintenance Cost'].values[0]\n",
    "\t\t\t\t\t\t\t\t\t\t\t\t\t\t   , self.troop_units[self.troop_units['Unit Type'] == Type]['BCR'].values[0]\n",
    "\t\t\t\t\t\t\t\t\t\t\t\t\t\t   , Garrisoned\n",
    "\t\t\t\t\t\t\t\t\t\t\t\t\t\t   , Home]], columns=['Regent', 'Provence', 'Type', 'Cost', 'CR', 'Garrisoned', 'Home'])\n",
    "                                                           , ignore_index=True)"
   ]
  },
  {
   "cell_type": "code",
   "execution_count": null,
   "metadata": {},
   "outputs": [],
   "source": [
    "self.Troops"
   ]
  },
  {
   "cell_type": "code",
   "execution_count": null,
   "metadata": {},
   "outputs": [],
   "source": []
  }
 ],
 "metadata": {
  "kernelspec": {
   "display_name": "Python 3",
   "language": "python",
   "name": "python3"
  },
  "language_info": {
   "codemirror_mode": {
    "name": "ipython",
    "version": 3
   },
   "file_extension": ".py",
   "mimetype": "text/x-python",
   "name": "python",
   "nbconvert_exporter": "python",
   "pygments_lexer": "ipython3",
   "version": "3.7.3"
  }
 },
 "nbformat": 4,
 "nbformat_minor": 1
}
