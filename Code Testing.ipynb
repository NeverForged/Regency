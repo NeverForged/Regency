{
 "cells": [
  {
   "cell_type": "code",
   "execution_count": 1,
   "metadata": {
    "scrolled": true
   },
   "outputs": [
    {
     "name": "stdout",
     "output_type": "stream",
     "text": [
      "WARNING:tensorflow:From C:\\Users\\darin\\Anaconda3\\lib\\site-packages\\tensorflow\\python\\ops\\math_ops.py:3066: to_int32 (from tensorflow.python.ops.math_ops) is deprecated and will be removed in a future version.\n",
      "Instructions for updating:\n",
      "Use tf.cast instead.\n"
     ]
    }
   ],
   "source": [
    "from source.regency import Regency\n",
    "from source.mapping import Mapping\n",
    "from source.DQNAgent import DQNAgent\n",
    "from IPython.display import clear_output\n",
    "import pandas as pd\n",
    "import warnings\n",
    "warnings.filterwarnings('ignore')\n",
    "\n",
    "\n",
    "seasons = 1\n",
    "Game = Regency(True)\n",
    "clear_output()\n",
    "Game.add_relationship('Go','Fh',At_War=1)\n",
    "\n",
    "#for a in range(seasons):\n",
    "Game.random_events()\n",
    "Game.collect_regency_points()\n",
    "Game.domain_initiative()\n",
    "Game.collect_gold_bars()\n",
    "Game.maintenance_costs(Update=True)\n",
    "#     Game.Seasons[0][1]['Override']['Go'] = (22,'enemy','Fh')\n",
    "#     Game.take_domain_actions(1)\n",
    "#     Game.take_domain_actions(2)\n",
    "#     Game.take_domain_actions(3)\n",
    "    # Game.clear_screen()\n",
    "\n",
    "#df = pd.concat([Game.Seasons[b]['Actions'][a+1] for a in range(3) for b in range(seasons)])\n",
    "#print(set(df['Action']))\n",
    "#print()\n",
    "#print(set(df[df['Success?']==True]['Action']))\n",
    "#Game.War\n",
    "\n"
   ]
  },
  {
   "cell_type": "code",
   "execution_count": 2,
   "metadata": {},
   "outputs": [],
   "source": [
    "Game.Seasons[0]['Override'][1]['Go'] = (22,'enemy','Fh')\n",
    "Game.Seasons[0]['Override'][1]['Fh'] = (20,'friend','FD')\n",
    "Game.Seasons[0]['Override'][1]['FD'] = (21,'friend','Fh')"
   ]
  },
  {
   "cell_type": "code",
   "execution_count": null,
   "metadata": {},
   "outputs": [
    {
     "name": "stdout",
     "output_type": "stream",
     "text": [
      "20 Ca 0 0 0 1tion 1 - Initiative 21\n",
      "20 Ca 0 0 0 1\n",
      "Season 0 - Action 1 - Initiative 20\r"
     ]
    }
   ],
   "source": [
    "Game.add_relationship('Go','Fh',At_War=1)\n",
    "Game.take_domain_actions(1)\n",
    "Game.War"
   ]
  },
  {
   "cell_type": "code",
   "execution_count": null,
   "metadata": {},
   "outputs": [],
   "source": [
    "Game.Seasons[0]['Override'][2]['FD'] = (21,'friend','Fh')\n",
    "Game.Seasons[0]['Override'][2]['Go'] = (22,'enemy','FD')\n",
    "Game.take_domain_actions(2)"
   ]
  },
  {
   "cell_type": "code",
   "execution_count": null,
   "metadata": {},
   "outputs": [],
   "source": [
    "Game.War"
   ]
  },
  {
   "cell_type": "code",
   "execution_count": null,
   "metadata": {},
   "outputs": [],
   "source": [
    "action = 1\n",
    "Game.Seasons[0]['Actions'][action][Game.Seasons[0]['Actions'][action]['Regent']=='Fh']"
   ]
  },
  {
   "cell_type": "code",
   "execution_count": null,
   "metadata": {},
   "outputs": [],
   "source": [
    "self=Game\n",
    "Regent='Go'\n",
    "\n",
    "self.Seasons[self.Season]['Override'][self.Action][Regent]"
   ]
  },
  {
   "cell_type": "code",
   "execution_count": null,
   "metadata": {},
   "outputs": [],
   "source": [
    "Game.attackers"
   ]
  },
  {
   "cell_type": "code",
   "execution_count": null,
   "metadata": {},
   "outputs": [],
   "source": [
    "Game.defenders"
   ]
  },
  {
   "cell_type": "code",
   "execution_count": null,
   "metadata": {},
   "outputs": [],
   "source": [
    "Game.save_forces"
   ]
  },
  {
   "cell_type": "code",
   "execution_count": null,
   "metadata": {},
   "outputs": [],
   "source": [
    "Game.Projects"
   ]
  },
  {
   "cell_type": "code",
   "execution_count": null,
   "metadata": {},
   "outputs": [],
   "source": [
    "Game.Provences[Game.Provences['Regent']=='Fh']"
   ]
  }
 ],
 "metadata": {
  "kernelspec": {
   "display_name": "Python 3",
   "language": "python",
   "name": "python3"
  },
  "language_info": {
   "codemirror_mode": {
    "name": "ipython",
    "version": 3
   },
   "file_extension": ".py",
   "mimetype": "text/x-python",
   "name": "python",
   "nbconvert_exporter": "python",
   "pygments_lexer": "ipython3",
   "version": "3.7.3"
  }
 },
 "nbformat": 4,
 "nbformat_minor": 2
}
