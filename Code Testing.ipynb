{
 "cells": [
  {
   "cell_type": "code",
   "execution_count": 1,
   "metadata": {
    "scrolled": false
   },
   "outputs": [
    {
     "name": "stderr",
     "output_type": "stream",
     "text": [
      "Using TensorFlow backend.\n"
     ]
    }
   ],
   "source": [
    "from source.regency import Regency\n",
    "from source.mapping import Mapping\n",
    "from source.DQNAgent import DQNAgent\n",
    "from IPython.display import clear_output\n",
    "import pandas as pd\n",
    "import warnings\n",
    "warnings.filterwarnings('ignore')"
   ]
  },
  {
   "cell_type": "code",
   "execution_count": 2,
   "metadata": {},
   "outputs": [],
   "source": [
    "%matplotlib notebook"
   ]
  },
  {
   "cell_type": "code",
   "execution_count": 3,
   "metadata": {},
   "outputs": [
    {
     "name": "stdout",
     "output_type": "stream",
     "text": [
      "WARNING:tensorflow:From C:\\ProgramData\\Anaconda3\\lib\\site-packages\\tensorflow\\python\\ops\\math_ops.py:3066: to_int32 (from tensorflow.python.ops.math_ops) is deprecated and will be removed in a future version.\n",
      "Instructions for updating:\n",
      "Use tf.cast instead.\n"
     ]
    }
   ],
   "source": [
    "seasons = 1\n",
    "Game = Regency(True)\n",
    "clear_output()\n",
    "\n",
    "for a in range(seasons):\n",
    "    Game.random_events()\n",
    "    Game.collect_regency_points()\n",
    "    Game.domain_initiative()\n",
    "    Game.collect_gold_bars()\n",
    "    Game.maintenance_costs(Update=True)\n",
    "    \n"
   ]
  },
  {
   "cell_type": "code",
   "execution_count": 4,
   "metadata": {},
   "outputs": [],
   "source": [
    "\n",
    "Game.change_regent('WM', Gold_Bars=200)"
   ]
  },
  {
   "cell_type": "code",
   "execution_count": 5,
   "metadata": {
    "scrolled": true
   },
   "outputs": [
    {
     "name": "stdout",
     "output_type": "stream",
     "text": [
      "27 GG CoL None 1 0 0- Initiative 22\n",
      "35 GG EC 0 0 0 0 0 0\n",
      "35 WM EC 0 0 0 0 0 0\n",
      "27 WB Ch None 0 0 0 - Initiative 19\n",
      "35 WB CoL 0 0 0 0 0 0\n",
      "35 Ch CoL 0 1 0 0 0 0 Initiative 17\n",
      "41 TBM 0 1 0 0ion 1 - Initiative 15\n",
      "35 JR EC 0 0 0 0 0 0- Initiative 14\n",
      "35 CoL EC 0 0 0 0 0 0 Initiative 11\n",
      "Time to Finish the Rounditiative  1\n",
      "0\n"
     ]
    }
   ],
   "source": [
    "Game.set_override('WM', 35, friend='EC')\n",
    "Game.set_override('JR', 35, friend='EC')\n",
    "Game.set_override('GG', 35, friend='EC')\n",
    "Game.set_override('CoL', 35, friend='EC')\n",
    "Game.take_domain_actions()\n"
   ]
  },
  {
   "cell_type": "code",
   "execution_count": 8,
   "metadata": {},
   "outputs": [
    {
     "data": {
      "text/html": [
       "<div>\n",
       "<style scoped>\n",
       "    .dataframe tbody tr th:only-of-type {\n",
       "        vertical-align: middle;\n",
       "    }\n",
       "\n",
       "    .dataframe tbody tr th {\n",
       "        vertical-align: top;\n",
       "    }\n",
       "\n",
       "    .dataframe thead th {\n",
       "        text-align: right;\n",
       "    }\n",
       "</style>\n",
       "<table border=\"1\" class=\"dataframe\">\n",
       "  <thead>\n",
       "    <tr style=\"text-align: right;\">\n",
       "      <th></th>\n",
       "      <th>Regent</th>\n",
       "      <th>Other</th>\n",
       "      <th>Diplomacy</th>\n",
       "      <th>Payment</th>\n",
       "      <th>Vassalage</th>\n",
       "      <th>At War</th>\n",
       "      <th>Trade Permission</th>\n",
       "    </tr>\n",
       "  </thead>\n",
       "  <tbody>\n",
       "    <tr>\n",
       "      <th>5</th>\n",
       "      <td>EC</td>\n",
       "      <td>LPA</td>\n",
       "      <td>3</td>\n",
       "      <td>0</td>\n",
       "      <td>0</td>\n",
       "      <td>0</td>\n",
       "      <td>0</td>\n",
       "    </tr>\n",
       "  </tbody>\n",
       "</table>\n",
       "</div>"
      ],
      "text/plain": [
       "  Regent Other  Diplomacy  Payment  Vassalage  At War  Trade Permission\n",
       "5     EC   LPA          3        0          0       0                 0"
      ]
     },
     "execution_count": 8,
     "metadata": {},
     "output_type": "execute_result"
    }
   ],
   "source": [
    "Game.Relationships[Game.Relationships['Regent']=='EC']"
   ]
  },
  {
   "cell_type": "code",
   "execution_count": 12,
   "metadata": {},
   "outputs": [
    {
     "name": "stdout",
     "output_type": "stream",
     "text": [
      "35 Ch MF 0 1 0 0 0 0- Initiative 17\n",
      "35 TF Ch 0 1 1 0 0 0- Initiative 15\n",
      "Time to Finish the Rounditiative  1\n",
      "1\n"
     ]
    }
   ],
   "source": [
    "Game.set_override('WM', 28)\n",
    "\n",
    "Game.take_domain_actions()\n"
   ]
  },
  {
   "cell_type": "code",
   "execution_count": 14,
   "metadata": {},
   "outputs": [
    {
     "name": "stdout",
     "output_type": "stream",
     "text": [
      "41 DW 0 0 0 0tion 3 - Initiative  7\n",
      "Time to Finish the Rounditiative  1\n",
      "2\n"
     ]
    }
   ],
   "source": [
    "Game.set_override('WM', 32, enemy='JR')\n",
    "\n",
    "Game.take_domain_actions()\n"
   ]
  },
  {
   "cell_type": "code",
   "execution_count": 15,
   "metadata": {
    "scrolled": true
   },
   "outputs": [],
   "source": [
    "for i in range(Game.War.shape[0]):\n",
    "    print('-'*20)\n",
    "    print(Game.War['Year'].values[i])\n",
    "    print()\n",
    "    print(Game.War['Notes'].values[i])\n",
    "    "
   ]
  },
  {
   "cell_type": "code",
   "execution_count": 16,
   "metadata": {},
   "outputs": [
    {
     "name": "stdout",
     "output_type": "stream",
     "text": [
      "{'investiture_become_vassal_friend', 'decree_general', 'muster_mercenaries', 'rule_holdings', 'declare_war', 'realm_magic_alchemy', 'espionage_assassination', 'Lieutenant', 'grant', 'realm_magic_demagogue_enemy', 'diplomacy_troop_permission', 'diplomacy_force_tribute', 'realm_magic_demagogue_friend', 'investure_invest_friend', 'investure_divest_enemy', 'adventuring'}\n",
      "\n",
      "{'investiture_become_vassal_friend', 'decree_general', 'muster_mercenaries', 'rule_holdings', 'declare_war', 'realm_magic_alchemy', 'espionage_assassination', 'Lieutenant', 'grant', 'diplomacy_force_tribute', 'diplomacy_troop_permission', 'investure_invest_friend', 'adventuring'}\n"
     ]
    }
   ],
   "source": [
    "df = pd.concat([Game.Seasons[b]['Actions'][a+1] for a in range(3) for b in range(seasons)])\n",
    "print(set(df['Action']))\n",
    "print()\n",
    "print(set(df[df['Success?']==True]['Action']))\n",
    "#Game.War\n",
    "\n"
   ]
  },
  {
   "cell_type": "code",
   "execution_count": 17,
   "metadata": {},
   "outputs": [
    {
     "data": {
      "text/plain": [
       "array(['Eluvie Cariele will allows troops from Overthane Grimm Graybeard to travel in their domain',\n",
       "       \"Willaim Moergen failed to get permission to move troops through Eluvie Cariele's domain\",\n",
       "       \"Water's Blessing (Phisiad Uriene) failed to get permission to move troops through Council of Leaders's domain\",\n",
       "       \"Jaison Raenech failed to get permission to move troops through Eluvie Cariele's domain\",\n",
       "       'Eluvie Cariele will allows troops from Council of Leaders to travel in their domain',\n",
       "       'Three Brother Mages failed to demanded tribute from The Chimera',\n",
       "       'Eluvie Cariele failed to demanded tribute from Second Swamp Mage',\n",
       "       'Jaison Raenech failed to demanded tribute from Willaim Moergen',\n",
       "       \"Moradin's Forge (Ruarch Rockhammer) has demanded tribute from Eluvie Cariele, and they agreed to pay it.\",\n",
       "       'Emerald Queen Isaelie has demanded tribute from Council of Leaders, and they agreed to pay it.',\n",
       "       'Life and Protection of Avanalae (Medhlorie Haensen) failed to demanded tribute from Diirk Watersold (Royal Guild of Baruk-Azhir)',\n",
       "       'Council of Leaders failed to demanded tribute from Emerald Queen Isaelie',\n",
       "       'Diirk Watersold (Royal Guild of Baruk-Azhir) failed to demanded tribute from Eluvie Cariele',\n",
       "       \"Church of Storm's Height (Wincae Raenech) has demanded tribute from The Fortress (Tugaere Issimane), and they agreed to pay it.\",\n",
       "       'Second Swamp Mage has demanded tribute from Diirk Watersold (Royal Guild of Baruk-Azhir), and they agreed to pay it.',\n",
       "       'Swamp Mage failed to demanded tribute from Diirk Watersold (Royal Guild of Baruk-Azhir)',\n",
       "       'Life and Protection of Avanalae (Medhlorie Haensen) failed to demanded tribute from The Fortress (Tugaere Issimane)'],\n",
       "      dtype=object)"
      ]
     },
     "execution_count": 17,
     "metadata": {},
     "output_type": "execute_result"
    }
   ],
   "source": [
    "df[df['Action'].str.contains('diplo')]['Message'].values"
   ]
  },
  {
   "cell_type": "code",
   "execution_count": 18,
   "metadata": {},
   "outputs": [
    {
     "data": {
      "text/html": [
       "<div>\n",
       "<style scoped>\n",
       "    .dataframe tbody tr th:only-of-type {\n",
       "        vertical-align: middle;\n",
       "    }\n",
       "\n",
       "    .dataframe tbody tr th {\n",
       "        vertical-align: top;\n",
       "    }\n",
       "\n",
       "    .dataframe thead th {\n",
       "        text-align: right;\n",
       "    }\n",
       "</style>\n",
       "<table border=\"1\" class=\"dataframe\">\n",
       "  <thead>\n",
       "    <tr style=\"text-align: right;\">\n",
       "      <th></th>\n",
       "      <th>Regent</th>\n",
       "      <th>Other</th>\n",
       "      <th>Diplomacy</th>\n",
       "      <th>Payment</th>\n",
       "      <th>Vassalage</th>\n",
       "      <th>At War</th>\n",
       "      <th>Trade Permission</th>\n",
       "    </tr>\n",
       "  </thead>\n",
       "  <tbody>\n",
       "    <tr>\n",
       "      <th>20</th>\n",
       "      <td>WM</td>\n",
       "      <td>JR</td>\n",
       "      <td>-3</td>\n",
       "      <td>0</td>\n",
       "      <td>0</td>\n",
       "      <td>1</td>\n",
       "      <td>0</td>\n",
       "    </tr>\n",
       "  </tbody>\n",
       "</table>\n",
       "</div>"
      ],
      "text/plain": [
       "   Regent Other  Diplomacy  Payment  Vassalage  At War  Trade Permission\n",
       "20     WM    JR         -3        0          0       1                 0"
      ]
     },
     "execution_count": 18,
     "metadata": {},
     "output_type": "execute_result"
    }
   ],
   "source": [
    "Game.Relationships[Game.Relationships['Regent']=='WM']"
   ]
  },
  {
   "cell_type": "code",
   "execution_count": 19,
   "metadata": {},
   "outputs": [
    {
     "data": {
      "text/html": [
       "<div>\n",
       "<style scoped>\n",
       "    .dataframe tbody tr th:only-of-type {\n",
       "        vertical-align: middle;\n",
       "    }\n",
       "\n",
       "    .dataframe tbody tr th {\n",
       "        vertical-align: top;\n",
       "    }\n",
       "\n",
       "    .dataframe thead th {\n",
       "        text-align: right;\n",
       "    }\n",
       "</style>\n",
       "<table border=\"1\" class=\"dataframe\">\n",
       "  <thead>\n",
       "    <tr style=\"text-align: right;\">\n",
       "      <th></th>\n",
       "      <th>Regent</th>\n",
       "      <th>Project Type</th>\n",
       "      <th>Details</th>\n",
       "      <th>Gold Bars Left</th>\n",
       "    </tr>\n",
       "  </thead>\n",
       "  <tbody>\n",
       "  </tbody>\n",
       "</table>\n",
       "</div>"
      ],
      "text/plain": [
       "Empty DataFrame\n",
       "Columns: [Regent, Project Type, Details, Gold Bars Left]\n",
       "Index: []"
      ]
     },
     "execution_count": 19,
     "metadata": {},
     "output_type": "execute_result"
    }
   ],
   "source": [
    "Game.Projects"
   ]
  },
  {
   "cell_type": "code",
   "execution_count": 20,
   "metadata": {},
   "outputs": [
    {
     "data": {
      "text/html": [
       "<div>\n",
       "<style scoped>\n",
       "    .dataframe tbody tr th:only-of-type {\n",
       "        vertical-align: middle;\n",
       "    }\n",
       "\n",
       "    .dataframe tbody tr th {\n",
       "        vertical-align: top;\n",
       "    }\n",
       "\n",
       "    .dataframe thead th {\n",
       "        text-align: right;\n",
       "    }\n",
       "</style>\n",
       "<table border=\"1\" class=\"dataframe\">\n",
       "  <thead>\n",
       "    <tr style=\"text-align: right;\">\n",
       "      <th></th>\n",
       "      <th>Regent</th>\n",
       "      <th>Project Type</th>\n",
       "      <th>Details</th>\n",
       "      <th>Gold Bars Left</th>\n",
       "    </tr>\n",
       "  </thead>\n",
       "  <tbody>\n",
       "  </tbody>\n",
       "</table>\n",
       "</div>"
      ],
      "text/plain": [
       "Empty DataFrame\n",
       "Columns: [Regent, Project Type, Details, Gold Bars Left]\n",
       "Index: []"
      ]
     },
     "execution_count": 20,
     "metadata": {},
     "output_type": "execute_result"
    }
   ],
   "source": [
    "Game.Projects"
   ]
  },
  {
   "cell_type": "code",
   "execution_count": null,
   "metadata": {},
   "outputs": [],
   "source": []
  }
 ],
 "metadata": {
  "kernelspec": {
   "display_name": "Python 3",
   "language": "python",
   "name": "python3"
  },
  "language_info": {
   "codemirror_mode": {
    "name": "ipython",
    "version": 3
   },
   "file_extension": ".py",
   "mimetype": "text/x-python",
   "name": "python",
   "nbconvert_exporter": "python",
   "pygments_lexer": "ipython3",
   "version": "3.7.3"
  }
 },
 "nbformat": 4,
 "nbformat_minor": 2
}
