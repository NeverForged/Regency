{
 "cells": [
  {
   "cell_type": "code",
   "execution_count": 1,
   "metadata": {},
   "outputs": [
    {
     "name": "stderr",
     "output_type": "stream",
     "text": [
      "Using TensorFlow backend.\n"
     ]
    }
   ],
   "source": [
    "from source.regency import Regency\n",
    "from source.run import rungame\n",
    "from source.mapping import Mapping\n",
    "from source.DQNAgent import DQNAgent\n",
    "from IPython.display import clear_output\n",
    "import pandas as pd\n",
    "import warnings\n",
    "warnings.filterwarnings('ignore')"
   ]
  },
  {
   "cell_type": "code",
   "execution_count": 2,
   "metadata": {},
   "outputs": [],
   "source": [
    "%matplotlib notebook"
   ]
  },
  {
   "cell_type": "code",
   "execution_count": 3,
   "metadata": {
    "scrolled": false
   },
   "outputs": [
    {
     "name": "stdout",
     "output_type": "stream",
     "text": [
      "WARNING:tensorflow:From C:\\Users\\darin\\Anaconda3\\lib\\site-packages\\tensorflow\\python\\framework\\op_def_library.py:263: colocate_with (from tensorflow.python.framework.ops) is deprecated and will be removed in a future version.\n",
      "Instructions for updating:\n",
      "Colocations handled automatically by placer.\n",
      "WARNING:tensorflow:From C:\\Users\\darin\\Anaconda3\\lib\\site-packages\\keras\\backend\\tensorflow_backend.py:3445: calling dropout (from tensorflow.python.ops.nn_ops) with keep_prob is deprecated and will be removed in a future version.\n",
      "Instructions for updating:\n",
      "Please use `rate` instead of `keep_prob`. Rate should be set to `rate = 1 - keep_prob`.\n"
     ]
    }
   ],
   "source": [
    "X = 5\n",
    "my_game = rungame('TestGame', train=True, GameLength=X, IntDC = 15)\n",
    "Game = my_game.Game\n"
   ]
  },
  {
   "cell_type": "code",
   "execution_count": 6,
   "metadata": {
    "scrolled": false
   },
   "outputs": [
    {
     "name": "stdout",
     "output_type": "stream",
     "text": [
      "Time to Finish the Rounditiative  1\n",
      "error 76 ADAction 2 - Initiative 20\n",
      "error 76 AD\n",
      "error 76 AD\n",
      "error 76 AD\n",
      "error 76 MOCction 2 - Initiative 19\n",
      "error 76 MOC\n",
      "error 76 MOC\n",
      "error 76 MOC\n",
      "error 76 MOC\n",
      "error 76 ECAction 2 - Initiative 17\n",
      "error 76 FSAction 2 - Initiative 15\n",
      "error 76 FS\n",
      "error 76 MhAction 2 - Initiative 13\n",
      "error 76 Mh\n",
      "error 76 GKAction 2 - Initiative 12\n",
      "error 76 GK\n",
      "error 76 Fh\n",
      "error 76 HTCction 2 - Initiative 11\n",
      "error 76 TOF\n",
      "error 76 EMAction 2 - Initiative 10\n",
      "error 76 WMAction 2 - Initiative  6\n",
      "error 76 WM\n",
      "error 76 LPAction 2 - Initiative  5\n",
      "error 76 LPA\n",
      "error 76 LPA\n",
      "Time to Finish the Rounditiative  1\n",
      "error 76 GoAction 3 - Initiative 27\n",
      "error 76 Go\n",
      "error 76 Go\n",
      "error 76 DAAction 3 - Initiative 24\n",
      "error 76 DA\n",
      "error 76 GGAction 3 - Initiative 21\n",
      "error 76 IsAction 3 - Initiative 20\n",
      "error 76 Is\n",
      "error 76 IHHction 3 - Initiative 19\n",
      "error 76 IHH\n",
      "error 76 CSHction 3 - Initiative 18\n",
      "error 76 CSH\n",
      "error 76 CSH\n",
      "error 76 CA\n",
      "error 76 CDAction 3 - Initiative 14\n",
      "error 76 TOFction 3 - Initiative 11\n",
      "Time to Finish the Rounditiative  1\n"
     ]
    },
    {
     "data": {
      "text/html": [
       "<div>\n",
       "<style scoped>\n",
       "    .dataframe tbody tr th:only-of-type {\n",
       "        vertical-align: middle;\n",
       "    }\n",
       "\n",
       "    .dataframe tbody tr th {\n",
       "        vertical-align: top;\n",
       "    }\n",
       "\n",
       "    .dataframe thead th {\n",
       "        text-align: right;\n",
       "    }\n",
       "</style>\n",
       "<table border=\"1\" class=\"dataframe\">\n",
       "  <thead>\n",
       "    <tr style=\"text-align: right;\">\n",
       "      <th></th>\n",
       "      <th>Year</th>\n",
       "      <th>Location</th>\n",
       "      <th>Event</th>\n",
       "      <th>Notes</th>\n",
       "    </tr>\n",
       "  </thead>\n",
       "  <tbody>\n",
       "  </tbody>\n",
       "</table>\n",
       "</div>"
      ],
      "text/plain": [
       "Empty DataFrame\n",
       "Columns: [Year, Location, Event, Notes]\n",
       "Index: []"
      ]
     },
     "execution_count": 6,
     "metadata": {},
     "output_type": "execute_result"
    }
   ],
   "source": [
    "Game.random_events()\n",
    "Game.collect_regency_points()\n",
    "Game.domain_initiative()\n",
    "Game.collect_gold_bars()\n",
    "Game.maintenance_costs(Update=True)\n",
    "Game.take_domain_actions()\n",
    "Game.take_domain_actions()\n",
    "Game.take_domain_actions()\n",
    "Game.War"
   ]
  },
  {
   "cell_type": "code",
   "execution_count": 5,
   "metadata": {},
   "outputs": [
    {
     "ename": "IndexError",
     "evalue": "index -1 is out of bounds for axis 0 with size 0",
     "output_type": "error",
     "traceback": [
      "\u001b[1;31m---------------------------------------------------------------------------\u001b[0m",
      "\u001b[1;31mIndexError\u001b[0m                                Traceback (most recent call last)",
      "\u001b[1;32m<ipython-input-5-210dba220bea>\u001b[0m in \u001b[0;36m<module>\u001b[1;34m\u001b[0m\n\u001b[1;32m----> 1\u001b[1;33m \u001b[0mprint\u001b[0m\u001b[1;33m(\u001b[0m\u001b[0mGame\u001b[0m\u001b[1;33m.\u001b[0m\u001b[0mWar\u001b[0m\u001b[1;33m[\u001b[0m\u001b[1;34m'Notes'\u001b[0m\u001b[1;33m]\u001b[0m\u001b[1;33m.\u001b[0m\u001b[0mvalues\u001b[0m\u001b[1;33m[\u001b[0m\u001b[1;33m-\u001b[0m\u001b[1;36m1\u001b[0m\u001b[1;33m]\u001b[0m\u001b[1;33m)\u001b[0m\u001b[1;33m\u001b[0m\u001b[1;33m\u001b[0m\u001b[0m\n\u001b[0m",
      "\u001b[1;31mIndexError\u001b[0m: index -1 is out of bounds for axis 0 with size 0"
     ]
    }
   ],
   "source": [
    "print(Game.War['Notes'].values[-1])"
   ]
  },
  {
   "cell_type": "code",
   "execution_count": null,
   "metadata": {},
   "outputs": [],
   "source": [
    "import numpy as np\n",
    "import pandas as pd\n",
    "self = Game\n",
    "\n",
    "Regent, decision, actor, Type, state, capital, high_pop, low_pop, friend, enemy, rando, enemy_capital = Game.errors[0]"
   ]
  },
  {
   "cell_type": "code",
   "execution_count": null,
   "metadata": {},
   "outputs": [],
   "source": [
    "np.argmax(decision)"
   ]
  },
  {
   "cell_type": "code",
   "execution_count": null,
   "metadata": {},
   "outputs": [],
   "source": [
    "temp = self.Provinces[self.Provinces['Regent']=='']\n",
    "temp = pd.merge(temp, self.Geography, on='Province', how='left')\n",
    "temp['Province'] = temp['Neighbor']\n",
    "temp = pd.concat([pd.merge(temp[['Province']], self.Provinces[self.Provinces['Regent']==Regent][['Province']], on='Province', how='left')\n",
    "                   , pd.merge(temp[['Province']], Game.Holdings[Game.Holdings['Regent']==Regent][['Province']], on='Province', how='left')])\n",
    "temp = temp.dropna()  \n",
    "temp['roll'] = np.random.randint(1,temp.shape[0]+2, temp.shape[0])\n",
    "temp = temp.sort_values('roll')\n",
    "Target = temp['Province'].values[0]\n",
    "\n",
    "stuff = list(temp['Province'])"
   ]
  },
  {
   "cell_type": "code",
   "execution_count": null,
   "metadata": {},
   "outputs": [],
   "source": [
    "n = -1"
   ]
  },
  {
   "cell_type": "code",
   "execution_count": null,
   "metadata": {},
   "outputs": [],
   "source": [
    "for n in range(len(stuff)):\n",
    "    Target = stuff[n]\n",
    "\n",
    "    temp = self.Troops[self.Troops['Regent']==Regent]\n",
    "    number = int(temp.shape[0]/4)\n",
    "    if number < 1:\n",
    "        number = 1\n",
    "    troops = list(temp['Type'])[:number]\n",
    "    provinces = list(temp['Province'])[:number]\n",
    "    success, reward, message = self.bonus_action_move_troops(Regent, troops, provinces, Target)\n",
    "    success, message"
   ]
  },
  {
   "cell_type": "code",
   "execution_count": null,
   "metadata": {},
   "outputs": [],
   "source": [
    "len(stuff)"
   ]
  },
  {
   "cell_type": "code",
   "execution_count": null,
   "metadata": {},
   "outputs": [],
   "source": [
    "n"
   ]
  },
  {
   "cell_type": "code",
   "execution_count": null,
   "metadata": {},
   "outputs": [],
   "source": [
    "Game.Geography[Game.Geography['Province'].str.contains('Lar')]"
   ]
  },
  {
   "cell_type": "code",
   "execution_count": null,
   "metadata": {},
   "outputs": [],
   "source": []
  }
 ],
 "metadata": {
  "kernelspec": {
   "display_name": "Python 3",
   "language": "python",
   "name": "python3"
  },
  "language_info": {
   "codemirror_mode": {
    "name": "ipython",
    "version": 3
   },
   "file_extension": ".py",
   "mimetype": "text/x-python",
   "name": "python",
   "nbconvert_exporter": "python",
   "pygments_lexer": "ipython3",
   "version": "3.7.3"
  }
 },
 "nbformat": 4,
 "nbformat_minor": 2
}
