{
 "cells": [
  {
   "cell_type": "code",
   "execution_count": 1,
   "metadata": {
    "scrolled": true
   },
   "outputs": [
    {
     "name": "stderr",
     "output_type": "stream",
     "text": [
      "Using TensorFlow backend.\n"
     ]
    }
   ],
   "source": [
    "from source.regency import Regency\n",
    "from source.run import rungame\n",
    "from source.mapping import Mapping\n",
    "from source.DQNAgent import DQNAgent\n",
    "from IPython.display import clear_output\n",
    "import pandas as pd\n",
    "import warnings\n",
    "warnings.filterwarnings('ignore')"
   ]
  },
  {
   "cell_type": "code",
   "execution_count": 2,
   "metadata": {
    "scrolled": false
   },
   "outputs": [
    {
     "name": "stdout",
     "output_type": "stream",
     "text": [
      "WARNING:tensorflow:From C:\\ProgramData\\Anaconda3\\lib\\site-packages\\tensorflow\\python\\framework\\op_def_library.py:263: colocate_with (from tensorflow.python.framework.ops) is deprecated and will be removed in a future version.\n",
      "Instructions for updating:\n",
      "Colocations handled automatically by placer.\n",
      "WARNING:tensorflow:From C:\\ProgramData\\Anaconda3\\lib\\site-packages\\keras\\backend\\tensorflow_backend.py:3445: calling dropout (from tensorflow.python.ops.nn_ops) with keep_prob is deprecated and will be removed in a future version.\n",
      "Instructions for updating:\n",
      "Please use `rate` instead of `keep_prob`. Rate should be set to `rate = 1 - keep_prob`.\n",
      "WARNING:tensorflow:From C:\\ProgramData\\Anaconda3\\lib\\site-packages\\tensorflow\\python\\ops\\math_ops.py:3066: to_int32 (from tensorflow.python.ops.math_ops) is deprecated and will be removed in a future version.\n",
      "Instructions for updating:\n",
      "Use tf.cast instead.\n",
      "Continuing Game TestGame at Season 0 Action 2\n"
     ]
    }
   ],
   "source": [
    "X = 5\n",
    "my_game = rungame('TestGame', train=True, GameLength=X, IntDC = 15)\n",
    "Game = my_game.Game\n",
    "Game.change_regent('Is', Player=True)\n",
    "Game.LeyLines = Game.LeyLines.append(pd.DataFrame([['Is', 'Ywrndor', 'Llewhoellen']], columns=['Regent', 'Province', 'Other']))"
   ]
  },
  {
   "cell_type": "code",
   "execution_count": null,
   "metadata": {},
   "outputs": [],
   "source": []
  },
  {
   "cell_type": "code",
   "execution_count": null,
   "metadata": {
    "scrolled": false
   },
   "outputs": [
    {
     "name": "stdout",
     "output_type": "stream",
     "text": [
      "Season 0 - Action 2 - Initiative 28\r",
      "Season 0 - Action 2 - Initiative 27\r",
      "Season 0 - Action 2 - Initiative 26\r",
      "Season 0 - Action 2 - Initiative 25\r",
      "Season 0 - Action 2 - Initiative 24\r",
      "Season 0 - Action 2 - Initiative 23\r",
      "Season 0 - Action 2 - Initiative 22\r",
      "Season 0 - Action 2 - Initiative 21\r",
      "Season 0 - Action 2 - Initiative 20\r",
      "Season 0 - Action 2 - Initiative 19\r",
      "Season 0 - Action 2 - Initiative 18\r",
      "Season 0 - Action 2 - Initiative 17\r",
      "Season 0 - Action 2 - Initiative 16\r",
      "Season 0 - Action 2 - Initiative 15\r",
      "Season 0 - Action 2 - Initiative 14\r",
      "Season 0 - Action 2 - Initiative 13\r"
     ]
    }
   ],
   "source": [
    "Game.random_events()\n",
    "Game.collect_regency_points()\n",
    "Game.domain_initiative()\n",
    "Game.collect_gold_bars()\n",
    "Game.maintenance_costs(Update=True)\n",
    "Game.take_domain_actions()\n",
    "Game.take_domain_actions()\n",
    "Game.take_domain_actions()\n",
    "Game.LeyLines = Game.LeyLines.append(pd.DataFrame([['Is','Ywrndor', 'Iseare']]))"
   ]
  },
  {
   "cell_type": "code",
   "execution_count": null,
   "metadata": {},
   "outputs": [],
   "source": [
    "forge"
   ]
  },
  {
   "cell_type": "code",
   "execution_count": null,
   "metadata": {},
   "outputs": [],
   "source": [
    "import numpy as np\n",
    "import pandas as pd\n",
    "self = Game\n",
    "\n",
    "Regent, decision, actor, Type, state, capital, high_pop, low_pop, friend, enemy, rando, enemy_capital = Game.errors[2]"
   ]
  },
  {
   "cell_type": "code",
   "execution_count": null,
   "metadata": {},
   "outputs": [],
   "source": [
    "Game.Provinces"
   ]
  },
  {
   "cell_type": "code",
   "execution_count": null,
   "metadata": {},
   "outputs": [],
   "source": [
    "Game.LeyLines"
   ]
  },
  {
   "cell_type": "code",
   "execution_count": null,
   "metadata": {},
   "outputs": [],
   "source": [
    "Game.Regents[Game.Regents['Regent']=='Is']"
   ]
  },
  {
   "cell_type": "code",
   "execution_count": null,
   "metadata": {},
   "outputs": [],
   "source": [
    "self = Game\n",
    "Regent = 'Is'\n",
    "temp = self.Regents[self.Regents['Regent']==Regent]"
   ]
  },
  {
   "cell_type": "code",
   "execution_count": null,
   "metadata": {},
   "outputs": [],
   "source": [
    "base = 10\n",
    "self = Game\n",
    "Regent = 'WM'\n",
    "Target = 'JR'\n",
    "hostile = False\n",
    "\n",
    "rbid = 0\n",
    "gbid = 0\n",
    "base = int(base)\n",
    "temp = pd.concat([self.Regents[self.Regents['Regent']==a] for a in [Regent, Target]], sort=False)\n",
    "temp = pd.merge(temp, pd.concat([self.Relationships[self.Relationships['Other']==a] for a in [Regent, Target]], sort=False), on='Regent', how='left').fillna(0)\n",
    "mult = -1*hostile + 1-hostile\n",
    "\n"
   ]
  },
  {
   "cell_type": "code",
   "execution_count": null,
   "metadata": {},
   "outputs": [],
   "source": [
    "mult"
   ]
  },
  {
   "cell_type": "code",
   "execution_count": null,
   "metadata": {},
   "outputs": [],
   "source": [
    "self = Game\n",
    "Regent = 'DA'\n",
    "self.Troops[self.Troops['Regent']==Regent][['Province','Type']].groupby('Province').count().reset_index()"
   ]
  },
  {
   "cell_type": "code",
   "execution_count": null,
   "metadata": {},
   "outputs": [],
   "source": [
    "Regent = 'Is'\n",
    "friend = 'GG'\n",
    "temp =  Game.Regents\n",
    "temp[temp['Regent'] == friend]['Regency Points'].values[0] > temp[temp['Regent'] == Regent]['Regency Points'].values[0]\n"
   ]
  },
  {
   "cell_type": "code",
   "execution_count": null,
   "metadata": {},
   "outputs": [],
   "source": [
    "self = Game\n",
    "Regent = 'Is'\n",
    "\n",
    "temp = pd.merge(self.Provinces[self.Provinces['Regent']==''], self.Troops[self.Troops['Regent']==Regent][['Province','Type']].groupby('Province').count().reset_index(), on='Province', how='left').fillna(0)\n",
    "temp = temp[temp['Type']>0]\n",
    "temp"
   ]
  },
  {
   "cell_type": "code",
   "execution_count": null,
   "metadata": {},
   "outputs": [],
   "source": [
    "lst = [('a',1), ('a',2), ('b',1), ('a',2)]\n",
    "\n",
    "list(set(lst))"
   ]
  },
  {
   "cell_type": "code",
   "execution_count": null,
   "metadata": {},
   "outputs": [],
   "source": [
    "Game.Relationships"
   ]
  },
  {
   "cell_type": "code",
   "execution_count": null,
   "metadata": {},
   "outputs": [],
   "source": []
  }
 ],
 "metadata": {
  "kernelspec": {
   "display_name": "Python 3",
   "language": "python",
   "name": "python3"
  },
  "language_info": {
   "codemirror_mode": {
    "name": "ipython",
    "version": 3
   },
   "file_extension": ".py",
   "mimetype": "text/x-python",
   "name": "python",
   "nbconvert_exporter": "python",
   "pygments_lexer": "ipython3",
   "version": "3.7.3"
  }
 },
 "nbformat": 4,
 "nbformat_minor": 2
}
