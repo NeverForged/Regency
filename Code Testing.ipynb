{
 "cells": [
  {
   "cell_type": "code",
   "execution_count": 1,
   "metadata": {
    "scrolled": true
   },
   "outputs": [
    {
     "name": "stderr",
     "output_type": "stream",
     "text": [
      "Using TensorFlow backend.\n"
     ]
    }
   ],
   "source": [
    "from source.regency import Regency\n",
    "from source.mapping import Mapping\n",
    "from source.DQNAgent import DQNAgent\n",
    "from IPython.display import clear_output\n",
    "import pandas as pd\n",
    "import warnings\n",
    "warnings.filterwarnings('ignore')"
   ]
  },
  {
   "cell_type": "code",
   "execution_count": 2,
   "metadata": {},
   "outputs": [],
   "source": [
    "%matplotlib notebook"
   ]
  },
  {
   "cell_type": "code",
   "execution_count": 3,
   "metadata": {},
   "outputs": [],
   "source": [
    "Game = Regency(True)\n",
    "clear_output()\n"
   ]
  },
  {
   "cell_type": "code",
   "execution_count": null,
   "metadata": {},
   "outputs": [
    {
     "name": "stdout",
     "output_type": "stream",
     "text": [
      "WARNING:tensorflow:From C:\\ProgramData\\Anaconda3\\lib\\site-packages\\tensorflow\\python\\ops\\math_ops.py:3066: to_int32 (from tensorflow.python.ops.math_ops) is deprecated and will be removed in a future version.\n",
      "Instructions for updating:\n",
      "Use tf.cast instead.\n"
     ]
    }
   ],
   "source": [
    "Game.random_events()\n",
    "Game.collect_regency_points()\n",
    "Game.domain_initiative()\n",
    "Game.collect_gold_bars()\n",
    "Game.maintenance_costs(Update=True)"
   ]
  },
  {
   "cell_type": "code",
   "execution_count": null,
   "metadata": {
    "scrolled": false
   },
   "outputs": [
    {
     "name": "stdout",
     "output_type": "stream",
     "text": [
      "garrison Is 1 0 0 1 - Initiative 21\n",
      "garrison Is 1 0 0\n",
      "garrison Is 1 0 0\n",
      "garrison Is 1 0 0\n",
      "garrison Is 1 0 0\n",
      "garrison Is 1 0 0\n",
      "garrison Is 1 0 0\n",
      "garrison Is 1 0 0\n",
      "garrison Is 1 0 0\n",
      "garrison Is 1 0 0\n",
      "garrison Sw2 0 0 01 - Initiative 18\n",
      "garrison Sw2 0 0 0\n",
      "garrison Sw2 0 0 0\n",
      "garrison Sw2 0 0 0\n",
      "garrison Sw2 0 0 0\n",
      "garrison Sw2 0 0 0\n",
      "garrison Sw2 0 0 0\n",
      "garrison Sw2 0 0 0\n",
      "garrison Sw2 0 0 0\n",
      "garrison CoL 1 0 0\n",
      "garrison CoL 1 0 0\n",
      "garrison CoL 1 0 0\n",
      "garrison CoL 1 0 0\n"
     ]
    }
   ],
   "source": [
    "Game.change_provence(\"Bran's Retreat\", Castle=3, Castle_Name='Fragglerock')\n",
    "Game.set_override('GG', 72, bonus=True, capital=\"Bran's Retreat\")\n",
    "Game.set_override('GG', 72)\n",
    "Game.take_domain_actions()\n"
   ]
  },
  {
   "cell_type": "code",
   "execution_count": null,
   "metadata": {},
   "outputs": [],
   "source": [
    "Game.Troops"
   ]
  },
  {
   "cell_type": "code",
   "execution_count": null,
   "metadata": {},
   "outputs": [],
   "source": [
    "import pandas as pd\n",
    "df = pd.concat([Game.Seasons[0]['Actions'][a] for a in Game.Seasons[0]['Actions'].keys()])\n",
    "\n",
    "df[df['Regent']=='GG']['Message'].values"
   ]
  },
  {
   "cell_type": "code",
   "execution_count": null,
   "metadata": {},
   "outputs": [],
   "source": []
  }
 ],
 "metadata": {
  "kernelspec": {
   "display_name": "Python 3",
   "language": "python",
   "name": "python3"
  },
  "language_info": {
   "codemirror_mode": {
    "name": "ipython",
    "version": 3
   },
   "file_extension": ".py",
   "mimetype": "text/x-python",
   "name": "python",
   "nbconvert_exporter": "python",
   "pygments_lexer": "ipython3",
   "version": "3.7.3"
  }
 },
 "nbformat": 4,
 "nbformat_minor": 2
}
