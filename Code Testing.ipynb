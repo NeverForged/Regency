{
 "cells": [
  {
   "cell_type": "code",
   "execution_count": 1,
   "metadata": {
    "scrolled": false
   },
   "outputs": [
    {
     "name": "stderr",
     "output_type": "stream",
     "text": [
      "Using TensorFlow backend.\n"
     ]
    }
   ],
   "source": [
    "from source.regency import Regency\n",
    "from source.mapping import Mapping\n",
    "from source.DQNAgent import DQNAgent\n",
    "from IPython.display import clear_output\n",
    "import pandas as pd\n",
    "import warnings\n",
    "warnings.filterwarnings('ignore')\n",
    "\n",
    "\n",
    "\n",
    "\n",
    "\n"
   ]
  },
  {
   "cell_type": "code",
   "execution_count": 2,
   "metadata": {},
   "outputs": [],
   "source": [
    "%matplotlib notebook"
   ]
  },
  {
   "cell_type": "code",
   "execution_count": 3,
   "metadata": {},
   "outputs": [
    {
     "name": "stdout",
     "output_type": "stream",
     "text": [
      "WARNING:tensorflow:From C:\\Users\\darin\\Anaconda3\\lib\\site-packages\\tensorflow\\python\\ops\\math_ops.py:3066: to_int32 (from tensorflow.python.ops.math_ops) is deprecated and will be removed in a future version.\n",
      "Instructions for updating:\n",
      "Use tf.cast instead.\n"
     ]
    }
   ],
   "source": [
    "seasons = 1\n",
    "Game = Regency(True)\n",
    "clear_output()\n",
    "Game.add_relationship('Go','Fh',At_War=1)\n",
    "\n",
    "for a in range(seasons):\n",
    "    Game.random_events()\n",
    "    Game.collect_regency_points()\n",
    "    Game.domain_initiative()\n",
    "    Game.collect_gold_bars()\n",
    "    Game.maintenance_costs(Update=True)"
   ]
  },
  {
   "cell_type": "code",
   "execution_count": 4,
   "metadata": {},
   "outputs": [
    {
     "data": {
      "text/html": [
       "<div>\n",
       "<style scoped>\n",
       "    .dataframe tbody tr th:only-of-type {\n",
       "        vertical-align: middle;\n",
       "    }\n",
       "\n",
       "    .dataframe tbody tr th {\n",
       "        vertical-align: top;\n",
       "    }\n",
       "\n",
       "    .dataframe thead th {\n",
       "        text-align: right;\n",
       "    }\n",
       "</style>\n",
       "<table border=\"1\" class=\"dataframe\">\n",
       "  <thead>\n",
       "    <tr style=\"text-align: right;\">\n",
       "      <th></th>\n",
       "      <th>Regent</th>\n",
       "      <th>Provence</th>\n",
       "      <th>Type</th>\n",
       "      <th>Cost</th>\n",
       "      <th>CR</th>\n",
       "      <th>Garrisoned</th>\n",
       "      <th>Home</th>\n",
       "      <th>Injury</th>\n",
       "    </tr>\n",
       "  </thead>\n",
       "  <tbody>\n",
       "    <tr>\n",
       "      <th>0</th>\n",
       "      <td>GG</td>\n",
       "      <td>Rivenrock</td>\n",
       "      <td>Dwarf Guards</td>\n",
       "      <td>2</td>\n",
       "      <td>2.0</td>\n",
       "      <td>0</td>\n",
       "      <td></td>\n",
       "      <td>0</td>\n",
       "    </tr>\n",
       "    <tr>\n",
       "      <th>1</th>\n",
       "      <td>GG</td>\n",
       "      <td>Rivenrock</td>\n",
       "      <td>Dwarf Crossbows</td>\n",
       "      <td>2</td>\n",
       "      <td>2.0</td>\n",
       "      <td>0</td>\n",
       "      <td></td>\n",
       "      <td>0</td>\n",
       "    </tr>\n",
       "    <tr>\n",
       "      <th>2</th>\n",
       "      <td>GG</td>\n",
       "      <td>Rivenrock</td>\n",
       "      <td>Dwarf Guards</td>\n",
       "      <td>2</td>\n",
       "      <td>2.0</td>\n",
       "      <td>0</td>\n",
       "      <td></td>\n",
       "      <td>0</td>\n",
       "    </tr>\n",
       "    <tr>\n",
       "      <th>3</th>\n",
       "      <td>GG</td>\n",
       "      <td>Rivenrock</td>\n",
       "      <td>Dwarf Crossbows</td>\n",
       "      <td>2</td>\n",
       "      <td>2.0</td>\n",
       "      <td>0</td>\n",
       "      <td></td>\n",
       "      <td>0</td>\n",
       "    </tr>\n",
       "    <tr>\n",
       "      <th>4</th>\n",
       "      <td>GG</td>\n",
       "      <td>Rivenrock</td>\n",
       "      <td>Dwarf Guards</td>\n",
       "      <td>2</td>\n",
       "      <td>2.0</td>\n",
       "      <td>0</td>\n",
       "      <td></td>\n",
       "      <td>0</td>\n",
       "    </tr>\n",
       "    <tr>\n",
       "      <th>5</th>\n",
       "      <td>GG</td>\n",
       "      <td>Rivenrock</td>\n",
       "      <td>Dwarf Crossbows</td>\n",
       "      <td>2</td>\n",
       "      <td>2.0</td>\n",
       "      <td>0</td>\n",
       "      <td></td>\n",
       "      <td>0</td>\n",
       "    </tr>\n",
       "    <tr>\n",
       "      <th>6</th>\n",
       "      <td>GG</td>\n",
       "      <td>Rivenrock</td>\n",
       "      <td>Dwarf Guards</td>\n",
       "      <td>2</td>\n",
       "      <td>2.0</td>\n",
       "      <td>0</td>\n",
       "      <td></td>\n",
       "      <td>0</td>\n",
       "    </tr>\n",
       "    <tr>\n",
       "      <th>7</th>\n",
       "      <td>GG</td>\n",
       "      <td>Rivenrock</td>\n",
       "      <td>Dwarf Crossbows</td>\n",
       "      <td>2</td>\n",
       "      <td>2.0</td>\n",
       "      <td>0</td>\n",
       "      <td></td>\n",
       "      <td>0</td>\n",
       "    </tr>\n",
       "  </tbody>\n",
       "</table>\n",
       "</div>"
      ],
      "text/plain": [
       "  Regent   Provence             Type Cost   CR Garrisoned Home Injury\n",
       "0     GG  Rivenrock     Dwarf Guards    2  2.0          0           0\n",
       "1     GG  Rivenrock  Dwarf Crossbows    2  2.0          0           0\n",
       "2     GG  Rivenrock     Dwarf Guards    2  2.0          0           0\n",
       "3     GG  Rivenrock  Dwarf Crossbows    2  2.0          0           0\n",
       "4     GG  Rivenrock     Dwarf Guards    2  2.0          0           0\n",
       "5     GG  Rivenrock  Dwarf Crossbows    2  2.0          0           0\n",
       "6     GG  Rivenrock     Dwarf Guards    2  2.0          0           0\n",
       "7     GG  Rivenrock  Dwarf Crossbows    2  2.0          0           0"
      ]
     },
     "execution_count": 4,
     "metadata": {},
     "output_type": "execute_result"
    }
   ],
   "source": [
    "Game.Troops"
   ]
  },
  {
   "cell_type": "code",
   "execution_count": 5,
   "metadata": {},
   "outputs": [
    {
     "name": "stdout",
     "output_type": "stream",
     "text": [
      "3 EC 0 0 - Action 1 - Initiative 20\n",
      "41 EC 0 1 0 1\n",
      "3 Ch 0\n",
      "41 TBM 0 1 0 0\n",
      "3 GG 1 0 - Action 1 - Initiative 10\n",
      "Time to Finish the Rounditiative  3\n",
      "0\n"
     ]
    }
   ],
   "source": [
    "Game.set_override('GG', 3, capital='Rivenrock')\n",
    "Game.take_domain_actions()"
   ]
  },
  {
   "cell_type": "code",
   "execution_count": 6,
   "metadata": {},
   "outputs": [
    {
     "name": "stdout",
     "output_type": "stream",
     "text": [
      "3 WM 0 0 - Action 2 - Initiative 21\n",
      "41 WM 0 1 0 0\n",
      "3 WM 0\n",
      "3 JR 0 0 - Action 2 - Initiative 10\n",
      "41 JR 0 1 0 1\n",
      "3 GG 1\n",
      "3 Is 1 0 - Action 2 - Initiative  8\n",
      "Time to Finish the Rounditiative  3\n",
      "1\n"
     ]
    }
   ],
   "source": [
    "Game.set_override('GG', 3, capital='Rivenrock')\n",
    "Game.take_domain_actions()"
   ]
  },
  {
   "cell_type": "code",
   "execution_count": 7,
   "metadata": {},
   "outputs": [
    {
     "name": "stdout",
     "output_type": "stream",
     "text": [
      "41 EC 0 1 0 1tion 3 - Initiative 20\n",
      "3 GG 1 0 - Action 3 - Initiative 10\n",
      "3 Is 1 0 - Action 3 - Initiative  8\n",
      "Time to Finish the Rounditiative  3\n",
      "2\n",
      "Empty DataFrame\n",
      "Columns: [Regent, Project Type, Details, Gold Bars Left]\n",
      "Index: []\n",
      "Empty DataFrame\n",
      "Columns: [Regent, Project Type, Details, Gold Bars Left]\n",
      "Index: []\n"
     ]
    }
   ],
   "source": [
    "Game.set_override('GG', 3, capital='Rivenrock')\n",
    "Game.take_domain_actions()"
   ]
  },
  {
   "cell_type": "code",
   "execution_count": 8,
   "metadata": {},
   "outputs": [],
   "source": [
    "for i in range(Game.War.shape[0]):\n",
    "    print('-'*20)\n",
    "    print(Game.War['Year'].values[i])\n",
    "    print()\n",
    "    print(Game.War['Notes'].values[i])\n",
    "    "
   ]
  },
  {
   "cell_type": "code",
   "execution_count": 9,
   "metadata": {},
   "outputs": [
    {
     "data": {
      "text/html": [
       "<div>\n",
       "<style scoped>\n",
       "    .dataframe tbody tr th:only-of-type {\n",
       "        vertical-align: middle;\n",
       "    }\n",
       "\n",
       "    .dataframe tbody tr th {\n",
       "        vertical-align: top;\n",
       "    }\n",
       "\n",
       "    .dataframe thead th {\n",
       "        text-align: right;\n",
       "    }\n",
       "</style>\n",
       "<table border=\"1\" class=\"dataframe\">\n",
       "  <thead>\n",
       "    <tr style=\"text-align: right;\">\n",
       "      <th></th>\n",
       "      <th>Regent</th>\n",
       "      <th>Provence</th>\n",
       "      <th>Type</th>\n",
       "      <th>Cost</th>\n",
       "      <th>CR</th>\n",
       "      <th>Garrisoned</th>\n",
       "      <th>Home</th>\n",
       "      <th>Injury</th>\n",
       "    </tr>\n",
       "  </thead>\n",
       "  <tbody>\n",
       "    <tr>\n",
       "      <th>2</th>\n",
       "      <td>GG</td>\n",
       "      <td>Rivenrock</td>\n",
       "      <td>Dwarf Crossbows</td>\n",
       "      <td>2</td>\n",
       "      <td>2.0</td>\n",
       "      <td>0</td>\n",
       "      <td></td>\n",
       "      <td>0</td>\n",
       "    </tr>\n",
       "    <tr>\n",
       "      <th>3</th>\n",
       "      <td>GG</td>\n",
       "      <td>Rivenrock</td>\n",
       "      <td>Dwarf Guards</td>\n",
       "      <td>2</td>\n",
       "      <td>2.0</td>\n",
       "      <td>0</td>\n",
       "      <td></td>\n",
       "      <td>0</td>\n",
       "    </tr>\n",
       "    <tr>\n",
       "      <th>4</th>\n",
       "      <td>GG</td>\n",
       "      <td>Rivenrock</td>\n",
       "      <td>Dwarf Crossbows</td>\n",
       "      <td>2</td>\n",
       "      <td>2.0</td>\n",
       "      <td>0</td>\n",
       "      <td></td>\n",
       "      <td>0</td>\n",
       "    </tr>\n",
       "    <tr>\n",
       "      <th>5</th>\n",
       "      <td>GG</td>\n",
       "      <td>Rivenrock</td>\n",
       "      <td>Dwarf Guards</td>\n",
       "      <td>2</td>\n",
       "      <td>2.0</td>\n",
       "      <td>0</td>\n",
       "      <td></td>\n",
       "      <td>0</td>\n",
       "    </tr>\n",
       "    <tr>\n",
       "      <th>6</th>\n",
       "      <td>GG</td>\n",
       "      <td>Rivenrock</td>\n",
       "      <td>Dwarf Crossbows</td>\n",
       "      <td>2</td>\n",
       "      <td>2.0</td>\n",
       "      <td>0</td>\n",
       "      <td></td>\n",
       "      <td>0</td>\n",
       "    </tr>\n",
       "  </tbody>\n",
       "</table>\n",
       "</div>"
      ],
      "text/plain": [
       "  Regent   Provence             Type Cost   CR  Garrisoned Home Injury\n",
       "2     GG  Rivenrock  Dwarf Crossbows    2  2.0           0           0\n",
       "3     GG  Rivenrock     Dwarf Guards    2  2.0           0           0\n",
       "4     GG  Rivenrock  Dwarf Crossbows    2  2.0           0           0\n",
       "5     GG  Rivenrock     Dwarf Guards    2  2.0           0           0\n",
       "6     GG  Rivenrock  Dwarf Crossbows    2  2.0           0           0"
      ]
     },
     "execution_count": 9,
     "metadata": {},
     "output_type": "execute_result"
    }
   ],
   "source": [
    "Game.Troops"
   ]
  },
  {
   "cell_type": "code",
   "execution_count": 10,
   "metadata": {},
   "outputs": [
    {
     "data": {
      "text/html": [
       "<div>\n",
       "<style scoped>\n",
       "    .dataframe tbody tr th:only-of-type {\n",
       "        vertical-align: middle;\n",
       "    }\n",
       "\n",
       "    .dataframe tbody tr th {\n",
       "        vertical-align: top;\n",
       "    }\n",
       "\n",
       "    .dataframe thead th {\n",
       "        text-align: right;\n",
       "    }\n",
       "</style>\n",
       "<table border=\"1\" class=\"dataframe\">\n",
       "  <thead>\n",
       "    <tr style=\"text-align: right;\">\n",
       "      <th></th>\n",
       "      <th>Regent</th>\n",
       "      <th>Provence</th>\n",
       "      <th>Ship</th>\n",
       "      <th>Hull</th>\n",
       "      <th>Troop Capacity</th>\n",
       "      <th>Seaworthiness</th>\n",
       "      <th>Name</th>\n",
       "    </tr>\n",
       "  </thead>\n",
       "  <tbody>\n",
       "    <tr>\n",
       "      <th>0</th>\n",
       "      <td>JR</td>\n",
       "      <td>Gulfport</td>\n",
       "      <td>Galleon</td>\n",
       "      <td>4</td>\n",
       "      <td>3.0</td>\n",
       "      <td>15</td>\n",
       "      <td>The Golden Marlin</td>\n",
       "    </tr>\n",
       "    <tr>\n",
       "      <th>0</th>\n",
       "      <td>JR</td>\n",
       "      <td>Gulfport</td>\n",
       "      <td>Caravel</td>\n",
       "      <td>2</td>\n",
       "      <td>1.0</td>\n",
       "      <td>16</td>\n",
       "      <td>The Oceans' Flight</td>\n",
       "    </tr>\n",
       "    <tr>\n",
       "      <th>0</th>\n",
       "      <td>JR</td>\n",
       "      <td>Gulfport</td>\n",
       "      <td>Caravel</td>\n",
       "      <td>2</td>\n",
       "      <td>1.0</td>\n",
       "      <td>16</td>\n",
       "      <td>Sarimiere's Prize</td>\n",
       "    </tr>\n",
       "    <tr>\n",
       "      <th>0</th>\n",
       "      <td>EC</td>\n",
       "      <td>Ruorven</td>\n",
       "      <td>Caravel</td>\n",
       "      <td>2</td>\n",
       "      <td>1.0</td>\n",
       "      <td>16</td>\n",
       "      <td>Darkssails</td>\n",
       "    </tr>\n",
       "    <tr>\n",
       "      <th>0</th>\n",
       "      <td>JR</td>\n",
       "      <td>Gulfport</td>\n",
       "      <td>Coaster</td>\n",
       "      <td>1</td>\n",
       "      <td>0.5</td>\n",
       "      <td>15</td>\n",
       "      <td>Deismir's Flower</td>\n",
       "    </tr>\n",
       "    <tr>\n",
       "      <th>0</th>\n",
       "      <td>JR</td>\n",
       "      <td>Gulfport</td>\n",
       "      <td>Galleon</td>\n",
       "      <td>4</td>\n",
       "      <td>3.0</td>\n",
       "      <td>15</td>\n",
       "      <td>The Sailer's Eyes</td>\n",
       "    </tr>\n",
       "    <tr>\n",
       "      <th>0</th>\n",
       "      <td>JR</td>\n",
       "      <td>Gulfport</td>\n",
       "      <td>Caravel</td>\n",
       "      <td>2</td>\n",
       "      <td>1.0</td>\n",
       "      <td>16</td>\n",
       "      <td>The Lost Song</td>\n",
       "    </tr>\n",
       "    <tr>\n",
       "      <th>0</th>\n",
       "      <td>JR</td>\n",
       "      <td>Gulfport</td>\n",
       "      <td>Caravel</td>\n",
       "      <td>2</td>\n",
       "      <td>1.0</td>\n",
       "      <td>16</td>\n",
       "      <td>Whiteghost</td>\n",
       "    </tr>\n",
       "    <tr>\n",
       "      <th>0</th>\n",
       "      <td>EC</td>\n",
       "      <td>Ruorven</td>\n",
       "      <td>Caravel</td>\n",
       "      <td>2</td>\n",
       "      <td>1.0</td>\n",
       "      <td>16</td>\n",
       "      <td>Ruorven's Head</td>\n",
       "    </tr>\n",
       "    <tr>\n",
       "      <th>0</th>\n",
       "      <td>JR</td>\n",
       "      <td>Gulfport</td>\n",
       "      <td>Coaster</td>\n",
       "      <td>1</td>\n",
       "      <td>0.5</td>\n",
       "      <td>15</td>\n",
       "      <td>The Seasatisfaction</td>\n",
       "    </tr>\n",
       "    <tr>\n",
       "      <th>0</th>\n",
       "      <td>JR</td>\n",
       "      <td>Gulfport</td>\n",
       "      <td>Galleon</td>\n",
       "      <td>4</td>\n",
       "      <td>3.0</td>\n",
       "      <td>15</td>\n",
       "      <td>Blackblade</td>\n",
       "    </tr>\n",
       "    <tr>\n",
       "      <th>0</th>\n",
       "      <td>JR</td>\n",
       "      <td>Gulfport</td>\n",
       "      <td>Caravel</td>\n",
       "      <td>2</td>\n",
       "      <td>1.0</td>\n",
       "      <td>16</td>\n",
       "      <td>Deathscurse</td>\n",
       "    </tr>\n",
       "    <tr>\n",
       "      <th>0</th>\n",
       "      <td>JR</td>\n",
       "      <td>Gulfport</td>\n",
       "      <td>Caravel</td>\n",
       "      <td>2</td>\n",
       "      <td>1.0</td>\n",
       "      <td>16</td>\n",
       "      <td>The Sealove</td>\n",
       "    </tr>\n",
       "    <tr>\n",
       "      <th>0</th>\n",
       "      <td>EC</td>\n",
       "      <td>Ruorven</td>\n",
       "      <td>Caravel</td>\n",
       "      <td>2</td>\n",
       "      <td>1.0</td>\n",
       "      <td>16</td>\n",
       "      <td>The Ruddy Gull</td>\n",
       "    </tr>\n",
       "  </tbody>\n",
       "</table>\n",
       "</div>"
      ],
      "text/plain": [
       "  Regent  Provence     Ship Hull  Troop Capacity Seaworthiness  \\\n",
       "0     JR  Gulfport  Galleon    4             3.0            15   \n",
       "0     JR  Gulfport  Caravel    2             1.0            16   \n",
       "0     JR  Gulfport  Caravel    2             1.0            16   \n",
       "0     EC   Ruorven  Caravel    2             1.0            16   \n",
       "0     JR  Gulfport  Coaster    1             0.5            15   \n",
       "0     JR  Gulfport  Galleon    4             3.0            15   \n",
       "0     JR  Gulfport  Caravel    2             1.0            16   \n",
       "0     JR  Gulfport  Caravel    2             1.0            16   \n",
       "0     EC   Ruorven  Caravel    2             1.0            16   \n",
       "0     JR  Gulfport  Coaster    1             0.5            15   \n",
       "0     JR  Gulfport  Galleon    4             3.0            15   \n",
       "0     JR  Gulfport  Caravel    2             1.0            16   \n",
       "0     JR  Gulfport  Caravel    2             1.0            16   \n",
       "0     EC   Ruorven  Caravel    2             1.0            16   \n",
       "\n",
       "                  Name  \n",
       "0    The Golden Marlin  \n",
       "0   The Oceans' Flight  \n",
       "0    Sarimiere's Prize  \n",
       "0           Darkssails  \n",
       "0     Deismir's Flower  \n",
       "0    The Sailer's Eyes  \n",
       "0        The Lost Song  \n",
       "0           Whiteghost  \n",
       "0       Ruorven's Head  \n",
       "0  The Seasatisfaction  \n",
       "0           Blackblade  \n",
       "0          Deathscurse  \n",
       "0          The Sealove  \n",
       "0       The Ruddy Gull  "
      ]
     },
     "execution_count": 10,
     "metadata": {},
     "output_type": "execute_result"
    }
   ],
   "source": [
    "Game.Navy"
   ]
  },
  {
   "cell_type": "code",
   "execution_count": 11,
   "metadata": {
    "scrolled": false
   },
   "outputs": [],
   "source": [
    "# maps = Mapping(Game)\n",
    "# maps.focus_regions(['The Eastern Marches'])\n",
    "# maps.show(show_abbreviations=True, show_troops=True, borders=True)"
   ]
  },
  {
   "cell_type": "code",
   "execution_count": 12,
   "metadata": {},
   "outputs": [
    {
     "data": {
      "text/html": [
       "<div>\n",
       "<style scoped>\n",
       "    .dataframe tbody tr th:only-of-type {\n",
       "        vertical-align: middle;\n",
       "    }\n",
       "\n",
       "    .dataframe tbody tr th {\n",
       "        vertical-align: top;\n",
       "    }\n",
       "\n",
       "    .dataframe thead th {\n",
       "        text-align: right;\n",
       "    }\n",
       "</style>\n",
       "<table border=\"1\" class=\"dataframe\">\n",
       "  <thead>\n",
       "    <tr style=\"text-align: right;\">\n",
       "      <th></th>\n",
       "      <th>Regent</th>\n",
       "      <th>Project Type</th>\n",
       "      <th>Details</th>\n",
       "      <th>Gold Bars Left</th>\n",
       "    </tr>\n",
       "  </thead>\n",
       "  <tbody>\n",
       "  </tbody>\n",
       "</table>\n",
       "</div>"
      ],
      "text/plain": [
       "Empty DataFrame\n",
       "Columns: [Regent, Project Type, Details, Gold Bars Left]\n",
       "Index: []"
      ]
     },
     "execution_count": 12,
     "metadata": {},
     "output_type": "execute_result"
    }
   ],
   "source": [
    "Game.Projects"
   ]
  },
  {
   "cell_type": "code",
   "execution_count": 13,
   "metadata": {
    "scrolled": true
   },
   "outputs": [
    {
     "data": {
      "text/html": [
       "<div>\n",
       "<style scoped>\n",
       "    .dataframe tbody tr th:only-of-type {\n",
       "        vertical-align: middle;\n",
       "    }\n",
       "\n",
       "    .dataframe tbody tr th {\n",
       "        vertical-align: top;\n",
       "    }\n",
       "\n",
       "    .dataframe thead th {\n",
       "        text-align: right;\n",
       "    }\n",
       "</style>\n",
       "<table border=\"1\" class=\"dataframe\">\n",
       "  <thead>\n",
       "    <tr style=\"text-align: right;\">\n",
       "      <th></th>\n",
       "      <th>Provence</th>\n",
       "      <th>Neighbor</th>\n",
       "      <th>Border</th>\n",
       "      <th>Road</th>\n",
       "      <th>Caravan</th>\n",
       "      <th>Shipping</th>\n",
       "      <th>RiverChasm</th>\n",
       "    </tr>\n",
       "  </thead>\n",
       "  <tbody>\n",
       "    <tr>\n",
       "      <th>67</th>\n",
       "      <td>Rivenrock</td>\n",
       "      <td>Bran's Retreat</td>\n",
       "      <td>1</td>\n",
       "      <td>0</td>\n",
       "      <td>0</td>\n",
       "      <td>0</td>\n",
       "      <td>0</td>\n",
       "    </tr>\n",
       "    <tr>\n",
       "      <th>70</th>\n",
       "      <td>Rivenrock</td>\n",
       "      <td>The Promontory</td>\n",
       "      <td>1</td>\n",
       "      <td>0</td>\n",
       "      <td>0</td>\n",
       "      <td>0</td>\n",
       "      <td>0</td>\n",
       "    </tr>\n",
       "    <tr>\n",
       "      <th>72</th>\n",
       "      <td>Rivenrock</td>\n",
       "      <td>Land's Victory</td>\n",
       "      <td>1</td>\n",
       "      <td>0</td>\n",
       "      <td>0</td>\n",
       "      <td>0</td>\n",
       "      <td>0</td>\n",
       "    </tr>\n",
       "    <tr>\n",
       "      <th>78</th>\n",
       "      <td>Rivenrock</td>\n",
       "      <td>Ruorven</td>\n",
       "      <td>0</td>\n",
       "      <td>0</td>\n",
       "      <td>1</td>\n",
       "      <td>0</td>\n",
       "      <td>0</td>\n",
       "    </tr>\n",
       "    <tr>\n",
       "      <th>80</th>\n",
       "      <td>Rivenrock</td>\n",
       "      <td>Fhylallien</td>\n",
       "      <td>0</td>\n",
       "      <td>0</td>\n",
       "      <td>1</td>\n",
       "      <td>0</td>\n",
       "      <td>0</td>\n",
       "    </tr>\n",
       "    <tr>\n",
       "      <th>125</th>\n",
       "      <td>Rivenrock</td>\n",
       "      <td>Cu Haellyrd</td>\n",
       "      <td>1</td>\n",
       "      <td>0</td>\n",
       "      <td>0</td>\n",
       "      <td>0</td>\n",
       "      <td>0</td>\n",
       "    </tr>\n",
       "    <tr>\n",
       "      <th>147</th>\n",
       "      <td>Rivenrock</td>\n",
       "      <td>Iseare</td>\n",
       "      <td>1</td>\n",
       "      <td>0</td>\n",
       "      <td>0</td>\n",
       "      <td>0</td>\n",
       "      <td>0</td>\n",
       "    </tr>\n",
       "  </tbody>\n",
       "</table>\n",
       "</div>"
      ],
      "text/plain": [
       "      Provence        Neighbor  Border  Road  Caravan  Shipping  RiverChasm\n",
       "67   Rivenrock  Bran's Retreat       1     0        0         0           0\n",
       "70   Rivenrock  The Promontory       1     0        0         0           0\n",
       "72   Rivenrock  Land's Victory       1     0        0         0           0\n",
       "78   Rivenrock         Ruorven       0     0        1         0           0\n",
       "80   Rivenrock      Fhylallien       0     0        1         0           0\n",
       "125  Rivenrock     Cu Haellyrd       1     0        0         0           0\n",
       "147  Rivenrock          Iseare       1     0        0         0           0"
      ]
     },
     "execution_count": 13,
     "metadata": {},
     "output_type": "execute_result"
    }
   ],
   "source": [
    "Game.Geography[Game.Geography['Provence']=='Rivenrock']"
   ]
  },
  {
   "cell_type": "code",
   "execution_count": 14,
   "metadata": {},
   "outputs": [
    {
     "data": {
      "text/html": [
       "<div>\n",
       "<style scoped>\n",
       "    .dataframe tbody tr th:only-of-type {\n",
       "        vertical-align: middle;\n",
       "    }\n",
       "\n",
       "    .dataframe tbody tr th {\n",
       "        vertical-align: top;\n",
       "    }\n",
       "\n",
       "    .dataframe thead th {\n",
       "        text-align: right;\n",
       "    }\n",
       "</style>\n",
       "<table border=\"1\" class=\"dataframe\">\n",
       "  <thead>\n",
       "    <tr style=\"text-align: right;\">\n",
       "      <th></th>\n",
       "      <th>Provence</th>\n",
       "      <th>Neighbor</th>\n",
       "      <th>Border</th>\n",
       "      <th>Road</th>\n",
       "      <th>Caravan</th>\n",
       "      <th>Shipping</th>\n",
       "      <th>RiverChasm</th>\n",
       "    </tr>\n",
       "  </thead>\n",
       "  <tbody>\n",
       "  </tbody>\n",
       "</table>\n",
       "</div>"
      ],
      "text/plain": [
       "Empty DataFrame\n",
       "Columns: [Provence, Neighbor, Border, Road, Caravan, Shipping, RiverChasm]\n",
       "Index: []"
      ]
     },
     "execution_count": 14,
     "metadata": {},
     "output_type": "execute_result"
    }
   ],
   "source": [
    "Game.Geography[Game.Geography['Road']==1]"
   ]
  },
  {
   "cell_type": "code",
   "execution_count": 15,
   "metadata": {},
   "outputs": [
    {
     "name": "stdout",
     "output_type": "stream",
     "text": [
      "{'espionage_assassination', 'grant', 'investure_invest_friend', 'diplomacy_respond_to_brigandage', 'declare_war', 'diplomacy_trade_agreement', 'rule_high_pop', 'espionage_intrigue', 'diplomacy_form_alliance', 'adventuring', 'agitiate_for_friend', 'disband_army', 'realm_magic_alchemy', 'investure_divest_enemy', 'muster_levies', 'create_holding', 'diplomacy_troop_permission', 'contest_holding', 'realm_magic_demagogue_friend'}\n",
      "\n",
      "{'diplomacy_trade_agreement', 'diplomacy_troop_permission', 'contest_holding', 'diplomacy_form_alliance', 'disband_army', 'grant', 'investure_invest_friend', 'realm_magic_alchemy', 'declare_war', 'adventuring', 'muster_levies', 'create_holding', 'agitiate_for_friend'}\n"
     ]
    }
   ],
   "source": [
    "df = pd.concat([Game.Seasons[b]['Actions'][a+1] for a in range(3) for b in range(seasons)])\n",
    "print(set(df['Action']))\n",
    "print()\n",
    "print(set(df[df['Success?']==True]['Action']))\n",
    "#Game.War\n",
    "\n"
   ]
  },
  {
   "cell_type": "code",
   "execution_count": 16,
   "metadata": {
    "scrolled": true
   },
   "outputs": [
    {
     "data": {
      "text/plain": [
       "array([], dtype=object)"
      ]
     },
     "execution_count": 16,
     "metadata": {},
     "output_type": "execute_result"
    }
   ],
   "source": [
    "df[df['Action'].str.contains('decree')]['Message'].values"
   ]
  },
  {
   "cell_type": "code",
   "execution_count": 17,
   "metadata": {},
   "outputs": [
    {
     "data": {
      "text/plain": [
       "3"
      ]
     },
     "execution_count": 17,
     "metadata": {},
     "output_type": "execute_result"
    }
   ],
   "source": [
    "import numpy as np\n",
    "\n",
    "np.random.randint(1,6,1)[0]"
   ]
  },
  {
   "cell_type": "code",
   "execution_count": 18,
   "metadata": {},
   "outputs": [
    {
     "data": {
      "text/plain": [
       "array(['Overthane Grimm Graybeard disbanded a unit of Dwarf Guards stationed in Rivenrock',\n",
       "       'Overthane Grimm Graybeard disbanded a unit of Dwarf Crossbows stationed in Rivenrock',\n",
       "       'Emerald Queen Isaelie disbanded a unit of Levies stationed in Annydwr',\n",
       "       'Overthane Grimm Graybeard disbanded a unit of Dwarf Guards stationed in Rivenrock',\n",
       "       'Emerald Queen Isaelie disbanded a unit of Levies stationed in Annydwr'],\n",
       "      dtype=object)"
      ]
     },
     "execution_count": 18,
     "metadata": {},
     "output_type": "execute_result"
    }
   ],
   "source": [
    "df[df['Action'].str.contains('disband')]['Message'].values"
   ]
  },
  {
   "cell_type": "code",
   "execution_count": null,
   "metadata": {},
   "outputs": [],
   "source": []
  }
 ],
 "metadata": {
  "kernelspec": {
   "display_name": "Python 3",
   "language": "python",
   "name": "python3"
  },
  "language_info": {
   "codemirror_mode": {
    "name": "ipython",
    "version": 3
   },
   "file_extension": ".py",
   "mimetype": "text/x-python",
   "name": "python",
   "nbconvert_exporter": "python",
   "pygments_lexer": "ipython3",
   "version": "3.7.3"
  }
 },
 "nbformat": 4,
 "nbformat_minor": 2
}
