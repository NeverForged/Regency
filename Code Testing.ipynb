{
 "cells": [
  {
   "cell_type": "code",
   "execution_count": 1,
   "metadata": {
    "scrolled": false
   },
   "outputs": [
    {
     "data": {
      "text/html": [
       "<div>\n",
       "<style scoped>\n",
       "    .dataframe tbody tr th:only-of-type {\n",
       "        vertical-align: middle;\n",
       "    }\n",
       "\n",
       "    .dataframe tbody tr th {\n",
       "        vertical-align: top;\n",
       "    }\n",
       "\n",
       "    .dataframe thead th {\n",
       "        text-align: right;\n",
       "    }\n",
       "</style>\n",
       "<table border=\"1\" class=\"dataframe\">\n",
       "  <thead>\n",
       "    <tr style=\"text-align: right;\">\n",
       "      <th></th>\n",
       "      <th>Regent</th>\n",
       "      <th>Player</th>\n",
       "      <th>Random Event</th>\n",
       "      <th>Regency Points</th>\n",
       "      <th>Initiative</th>\n",
       "      <th>Gold Bars</th>\n",
       "      <th>Revenue</th>\n",
       "      <th>Cost</th>\n",
       "      <th>Court</th>\n",
       "    </tr>\n",
       "  </thead>\n",
       "  <tbody>\n",
       "    <tr>\n",
       "      <th>0</th>\n",
       "      <td>MF</td>\n",
       "      <td>False</td>\n",
       "      <td>No Event</td>\n",
       "      <td>59</td>\n",
       "      <td>20</td>\n",
       "      <td>23</td>\n",
       "      <td>4</td>\n",
       "      <td>9</td>\n",
       "      <td>Rich</td>\n",
       "    </tr>\n",
       "    <tr>\n",
       "      <th>1</th>\n",
       "      <td>JR</td>\n",
       "      <td>False</td>\n",
       "      <td>No Event</td>\n",
       "      <td>33</td>\n",
       "      <td>20</td>\n",
       "      <td>0</td>\n",
       "      <td>12</td>\n",
       "      <td>12</td>\n",
       "      <td>Dormant</td>\n",
       "    </tr>\n",
       "    <tr>\n",
       "      <th>2</th>\n",
       "      <td>Sw2</td>\n",
       "      <td>False</td>\n",
       "      <td>No Event</td>\n",
       "      <td>24</td>\n",
       "      <td>19</td>\n",
       "      <td>1</td>\n",
       "      <td>0</td>\n",
       "      <td>2</td>\n",
       "      <td>Bare</td>\n",
       "    </tr>\n",
       "    <tr>\n",
       "      <th>3</th>\n",
       "      <td>HA</td>\n",
       "      <td>False</td>\n",
       "      <td>Feud</td>\n",
       "      <td>3</td>\n",
       "      <td>18</td>\n",
       "      <td>0</td>\n",
       "      <td>3</td>\n",
       "      <td>3</td>\n",
       "      <td>Bare</td>\n",
       "    </tr>\n",
       "    <tr>\n",
       "      <th>4</th>\n",
       "      <td>TF</td>\n",
       "      <td>False</td>\n",
       "      <td>Brigandage</td>\n",
       "      <td>2</td>\n",
       "      <td>17</td>\n",
       "      <td>1</td>\n",
       "      <td>2</td>\n",
       "      <td>1</td>\n",
       "      <td>Dormant</td>\n",
       "    </tr>\n",
       "    <tr>\n",
       "      <th>5</th>\n",
       "      <td>Ch</td>\n",
       "      <td>False</td>\n",
       "      <td>No Event</td>\n",
       "      <td>28</td>\n",
       "      <td>16</td>\n",
       "      <td>0</td>\n",
       "      <td>0</td>\n",
       "      <td>0</td>\n",
       "      <td>Dormant</td>\n",
       "    </tr>\n",
       "    <tr>\n",
       "      <th>6</th>\n",
       "      <td>CoL</td>\n",
       "      <td>False</td>\n",
       "      <td>No Event</td>\n",
       "      <td>27</td>\n",
       "      <td>13</td>\n",
       "      <td>2</td>\n",
       "      <td>15</td>\n",
       "      <td>13</td>\n",
       "      <td>Bare</td>\n",
       "    </tr>\n",
       "    <tr>\n",
       "      <th>7</th>\n",
       "      <td>WB</td>\n",
       "      <td>False</td>\n",
       "      <td>No Event</td>\n",
       "      <td>2</td>\n",
       "      <td>12</td>\n",
       "      <td>1</td>\n",
       "      <td>2</td>\n",
       "      <td>1</td>\n",
       "      <td>Dormant</td>\n",
       "    </tr>\n",
       "    <tr>\n",
       "      <th>8</th>\n",
       "      <td>LPA</td>\n",
       "      <td>False</td>\n",
       "      <td>No Event</td>\n",
       "      <td>11</td>\n",
       "      <td>12</td>\n",
       "      <td>5</td>\n",
       "      <td>9</td>\n",
       "      <td>4</td>\n",
       "      <td>Bare</td>\n",
       "    </tr>\n",
       "    <tr>\n",
       "      <th>9</th>\n",
       "      <td>GG</td>\n",
       "      <td>False</td>\n",
       "      <td>No Event</td>\n",
       "      <td>77</td>\n",
       "      <td>11</td>\n",
       "      <td>54</td>\n",
       "      <td>44</td>\n",
       "      <td>30</td>\n",
       "      <td>Rich</td>\n",
       "    </tr>\n",
       "    <tr>\n",
       "      <th>10</th>\n",
       "      <td>ML</td>\n",
       "      <td>False</td>\n",
       "      <td>No Event</td>\n",
       "      <td>3</td>\n",
       "      <td>10</td>\n",
       "      <td>0</td>\n",
       "      <td>3</td>\n",
       "      <td>3</td>\n",
       "      <td>Bare</td>\n",
       "    </tr>\n",
       "    <tr>\n",
       "      <th>11</th>\n",
       "      <td>Is</td>\n",
       "      <td>False</td>\n",
       "      <td>No Event</td>\n",
       "      <td>106</td>\n",
       "      <td>9</td>\n",
       "      <td>13</td>\n",
       "      <td>23</td>\n",
       "      <td>10</td>\n",
       "      <td>Average</td>\n",
       "    </tr>\n",
       "    <tr>\n",
       "      <th>12</th>\n",
       "      <td>DW</td>\n",
       "      <td>False</td>\n",
       "      <td>No Event</td>\n",
       "      <td>71</td>\n",
       "      <td>9</td>\n",
       "      <td>31</td>\n",
       "      <td>9</td>\n",
       "      <td>11</td>\n",
       "      <td>Rich</td>\n",
       "    </tr>\n",
       "    <tr>\n",
       "      <th>13</th>\n",
       "      <td>GH</td>\n",
       "      <td>False</td>\n",
       "      <td>No Event</td>\n",
       "      <td>10</td>\n",
       "      <td>8</td>\n",
       "      <td>5</td>\n",
       "      <td>8</td>\n",
       "      <td>3</td>\n",
       "      <td>Bare</td>\n",
       "    </tr>\n",
       "    <tr>\n",
       "      <th>14</th>\n",
       "      <td>IHH</td>\n",
       "      <td>False</td>\n",
       "      <td>No Event</td>\n",
       "      <td>6</td>\n",
       "      <td>7</td>\n",
       "      <td>2</td>\n",
       "      <td>5</td>\n",
       "      <td>3</td>\n",
       "      <td>Bare</td>\n",
       "    </tr>\n",
       "    <tr>\n",
       "      <th>15</th>\n",
       "      <td>WM</td>\n",
       "      <td>False</td>\n",
       "      <td>Corruption/Crime</td>\n",
       "      <td>7</td>\n",
       "      <td>7</td>\n",
       "      <td>1</td>\n",
       "      <td>2</td>\n",
       "      <td>1</td>\n",
       "      <td>Dormant</td>\n",
       "    </tr>\n",
       "    <tr>\n",
       "      <th>16</th>\n",
       "      <td>TBM</td>\n",
       "      <td>False</td>\n",
       "      <td>No Event</td>\n",
       "      <td>19</td>\n",
       "      <td>7</td>\n",
       "      <td>0</td>\n",
       "      <td>0</td>\n",
       "      <td>0</td>\n",
       "      <td>Dormant</td>\n",
       "    </tr>\n",
       "    <tr>\n",
       "      <th>17</th>\n",
       "      <td>EL</td>\n",
       "      <td>False</td>\n",
       "      <td>No Event</td>\n",
       "      <td>12</td>\n",
       "      <td>5</td>\n",
       "      <td>5</td>\n",
       "      <td>11</td>\n",
       "      <td>6</td>\n",
       "      <td>Average</td>\n",
       "    </tr>\n",
       "    <tr>\n",
       "      <th>18</th>\n",
       "      <td>Sw</td>\n",
       "      <td>False</td>\n",
       "      <td>No Event</td>\n",
       "      <td>11</td>\n",
       "      <td>4</td>\n",
       "      <td>0</td>\n",
       "      <td>0</td>\n",
       "      <td>0</td>\n",
       "      <td>Dormant</td>\n",
       "    </tr>\n",
       "    <tr>\n",
       "      <th>19</th>\n",
       "      <td>CSH</td>\n",
       "      <td>False</td>\n",
       "      <td>No Event</td>\n",
       "      <td>10</td>\n",
       "      <td>4</td>\n",
       "      <td>6</td>\n",
       "      <td>9</td>\n",
       "      <td>3</td>\n",
       "      <td>Bare</td>\n",
       "    </tr>\n",
       "    <tr>\n",
       "      <th>20</th>\n",
       "      <td>EC</td>\n",
       "      <td>False</td>\n",
       "      <td>No Event</td>\n",
       "      <td>33</td>\n",
       "      <td>3</td>\n",
       "      <td>6</td>\n",
       "      <td>20</td>\n",
       "      <td>14</td>\n",
       "      <td>Bare</td>\n",
       "    </tr>\n",
       "    <tr>\n",
       "      <th>21</th>\n",
       "      <td>TCV</td>\n",
       "      <td>False</td>\n",
       "      <td>No Event</td>\n",
       "      <td>1</td>\n",
       "      <td>2</td>\n",
       "      <td>0</td>\n",
       "      <td>1</td>\n",
       "      <td>1</td>\n",
       "      <td>Dormant</td>\n",
       "    </tr>\n",
       "  </tbody>\n",
       "</table>\n",
       "</div>"
      ],
      "text/plain": [
       "   Regent  Player      Random Event  Regency Points  Initiative  Gold Bars  \\\n",
       "0      MF   False          No Event              59          20         23   \n",
       "1      JR   False          No Event              33          20          0   \n",
       "2     Sw2   False          No Event              24          19          1   \n",
       "3      HA   False              Feud               3          18          0   \n",
       "4      TF   False        Brigandage               2          17          1   \n",
       "5      Ch   False          No Event              28          16          0   \n",
       "6     CoL   False          No Event              27          13          2   \n",
       "7      WB   False          No Event               2          12          1   \n",
       "8     LPA   False          No Event              11          12          5   \n",
       "9      GG   False          No Event              77          11         54   \n",
       "10     ML   False          No Event               3          10          0   \n",
       "11     Is   False          No Event             106           9         13   \n",
       "12     DW   False          No Event              71           9         31   \n",
       "13     GH   False          No Event              10           8          5   \n",
       "14    IHH   False          No Event               6           7          2   \n",
       "15     WM   False  Corruption/Crime               7           7          1   \n",
       "16    TBM   False          No Event              19           7          0   \n",
       "17     EL   False          No Event              12           5          5   \n",
       "18     Sw   False          No Event              11           4          0   \n",
       "19    CSH   False          No Event              10           4          6   \n",
       "20     EC   False          No Event              33           3          6   \n",
       "21    TCV   False          No Event               1           2          0   \n",
       "\n",
       "    Revenue  Cost    Court  \n",
       "0         4     9     Rich  \n",
       "1        12    12  Dormant  \n",
       "2         0     2     Bare  \n",
       "3         3     3     Bare  \n",
       "4         2     1  Dormant  \n",
       "5         0     0  Dormant  \n",
       "6        15    13     Bare  \n",
       "7         2     1  Dormant  \n",
       "8         9     4     Bare  \n",
       "9        44    30     Rich  \n",
       "10        3     3     Bare  \n",
       "11       23    10  Average  \n",
       "12        9    11     Rich  \n",
       "13        8     3     Bare  \n",
       "14        5     3     Bare  \n",
       "15        2     1  Dormant  \n",
       "16        0     0  Dormant  \n",
       "17       11     6  Average  \n",
       "18        0     0  Dormant  \n",
       "19        9     3     Bare  \n",
       "20       20    14     Bare  \n",
       "21        1     1  Dormant  "
      ]
     },
     "execution_count": 1,
     "metadata": {},
     "output_type": "execute_result"
    }
   ],
   "source": [
    "from source.regency import Regency\n",
    "from source.DQNAgent import DQNAgent\n",
    "from IPython.display import clear_output\n",
    "\n",
    "Game = Regency()\n",
    "clear_output()\n",
    "for a in range(1):\n",
    "    Game.random_events()\n",
    "    print(len((Game.Seasons[Game.Season]['Season'])))\n",
    "    Game.collect_regency_points()\n",
    "    print(len((Game.Seasons[Game.Season]['Season'])))\n",
    "    Game.domain_initiative()\n",
    "    print(len((Game.Seasons[Game.Season]['Season'])))\n",
    "    Game.collect_gold_bars()\n",
    "    print(len((Game.Seasons[Game.Season]['Season'])))\n",
    "    Game.maintenance_costs()\n",
    "    print(len((Game.Seasons[Game.Season]['Season'])))\n",
    "\n",
    "Game.clear_screen()\n",
    "Game.Seasons[Game.Season]['Season']"
   ]
  },
  {
   "cell_type": "code",
   "execution_count": 2,
   "metadata": {
    "scrolled": true
   },
   "outputs": [
    {
     "name": "stdout",
     "output_type": "stream",
     "text": [
      "Action 1 - Initiative 20\r"
     ]
    },
    {
     "name": "stderr",
     "output_type": "stream",
     "text": [
      "C:\\git\\Regency\\source\\DQNAgent.py:259: FutureWarning: Sorting because non-concatenation axis is not aligned. A future version\n",
      "of pandas will change to not sort by default.\n",
      "\n",
      "To accept the future behavior, pass 'sort=False'.\n",
      "\n",
      "To retain the current behavior and silence the warning, pass 'sort=True'.\n",
      "\n",
      "  rtemp = pd.concat([prov_regent_list, rtemp])\n",
      "C:\\git\\Regency\\source\\DQNAgent.py:259: FutureWarning: Sorting because non-concatenation axis is not aligned. A future version\n",
      "of pandas will change to not sort by default.\n",
      "\n",
      "To accept the future behavior, pass 'sort=False'.\n",
      "\n",
      "To retain the current behavior and silence the warning, pass 'sort=True'.\n",
      "\n",
      "  rtemp = pd.concat([prov_regent_list, rtemp])\n"
     ]
    },
    {
     "name": "stdout",
     "output_type": "stream",
     "text": [
      "Action 1 - Initiative 19\r"
     ]
    },
    {
     "name": "stderr",
     "output_type": "stream",
     "text": [
      "C:\\git\\Regency\\source\\DQNAgent.py:259: FutureWarning: Sorting because non-concatenation axis is not aligned. A future version\n",
      "of pandas will change to not sort by default.\n",
      "\n",
      "To accept the future behavior, pass 'sort=False'.\n",
      "\n",
      "To retain the current behavior and silence the warning, pass 'sort=True'.\n",
      "\n",
      "  rtemp = pd.concat([prov_regent_list, rtemp])\n"
     ]
    },
    {
     "name": "stdout",
     "output_type": "stream",
     "text": [
      "Action 1 - Initiative 18\r",
      "Action 1 - Initiative 17\r"
     ]
    },
    {
     "name": "stderr",
     "output_type": "stream",
     "text": [
      "C:\\git\\Regency\\source\\DQNAgent.py:259: FutureWarning: Sorting because non-concatenation axis is not aligned. A future version\n",
      "of pandas will change to not sort by default.\n",
      "\n",
      "To accept the future behavior, pass 'sort=False'.\n",
      "\n",
      "To retain the current behavior and silence the warning, pass 'sort=True'.\n",
      "\n",
      "  rtemp = pd.concat([prov_regent_list, rtemp])\n",
      "C:\\git\\Regency\\source\\DQNAgent.py:259: FutureWarning: Sorting because non-concatenation axis is not aligned. A future version\n",
      "of pandas will change to not sort by default.\n",
      "\n",
      "To accept the future behavior, pass 'sort=False'.\n",
      "\n",
      "To retain the current behavior and silence the warning, pass 'sort=True'.\n",
      "\n",
      "  rtemp = pd.concat([prov_regent_list, rtemp])\n"
     ]
    },
    {
     "name": "stdout",
     "output_type": "stream",
     "text": [
      "Error with provence <source.regency.Regency object at 0x0000019E3E204A20>\n",
      "Action 1 - Initiative 16\r"
     ]
    },
    {
     "name": "stderr",
     "output_type": "stream",
     "text": [
      "C:\\git\\Regency\\source\\DQNAgent.py:259: FutureWarning: Sorting because non-concatenation axis is not aligned. A future version\n",
      "of pandas will change to not sort by default.\n",
      "\n",
      "To accept the future behavior, pass 'sort=False'.\n",
      "\n",
      "To retain the current behavior and silence the warning, pass 'sort=True'.\n",
      "\n",
      "  rtemp = pd.concat([prov_regent_list, rtemp])\n"
     ]
    },
    {
     "name": "stdout",
     "output_type": "stream",
     "text": [
      "Action 1 - Initiative 13\r",
      "Forgot to mark a capital\n"
     ]
    },
    {
     "name": "stderr",
     "output_type": "stream",
     "text": [
      "C:\\git\\Regency\\source\\DQNAgent.py:259: FutureWarning: Sorting because non-concatenation axis is not aligned. A future version\n",
      "of pandas will change to not sort by default.\n",
      "\n",
      "To accept the future behavior, pass 'sort=False'.\n",
      "\n",
      "To retain the current behavior and silence the warning, pass 'sort=True'.\n",
      "\n",
      "  rtemp = pd.concat([prov_regent_list, rtemp])\n"
     ]
    },
    {
     "name": "stdout",
     "output_type": "stream",
     "text": [
      "Action 1 - Initiative 12\r"
     ]
    },
    {
     "name": "stderr",
     "output_type": "stream",
     "text": [
      "C:\\git\\Regency\\source\\DQNAgent.py:259: FutureWarning: Sorting because non-concatenation axis is not aligned. A future version\n",
      "of pandas will change to not sort by default.\n",
      "\n",
      "To accept the future behavior, pass 'sort=False'.\n",
      "\n",
      "To retain the current behavior and silence the warning, pass 'sort=True'.\n",
      "\n",
      "  rtemp = pd.concat([prov_regent_list, rtemp])\n",
      "C:\\git\\Regency\\source\\DQNAgent.py:259: FutureWarning: Sorting because non-concatenation axis is not aligned. A future version\n",
      "of pandas will change to not sort by default.\n",
      "\n",
      "To accept the future behavior, pass 'sort=False'.\n",
      "\n",
      "To retain the current behavior and silence the warning, pass 'sort=True'.\n",
      "\n",
      "  rtemp = pd.concat([prov_regent_list, rtemp])\n"
     ]
    },
    {
     "name": "stdout",
     "output_type": "stream",
     "text": [
      "Action 1 - Initiative 11\r"
     ]
    },
    {
     "name": "stderr",
     "output_type": "stream",
     "text": [
      "C:\\git\\Regency\\source\\DQNAgent.py:259: FutureWarning: Sorting because non-concatenation axis is not aligned. A future version\n",
      "of pandas will change to not sort by default.\n",
      "\n",
      "To accept the future behavior, pass 'sort=False'.\n",
      "\n",
      "To retain the current behavior and silence the warning, pass 'sort=True'.\n",
      "\n",
      "  rtemp = pd.concat([prov_regent_list, rtemp])\n"
     ]
    },
    {
     "name": "stdout",
     "output_type": "stream",
     "text": [
      "Action 1 - Initiative 10\r"
     ]
    },
    {
     "name": "stderr",
     "output_type": "stream",
     "text": [
      "C:\\git\\Regency\\source\\DQNAgent.py:259: FutureWarning: Sorting because non-concatenation axis is not aligned. A future version\n",
      "of pandas will change to not sort by default.\n",
      "\n",
      "To accept the future behavior, pass 'sort=False'.\n",
      "\n",
      "To retain the current behavior and silence the warning, pass 'sort=True'.\n",
      "\n",
      "  rtemp = pd.concat([prov_regent_list, rtemp])\n"
     ]
    },
    {
     "name": "stdout",
     "output_type": "stream",
     "text": [
      "Action 1 - Initiative 9\r"
     ]
    },
    {
     "name": "stderr",
     "output_type": "stream",
     "text": [
      "C:\\git\\Regency\\source\\DQNAgent.py:259: FutureWarning: Sorting because non-concatenation axis is not aligned. A future version\n",
      "of pandas will change to not sort by default.\n",
      "\n",
      "To accept the future behavior, pass 'sort=False'.\n",
      "\n",
      "To retain the current behavior and silence the warning, pass 'sort=True'.\n",
      "\n",
      "  rtemp = pd.concat([prov_regent_list, rtemp])\n",
      "C:\\git\\Regency\\source\\DQNAgent.py:259: FutureWarning: Sorting because non-concatenation axis is not aligned. A future version\n",
      "of pandas will change to not sort by default.\n",
      "\n",
      "To accept the future behavior, pass 'sort=False'.\n",
      "\n",
      "To retain the current behavior and silence the warning, pass 'sort=True'.\n",
      "\n",
      "  rtemp = pd.concat([prov_regent_list, rtemp])\n"
     ]
    },
    {
     "name": "stdout",
     "output_type": "stream",
     "text": [
      "Error with provence <source.regency.Regency object at 0x0000019E3E204A20>\n",
      "Error with provence <source.regency.Regency object at 0x0000019E3E204A20>\n",
      "Error with provence <source.regency.Regency object at 0x0000019E3E204A20>\n",
      "Error with provence <source.regency.Regency object at 0x0000019E3E204A20>\n",
      "Error with provence <source.regency.Regency object at 0x0000019E3E204A20>\n",
      "Error with provence <source.regency.Regency object at 0x0000019E3E204A20>\n",
      "Error with provence <source.regency.Regency object at 0x0000019E3E204A20>\n",
      "Error with provence <source.regency.Regency object at 0x0000019E3E204A20>\n",
      "Error with provence <source.regency.Regency object at 0x0000019E3E204A20>\n",
      "Error with provence <source.regency.Regency object at 0x0000019E3E204A20>\n",
      "Error with provence <source.regency.Regency object at 0x0000019E3E204A20>\n",
      "Error with provence <source.regency.Regency object at 0x0000019E3E204A20>\n",
      "Error with provence <source.regency.Regency object at 0x0000019E3E204A20>\n",
      "Action 1 - Initiative 8\r"
     ]
    },
    {
     "name": "stderr",
     "output_type": "stream",
     "text": [
      "C:\\git\\Regency\\source\\DQNAgent.py:259: FutureWarning: Sorting because non-concatenation axis is not aligned. A future version\n",
      "of pandas will change to not sort by default.\n",
      "\n",
      "To accept the future behavior, pass 'sort=False'.\n",
      "\n",
      "To retain the current behavior and silence the warning, pass 'sort=True'.\n",
      "\n",
      "  rtemp = pd.concat([prov_regent_list, rtemp])\n"
     ]
    },
    {
     "name": "stdout",
     "output_type": "stream",
     "text": [
      "Action 1 - Initiative 7\r"
     ]
    },
    {
     "name": "stderr",
     "output_type": "stream",
     "text": [
      "C:\\git\\Regency\\source\\DQNAgent.py:259: FutureWarning: Sorting because non-concatenation axis is not aligned. A future version\n",
      "of pandas will change to not sort by default.\n",
      "\n",
      "To accept the future behavior, pass 'sort=False'.\n",
      "\n",
      "To retain the current behavior and silence the warning, pass 'sort=True'.\n",
      "\n",
      "  rtemp = pd.concat([prov_regent_list, rtemp])\n",
      "C:\\git\\Regency\\source\\DQNAgent.py:259: FutureWarning: Sorting because non-concatenation axis is not aligned. A future version\n",
      "of pandas will change to not sort by default.\n",
      "\n",
      "To accept the future behavior, pass 'sort=False'.\n",
      "\n",
      "To retain the current behavior and silence the warning, pass 'sort=True'.\n",
      "\n",
      "  rtemp = pd.concat([prov_regent_list, rtemp])\n"
     ]
    },
    {
     "name": "stdout",
     "output_type": "stream",
     "text": [
      "Error with provence <source.regency.Regency object at 0x0000019E3E204A20>\n"
     ]
    },
    {
     "name": "stderr",
     "output_type": "stream",
     "text": [
      "C:\\git\\Regency\\source\\DQNAgent.py:259: FutureWarning: Sorting because non-concatenation axis is not aligned. A future version\n",
      "of pandas will change to not sort by default.\n",
      "\n",
      "To accept the future behavior, pass 'sort=False'.\n",
      "\n",
      "To retain the current behavior and silence the warning, pass 'sort=True'.\n",
      "\n",
      "  rtemp = pd.concat([prov_regent_list, rtemp])\n"
     ]
    },
    {
     "name": "stdout",
     "output_type": "stream",
     "text": [
      "Action 1 - Initiative 5\r"
     ]
    },
    {
     "name": "stderr",
     "output_type": "stream",
     "text": [
      "C:\\git\\Regency\\source\\DQNAgent.py:259: FutureWarning: Sorting because non-concatenation axis is not aligned. A future version\n",
      "of pandas will change to not sort by default.\n",
      "\n",
      "To accept the future behavior, pass 'sort=False'.\n",
      "\n",
      "To retain the current behavior and silence the warning, pass 'sort=True'.\n",
      "\n",
      "  rtemp = pd.concat([prov_regent_list, rtemp])\n"
     ]
    },
    {
     "name": "stdout",
     "output_type": "stream",
     "text": [
      "Error with provence <source.regency.Regency object at 0x0000019E3E204A20>\n",
      "Error with provence <source.regency.Regency object at 0x0000019E3E204A20>\n",
      "Error with provence <source.regency.Regency object at 0x0000019E3E204A20>\n",
      "Error with provence <source.regency.Regency object at 0x0000019E3E204A20>\n",
      "Error with provence <source.regency.Regency object at 0x0000019E3E204A20>\n",
      "Action 1 - Initiative 4\r"
     ]
    },
    {
     "name": "stderr",
     "output_type": "stream",
     "text": [
      "C:\\git\\Regency\\source\\DQNAgent.py:259: FutureWarning: Sorting because non-concatenation axis is not aligned. A future version\n",
      "of pandas will change to not sort by default.\n",
      "\n",
      "To accept the future behavior, pass 'sort=False'.\n",
      "\n",
      "To retain the current behavior and silence the warning, pass 'sort=True'.\n",
      "\n",
      "  rtemp = pd.concat([prov_regent_list, rtemp])\n",
      "C:\\git\\Regency\\source\\DQNAgent.py:259: FutureWarning: Sorting because non-concatenation axis is not aligned. A future version\n",
      "of pandas will change to not sort by default.\n",
      "\n",
      "To accept the future behavior, pass 'sort=False'.\n",
      "\n",
      "To retain the current behavior and silence the warning, pass 'sort=True'.\n",
      "\n",
      "  rtemp = pd.concat([prov_regent_list, rtemp])\n"
     ]
    },
    {
     "name": "stdout",
     "output_type": "stream",
     "text": [
      "Action 1 - Initiative 3\r"
     ]
    },
    {
     "name": "stderr",
     "output_type": "stream",
     "text": [
      "C:\\git\\Regency\\source\\DQNAgent.py:259: FutureWarning: Sorting because non-concatenation axis is not aligned. A future version\n",
      "of pandas will change to not sort by default.\n",
      "\n",
      "To accept the future behavior, pass 'sort=False'.\n",
      "\n",
      "To retain the current behavior and silence the warning, pass 'sort=True'.\n",
      "\n",
      "  rtemp = pd.concat([prov_regent_list, rtemp])\n"
     ]
    },
    {
     "name": "stdout",
     "output_type": "stream",
     "text": [
      "Action 1 - Initiative 2\r"
     ]
    },
    {
     "name": "stderr",
     "output_type": "stream",
     "text": [
      "C:\\git\\Regency\\source\\DQNAgent.py:259: FutureWarning: Sorting because non-concatenation axis is not aligned. A future version\n",
      "of pandas will change to not sort by default.\n",
      "\n",
      "To accept the future behavior, pass 'sort=False'.\n",
      "\n",
      "To retain the current behavior and silence the warning, pass 'sort=True'.\n",
      "\n",
      "  rtemp = pd.concat([prov_regent_list, rtemp])\n"
     ]
    },
    {
     "ename": "AttributeError",
     "evalue": "'Regency' object has no attribute 'clear_output'",
     "output_type": "error",
     "traceback": [
      "\u001b[1;31m---------------------------------------------------------------------------\u001b[0m",
      "\u001b[1;31mAttributeError\u001b[0m                            Traceback (most recent call last)",
      "\u001b[1;32m<ipython-input-2-ffec5a93e45f>\u001b[0m in \u001b[0;36m<module>\u001b[1;34m\u001b[0m\n\u001b[1;32m----> 1\u001b[1;33m \u001b[0mGame\u001b[0m\u001b[1;33m.\u001b[0m\u001b[0mtake_domain_actions\u001b[0m\u001b[1;33m(\u001b[0m\u001b[1;32mNone\u001b[0m\u001b[1;33m)\u001b[0m\u001b[1;33m\u001b[0m\u001b[1;33m\u001b[0m\u001b[0m\n\u001b[0m",
      "\u001b[1;32mC:\\git\\Regency\\source\\regency.py\u001b[0m in \u001b[0;36mtake_domain_actions\u001b[1;34m(self, override)\u001b[0m\n\u001b[0;32m   2301\u001b[0m             \u001b[1;31m# update memories and train, unless action = 3 (wait for begining of next round to add in gold and regency)\u001b[0m\u001b[1;33m\u001b[0m\u001b[1;33m\u001b[0m\u001b[1;33m\u001b[0m\u001b[0m\n\u001b[0;32m   2302\u001b[0m             \u001b[1;31m# last bit in function while loop\u001b[0m\u001b[1;33m\u001b[0m\u001b[1;33m\u001b[0m\u001b[1;33m\u001b[0m\u001b[0m\n\u001b[1;32m-> 2303\u001b[1;33m             \u001b[0mself\u001b[0m\u001b[1;33m.\u001b[0m\u001b[0mclear_output\u001b[0m\u001b[1;33m(\u001b[0m\u001b[1;33m)\u001b[0m\u001b[1;33m\u001b[0m\u001b[1;33m\u001b[0m\u001b[0m\n\u001b[0m\u001b[0;32m   2304\u001b[0m             \u001b[0mprint\u001b[0m\u001b[1;33m(\u001b[0m\u001b[0mself\u001b[0m\u001b[1;33m.\u001b[0m\u001b[0mSeasons\u001b[0m\u001b[1;33m[\u001b[0m\u001b[0mself\u001b[0m\u001b[1;33m.\u001b[0m\u001b[0mSeason\u001b[0m\u001b[1;33m]\u001b[0m\u001b[1;33m[\u001b[0m\u001b[1;34m'Actions'\u001b[0m\u001b[1;33m]\u001b[0m\u001b[1;33m[\u001b[0m\u001b[0mself\u001b[0m\u001b[1;33m.\u001b[0m\u001b[0mAction\u001b[0m\u001b[1;33m]\u001b[0m\u001b[1;33m.\u001b[0m\u001b[0mloc\u001b[0m\u001b[1;33m[\u001b[0m\u001b[0mindex\u001b[0m\u001b[1;33m]\u001b[0m\u001b[1;33m)\u001b[0m\u001b[1;33m\u001b[0m\u001b[1;33m\u001b[0m\u001b[0m\n\u001b[0;32m   2305\u001b[0m             \u001b[0minput\u001b[0m\u001b[1;33m(\u001b[0m\u001b[1;33m)\u001b[0m\u001b[1;33m\u001b[0m\u001b[1;33m\u001b[0m\u001b[0m\n",
      "\u001b[1;31mAttributeError\u001b[0m: 'Regency' object has no attribute 'clear_output'"
     ]
    }
   ],
   "source": [
    " Game.take_domain_actions(None)"
   ]
  },
  {
   "cell_type": "code",
   "execution_count": 11,
   "metadata": {},
   "outputs": [],
   "source": [
    "import numpy as np\n",
    "import pandas as pd\n",
    "int(np.random.randint(1,5,1))\n",
    "self = Game"
   ]
  },
  {
   "cell_type": "code",
   "execution_count": 12,
   "metadata": {},
   "outputs": [
    {
     "name": "stdout",
     "output_type": "stream",
     "text": [
      "Error with provence <source.regency.Regency object at 0x0000019E3E204A20>\n"
     ]
    }
   ],
   "source": [
    "Provences = ['Gulfport']\n",
    "Regent = 'HA'\n",
    "Target = 'JR'\n",
    "Conflict = True\n",
    "bid=None\n",
    "cost = 1\n",
    "\n",
    "dc = 10\n",
    "# spend the money and regency\n",
    "self.change_regent(Regent, Gold_Bars = self.Regents[self.Regents['Regent']==Regent]['Gold Bars'].values[0] - cost, Regency_Points = self.Regents[self.Regents['Regent']==Regent]['Regency Points'].values[0] - cost)\n",
    "# set the dc\n",
    "adj = (Conflict == False)\n",
    "dc = self.set_difficulty(dc, Regent, Target, hostile=Conflict)\n",
    "# roll 'em\n",
    "success, crit = self.make_roll(Regent, dc, 'Persuasion', adj=False, dis=False, player_gbid=bid)\n",
    "add = -1*Conflict + 1-Conflict\n",
    "dip = add\n",
    "if crit:\n",
    "    add = 2*add\n",
    "if success:\n",
    "    # make the changes\n",
    "    temp = {}\n",
    "    temp['Provence'] = Provences\n",
    "    temp = pd.DataFrame(temp)\n",
    "    temp = pd.merge(temp, self.Provences.copy(), on='Provence', how='left')\n",
    "    temp['Loyalty'] = temp['Loyalty'].str.replace('Rebellious','0').replace('Poor','1').replace('Average','2').replace('High','3').astype(int) + add \n",
    "    temp['Loyalty'] = temp['Loyalty'].astype(str).str.replace('-2', 'Rebellious').replace('-1', 'Rebellious').replace('0', 'Rebellious').replace('1', 'Poor').replace('2', 'Average').replace('3', 'High').replace('4', 'High').replace('5', 'High')\n",
    "    for i, row in temp.iterrows():\n",
    "        self.change_provence(self, row['Provence'], Loyalty=row['Loyalty'])\n",
    "\n",
    "    if dip == -1:\n",
    "        message = '{} agitated the people against {} in the following provences: {}'.format(Regent, Target, ', '.join(Provences))\n",
    "    else:\n",
    "        message = '{} used their influence to rally the people behind {} in the following provences: {}'.format(Regent, Target, ', '.join(Provences))\n",
    "    # change diplomacy (Traget cares)\n",
    "    self.add_relationship(Target, Regent, Diplomacy=dip)\n",
    "    temp = self.Relationships[self.Relationships['Regent']==Regent].copy()\n",
    "    if temp[temp['Other']==Target]['Diplomacy'].shape[0] > 0:\n",
    "        reward = dip*temp[temp['Other']==Target]['Diplomacy'].values[0]\n",
    "    else:\n",
    "        reward = 0\n",
    "    attitude = self.Regents[self.Regents['Regent']==Regent]['Attitude']\n",
    "else:\n",
    "    message = '{} failed to change peoples minds about {} in {}'.format(Regent, Target, ', '.join(Provences))\n",
    "    # change diplomacy (Traget cares)\n",
    "    self.add_relationship(Target, Regent, Diplomacy=dip)\n",
    "    reward = 0\n"
   ]
  },
  {
   "cell_type": "code",
   "execution_count": 13,
   "metadata": {},
   "outputs": [
    {
     "data": {
      "text/plain": [
       "'Gulfport'"
      ]
     },
     "execution_count": 13,
     "metadata": {},
     "output_type": "execute_result"
    }
   ],
   "source": [
    "row['Provence']"
   ]
  },
  {
   "cell_type": "code",
   "execution_count": 15,
   "metadata": {},
   "outputs": [
    {
     "name": "stdout",
     "output_type": "stream",
     "text": [
      "Error with provence <source.regency.Regency object at 0x0000019E3E204A20>\n"
     ]
    }
   ],
   "source": [
    " self.change_provence(self, 'Gulfport', Loyalty=row['Loyalty'])"
   ]
  },
  {
   "cell_type": "code",
   "execution_count": 17,
   "metadata": {},
   "outputs": [
    {
     "data": {
      "text/html": [
       "<div>\n",
       "<style scoped>\n",
       "    .dataframe tbody tr th:only-of-type {\n",
       "        vertical-align: middle;\n",
       "    }\n",
       "\n",
       "    .dataframe tbody tr th {\n",
       "        vertical-align: top;\n",
       "    }\n",
       "\n",
       "    .dataframe thead th {\n",
       "        text-align: right;\n",
       "    }\n",
       "</style>\n",
       "<table border=\"1\" class=\"dataframe\">\n",
       "  <thead>\n",
       "    <tr style=\"text-align: right;\">\n",
       "      <th></th>\n",
       "      <th>Provence</th>\n",
       "      <th>Domain</th>\n",
       "      <th>Region</th>\n",
       "      <th>Regent</th>\n",
       "      <th>Terrain</th>\n",
       "      <th>Loyalty</th>\n",
       "      <th>Taxation</th>\n",
       "      <th>Population</th>\n",
       "      <th>Magic</th>\n",
       "      <th>Castle</th>\n",
       "      <th>Capital</th>\n",
       "      <th>Position</th>\n",
       "      <th>Contested</th>\n",
       "      <th>Waterway</th>\n",
       "      <th>Brigands</th>\n",
       "    </tr>\n",
       "  </thead>\n",
       "  <tbody>\n",
       "    <tr>\n",
       "      <th>10</th>\n",
       "      <td>Gulfport</td>\n",
       "      <td>Osoerde</td>\n",
       "      <td>Eastern Marches</td>\n",
       "      <td>JR</td>\n",
       "      <td>Plains</td>\n",
       "      <td>Average</td>\n",
       "      <td>Moderate</td>\n",
       "      <td>3</td>\n",
       "      <td>2</td>\n",
       "      <td>0</td>\n",
       "      <td>False</td>\n",
       "      <td>[1515, 2154]</td>\n",
       "      <td>False</td>\n",
       "      <td>True</td>\n",
       "      <td>False</td>\n",
       "    </tr>\n",
       "  </tbody>\n",
       "</table>\n",
       "</div>"
      ],
      "text/plain": [
       "    Provence   Domain           Region Regent Terrain  Loyalty  Taxation  \\\n",
       "10  Gulfport  Osoerde  Eastern Marches     JR  Plains  Average  Moderate   \n",
       "\n",
       "    Population  Magic  Castle  Capital      Position  Contested  Waterway  \\\n",
       "10           3      2       0    False  [1515, 2154]      False      True   \n",
       "\n",
       "    Brigands  \n",
       "10     False  "
      ]
     },
     "execution_count": 17,
     "metadata": {},
     "output_type": "execute_result"
    }
   ],
   "source": [
    "self.Provences[self.Provences['Provence'] == row['Provence']]"
   ]
  },
  {
   "cell_type": "code",
   "execution_count": 25,
   "metadata": {},
   "outputs": [
    {
     "data": {
      "text/plain": [
       "Provence             Gulfport\n",
       "Domain                Osoerde\n",
       "Region        Eastern Marches\n",
       "Regent                     JR\n",
       "Terrain                Plains\n",
       "Loyalty                  Poop\n",
       "Taxation                 None\n",
       "Population                  3\n",
       "Magic                       2\n",
       "Castle                      0\n",
       "Capital                 False\n",
       "Position         [1515, 2154]\n",
       "Contested               False\n",
       "Waterway                 True\n",
       "Brigands                False\n",
       "Name: 10, dtype: object"
      ]
     },
     "execution_count": 25,
     "metadata": {},
     "output_type": "execute_result"
    }
   ],
   "source": [
    "Provence = 'Gulfport'\n",
    "Regent=None\n",
    "Region=None\n",
    "Domain=None\n",
    "Population_Change=0\n",
    "Terrain=None\n",
    "Loyalty='Poop'\n",
    "Taxation=None\n",
    "Castle=None\n",
    "Capital=None\n",
    "x=None\n",
    "y=None\n",
    "Contested=None\n",
    "Waterway=None\n",
    "Brigands=False\n",
    "\n",
    "index = self.Provences.index[self.Provences['Provence'] == Provence].tolist()[0]\n",
    "old = self.Provences.loc[index]\n",
    "if Regent == None:\n",
    "    Regent = old['Regent']\n",
    "if Domain == None:\n",
    "    Domain = old['Domain']\n",
    "if Region == None:\n",
    "    Region = old['Region']\n",
    "if Terrain == None:\n",
    "    Terrain = old['Terrain']\n",
    "if Contested == None:\n",
    "    Contested = old['Contested']\n",
    "if Waterway == None:\n",
    "    Waterway = old['Waterway']\n",
    "try:\n",
    "    loy = old['Loyalty'].replace('Rebellious','0').replace('Poor','1').replace('Average','2').replace('High','3')\n",
    "    new = int(loy) + int(Loyalty)\n",
    "    if new <= 0:\n",
    "        Loyalty = 'Rebellious'\n",
    "    if new == 1:\n",
    "        Loyalty = 'Poor'\n",
    "    if new == 2:\n",
    "        Loyalty = 'Average'\n",
    "    if new >= 3:\n",
    "        Loyalty = 'High'\n",
    "except:\n",
    "    if Loyalty == None:\n",
    "        Loyalty = old['Loyalty']\n",
    "if Taxation == None:\n",
    "    Taxation == old['Taxation']\n",
    "\n",
    "Population = old['Population'] + Population_Change\n",
    "Magic = old['Magic'] - Population_Change\n",
    "\n",
    "if Magic <= 0:\n",
    "    Magic = 1\n",
    "if Castle == None:\n",
    "    Castle = old['Castle']\n",
    "if Capital == None:\n",
    "    Capital = old['Capital']\n",
    "if x == None or y == None:\n",
    "    pos = old['Position']\n",
    "else:\n",
    "    pos = np.array([x, y])\n",
    "self.Provences.loc[index] = [Provence, Domain, Region, Regent, Terrain, Loyalty, Taxation,\n",
    "    Population, Magic, Castle, Capital, old['Position'], Contested, Waterway, Brigands]\n",
    "\n",
    "self.Provences.loc[index]"
   ]
  },
  {
   "cell_type": "code",
   "execution_count": null,
   "metadata": {},
   "outputs": [],
   "source": [
    "Game.change_provence('Gulfport', Loyalty)"
   ]
  }
 ],
 "metadata": {
  "kernelspec": {
   "display_name": "Python 3",
   "language": "python",
   "name": "python3"
  },
  "language_info": {
   "codemirror_mode": {
    "name": "ipython",
    "version": 3
   },
   "file_extension": ".py",
   "mimetype": "text/x-python",
   "name": "python",
   "nbconvert_exporter": "python",
   "pygments_lexer": "ipython3",
   "version": "3.7.3"
  }
 },
 "nbformat": 4,
 "nbformat_minor": 1
}
