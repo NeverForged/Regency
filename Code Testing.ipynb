{
 "cells": [
  {
   "cell_type": "code",
   "execution_count": null,
   "metadata": {
    "scrolled": false
   },
   "outputs": [
    {
     "name": "stdout",
     "output_type": "stream",
     "text": [
      "7\n",
      "Forgot to mark a capitalitiative  2\n",
      "Forgot to mark a capitalitiative 27\n",
      "Season 7 - Action 3 - Initiative 18\r"
     ]
    }
   ],
   "source": [
    "from source.regency import Regency\n",
    "from source.mapping import Mapping\n",
    "from source.DQNAgent import DQNAgent\n",
    "from IPython.display import clear_output\n",
    "import pandas as pd\n",
    "import warnings\n",
    "warnings.filterwarnings('ignore')\n",
    "\n",
    "\n",
    "seasons = 10\n",
    "Game = Regency(True)\n",
    "clear_output()\n",
    "Game.add_relationship('WM','JR', At_War=1)\n",
    "Game.add_troops('WM', 'Moergen', 'Irregulars')\n",
    "for a in range(seasons):\n",
    "    print(a)\n",
    "    Game.random_events()\n",
    "    Game.collect_regency_points()\n",
    "    Game.domain_initiative()\n",
    "    Game.collect_gold_bars()\n",
    "    Game.maintenance_costs(Update=True)\n",
    "    Game.Seasons[Game.Season]['Season']\n",
    "    Game.take_domain_actions()\n",
    "    Game.war_move()\n",
    "    Game.clean_up()\n",
    "    Game.clear_screen()\n",
    "\n",
    "df = pd.concat([Game.Seasons[b]['Actions'][a+1] for a in range(3) for b in range(seasons)])\n",
    "print(set(df['Action']))\n",
    "print()\n",
    "print(set(df[df['Success?']==True]['Action']))\n",
    "Game.War\n"
   ]
  },
  {
   "cell_type": "code",
   "execution_count": null,
   "metadata": {},
   "outputs": [],
   "source": [
    "Game.War['Notes'][0]"
   ]
  },
  {
   "cell_type": "code",
   "execution_count": null,
   "metadata": {},
   "outputs": [],
   "source": [
    "Game.errors"
   ]
  },
  {
   "cell_type": "code",
   "execution_count": null,
   "metadata": {},
   "outputs": [],
   "source": []
  }
 ],
 "metadata": {
  "kernelspec": {
   "display_name": "Python 3",
   "language": "python",
   "name": "python3"
  },
  "language_info": {
   "codemirror_mode": {
    "name": "ipython",
    "version": 3
   },
   "file_extension": ".py",
   "mimetype": "text/x-python",
   "name": "python",
   "nbconvert_exporter": "python",
   "pygments_lexer": "ipython3",
   "version": "3.7.3"
  }
 },
 "nbformat": 4,
 "nbformat_minor": 2
}
