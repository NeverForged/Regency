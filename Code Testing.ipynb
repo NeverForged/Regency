{
 "cells": [
  {
   "cell_type": "code",
   "execution_count": 1,
   "metadata": {
    "scrolled": false
   },
   "outputs": [
    {
     "name": "stdout",
     "output_type": "stream",
     "text": [
      "{'declare_war', 'create_holding', 'contest_provence', 'adventuring', 'espionage_heresy', 'realm_magic_demagogue_friend', 'realm_magic_blight', 'disband_army', 'diplomacy_troop_permission', 'disband_mercenaries', 'realm_magic_mass_destruction', 'espionage_discover_troop_movements', 'investure_divest_enemy', 'muster_levies', 'agitiate_for_friend', 'decree_general', 'espionage_assassination', 'diplomacy_respond_to_brigandage', 'rule_holdings', 'espionage_corruption', 'realm_magic_bless_land', 'grant', 'investiture_become_vassal_friend', 'diplomacy_trade_agreement', 'investure_invest_friend', 'Lieutenant', 'decree_asset_seizure', 'muster_army', 'realm_magic_demagogue_enemy', 'espionage_diplomatic_details', 'diplomacy_form_alliance', 'diplomacy_force_tribute', 'muster_mercenaries', 'contest_holding', 'espionage_intrigue', 'realm_magic_alchemy'}\n",
      "\n",
      "{'declare_war', 'create_holding', 'adventuring', 'realm_magic_blight', 'disband_army', 'diplomacy_troop_permission', 'disband_mercenaries', 'muster_levies', 'agitiate_for_friend', 'decree_general', 'diplomacy_respond_to_brigandage', 'rule_holdings', 'espionage_corruption', 'realm_magic_bless_land', 'grant', 'investiture_become_vassal_friend', 'diplomacy_trade_agreement', 'investure_invest_friend', 'Lieutenant', 'decree_asset_seizure', 'diplomacy_form_alliance', 'diplomacy_force_tribute', 'muster_mercenaries', 'contest_holding', 'espionage_intrigue', 'realm_magic_alchemy'}\n"
     ]
    },
    {
     "data": {
      "text/html": [
       "<div>\n",
       "<style scoped>\n",
       "    .dataframe tbody tr th:only-of-type {\n",
       "        vertical-align: middle;\n",
       "    }\n",
       "\n",
       "    .dataframe tbody tr th {\n",
       "        vertical-align: top;\n",
       "    }\n",
       "\n",
       "    .dataframe thead th {\n",
       "        text-align: right;\n",
       "    }\n",
       "</style>\n",
       "<table border=\"1\" class=\"dataframe\">\n",
       "  <thead>\n",
       "    <tr style=\"text-align: right;\">\n",
       "      <th></th>\n",
       "      <th>Year</th>\n",
       "      <th>Location</th>\n",
       "      <th>Event</th>\n",
       "      <th>Notes</th>\n",
       "    </tr>\n",
       "  </thead>\n",
       "  <tbody>\n",
       "  </tbody>\n",
       "</table>\n",
       "</div>"
      ],
      "text/plain": [
       "Empty DataFrame\n",
       "Columns: [Year, Location, Event, Notes]\n",
       "Index: []"
      ]
     },
     "execution_count": 1,
     "metadata": {},
     "output_type": "execute_result"
    }
   ],
   "source": [
    "from source.regency import Regency\n",
    "from source.mapping import Mapping\n",
    "from source.DQNAgent import DQNAgent\n",
    "from IPython.display import clear_output\n",
    "import pandas as pd\n",
    "import warnings\n",
    "warnings.filterwarnings('ignore')\n",
    "\n",
    "\n",
    "seasons = 5\n",
    "Game = Regency(True)\n",
    "clear_output()\n",
    "\n",
    "for a in range(seasons):\n",
    "    print(a)\n",
    "    Game.random_events()\n",
    "    Game.collect_regency_points()\n",
    "    Game.domain_initiative()\n",
    "    Game.collect_gold_bars()\n",
    "    Game.maintenance_costs(Update=True)\n",
    "    Game.Seasons[Game.Season]['Season']\n",
    "    Game.take_domain_actions()\n",
    "    Game.war_move()\n",
    "    Game.clean_up()\n",
    "    Game.clear_screen()\n",
    "\n",
    "df = pd.concat([Game.Seasons[b]['Actions'][a+1] for a in range(3) for b in range(seasons)])\n",
    "print(set(df['Action']))\n",
    "print()\n",
    "print(set(df[df['Success?']==True]['Action']))\n",
    "Game.War"
   ]
  },
  {
   "cell_type": "code",
   "execution_count": 2,
   "metadata": {},
   "outputs": [],
   "source": [
    "%matplotlib notebook"
   ]
  },
  {
   "cell_type": "code",
   "execution_count": 3,
   "metadata": {},
   "outputs": [
    {
     "data": {
      "text/html": [
       "<div>\n",
       "<style scoped>\n",
       "    .dataframe tbody tr th:only-of-type {\n",
       "        vertical-align: middle;\n",
       "    }\n",
       "\n",
       "    .dataframe tbody tr th {\n",
       "        vertical-align: top;\n",
       "    }\n",
       "\n",
       "    .dataframe thead th {\n",
       "        text-align: right;\n",
       "    }\n",
       "</style>\n",
       "<table border=\"1\" class=\"dataframe\">\n",
       "  <thead>\n",
       "    <tr style=\"text-align: right;\">\n",
       "      <th></th>\n",
       "      <th>Assassination</th>\n",
       "      <th>Diplomacy</th>\n",
       "      <th>Other</th>\n",
       "      <th>Regent</th>\n",
       "      <th>Target</th>\n",
       "      <th>Troop Movements</th>\n",
       "    </tr>\n",
       "  </thead>\n",
       "  <tbody>\n",
       "    <tr>\n",
       "      <th>0</th>\n",
       "      <td></td>\n",
       "      <td></td>\n",
       "      <td>1</td>\n",
       "      <td>GG</td>\n",
       "      <td>CoL</td>\n",
       "      <td></td>\n",
       "    </tr>\n",
       "    <tr>\n",
       "      <th>0</th>\n",
       "      <td></td>\n",
       "      <td></td>\n",
       "      <td>1</td>\n",
       "      <td>OT</td>\n",
       "      <td>CoL</td>\n",
       "      <td></td>\n",
       "    </tr>\n",
       "  </tbody>\n",
       "</table>\n",
       "</div>"
      ],
      "text/plain": [
       "  Assassination Diplomacy Other Regent Target Troop Movements\n",
       "0                             1     GG    CoL                \n",
       "0                             1     OT    CoL                "
      ]
     },
     "execution_count": 3,
     "metadata": {},
     "output_type": "execute_result"
    }
   ],
   "source": [
    "Game.Espionage"
   ]
  },
  {
   "cell_type": "code",
   "execution_count": 4,
   "metadata": {},
   "outputs": [
    {
     "data": {
      "text/plain": [
       "[]"
      ]
     },
     "execution_count": 4,
     "metadata": {},
     "output_type": "execute_result"
    }
   ],
   "source": [
    "Game.errors"
   ]
  },
  {
   "cell_type": "code",
   "execution_count": 5,
   "metadata": {},
   "outputs": [
    {
     "data": {
      "text/html": [
       "<div>\n",
       "<style scoped>\n",
       "    .dataframe tbody tr th:only-of-type {\n",
       "        vertical-align: middle;\n",
       "    }\n",
       "\n",
       "    .dataframe tbody tr th {\n",
       "        vertical-align: top;\n",
       "    }\n",
       "\n",
       "    .dataframe thead th {\n",
       "        text-align: right;\n",
       "    }\n",
       "</style>\n",
       "<table border=\"1\" class=\"dataframe\">\n",
       "  <thead>\n",
       "    <tr style=\"text-align: right;\">\n",
       "      <th></th>\n",
       "    </tr>\n",
       "  </thead>\n",
       "  <tbody>\n",
       "  </tbody>\n",
       "</table>\n",
       "</div>"
      ],
      "text/plain": [
       "Empty DataFrame\n",
       "Columns: []\n",
       "Index: []"
      ]
     },
     "execution_count": 5,
     "metadata": {},
     "output_type": "execute_result"
    }
   ],
   "source": [
    "dff = Game.failed_actions\n",
    "dff.head()"
   ]
  },
  {
   "cell_type": "code",
   "execution_count": 6,
   "metadata": {},
   "outputs": [
    {
     "data": {
      "text/html": [
       "<div>\n",
       "<style scoped>\n",
       "    .dataframe tbody tr th:only-of-type {\n",
       "        vertical-align: middle;\n",
       "    }\n",
       "\n",
       "    .dataframe tbody tr th {\n",
       "        vertical-align: top;\n",
       "    }\n",
       "\n",
       "    .dataframe thead th {\n",
       "        text-align: right;\n",
       "    }\n",
       "</style>\n",
       "<table border=\"1\" class=\"dataframe\">\n",
       "  <thead>\n",
       "    <tr style=\"text-align: right;\">\n",
       "      <th></th>\n",
       "      <th>Regent</th>\n",
       "      <th>Actor</th>\n",
       "      <th>Action Type</th>\n",
       "      <th>Action</th>\n",
       "      <th>Decision</th>\n",
       "      <th>Target Regent</th>\n",
       "      <th>Provence</th>\n",
       "      <th>Target Provence</th>\n",
       "      <th>Target Holding</th>\n",
       "      <th>Success?</th>\n",
       "      <th>Base Reward</th>\n",
       "      <th>State</th>\n",
       "      <th>Invalid</th>\n",
       "      <th>Message</th>\n",
       "    </tr>\n",
       "  </thead>\n",
       "  <tbody>\n",
       "    <tr>\n",
       "      <th>13</th>\n",
       "      <td>RCS</td>\n",
       "      <td>Suris Enlien (Rournils' Celestial Spell)</td>\n",
       "      <td>Action</td>\n",
       "      <td>espionage_assassination</td>\n",
       "      <td>[0.0, 0.0, 0.0, 0.0, 0.0, 0.0, 0.0, 0.0, 0.0, ...</td>\n",
       "      <td>MR</td>\n",
       "      <td></td>\n",
       "      <td>Caercas</td>\n",
       "      <td></td>\n",
       "      <td>False</td>\n",
       "      <td>-5</td>\n",
       "      <td>[1, 0, 0, 0, 0, 0, 0, 0, 0, 0, 0, 0, 1, 1, 1, ...</td>\n",
       "      <td>False</td>\n",
       "      <td>An attempt was made on Marlae Roesone's life!</td>\n",
       "    </tr>\n",
       "    <tr>\n",
       "      <th>27</th>\n",
       "      <td>TBM</td>\n",
       "      <td>Three Brother Mages</td>\n",
       "      <td>Action</td>\n",
       "      <td>espionage_assassination</td>\n",
       "      <td>[0.0, 0.0, 0.0, 0.0, 0.0, 0.0, 0.0, 0.0, 0.0, ...</td>\n",
       "      <td>LPA</td>\n",
       "      <td></td>\n",
       "      <td>Ruorven</td>\n",
       "      <td></td>\n",
       "      <td>False</td>\n",
       "      <td>0</td>\n",
       "      <td>[1, 0, 0, 0, 1, 0, 0, 0, 0, 0, 0, 0, 1, 1, 1, ...</td>\n",
       "      <td>False</td>\n",
       "      <td>An attempt was made on Life and Protection of ...</td>\n",
       "    </tr>\n",
       "    <tr>\n",
       "      <th>3</th>\n",
       "      <td>He</td>\n",
       "      <td>Hermedhie</td>\n",
       "      <td>Action</td>\n",
       "      <td>espionage_assassination</td>\n",
       "      <td>[0.0, 0.0, 0.0, 0.0, 0.0, 0.0, 0.0, 0.0, 0.0, ...</td>\n",
       "      <td>JR</td>\n",
       "      <td></td>\n",
       "      <td>Moriel</td>\n",
       "      <td></td>\n",
       "      <td>False</td>\n",
       "      <td>0</td>\n",
       "      <td>[0, 1, 0, 0, 0, 0, 0, 0, 0, 0, 0, 0, 0, 0, 0, ...</td>\n",
       "      <td>False</td>\n",
       "      <td>An attempt was made on Jaison Raenech's life!</td>\n",
       "    </tr>\n",
       "    <tr>\n",
       "      <th>15</th>\n",
       "      <td>MR</td>\n",
       "      <td>Marlae Roesone</td>\n",
       "      <td>Action</td>\n",
       "      <td>espionage_assassination</td>\n",
       "      <td>[0.0, 0.0, 0.0, 0.0, 0.0, 0.0, 0.0, 0.0, 0.0, ...</td>\n",
       "      <td>HD</td>\n",
       "      <td></td>\n",
       "      <td>Aerele</td>\n",
       "      <td></td>\n",
       "      <td>False</td>\n",
       "      <td>0</td>\n",
       "      <td>[0, 1, 0, 0, 0, 1, 1, 0, 0, 0, 0, 0, 1, 1, 1, ...</td>\n",
       "      <td>False</td>\n",
       "      <td>An attempt was made on Heirl Diem's life!</td>\n",
       "    </tr>\n",
       "  </tbody>\n",
       "</table>\n",
       "</div>"
      ],
      "text/plain": [
       "   Regent                                     Actor Action Type  \\\n",
       "13    RCS  Suris Enlien (Rournils' Celestial Spell)      Action   \n",
       "27    TBM                       Three Brother Mages      Action   \n",
       "3      He                                 Hermedhie      Action   \n",
       "15     MR                            Marlae Roesone      Action   \n",
       "\n",
       "                     Action  \\\n",
       "13  espionage_assassination   \n",
       "27  espionage_assassination   \n",
       "3   espionage_assassination   \n",
       "15  espionage_assassination   \n",
       "\n",
       "                                             Decision Target Regent Provence  \\\n",
       "13  [0.0, 0.0, 0.0, 0.0, 0.0, 0.0, 0.0, 0.0, 0.0, ...            MR            \n",
       "27  [0.0, 0.0, 0.0, 0.0, 0.0, 0.0, 0.0, 0.0, 0.0, ...           LPA            \n",
       "3   [0.0, 0.0, 0.0, 0.0, 0.0, 0.0, 0.0, 0.0, 0.0, ...            JR            \n",
       "15  [0.0, 0.0, 0.0, 0.0, 0.0, 0.0, 0.0, 0.0, 0.0, ...            HD            \n",
       "\n",
       "   Target Provence Target Holding Success? Base Reward  \\\n",
       "13         Caercas                   False          -5   \n",
       "27         Ruorven                   False           0   \n",
       "3           Moriel                   False           0   \n",
       "15          Aerele                   False           0   \n",
       "\n",
       "                                                State Invalid  \\\n",
       "13  [1, 0, 0, 0, 0, 0, 0, 0, 0, 0, 0, 0, 1, 1, 1, ...   False   \n",
       "27  [1, 0, 0, 0, 1, 0, 0, 0, 0, 0, 0, 0, 1, 1, 1, ...   False   \n",
       "3   [0, 1, 0, 0, 0, 0, 0, 0, 0, 0, 0, 0, 0, 0, 0, ...   False   \n",
       "15  [0, 1, 0, 0, 0, 1, 1, 0, 0, 0, 0, 0, 1, 1, 1, ...   False   \n",
       "\n",
       "                                              Message  \n",
       "13      An attempt was made on Marlae Roesone's life!  \n",
       "27  An attempt was made on Life and Protection of ...  \n",
       "3       An attempt was made on Jaison Raenech's life!  \n",
       "15          An attempt was made on Heirl Diem's life!  "
      ]
     },
     "execution_count": 6,
     "metadata": {},
     "output_type": "execute_result"
    }
   ],
   "source": [
    "df[df['Action'].str.contains('assass')]"
   ]
  },
  {
   "cell_type": "code",
   "execution_count": null,
   "metadata": {},
   "outputs": [],
   "source": []
  }
 ],
 "metadata": {
  "kernelspec": {
   "display_name": "Python 3",
   "language": "python",
   "name": "python3"
  },
  "language_info": {
   "codemirror_mode": {
    "name": "ipython",
    "version": 3
   },
   "file_extension": ".py",
   "mimetype": "text/x-python",
   "name": "python",
   "nbconvert_exporter": "python",
   "pygments_lexer": "ipython3",
   "version": "3.7.3"
  }
 },
 "nbformat": 4,
 "nbformat_minor": 2
}
