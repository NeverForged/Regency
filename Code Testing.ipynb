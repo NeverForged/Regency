{
 "cells": [
  {
   "cell_type": "code",
   "execution_count": 1,
   "metadata": {
    "scrolled": false
   },
   "outputs": [
    {
     "name": "stderr",
     "output_type": "stream",
     "text": [
      "Using TensorFlow backend.\n"
     ]
    }
   ],
   "source": [
    "from source.regency import Regency\n",
    "from source.mapping import Mapping\n",
    "from source.DQNAgent import DQNAgent\n",
    "from IPython.display import clear_output\n",
    "import pandas as pd\n",
    "import warnings\n",
    "warnings.filterwarnings('ignore')"
   ]
  },
  {
   "cell_type": "code",
   "execution_count": 2,
   "metadata": {},
   "outputs": [],
   "source": [
    "%matplotlib notebook"
   ]
  },
  {
   "cell_type": "code",
   "execution_count": 3,
   "metadata": {},
   "outputs": [
    {
     "name": "stdout",
     "output_type": "stream",
     "text": [
      "WARNING:tensorflow:From C:\\Users\\darin\\Anaconda3\\lib\\site-packages\\tensorflow\\python\\ops\\math_ops.py:3066: to_int32 (from tensorflow.python.ops.math_ops) is deprecated and will be removed in a future version.\n",
      "Instructions for updating:\n",
      "Use tf.cast instead.\n"
     ]
    }
   ],
   "source": [
    "seasons = 1\n",
    "Game = Regency(True)\n",
    "clear_output()\n",
    "\n",
    "for a in range(seasons):\n",
    "    Game.random_events()\n",
    "    Game.collect_regency_points()\n",
    "    Game.domain_initiative()\n",
    "    Game.collect_gold_bars()\n",
    "    Game.maintenance_costs(Update=True)\n",
    "    \n"
   ]
  },
  {
   "cell_type": "code",
   "execution_count": 4,
   "metadata": {},
   "outputs": [],
   "source": [
    "\n",
    "Game.change_regent('JR', Gold_Bars=200)"
   ]
  },
  {
   "cell_type": "code",
   "execution_count": 5,
   "metadata": {
    "scrolled": true
   },
   "outputs": [
    {
     "name": "stdout",
     "output_type": "stream",
     "text": [
      "41 LPA 1 0 0 0ion 1 - Initiative 20\n",
      "41 TCV 0 1 0 0ion 1 - Initiative 17\n",
      "39 GGn 0 - Action 1 - Initiative 15\n",
      "41 GG 0 0 0 1\n",
      "False 0 Failed to Build a Castle\n",
      "41 JR 0 0 0 1tion 1 - Initiative  9\n",
      "False 0 Failed to Build a Castle\n",
      "41 CoL 0 1 0 1ion 1 - Initiative  6\n",
      "41 CSH 0 1 1 0ion 1 - Initiative  4\n",
      "35 CSH LPA 0 1 1 0 0 0\n",
      "41 CSH 0 1 1 0\n",
      "35 CSH LPA 0 1 1 0 0 0\n",
      "35 CSH LPA 0 1 1 0 0 0\n",
      "35 CSH LPA 0 1 1 0 0 0\n",
      "35 CSH LPA 0 1 1 0 0 0\n",
      "35 CSH LPA 0 1 1 0 0 0\n",
      "35 CSH LPA 0 1 1 0 0 0\n",
      "35 CSH LPA 0 1 1 0 0 0\n",
      "35 CSH LPA 0 1 1 0 0 0\n",
      "35 CSH LPA 0 1 1 0 0 0\n",
      "35 CSH LPA 0 1 1 0 0 0\n",
      "35 CSH LPA 0 1 1 0 0 0\n",
      "Time to Finish the Rounditiative  2\n",
      "0\n"
     ]
    }
   ],
   "source": [
    "Game.set_override('GG', 41)\n",
    "Game.set_override('JR', 41)\n",
    "Game.take_domain_actions()\n"
   ]
  },
  {
   "cell_type": "code",
   "execution_count": 6,
   "metadata": {},
   "outputs": [
    {
     "data": {
      "text/html": [
       "<div>\n",
       "<style scoped>\n",
       "    .dataframe tbody tr th:only-of-type {\n",
       "        vertical-align: middle;\n",
       "    }\n",
       "\n",
       "    .dataframe tbody tr th {\n",
       "        vertical-align: top;\n",
       "    }\n",
       "\n",
       "    .dataframe thead th {\n",
       "        text-align: right;\n",
       "    }\n",
       "</style>\n",
       "<table border=\"1\" class=\"dataframe\">\n",
       "  <thead>\n",
       "    <tr style=\"text-align: right;\">\n",
       "      <th></th>\n",
       "      <th>Regent</th>\n",
       "      <th>Project Type</th>\n",
       "      <th>Details</th>\n",
       "      <th>Gold Bars Left</th>\n",
       "    </tr>\n",
       "  </thead>\n",
       "  <tbody>\n",
       "    <tr>\n",
       "      <th>0</th>\n",
       "      <td>JR</td>\n",
       "      <td>Road</td>\n",
       "      <td>(Moriel, Spiritsend)</td>\n",
       "      <td>3</td>\n",
       "    </tr>\n",
       "  </tbody>\n",
       "</table>\n",
       "</div>"
      ],
      "text/plain": [
       "  Regent Project Type               Details Gold Bars Left\n",
       "0     JR         Road  (Moriel, Spiritsend)              3"
      ]
     },
     "execution_count": 6,
     "metadata": {},
     "output_type": "execute_result"
    }
   ],
   "source": [
    "Game.Projects"
   ]
  },
  {
   "cell_type": "code",
   "execution_count": 7,
   "metadata": {},
   "outputs": [
    {
     "name": "stdout",
     "output_type": "stream",
     "text": [
      "35 TF Ch 0 0 0 0 0 0- Initiative 11\n",
      "35 EC Ch 1 0 0 0 0 0- Initiative  9\n",
      "39 CoL 0 - Action 2 - Initiative  6\n",
      "41 CSH 0 1 1 0ion 2 - Initiative  4\n",
      "41 CSH 0 1 1 0\n",
      "35 CSH MF 0 1 1 0 0 0\n",
      "Time to Finish the Rounditiative  2\n",
      "1\n"
     ]
    }
   ],
   "source": [
    "Game.set_override('WM', 28)\n",
    "\n",
    "Game.take_domain_actions()\n"
   ]
  },
  {
   "cell_type": "code",
   "execution_count": 8,
   "metadata": {},
   "outputs": [
    {
     "name": "stdout",
     "output_type": "stream",
     "text": [
      "Time to Finish the Rounditiative  2\n",
      "2\n"
     ]
    }
   ],
   "source": [
    "Game.set_override('WM', 32, enemy='JR')\n",
    "\n",
    "Game.take_domain_actions()\n"
   ]
  },
  {
   "cell_type": "code",
   "execution_count": 9,
   "metadata": {
    "scrolled": true
   },
   "outputs": [],
   "source": [
    "for i in range(Game.War.shape[0]):\n",
    "    print('-'*20)\n",
    "    print(Game.War['Year'].values[i])\n",
    "    print()\n",
    "    print(Game.War['Notes'].values[i])\n",
    "    "
   ]
  },
  {
   "cell_type": "code",
   "execution_count": 10,
   "metadata": {},
   "outputs": [
    {
     "name": "stdout",
     "output_type": "stream",
     "text": [
      "{'decree_asset_seizure', 'investure_invest_friend', 'realm_magic_alchemy', 'grant', 'muster_mercenaries', 'adventuring', 'diplomacy_force_tribute', 'fortify_low_pop', 'fortify_capital', 'build_ship', 'create_law_holding', 'investiture_become_vassal_friend', 'diplomacy_troop_permission', 'espionage_discover_troop_movements', 'build_road', 'espionage_assassination', 'espionage_intrigue', 'agitiate_for_friend', 'Lieutenant', 'declare_war', 'investure_divest_enemy', 'create_guild_holding'}\n",
      "\n",
      "{'agitiate_for_friend', 'diplomacy_troop_permission', 'realm_magic_alchemy', 'adventuring', 'Lieutenant', 'declare_war', 'espionage_assassination', 'grant', 'decree_asset_seizure', 'build_road', 'investure_invest_friend', 'muster_mercenaries', 'build_ship', 'investiture_become_vassal_friend'}\n"
     ]
    }
   ],
   "source": [
    "df = pd.concat([Game.Seasons[b]['Actions'][a+1] for a in range(3) for b in range(seasons)])\n",
    "print(set(df['Action']))\n",
    "print()\n",
    "print(set(df[df['Success?']==True]['Action']))\n",
    "#Game.War\n",
    "\n"
   ]
  },
  {
   "cell_type": "code",
   "execution_count": 11,
   "metadata": {},
   "outputs": [
    {
     "data": {
      "text/plain": [
       "array(['Failed to Build a Castle', 'Failed to Build a Castle',\n",
       "       'Failed to Build a Castle'], dtype=object)"
      ]
     },
     "execution_count": 11,
     "metadata": {},
     "output_type": "execute_result"
    }
   ],
   "source": [
    "df[df['Action'].str.contains('fort')]['Message'].values"
   ]
  },
  {
   "cell_type": "code",
   "execution_count": null,
   "metadata": {},
   "outputs": [],
   "source": []
  }
 ],
 "metadata": {
  "kernelspec": {
   "display_name": "Python 3",
   "language": "python",
   "name": "python3"
  },
  "language_info": {
   "codemirror_mode": {
    "name": "ipython",
    "version": 3
   },
   "file_extension": ".py",
   "mimetype": "text/x-python",
   "name": "python",
   "nbconvert_exporter": "python",
   "pygments_lexer": "ipython3",
   "version": "3.7.3"
  }
 },
 "nbformat": 4,
 "nbformat_minor": 2
}
