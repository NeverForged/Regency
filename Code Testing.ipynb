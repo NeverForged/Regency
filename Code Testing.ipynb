{
 "cells": [
  {
   "cell_type": "code",
   "execution_count": 1,
   "metadata": {
    "scrolled": true
   },
   "outputs": [
    {
     "name": "stdout",
     "output_type": "stream",
     "text": [
      "WARNING:tensorflow:From C:\\ProgramData\\Anaconda3\\lib\\site-packages\\tensorflow\\python\\ops\\math_ops.py:3066: to_int32 (from tensorflow.python.ops.math_ops) is deprecated and will be removed in a future version.\n",
      "Instructions for updating:\n",
      "Use tf.cast instead.\n"
     ]
    }
   ],
   "source": [
    "from source.regency import Regency\n",
    "from source.mapping import Mapping\n",
    "from source.DQNAgent import DQNAgent\n",
    "from IPython.display import clear_output\n",
    "import pandas as pd\n",
    "import warnings\n",
    "warnings.filterwarnings('ignore')\n",
    "\n",
    "\n",
    "seasons = 1\n",
    "Game = Regency(True)\n",
    "clear_output()\n",
    "Game.add_relationship('Go','Fh',At_War=1)\n",
    "\n",
    "#for a in range(seasons):\n",
    "Game.random_events()\n",
    "Game.collect_regency_points()\n",
    "Game.domain_initiative()\n",
    "Game.collect_gold_bars()\n",
    "Game.maintenance_costs(Update=True)\n",
    "#     Game.Seasons[0][1]['Override']['Go'] = (22,'enemy','Fh')\n",
    "#     Game.take_domain_actions(1)\n",
    "#     Game.take_domain_actions(2)\n",
    "#     Game.take_domain_actions(3)\n",
    "    # Game.clear_screen()\n",
    "\n",
    "#df = pd.concat([Game.Seasons[b]['Actions'][a+1] for a in range(3) for b in range(seasons)])\n",
    "#print(set(df['Action']))\n",
    "#print()\n",
    "#print(set(df[df['Success?']==True]['Action']))\n",
    "#Game.War\n",
    "\n"
   ]
  },
  {
   "cell_type": "code",
   "execution_count": 2,
   "metadata": {},
   "outputs": [],
   "source": [
    "Game.Seasons[0]['Override'][1]['Go'] = (22,'enemy','Fh')\n",
    "Game.Seasons[0]['Override'][1]['Fh'] = (41,'friend','FD')\n",
    "Game.Seasons[0]['Override'][1]['FD'] = (21,'friend','Fh')"
   ]
  },
  {
   "cell_type": "code",
   "execution_count": 3,
   "metadata": {},
   "outputs": [
    {
     "name": "stdout",
     "output_type": "stream",
     "text": [
      "Forgot to mark a capitalitiative 12\n",
      "Forgot to mark a capital\n",
      "Forgot to mark a capital\n",
      "Time to Finish the Rounditiative  2\n",
      "0\n"
     ]
    },
    {
     "data": {
      "text/html": [
       "<div>\n",
       "<style scoped>\n",
       "    .dataframe tbody tr th:only-of-type {\n",
       "        vertical-align: middle;\n",
       "    }\n",
       "\n",
       "    .dataframe tbody tr th {\n",
       "        vertical-align: top;\n",
       "    }\n",
       "\n",
       "    .dataframe thead th {\n",
       "        text-align: right;\n",
       "    }\n",
       "</style>\n",
       "<table border=\"1\" class=\"dataframe\">\n",
       "  <thead>\n",
       "    <tr style=\"text-align: right;\">\n",
       "      <th></th>\n",
       "      <th>Year</th>\n",
       "      <th>Location</th>\n",
       "      <th>Event</th>\n",
       "      <th>Notes</th>\n",
       "    </tr>\n",
       "  </thead>\n",
       "  <tbody>\n",
       "    <tr>\n",
       "      <th>0</th>\n",
       "      <td>Sarimiere, year 1524 HC</td>\n",
       "      <td>Awallaigh</td>\n",
       "      <td>Occupation of Awallaigh</td>\n",
       "      <td>The Gorgon's forces occupied Awallaigh, quashi...</td>\n",
       "    </tr>\n",
       "  </tbody>\n",
       "</table>\n",
       "</div>"
      ],
      "text/plain": [
       "                      Year   Location                    Event  \\\n",
       "0  Sarimiere, year 1524 HC  Awallaigh  Occupation of Awallaigh   \n",
       "\n",
       "                                               Notes  \n",
       "0  The Gorgon's forces occupied Awallaigh, quashi...  "
      ]
     },
     "execution_count": 3,
     "metadata": {},
     "output_type": "execute_result"
    }
   ],
   "source": [
    "Game.add_relationship('Go','Fh',At_War=1)\n",
    "Game.take_domain_actions(1)\n",
    "Game.War"
   ]
  },
  {
   "cell_type": "code",
   "execution_count": null,
   "metadata": {},
   "outputs": [
    {
     "name": "stdout",
     "output_type": "stream",
     "text": [
      "Forgot to mark a capitalitiative 12\n",
      "Forgot to mark a capital\n",
      "Forgot to mark a capital\n",
      "Time to Finish the Rounditiative  2\n",
      "1\n"
     ]
    }
   ],
   "source": [
    "Game.Seasons[0]['Override'][2]['FD'] = (21,'friend','Fh')\n",
    "Game.Seasons[0]['Override'][2]['Go'] = (41,'enemy','FD')\n",
    "Game.take_domain_actions(2)"
   ]
  },
  {
   "cell_type": "code",
   "execution_count": null,
   "metadata": {},
   "outputs": [],
   "source": [
    "Game.War"
   ]
  },
  {
   "cell_type": "code",
   "execution_count": null,
   "metadata": {},
   "outputs": [],
   "source": [
    "Game.Seasons[0]['Actions'].keys()"
   ]
  },
  {
   "cell_type": "code",
   "execution_count": null,
   "metadata": {},
   "outputs": [],
   "source": [
    "Game.Troops[Game.Troops['Regent']=='Go']"
   ]
  },
  {
   "cell_type": "code",
   "execution_count": null,
   "metadata": {},
   "outputs": [],
   "source": [
    "action = 2\n",
    "Game.Seasons[0]['Actions'][action][Game.Seasons[0]['Actions'][action]['Regent']=='Fh']"
   ]
  },
  {
   "cell_type": "code",
   "execution_count": null,
   "metadata": {},
   "outputs": [],
   "source": [
    "self=Game\n",
    "Regent='Go'\n",
    "\n",
    "self.Seasons[self.Season]['Override'][self.Action][Regent]"
   ]
  },
  {
   "cell_type": "code",
   "execution_count": null,
   "metadata": {},
   "outputs": [],
   "source": [
    "Game.attackers"
   ]
  },
  {
   "cell_type": "code",
   "execution_count": null,
   "metadata": {},
   "outputs": [],
   "source": [
    "Game.defenders"
   ]
  },
  {
   "cell_type": "code",
   "execution_count": null,
   "metadata": {},
   "outputs": [],
   "source": [
    "Game.save_forces"
   ]
  },
  {
   "cell_type": "code",
   "execution_count": null,
   "metadata": {},
   "outputs": [],
   "source": []
  }
 ],
 "metadata": {
  "kernelspec": {
   "display_name": "Python 3",
   "language": "python",
   "name": "python3"
  },
  "language_info": {
   "codemirror_mode": {
    "name": "ipython",
    "version": 3
   },
   "file_extension": ".py",
   "mimetype": "text/x-python",
   "name": "python",
   "nbconvert_exporter": "python",
   "pygments_lexer": "ipython3",
   "version": "3.7.3"
  }
 },
 "nbformat": 4,
 "nbformat_minor": 2
}
