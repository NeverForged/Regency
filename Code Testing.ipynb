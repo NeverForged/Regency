{
 "cells": [
  {
   "cell_type": "code",
   "execution_count": 1,
   "metadata": {
    "scrolled": false
   },
   "outputs": [
    {
     "name": "stderr",
     "output_type": "stream",
     "text": [
      "Using TensorFlow backend.\n"
     ]
    }
   ],
   "source": [
    "from source.regency import Regency\n",
    "from source.mapping import Mapping\n",
    "from source.DQNAgent import DQNAgent\n",
    "from IPython.display import clear_output\n",
    "import pandas as pd\n",
    "import warnings\n",
    "warnings.filterwarnings('ignore')"
   ]
  },
  {
   "cell_type": "code",
   "execution_count": 2,
   "metadata": {},
   "outputs": [],
   "source": [
    "%matplotlib notebook"
   ]
  },
  {
   "cell_type": "code",
   "execution_count": 3,
   "metadata": {},
   "outputs": [
    {
     "name": "stdout",
     "output_type": "stream",
     "text": [
      "WARNING:tensorflow:From C:\\ProgramData\\Anaconda3\\lib\\site-packages\\tensorflow\\python\\ops\\math_ops.py:3066: to_int32 (from tensorflow.python.ops.math_ops) is deprecated and will be removed in a future version.\n",
      "Instructions for updating:\n",
      "Use tf.cast instead.\n"
     ]
    }
   ],
   "source": [
    "seasons = 1\n",
    "Game = Regency(True)\n",
    "clear_output()\n",
    "\n",
    "for a in range(seasons):\n",
    "    Game.random_events()\n",
    "    Game.collect_regency_points()\n",
    "    Game.domain_initiative()\n",
    "    Game.collect_gold_bars()\n",
    "    Game.maintenance_costs(Update=True)\n",
    "    \n"
   ]
  },
  {
   "cell_type": "code",
   "execution_count": 4,
   "metadata": {},
   "outputs": [],
   "source": [
    "\n",
    "Game.change_regent('JR', Gold_Bars=200, Regency_Points=200)"
   ]
  },
  {
   "cell_type": "code",
   "execution_count": 5,
   "metadata": {
    "scrolled": true
   },
   "outputs": [
    {
     "name": "stdout",
     "output_type": "stream",
     "text": [
      "39 CSH 0 - Action 1 - Initiative 22\n",
      "35 TBM CoL 0 1 0 0 0 0Initiative 18\n",
      "39 DWn 0 - Action 1 - Initiative 16\n",
      "35 MF GG 0 0 0 0 0 1- Initiative 15\n",
      "35 Ch CoL 0 1 0 0 0 0 Initiative 12\n",
      "35 Ch CoL 0 1 0 0 0 0\n",
      "35 Ch CoL 0 1 0 0 0 0\n",
      "35 Ch CoL 0 1 0 0 0 0\n",
      "35 Ch CoL 0 1 0 0 0 0\n",
      "35 Ch CoL 0 1 0 0 0 0\n",
      "35 Ch CoL 0 1 0 0 0 0\n",
      "35 Ch CoL 0 1 0 0 0 0\n",
      "35 Ch CoL 0 1 0 0 0 0\n",
      "35 GG DW 1 0 0 0 1 0- Initiative 11\n",
      "35 GG DW 1 0 0 0 1 0\n",
      "35 GG DW 1 0 0 0 1 0\n",
      "35 TCV Is 1 1 0 0 0 0\n",
      "35 TCV JR 0 1 0 0 0 0\n",
      "35 TCV JR 0 1 0 0 0 0\n",
      "35ason 0 - Action 1 - Initiative  7 WM Sw2 1 0 0 0 1 0\n",
      "35 WM Sw 0 0 0 0 0 0\n",
      "35 Is GG 0 0 0 0 0 0- Initiative  5\n",
      "35 Sw Sw2 0 0 0 0 0 0 Initiative  2\n",
      "Time to Finish the Rounditiative  1\n",
      "0\n"
     ]
    }
   ],
   "source": [
    "Game.set_override('GG', 41, Number=3, Name='My castle!')\n",
    "Game.set_override('JR', 41)\n",
    "Game.take_domain_actions()\n"
   ]
  },
  {
   "cell_type": "code",
   "execution_count": 6,
   "metadata": {},
   "outputs": [
    {
     "data": {
      "text/html": [
       "<div>\n",
       "<style scoped>\n",
       "    .dataframe tbody tr th:only-of-type {\n",
       "        vertical-align: middle;\n",
       "    }\n",
       "\n",
       "    .dataframe tbody tr th {\n",
       "        vertical-align: top;\n",
       "    }\n",
       "\n",
       "    .dataframe thead th {\n",
       "        text-align: right;\n",
       "    }\n",
       "</style>\n",
       "<table border=\"1\" class=\"dataframe\">\n",
       "  <thead>\n",
       "    <tr style=\"text-align: right;\">\n",
       "      <th></th>\n",
       "      <th>Regent</th>\n",
       "      <th>Project Type</th>\n",
       "      <th>Details</th>\n",
       "      <th>Gold Bars Left</th>\n",
       "    </tr>\n",
       "  </thead>\n",
       "  <tbody>\n",
       "    <tr>\n",
       "      <th>0</th>\n",
       "      <td>EC</td>\n",
       "      <td>Castle</td>\n",
       "      <td>(Duornil, 1)</td>\n",
       "      <td>6</td>\n",
       "    </tr>\n",
       "    <tr>\n",
       "      <th>5</th>\n",
       "      <td>GG</td>\n",
       "      <td>Castle</td>\n",
       "      <td>(Rivenrock, 3)</td>\n",
       "      <td>18</td>\n",
       "    </tr>\n",
       "    <tr>\n",
       "      <th>6</th>\n",
       "      <td>JR</td>\n",
       "      <td>Castle</td>\n",
       "      <td>(Moriel, 1)</td>\n",
       "      <td>6</td>\n",
       "    </tr>\n",
       "  </tbody>\n",
       "</table>\n",
       "</div>"
      ],
      "text/plain": [
       "  Regent Project Type         Details Gold Bars Left\n",
       "0     EC       Castle    (Duornil, 1)              6\n",
       "5     GG       Castle  (Rivenrock, 3)             18\n",
       "6     JR       Castle     (Moriel, 1)              6"
      ]
     },
     "execution_count": 6,
     "metadata": {},
     "output_type": "execute_result"
    }
   ],
   "source": [
    "Game.Projects"
   ]
  },
  {
   "cell_type": "code",
   "execution_count": 7,
   "metadata": {
    "scrolled": false
   },
   "outputs": [
    {
     "name": "stdout",
     "output_type": "stream",
     "text": [
      "39 WBn 0 - Action 2 - Initiative 20\n",
      "39 TFn 0 - Action 2 - Initiative 19\n",
      "35 Ch CoL 0 1 0 0 0 0 Initiative 12\n",
      "39 TCV 0 - Action 2 - Initiative 11\n",
      "Time to Finish the Rounditiative  1\n",
      "1\n"
     ]
    }
   ],
   "source": [
    "Game.set_override('GG', 42)\n",
    "Game.set_override('JR', 42)\n",
    "\n",
    "Game.take_domain_actions()\n"
   ]
  },
  {
   "cell_type": "code",
   "execution_count": 8,
   "metadata": {},
   "outputs": [
    {
     "name": "stdout",
     "output_type": "stream",
     "text": [
      "35 TCV DW 0 1 1 1 0 0 Initiative 11\n",
      "Time to Finish the Rounditiative  1\n",
      "2\n"
     ]
    }
   ],
   "source": [
    "Game.set_override('GG', 43)\n",
    "Game.set_override('JR', 43)\n",
    "\n",
    "Game.take_domain_actions()\n"
   ]
  },
  {
   "cell_type": "code",
   "execution_count": 9,
   "metadata": {
    "scrolled": true
   },
   "outputs": [],
   "source": [
    "for i in range(Game.War.shape[0]):\n",
    "    print('-'*20)\n",
    "    print(Game.War['Year'].values[i])\n",
    "    print()\n",
    "    print(Game.War['Notes'].values[i])\n",
    "    "
   ]
  },
  {
   "cell_type": "code",
   "execution_count": 10,
   "metadata": {},
   "outputs": [
    {
     "name": "stdout",
     "output_type": "stream",
     "text": [
      "{'investure_invest_friend', 'build_ship', 'muster_levies', 'investure_divest_enemy', 'fortify_low_pop', 'adventuring', 'realm_magic_demagogue_enemy', 'fortify_capital', 'diplomacy_form_alliance', 'create_guild_holding', 'diplomacy_troop_permission', 'grant', 'realm_magic_bless_land', 'fortify_high_pop', 'realm_magic_mass_destruction', 'realm_magic_alchemy', 'diplomacy_force_tribute', 'muster_mercenaries', 'contest_holding'}\n",
      "\n",
      "{'realm_magic_bless_land', 'adventuring', 'fortify_capital', 'realm_magic_alchemy', 'diplomacy_form_alliance', 'diplomacy_force_tribute', 'fortify_high_pop', 'create_guild_holding', 'investure_invest_friend', 'build_ship', 'muster_mercenaries', 'grant', 'fortify_low_pop'}\n"
     ]
    }
   ],
   "source": [
    "df = pd.concat([Game.Seasons[b]['Actions'][a+1] for a in range(3) for b in range(seasons)])\n",
    "print(set(df['Action']))\n",
    "print()\n",
    "print(set(df[df['Success?']==True]['Action']))\n",
    "#Game.War\n",
    "\n"
   ]
  },
  {
   "cell_type": "code",
   "execution_count": 11,
   "metadata": {},
   "outputs": [
    {
     "data": {
      "text/plain": [
       "array(['Eluvie Cariele started construction on Moonstones, a level 1 castle in Duornil',\n",
       "       'Overthane Grimm Graybeard started construction on My castle!, a level 3 castle in Rivenrock',\n",
       "       'Jaison Raenech started construction on Dragonsquare, a level 1 castle in Moriel',\n",
       "       \"Overthane Grimm Graybeard started construction on Ghoststones, a level 2 castle in Cliff's Lament\",\n",
       "       'Jaison Raenech started construction on Nightgate, a level 1 castle in Brothendar',\n",
       "       'Failed to Build a Castle', 'Failed to Build a Castle',\n",
       "       \"Overthane Grimm Graybeard started construction on Lonefell, a level 2 castle in Bran's Retreat\",\n",
       "       'Jaison Raenech started construction on The Iron Holt, a level 1 castle in Algael'],\n",
       "      dtype=object)"
      ]
     },
     "execution_count": 11,
     "metadata": {},
     "output_type": "execute_result"
    }
   ],
   "source": [
    "df[df['Action'].str.contains('fort')]['Message'].values"
   ]
  },
  {
   "cell_type": "code",
   "execution_count": 12,
   "metadata": {},
   "outputs": [
    {
     "data": {
      "text/html": [
       "<div>\n",
       "<style scoped>\n",
       "    .dataframe tbody tr th:only-of-type {\n",
       "        vertical-align: middle;\n",
       "    }\n",
       "\n",
       "    .dataframe tbody tr th {\n",
       "        vertical-align: top;\n",
       "    }\n",
       "\n",
       "    .dataframe thead th {\n",
       "        text-align: right;\n",
       "    }\n",
       "</style>\n",
       "<table border=\"1\" class=\"dataframe\">\n",
       "  <thead>\n",
       "    <tr style=\"text-align: right;\">\n",
       "      <th></th>\n",
       "      <th>Regent</th>\n",
       "      <th>Project Type</th>\n",
       "      <th>Details</th>\n",
       "      <th>Gold Bars Left</th>\n",
       "    </tr>\n",
       "  </thead>\n",
       "  <tbody>\n",
       "    <tr>\n",
       "      <th>0</th>\n",
       "      <td>EC</td>\n",
       "      <td>Castle</td>\n",
       "      <td>(Duornil, 1)</td>\n",
       "      <td>4</td>\n",
       "    </tr>\n",
       "    <tr>\n",
       "      <th>1</th>\n",
       "      <td>GG</td>\n",
       "      <td>Castle</td>\n",
       "      <td>(Rivenrock, 3)</td>\n",
       "      <td>17</td>\n",
       "    </tr>\n",
       "    <tr>\n",
       "      <th>2</th>\n",
       "      <td>JR</td>\n",
       "      <td>Castle</td>\n",
       "      <td>(Moriel, 1)</td>\n",
       "      <td>5</td>\n",
       "    </tr>\n",
       "    <tr>\n",
       "      <th>4</th>\n",
       "      <td>GG</td>\n",
       "      <td>Castle</td>\n",
       "      <td>(Cliff's Lament, 2)</td>\n",
       "      <td>8</td>\n",
       "    </tr>\n",
       "    <tr>\n",
       "      <th>5</th>\n",
       "      <td>JR</td>\n",
       "      <td>Castle</td>\n",
       "      <td>(Brothendar, 1)</td>\n",
       "      <td>4</td>\n",
       "    </tr>\n",
       "    <tr>\n",
       "      <th>7</th>\n",
       "      <td>GG</td>\n",
       "      <td>Castle</td>\n",
       "      <td>(Bran's Retreat, 2)</td>\n",
       "      <td>15</td>\n",
       "    </tr>\n",
       "    <tr>\n",
       "      <th>8</th>\n",
       "      <td>JR</td>\n",
       "      <td>Castle</td>\n",
       "      <td>(Algael, 1)</td>\n",
       "      <td>2</td>\n",
       "    </tr>\n",
       "  </tbody>\n",
       "</table>\n",
       "</div>"
      ],
      "text/plain": [
       "  Regent Project Type              Details Gold Bars Left\n",
       "0     EC       Castle         (Duornil, 1)              4\n",
       "1     GG       Castle       (Rivenrock, 3)             17\n",
       "2     JR       Castle          (Moriel, 1)              5\n",
       "4     GG       Castle  (Cliff's Lament, 2)              8\n",
       "5     JR       Castle      (Brothendar, 1)              4\n",
       "7     GG       Castle  (Bran's Retreat, 2)             15\n",
       "8     JR       Castle          (Algael, 1)              2"
      ]
     },
     "execution_count": 12,
     "metadata": {},
     "output_type": "execute_result"
    }
   ],
   "source": [
    "Game.Projects"
   ]
  },
  {
   "cell_type": "code",
   "execution_count": null,
   "metadata": {},
   "outputs": [],
   "source": []
  }
 ],
 "metadata": {
  "kernelspec": {
   "display_name": "Python 3",
   "language": "python",
   "name": "python3"
  },
  "language_info": {
   "codemirror_mode": {
    "name": "ipython",
    "version": 3
   },
   "file_extension": ".py",
   "mimetype": "text/x-python",
   "name": "python",
   "nbconvert_exporter": "python",
   "pygments_lexer": "ipython3",
   "version": "3.7.3"
  }
 },
 "nbformat": 4,
 "nbformat_minor": 2
}
