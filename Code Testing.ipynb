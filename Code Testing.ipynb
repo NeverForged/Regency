{
 "cells": [
  {
   "cell_type": "code",
   "execution_count": 1,
   "metadata": {
    "scrolled": false
   },
   "outputs": [
    {
     "ename": "SyntaxError",
     "evalue": "invalid syntax (regency.py, line 6025)",
     "output_type": "error",
     "traceback": [
      "Traceback \u001b[1;36m(most recent call last)\u001b[0m:\n",
      "  File \u001b[0;32m\"C:\\ProgramData\\Anaconda3\\lib\\site-packages\\IPython\\core\\interactiveshell.py\"\u001b[0m, line \u001b[0;32m3296\u001b[0m, in \u001b[0;35mrun_code\u001b[0m\n    exec(code_obj, self.user_global_ns, self.user_ns)\n",
      "\u001b[1;36m  File \u001b[1;32m\"<ipython-input-1-232c75b86c02>\"\u001b[1;36m, line \u001b[1;32m1\u001b[1;36m, in \u001b[1;35m<module>\u001b[1;36m\u001b[0m\n\u001b[1;33m    from source.regency import Regency\u001b[0m\n",
      "\u001b[1;36m  File \u001b[1;32m\"C:\\git\\Regency\\source\\regency.py\"\u001b[1;36m, line \u001b[1;32m6025\u001b[0m\n\u001b[1;33m    attackers['Hull'] = (attackers['AN']=='N')*(attackers['Hull'] - 1*(attackers['Roll']<=0) - 1*(attackers['Sea Roll'] > attackers['Seaworthiness']) -10*(attackers['Seaworthiness']<=0)\u001b[0m\n\u001b[1;37m            ^\u001b[0m\n\u001b[1;31mSyntaxError\u001b[0m\u001b[1;31m:\u001b[0m invalid syntax\n"
     ]
    }
   ],
   "source": [
    "from source.regency import Regency\n",
    "from source.mapping import Mapping\n",
    "from source.DQNAgent import DQNAgent\n",
    "from IPython.display import clear_output\n",
    "import pandas as pd\n",
    "import warnings\n",
    "warnings.filterwarnings('ignore')\n",
    "\n",
    "\n",
    "seasons = 1\n",
    "Game = Regency(True)\n",
    "clear_output()\n",
    "Game.add_relationship('Go','Fh',At_War=1)\n",
    "\n",
    "#for a in range(seasons):\n",
    "Game.random_events()\n",
    "Game.collect_regency_points()\n",
    "Game.domain_initiative()\n",
    "Game.collect_gold_bars()\n",
    "Game.maintenance_costs(Update=True)\n",
    "#     Game.Seasons[0][1]['Override']['Go'] = (22,'enemy','Fh')\n",
    "#     Game.take_domain_actions(1)\n",
    "#     Game.take_domain_actions(2)\n",
    "#     Game.take_domain_actions(3)\n",
    "    # Game.clear_screen()\n",
    "\n",
    "#df = pd.concat([Game.Seasons[b]['Actions'][a+1] for a in range(3) for b in range(seasons)])\n",
    "#print(set(df['Action']))\n",
    "#print()\n",
    "#print(set(df[df['Success?']==True]['Action']))\n",
    "#Game.War\n",
    "\n"
   ]
  },
  {
   "cell_type": "code",
   "execution_count": null,
   "metadata": {},
   "outputs": [],
   "source": [
    "%matplotlib notebook"
   ]
  },
  {
   "cell_type": "code",
   "execution_count": null,
   "metadata": {},
   "outputs": [],
   "source": [
    "Game.Seasons[0]['Override'][1]['JR'] = (22,'enemy','EC')\n",
    "Game.Seasons[0]['Override'][1]['EC'] = (20,'friend','WM')\n",
    "Game.Seasons[0]['Override'][1]['WM'] = (21,'friend','EC')\n",
    "Game.Seasons[0]['Override'][1]['GG'] = (21,'friend','EC')\n",
    "Game.add_troops('WM','Moergen','Archers')\n",
    "Game.add_troops('EC','Bogsend','Archers')\n",
    "Game.add_troops('JR','Bogsend','Archers')\n",
    "Game.add_troops('WM','Moergen','Archers')\n",
    "Game.add_troops('EC','Bogsend','Archers')\n",
    "Game.add_troops('JR','Bogsend','Archers')\n",
    "Game.add_relationship('JR', 'EC', At_War=1)\n",
    "Game.add_relationship('WM', 'JR', At_War=1)\n",
    "Game.add_relationship('GG', 'EC', Diplomacy=3)"
   ]
  },
  {
   "cell_type": "code",
   "execution_count": null,
   "metadata": {},
   "outputs": [],
   "source": [
    "Game.take_domain_actions(1)\n",
    "Game.War"
   ]
  },
  {
   "cell_type": "code",
   "execution_count": null,
   "metadata": {},
   "outputs": [],
   "source": [
    "print(Game.War.iloc[1]['Notes'])"
   ]
  },
  {
   "cell_type": "code",
   "execution_count": null,
   "metadata": {},
   "outputs": [],
   "source": [
    "Game.Troops[Game.Troops['Provence']==Game.War.iloc[3]['Location']]"
   ]
  },
  {
   "cell_type": "code",
   "execution_count": null,
   "metadata": {},
   "outputs": [],
   "source": [
    "Game.Seasons[0]['Override'][1]['JR'] = (22,'enemy','EC')\n",
    "Game.Seasons[0]['Override'][1]['EC'] = (20,'friend','WM')\n",
    "Game.Seasons[0]['Override'][1]['WM'] = (21,'friend','EC')\n",
    "Game.take_domain_actions(2)"
   ]
  },
  {
   "cell_type": "code",
   "execution_count": null,
   "metadata": {},
   "outputs": [],
   "source": [
    "Game.War"
   ]
  },
  {
   "cell_type": "code",
   "execution_count": null,
   "metadata": {
    "scrolled": true
   },
   "outputs": [],
   "source": [
    "maps = Mapping(Game)\n",
    "maps.focus_regions(['The Eastern Marches'])\n",
    "maps.show(show_abbreviations=True, show_troops=True, borders=True)"
   ]
  },
  {
   "cell_type": "code",
   "execution_count": null,
   "metadata": {},
   "outputs": [],
   "source": [
    "Game.defenders['Provence'].values[0]"
   ]
  },
  {
   "cell_type": "code",
   "execution_count": null,
   "metadata": {},
   "outputs": [],
   "source": [
    "Game.defenders['Home Regent']"
   ]
  },
  {
   "cell_type": "code",
   "execution_count": null,
   "metadata": {},
   "outputs": [],
   "source": [
    "Game.defenders"
   ]
  },
  {
   "cell_type": "code",
   "execution_count": null,
   "metadata": {},
   "outputs": [],
   "source": []
  }
 ],
 "metadata": {
  "kernelspec": {
   "display_name": "Python 3",
   "language": "python",
   "name": "python3"
  },
  "language_info": {
   "codemirror_mode": {
    "name": "ipython",
    "version": 3
   },
   "file_extension": ".py",
   "mimetype": "text/x-python",
   "name": "python",
   "nbconvert_exporter": "python",
   "pygments_lexer": "ipython3",
   "version": "3.7.3"
  }
 },
 "nbformat": 4,
 "nbformat_minor": 2
}
