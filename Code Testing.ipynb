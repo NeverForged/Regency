{
 "cells": [
  {
   "cell_type": "code",
   "execution_count": 1,
   "metadata": {
    "scrolled": false
   },
   "outputs": [
    {
     "name": "stderr",
     "output_type": "stream",
     "text": [
      "Using TensorFlow backend.\n"
     ]
    }
   ],
   "source": [
    "from source.regency import Regency\n",
    "from source.mapping import Mapping\n",
    "from source.DQNAgent import DQNAgent\n",
    "from IPython.display import clear_output\n",
    "import pandas as pd\n",
    "import warnings\n",
    "warnings.filterwarnings('ignore')"
   ]
  },
  {
   "cell_type": "code",
   "execution_count": 2,
   "metadata": {},
   "outputs": [],
   "source": [
    "%matplotlib notebook"
   ]
  },
  {
   "cell_type": "code",
   "execution_count": 3,
   "metadata": {},
   "outputs": [
    {
     "name": "stdout",
     "output_type": "stream",
     "text": [
      "WARNING:tensorflow:From C:\\ProgramData\\Anaconda3\\lib\\site-packages\\tensorflow\\python\\ops\\math_ops.py:3066: to_int32 (from tensorflow.python.ops.math_ops) is deprecated and will be removed in a future version.\n",
      "Instructions for updating:\n",
      "Use tf.cast instead.\n"
     ]
    }
   ],
   "source": [
    "seasons = 1\n",
    "Game = Regency(True)\n",
    "clear_output()\n",
    "\n",
    "for a in range(seasons):\n",
    "    Game.random_events()\n",
    "    Game.collect_regency_points()\n",
    "    Game.domain_initiative()\n",
    "    Game.collect_gold_bars()\n",
    "    Game.maintenance_costs(Update=True)\n",
    "    \n"
   ]
  },
  {
   "cell_type": "code",
   "execution_count": 4,
   "metadata": {},
   "outputs": [],
   "source": [
    "\n",
    "Game.change_regent('WM', Gold_Bars=200)"
   ]
  },
  {
   "cell_type": "code",
   "execution_count": 9,
   "metadata": {
    "scrolled": true
   },
   "outputs": [
    {
     "name": "stdout",
     "output_type": "stream",
     "text": [
      "41 Sw 0 0 0 0tion 1 - Initiative  3\n",
      "41 TCV 0 1 0 0\n",
      "41 TCV 0 1 0 0\n",
      "41 TCV 0 1 0 0\n",
      "41 TCV 0 1 0 0\n",
      "41 TCV 0 1 0 0\n",
      "41 TCV 0 1 0 0\n",
      "41 TCV 0 1 0 0\n",
      "41 TCV 0 1 0 0\n",
      "41 TCV 0 1 0 0\n",
      "31 TCV None 0 1 1 0 0\n",
      "41 TCV 0 1 0 0\n",
      "41 TCV 0 1 0 0\n",
      "41 TCV 0 1 0 0\n",
      "41 TCV 0 1 0 0\n",
      "41 TCV 0 1 0 0\n",
      "41 TCV 0 1 0 0\n",
      "41 TCV 0 1 0 0\n",
      "41 TCV 0 1 0 0\n",
      "41 TCV 0 1 0 0\n",
      "41 TCV 0 1 0 0\n",
      "41 TCV 0 1 0 0\n",
      "41 TCV 0 1 0 0\n",
      "41 TCV 0 1 0 0\n",
      "41 TCV 0 1 0 0\n",
      "41 TCV 0 1 0 0\n",
      "41 TCV 0 1 0 0\n",
      "41 TCV 0 1 0 0\n",
      "41 TCV 0 1 0 0\n",
      "41 TCV 0 1 0 0\n",
      "41 TCV 0 1 0 0\n",
      "41 TCV 0 1 0 0\n",
      "41 TCV 0 1 0 0\n",
      "41 TCV 0 1 0 0\n",
      "41 TCV 0 1 0 0\n",
      "27 TCV Is None 0 0 0\n",
      "31 TCV None 0 1 1 0 0\n",
      "31 TCV None 0 1 1 0 0\n",
      "31 TCV None 0 1 1 0 0\n",
      "31 TCV None 0 1 1 0 0\n",
      "31 TCV None 0 1 1 0 0\n",
      "31 TCV None 0 1 1 0 0\n",
      "31 TCV None 0 1 1 0 0\n",
      "31 TCV None 0 1 1 0 0\n",
      "22 TCV Is [] [] None 0 0 1 1\n",
      "31 TCV None 0 1 1 0 0\n",
      "35 TCV Sw2 0 1 0 0 0 0\n",
      "Time to Finish the Rounditiative  2\n",
      "0\n"
     ]
    }
   ],
   "source": [
    "Game.set_override('WM', 35, friend='EC')\n",
    "Game.set_override('JR', 35, friend='EC')\n",
    "Game.set_override('GG', 35, friend='EC')\n",
    "Game.set_override('CoL', 35, friend='EC')\n",
    "Game.take_domain_actions()\n"
   ]
  },
  {
   "cell_type": "code",
   "execution_count": 10,
   "metadata": {},
   "outputs": [
    {
     "data": {
      "text/html": [
       "<div>\n",
       "<style scoped>\n",
       "    .dataframe tbody tr th:only-of-type {\n",
       "        vertical-align: middle;\n",
       "    }\n",
       "\n",
       "    .dataframe tbody tr th {\n",
       "        vertical-align: top;\n",
       "    }\n",
       "\n",
       "    .dataframe thead th {\n",
       "        text-align: right;\n",
       "    }\n",
       "</style>\n",
       "<table border=\"1\" class=\"dataframe\">\n",
       "  <thead>\n",
       "    <tr style=\"text-align: right;\">\n",
       "      <th></th>\n",
       "      <th>Regent</th>\n",
       "      <th>Other</th>\n",
       "      <th>Diplomacy</th>\n",
       "      <th>Payment</th>\n",
       "      <th>Vassalage</th>\n",
       "      <th>At War</th>\n",
       "      <th>Trade Permission</th>\n",
       "    </tr>\n",
       "  </thead>\n",
       "  <tbody>\n",
       "    <tr>\n",
       "      <th>6</th>\n",
       "      <td>EC</td>\n",
       "      <td>JR</td>\n",
       "      <td>0</td>\n",
       "      <td>0</td>\n",
       "      <td>0</td>\n",
       "      <td>0</td>\n",
       "      <td>0</td>\n",
       "    </tr>\n",
       "    <tr>\n",
       "      <th>7</th>\n",
       "      <td>EC</td>\n",
       "      <td>LPA</td>\n",
       "      <td>3</td>\n",
       "      <td>0</td>\n",
       "      <td>0</td>\n",
       "      <td>0</td>\n",
       "      <td>0</td>\n",
       "    </tr>\n",
       "  </tbody>\n",
       "</table>\n",
       "</div>"
      ],
      "text/plain": [
       "  Regent Other  Diplomacy  Payment  Vassalage  At War  Trade Permission\n",
       "6     EC    JR          0        0          0       0                 0\n",
       "7     EC   LPA          3        0          0       0                 0"
      ]
     },
     "execution_count": 10,
     "metadata": {},
     "output_type": "execute_result"
    }
   ],
   "source": [
    "Game.Relationships[Game.Relationships['Regent']=='EC']"
   ]
  },
  {
   "cell_type": "code",
   "execution_count": null,
   "metadata": {},
   "outputs": [],
   "source": [
    "Game.set_override('WM', 28)\n",
    "\n",
    "Game.take_domain_actions()\n"
   ]
  },
  {
   "cell_type": "code",
   "execution_count": null,
   "metadata": {},
   "outputs": [],
   "source": [
    "Game.set_override('WM', 32, enemy='JR')\n",
    "\n",
    "Game.take_domain_actions()\n"
   ]
  },
  {
   "cell_type": "code",
   "execution_count": null,
   "metadata": {
    "scrolled": true
   },
   "outputs": [],
   "source": [
    "for i in range(Game.War.shape[0]):\n",
    "    print('-'*20)\n",
    "    print(Game.War['Year'].values[i])\n",
    "    print()\n",
    "    print(Game.War['Notes'].values[i])\n",
    "    "
   ]
  },
  {
   "cell_type": "code",
   "execution_count": 11,
   "metadata": {},
   "outputs": [
    {
     "name": "stdout",
     "output_type": "stream",
     "text": [
      "{'grant', 'investiture_become_vassal_friend', 'diplomacy_troop_permission', 'agitiate_for_rando', 'decree_asset_seizure', 'investure_invest_friend', 'diplomacy_force_tribute', 'Lieutenant', 'muster_army', 'realm_magic_alchemy', 'create_temple_holding', 'decree_general', 'fortify_high_pop', 'espionage_heresy'}\n",
      "\n",
      "{'grant', 'investiture_become_vassal_friend', 'investure_invest_friend', 'Lieutenant', 'muster_army', 'realm_magic_alchemy', 'decree_general'}\n"
     ]
    }
   ],
   "source": [
    "df = pd.concat([Game.Seasons[b]['Actions'][a+1] for a in range(3) for b in range(seasons)])\n",
    "print(set(df['Action']))\n",
    "print()\n",
    "print(set(df[df['Success?']==True]['Action']))\n",
    "#Game.War\n",
    "\n"
   ]
  },
  {
   "cell_type": "code",
   "execution_count": 12,
   "metadata": {},
   "outputs": [
    {
     "data": {
      "text/plain": [
       "array([\"Willaim Moergen failed to get permission to move troops through Eluvie Cariele's domain\",\n",
       "       \"Overthane Grimm Graybeard failed to get permission to move troops through Eluvie Cariele's domain\",\n",
       "       \"Moradin's Forge (Ruarch Rockhammer) failed to demanded tribute from Eluvie Cariele\"],\n",
       "      dtype=object)"
      ]
     },
     "execution_count": 12,
     "metadata": {},
     "output_type": "execute_result"
    }
   ],
   "source": [
    "df[df['Action'].str.contains('diplo')]['Message'].values"
   ]
  },
  {
   "cell_type": "code",
   "execution_count": null,
   "metadata": {},
   "outputs": [],
   "source": [
    "Game.Relationships[Game.Relationships['Regent']=='WM']"
   ]
  },
  {
   "cell_type": "code",
   "execution_count": null,
   "metadata": {},
   "outputs": [],
   "source": [
    "Game.Projects"
   ]
  },
  {
   "cell_type": "code",
   "execution_count": null,
   "metadata": {},
   "outputs": [],
   "source": []
  }
 ],
 "metadata": {
  "kernelspec": {
   "display_name": "Python 3",
   "language": "python",
   "name": "python3"
  },
  "language_info": {
   "codemirror_mode": {
    "name": "ipython",
    "version": 3
   },
   "file_extension": ".py",
   "mimetype": "text/x-python",
   "name": "python",
   "nbconvert_exporter": "python",
   "pygments_lexer": "ipython3",
   "version": "3.7.3"
  }
 },
 "nbformat": 4,
 "nbformat_minor": 2
}
