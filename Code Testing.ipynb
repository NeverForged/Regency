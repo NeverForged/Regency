{
 "cells": [
  {
   "cell_type": "markdown",
   "metadata": {},
   "source": [
    "### Structure of DataFrames\n",
    "* **Provences**: [Provence, Domain, Regent, Terrain, Loyalty, Taxation, Population, Magic, Castle, Capital, Position, Troops]\n",
    "* **Holdings**: [Provence, Domain, Regent, Type, Level]\n",
    "* **Regents**: [Regent, Full Name, Player, Class, Level, Alignment, Str, Dex, Con, Int, Wis, Cha, Insight, Deception, Persuasion, Regency Points, Gold Bars, Regency Bonus, Attitude, Lieutenants]\n",
    "* **Geography**: [Provence, Neighbor, Border, Road, Caravan, Shipping]\n",
    "* **Relationship**: [Regent, Other, Diplomacy, Payment, Vassalage]\n",
    "* **Troops**: [Regent, Provence, Type, Cost, CR]\n",
    "\n",
    "* **Seasons**: A dctionary of season-dataframes (to keep track of waht happened)\n",
    "\n"
   ]
  },
  {
   "cell_type": "code",
   "execution_count": null,
   "metadata": {},
   "outputs": [
    {
     "name": "stdout",
     "output_type": "stream",
     "text": [
      "Taxation Settings for Eluvie Cariele\n",
      "---------------------------------\n",
      "<table border=\"1\" class=\"dataframe\">\n",
      "  <thead>\n",
      "    <tr style=\"text-align: right;\">\n",
      "      <th></th>\n",
      "      <th>Provence</th>\n",
      "      <th>Population</th>\n",
      "      <th>Loyalty</th>\n",
      "      <th>Taxation</th>\n",
      "    </tr>\n",
      "  </thead>\n",
      "  <tbody>\n",
      "    <tr>\n",
      "      <th>0</th>\n",
      "      <td>Bogsend</td>\n",
      "      <td>3</td>\n",
      "      <td>Average</td>\n",
      "      <td>Moderate</td>\n",
      "    </tr>\n",
      "    <tr>\n",
      "      <th>1</th>\n",
      "      <td>Caudraight</td>\n",
      "      <td>4</td>\n",
      "      <td>Average</td>\n",
      "      <td>Moderate</td>\n",
      "    </tr>\n",
      "    <tr>\n",
      "      <th>2</th>\n",
      "      <td>Deepshadow</td>\n",
      "      <td>3</td>\n",
      "      <td>Average</td>\n",
      "      <td>Moderate</td>\n",
      "    </tr>\n",
      "    <tr>\n",
      "      <th>3</th>\n",
      "      <td>Duornil</td>\n",
      "      <td>2</td>\n",
      "      <td>Average</td>\n",
      "      <td>Moderate</td>\n",
      "    </tr>\n",
      "    <tr>\n",
      "      <th>4</th>\n",
      "      <td>Mistil</td>\n",
      "      <td>2</td>\n",
      "      <td>Average</td>\n",
      "      <td>Moderate</td>\n",
      "    </tr>\n",
      "    <tr>\n",
      "      <th>5</th>\n",
      "      <td>Ranien</td>\n",
      "      <td>2</td>\n",
      "      <td>Average</td>\n",
      "      <td>Moderate</td>\n",
      "    </tr>\n",
      "    <tr>\n",
      "      <th>6</th>\n",
      "      <td>Ruorven</td>\n",
      "      <td>4</td>\n",
      "      <td>Average</td>\n",
      "      <td>Moderate</td>\n",
      "    </tr>\n",
      "  </tbody>\n",
      "</table>\n",
      "\n"
     ]
    }
   ],
   "source": [
    "from regency import Regency\n",
    "from IPython.display import clear_output\n",
    "\n",
    "Game = Regency()\n",
    "Game.random_events()\n",
    "Game.collect_regency_points()\n",
    "Game.domain_initiative()\n",
    "Game.collect_gold_bars()\n",
    "Game.maintenance_costs()\n",
    "\n",
    "clear_output()\n",
    "Game.Seasons[0]['Season']"
   ]
  },
  {
   "cell_type": "code",
   "execution_count": null,
   "metadata": {},
   "outputs": [],
   "source": []
  }
 ],
 "metadata": {
  "kernelspec": {
   "display_name": "Python 3",
   "language": "python",
   "name": "python3"
  },
  "language_info": {
   "codemirror_mode": {
    "name": "ipython",
    "version": 3
   },
   "file_extension": ".py",
   "mimetype": "text/x-python",
   "name": "python",
   "nbconvert_exporter": "python",
   "pygments_lexer": "ipython3",
   "version": "3.7.3"
  }
 },
 "nbformat": 4,
 "nbformat_minor": 1
}
