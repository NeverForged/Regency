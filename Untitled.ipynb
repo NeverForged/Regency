{
 "cells": [
  {
   "cell_type": "code",
   "execution_count": 1,
   "metadata": {
    "scrolled": true
   },
   "outputs": [
    {
     "name": "stderr",
     "output_type": "stream",
     "text": [
      "Using TensorFlow backend.\n"
     ]
    },
    {
     "name": "stdout",
     "output_type": "stream",
     "text": [
      "WARNING:tensorflow:From C:\\Users\\darin\\Anaconda3\\lib\\site-packages\\tensorflow\\python\\framework\\op_def_library.py:263: colocate_with (from tensorflow.python.framework.ops) is deprecated and will be removed in a future version.\n",
      "Instructions for updating:\n",
      "Colocations handled automatically by placer.\n",
      "WARNING:tensorflow:From C:\\Users\\darin\\Anaconda3\\lib\\site-packages\\keras\\backend\\tensorflow_backend.py:3445: calling dropout (from tensorflow.python.ops.nn_ops) with keep_prob is deprecated and will be removed in a future version.\n",
      "Instructions for updating:\n",
      "Please use `rate` instead of `keep_prob`. Rate should be set to `rate = 1 - keep_prob`.\n",
      "ding!\n"
     ]
    }
   ],
   "source": [
    "from source.regency import Regency\n",
    "import numpy as np\n",
    "import pandas as pd\n",
    "import random as rand\n",
    "from keras.utils import to_categorical\n",
    "\n",
    "self = Regency()\n",
    "print('ding!')\n"
   ]
  },
  {
   "cell_type": "code",
   "execution_count": 21,
   "metadata": {},
   "outputs": [
    {
     "data": {
      "text/plain": [
       "'Ballahythe'"
      ]
     },
     "execution_count": 21,
     "metadata": {},
     "output_type": "execute_result"
    }
   ],
   "source": [
    "self.generate_stronghold_name('Edlund','Human','Mons Hills','Settlement','Hills','','Manor')"
   ]
  },
  {
   "cell_type": "code",
   "execution_count": null,
   "metadata": {},
   "outputs": [],
   "source": [
    "def action_build_stronghold(self, Faction, Stronghold, Location=None, Name=None, Settlement=None):\n",
    "    '''\n",
    "    Build or Expand stronghold (Action)\n",
    "    Build_castle_1\n",
    "    build_castle_2\n",
    "    build_castle_3\n",
    "    build_guild\n",
    "    build_temple_1\n",
    "    build_temple_3\n",
    "    build_monestary\n",
    "    build_mystic\n",
    "\n",
    "    Builds a stronghold.  No roll needed, just money.  If this is an upgrade to a \n",
    "    current stronghold, the payment and time is the difference as the current building \n",
    "    is incorporated into the new one.  Must either be the first stronghold built OR \n",
    "    must have a stronghold adjacent to the area in which a stronghold will be built.\n",
    "    '''\n",
    "    temp1 = self.strongholds[['Faction','Area']].copy()\n",
    "    temp1['Neighbor'] = temp1['Area']\n",
    "\n",
    "    temp = pd.merge(self.strongholds[['Faction','Area']],self.geography[self.geography['Road/Port']==1][['Area','Neighbor']])\n",
    "    temp = pd.concat([temp,temp1])\n",
    "    temp = temp[temp['Faction']==Faction].copy()\n",
    "    temp = pd.merge(temp,self.strongholds[['Area','Type','Faction','Level']], left_on=['Neighbor','Faction'], right_on=['Area','Faction'], how='left').fillna('')\n",
    "    areas = self.areas[self.areas['Waterway']==0][['Area','Population','Magic']].copy()\n",
    "    temp = pd.merge(temp,areas,left_on='Neighbor',right_on='Area',how='inner')\n",
    "    # make sure they don't already have a thing there\n",
    "    nolst = list(set(temp[temp['Type']==Stronghold]['Neighbor']))\n",
    "    if Stronghold == 'Small Temple':\n",
    "        nolst = list(set(nolst +  list(temp[temp['Type']=='Large Temple']['Neighbor'])))\n",
    "    if Stronghold == 'Manor' or Stronghold == 'Keep':\n",
    "        nolst = list(set(nolst +  list(temp[temp['Type']=='Keep']['Neighbor']) + list(temp[temp['Type']=='Palace']['Neighbor'])))\n",
    "    nolst\n",
    "\n",
    "    if len(nolst) > 0:\n",
    "        for a in nolst:\n",
    "            temp = temp[temp['Neighbor']!=a]\n",
    "    lst = list(set(temp['Neighbor']))\n",
    "    if Location == None and len(lst) > 0:\n",
    "        Location = lst[rand.randint(0,len(lst)-1)]\n",
    "    if Location not in lst:\n",
    "        return 'Build {}: Failed to find a location.'.format(Stronghold)\n",
    "    else:   \n",
    "        # add_stronghold(self, Faction, Area, Type, Name, Level=0)\n",
    "\n",
    "        temp = self.stronghold_types[self.stronghold_types['Stronghold']==Stronghold]\n",
    "        cost = temp['Cost'].values[0]\n",
    "        seasons = temp['Build Time'].values[0]\n",
    "        stype = temp['Type'].values[0]\n",
    "        print(stype)\n",
    "        temp = self.factions[self.factions['Name']==Faction]\n",
    "        gold = temp['Gold'].values[0]\n",
    "        if gold >= cost:\n",
    "            culture = temp['Culture'].values[0]\n",
    "            temp = self.areas[self.areas['Area']==Location]\n",
    "            settlement = temp['Settlement Name'].values[0]\n",
    "            terrain = temp['Terrain'].values[0]\n",
    "            if settlement == '':\n",
    "                # name The Settlement\n",
    "                if Settlement == None:\n",
    "                    settlement = self.generate_stronghold_name(Faction, culture, Location, 'Settlement', terrain, settlement, Stronghold)\n",
    "                else:\n",
    "                    settlement = Settlement  # allows humans to name their own          \n",
    "           \n",
    "            # Name it\n",
    "            if Name == None:\n",
    "                Name = self.generate_stronghold_name(Faction, culture, Location, stype, terrain, settlement, Stronghold)\n",
    "            # pay for it\n",
    "            self.edit_faction(Faction, 'Gold', int(gold-cost))\n",
    "            # add it\n",
    "            self.add_stronghold(Faction, Location, Stronghold, Name)\n",
    "            return 'Build {}: Built {} in {} ({}).'.format(Stronghold, Name, settlement, Location)\n",
    "        else:\n",
    "            return 'Build {}: Not enough gold.'.format(Stronghold)"
   ]
  },
  {
   "cell_type": "code",
   "execution_count": null,
   "metadata": {},
   "outputs": [],
   "source": [
    "action_build_stronghold(self, 'The Elves', 'Manor')\n",
    "\n"
   ]
  },
  {
   "cell_type": "code",
   "execution_count": null,
   "metadata": {},
   "outputs": [],
   "source": [
    "self.edit_faction('Edlund','Gold',90)"
   ]
  },
  {
   "cell_type": "code",
   "execution_count": null,
   "metadata": {},
   "outputs": [],
   "source": [
    "faction = 'Edlund'\n",
    "Property = 'Gold'\n",
    "value = 9000000\n",
    "\n",
    "self.factions.loc[self.factions[self.factions['Name']==faction].index[0],Property] = value"
   ]
  },
  {
   "cell_type": "code",
   "execution_count": null,
   "metadata": {},
   "outputs": [],
   "source": [
    "self.geography['Road/Port']=1"
   ]
  },
  {
   "cell_type": "code",
   "execution_count": null,
   "metadata": {},
   "outputs": [],
   "source": [
    "self.stronghold_types"
   ]
  },
  {
   "cell_type": "code",
   "execution_count": null,
   "metadata": {},
   "outputs": [],
   "source": [
    "self.areas"
   ]
  },
  {
   "cell_type": "code",
   "execution_count": null,
   "metadata": {},
   "outputs": [],
   "source": []
  }
 ],
 "metadata": {
  "kernelspec": {
   "display_name": "Python 3",
   "language": "python",
   "name": "python3"
  },
  "language_info": {
   "codemirror_mode": {
    "name": "ipython",
    "version": 3
   },
   "file_extension": ".py",
   "mimetype": "text/x-python",
   "name": "python",
   "nbconvert_exporter": "python",
   "pygments_lexer": "ipython3",
   "version": "3.7.3"
  }
 },
 "nbformat": 4,
 "nbformat_minor": 2
}
