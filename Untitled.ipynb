{
 "cells": [
  {
   "cell_type": "markdown",
   "metadata": {},
   "source": [
    "**Fun with dictionaries and data **"
   ]
  },
  {
   "cell_type": "code",
   "execution_count": 54,
   "metadata": {
    "collapsed": false
   },
   "outputs": [],
   "source": [
    "Provences = {}\n",
    "Regents = {}\n",
    "Domains = {}\n",
    "\n",
    "def set_up_domain(Name, regent='', provences=[], capital='', regency=0, treasury=0):\n",
    "    Domains[Name] = {}\n",
    "    Domains[Name]['Provences'] = provences\n",
    "    Domains[Name]['Regent'] = regent\n",
    "    Domains[Name]['Capital'] = capital\n",
    "    Domains[Name]['Regency Points'] = regency\n",
    "    Domains[Name]['Treasury'] = treasury\n",
    "    \n",
    "\n",
    "def set_up_provence(Name, Domain='', stats=(0,5), law=[], faith=[], guild=[], source=[], neighbors=[], terrain='', Capital=False):   \n",
    "    Provences[Name] = {}\n",
    "    Provences[Name]['Holdings'] = {}\n",
    "    Provences[Name]['Holdings']['Law'] = law\n",
    "    Provences[Name]['Holdings']['Guild'] = guild\n",
    "    Provences[Name]['Holdings']['Faith'] = faith\n",
    "    Provences[Name]['Holdings']['Source'] = source\n",
    "    Provences[Name]['Stats'] = stats\n",
    "    Provences[Name]['Regent'] = ''\n",
    "    Provences[Name]['Terrain'] = terrain\n",
    "    Provences[Name]['Country'] = ''\n",
    "    Provences[Name]['Neighbors'] = neighbors\n",
    "    assign_provence(Name, Domain)\n",
    "    if Capital:\n",
    "        Domains[Domain]['Capital'] = Name\n",
    "    \n",
    "def set_up_regent(Name, class_ = ('Noble', 2), alignment = 'NN', stats = (0,1,0,1,2,3), regency_bonus = 0):\n",
    "    Regents[Name] = {}\n",
    "    Regents[Name]['Provences'] = []\n",
    "    Regents[Name]['Holdings'] = {}\n",
    "    Regents[Name]['Holdings']['Law'] = []  # Lis of tuples, (provence, rating)\n",
    "    Regents[Name]['Holdings']['Guild'] = []\n",
    "    Regents[Name]['Holdings']['Faith'] = []\n",
    "    Regents[Name]['Holdings']['Source'] = []\n",
    "    Regents[Name]['Class'] = class_\n",
    "    Regents[Name]['Alignment'] = alignment\n",
    "    Regents[Name]['Stats'] = stats\n",
    "    Regents[Name]['Regency Bonus'] = regency_bonus\n",
    "    Regents[Name]['Domains'] = []\n",
    "    \n",
    "def assign_provence(Provence, Domain):\n",
    "    Domains[Domain]['Provences'].append(Provence)\n",
    "    Provences[Provence]['Domain'] = Domain\n",
    "    \n",
    "def assign_domain(Domain, Regent):\n",
    "    Regents[Regent]['Domains'].append(Domain)\n",
    "    Domains[Domain]['Regent'] = Regent\n",
    "    Regents[Regent]['Provences'] =  Regents[Regent]['Provences'] + Domains[Domain]['Provences']\n",
    "    errors = 0\n",
    "    for provence in Domains[Domain]['Provences']:\n",
    "        Provences[provence]['Regent'] = Regent\n",
    "        Regents[Regent]['Provences'].append(provence)\n",
    "        for htype in Provences[provence]['Holdings']:\n",
    "            for holding in Provences[provence]['Holdings'][htype]:\n",
    "                try:\n",
    "                    Regents[holding[0]]['Holdings'][htype].append((provence,holding[1]))\n",
    "                except:\n",
    "                    errors += 1\n",
    "        # make sure the neighbors are correct\n",
    "        for neighbor in Provences[provence]['Neighbors']:\n",
    "            if provence not in Provences[neighbor]['Neighbors']:  \n",
    "                Provences[neighbor]['Neighbors'].append(provence)\n"
   ]
  },
  {
   "cell_type": "code",
   "execution_count": 55,
   "metadata": {
    "collapsed": false
   },
   "outputs": [],
   "source": [
    "set_up_domain('Osoerde')\n",
    "set_up_regent('Jaison Raenech', ('Fighter',7), 'LE', (2,1,1,0,-1,2), 36)\n",
    "set_up_regent('Impregnable Heart of Haelyn')\n",
    "set_up_regent('Dirk Watershold')\n",
    "set_up_regent('Swamp Mage')\n",
    "set_up_provence('Algael','Osoerde'\n",
    "                , (2,3) \n",
    "                ,[('Jaison Raenech',2)]\n",
    "                ,[('Impregnable Heart of Haelyn',2)]\n",
    "                ,[('Dirk Watershold',2)]\n",
    "                ,[('Swamp Mage',3)])\n",
    "p = 'Brothendar'\n",
    "set_up_regent(\"Church of Storm's Height\")\n",
    "set_up_regent(\"Highland/Overland Traders\")\n",
    "set_up_provence(p,'Osoerde'\n",
    "                , (3,2)\n",
    "                , [('Jaison Raenech',3)]\n",
    "                ,[(\"Church of Storm's Height\",3)]\n",
    "                ,[('Highland/Overland Traders',3)]\n",
    "                ,[('Swamp Mage',3)]\n",
    "                ,['Algael'])\n",
    "set_up_regent('Second Swamp Mage')\n",
    "set_up_provence('Ghalliere', 'Osoerde'\n",
    "                ,(2,3)\n",
    "                ,[('Jaison Raenech',1)]\n",
    "                ,[('Impregnable Heart of Haelyn',2)]\n",
    "                ,[('Highland/Overland Traders',2)]\n",
    "                ,[('Second Swamp Mage',3)]\n",
    "                ,['Brothendar'])\n",
    "\n",
    "set_up_provence('Gulfport', 'Osoerde'\n",
    "                ,(3,2)\n",
    "                ,[('Jaison Raenech',3)]\n",
    "                ,[(\"Church of Storm's Height\",2)]\n",
    "                ,[()]\n",
    "                ,[('Second Swamp Mage',2)]\n",
    "                ,['Brothendar'])\n",
    "set_up_regent('William Moergen')\n",
    "set_up_provence('Moergen', 'Osoerde'\n",
    "                ,(2,3)\n",
    "                ,[('William Moergen',2)]\n",
    "                ,[('Impregnable Heart of Haelyn',2)]\n",
    "                ,[('Dirk Watershold',2)]\n",
    "                ,[('Second Swamp Mage',3)]\n",
    "                ,['Ghalliere', 'Gulfport'])\n",
    "set_up_regent('One True Church of Vosgaard')\n",
    "set_up_provence('Morial', 'Osoerde'\n",
    "                ,(4,1)\n",
    "                ,[('Jaison Raenech',3), ('William Moergen',1)]\n",
    "                ,[(\"Church of Storm's Height\",3),('One True Church of Vosgaard',1)]\n",
    "                ,[('Dirk Watershold',1),('Highland/Overland Traders',2)]\n",
    "                ,[('Second Swamp Mage',1)]\n",
    "                ,['Ghalliere', 'Gulfport', 'Brothendar', 'Moergen']\n",
    "                ,Capital = True)\n",
    "set_up_provence('Spirtisend', 'Osoerde'\n",
    "                ,(2,6)\n",
    "                ,[('Jaison Raenech',1)]\n",
    "                ,[]\n",
    "                ,[('Dirk Watershold',2)]\n",
    "                ,[('Swamp Mage',6)]\n",
    "                ,['Algael', 'Gulfport', 'Brothendar', 'Morial'])\n",
    "set_up_provence('Sunken Lands', 'Osoerde'\n",
    "                ,(2,6)\n",
    "                ,[('William Moergen',2)]\n",
    "                ,[(\"Church of Storm's Height\",2)]\n",
    "                ,[]\n",
    "                ,[('Second Swamp Mage',6)]\n",
    "                ,['Moergen', 'Gulfport'])\n",
    "assign_domain('Osoerde', 'Jaison Raenech')"
   ]
  },
  {
   "cell_type": "code",
   "execution_count": 106,
   "metadata": {
    "collapsed": false
   },
   "outputs": [
    {
     "data": {
      "text/plain": [
       "<networkx.classes.graph.Graph at 0x2739c4c20b8>"
      ]
     },
     "execution_count": 106,
     "metadata": {},
     "output_type": "execute_result"
    }
   ],
   "source": [
    "import networkx as nx\n",
    "lines = ''\n",
    "for provence in Provences:\n",
    "    for neighbor in Provences[provence]['Neighbors']:\n",
    "        lines = lines + '''\n",
    "        ''' + provence + ' ' + neighbor\n",
    "G = nx.parse_edgelist(lines)\n",
    "G"
   ]
  },
  {
   "cell_type": "code",
   "execution_count": 110,
   "metadata": {
    "collapsed": false
   },
   "outputs": [],
   "source": [
    "nx.draw_networkx(G)"
   ]
  },
  {
   "cell_type": "code",
   "execution_count": 111,
   "metadata": {
    "collapsed": false
   },
   "outputs": [
    {
     "data": {
      "image/png": "[encoded data removed]",
      "text/plain": [
       "<matplotlib.figure.Figure at 0x2739878b2e8>"
      ]
     },
     "metadata": {},
     "output_type": "display_data"
    }
   ],
   "source": [
    "plt.show()"
   ]
  },
  {
   "cell_type": "code",
   "execution_count": null,
   "metadata": {
    "collapsed": true
   },
   "outputs": [],
   "source": []
  }
 ],
 "metadata": {
  "anaconda-cloud": {},
  "kernelspec": {
   "display_name": "Python [default]",
   "language": "python",
   "name": "python3"
  },
  "language_info": {
   "codemirror_mode": {
    "name": "ipython",
    "version": 3
   },
   "file_extension": ".py",
   "mimetype": "text/x-python",
   "name": "python",
   "nbconvert_exporter": "python",
   "pygments_lexer": "ipython3",
   "version": "3.5.2"
  }
 },
 "nbformat": 4,
 "nbformat_minor": 1
}
