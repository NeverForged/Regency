{
 "cells": [
  {
   "cell_type": "code",
   "execution_count": 1,
   "metadata": {},
   "outputs": [
    {
     "name": "stderr",
     "output_type": "stream",
     "text": [
      "Using TensorFlow backend.\n"
     ]
    }
   ],
   "source": [
    "from source.regency import Regency\n",
    "from source.run import rungame\n",
    "from source.mapping import Mapping\n",
    "from source.DQNAgent import DQNAgent\n",
    "from IPython.display import clear_output\n",
    "import pandas as pd\n",
    "import warnings\n",
    "warnings.filterwarnings('ignore')"
   ]
  },
  {
   "cell_type": "code",
   "execution_count": null,
   "metadata": {},
   "outputs": [
    {
     "name": "stdout",
     "output_type": "stream",
     "text": [
      "Season 1 - Action 1 - Initiative 15\r"
     ]
    }
   ],
   "source": [
    "for X in range(1,3):\n",
    "    my_game = rungame('TestGame_{}'.format(X), train=True, GameLength=X, IntDC = 15)\n",
    "    Game = my_game.Game\n",
    "    for a in range(X):\n",
    "        Game.random_events()\n",
    "        Game.collect_regency_points()\n",
    "        Game.domain_initiative()\n",
    "        Game.collect_gold_bars()\n",
    "        Game.maintenance_costs(Update=True)\n",
    "        Game.take_domain_actions()\n",
    "        Game.take_domain_actions()\n",
    "        Game.take_domain_actions()"
   ]
  },
  {
   "cell_type": "code",
   "execution_count": null,
   "metadata": {},
   "outputs": [],
   "source": [
    "import numpy as np\n",
    "print(np.argmax(Game.errors[1]))\n",
    "Game.take_action(decision=Game.errors[1]\n",
    "                 , Regent=Game.errors[0]\n",
    "                 , actor = Game.errors[2]\n",
    "                 , Type = Game.errors[3] \n",
    "                 ,  state = Game.errors[4]\n",
    "                 , capital = Game.errors[5]\n",
    "                 , high_pop = Game.errors[6]\n",
    "                 , low_pop = Game.errors[7]\n",
    "                 , friend = Game.errors[8]\n",
    "                 , enemy = Game.errors[9]\n",
    "                 , rando = Game.errors[10]\n",
    "                 , enemy_capital = Game.errors[11])"
   ]
  },
  {
   "cell_type": "code",
   "execution_count": null,
   "metadata": {},
   "outputs": [],
   "source": [
    "self=Game\n",
    "decision=Game.errors[1]\n",
    "Regent=Game.errors[0]\n",
    "actor = Game.errors[2]\n",
    "Type = Game.errors[3] \n",
    "state = Game.errors[4]\n",
    "capital = Game.errors[5]\n",
    "high_pop = Game.errors[6]\n",
    "low_pop = Game.errors[7]\n",
    "friend = Game.errors[8]\n",
    "enemy = Game.errors[9]\n",
    "rando = Game.errors[10]\n",
    "enemy_capital = Game.errors[11]\n"
   ]
  },
  {
   "cell_type": "code",
   "execution_count": null,
   "metadata": {},
   "outputs": [],
   "source": [
    "Game.Seasons[Game.Season]['Season']"
   ]
  },
  {
   "cell_type": "code",
   "execution_count": null,
   "metadata": {},
   "outputs": [],
   "source": [
    "Game.Regents['Race']"
   ]
  },
  {
   "cell_type": "code",
   "execution_count": null,
   "metadata": {},
   "outputs": [],
   "source": [
    "\n",
    "\n",
    "# get enemy provinces\n",
    "temp = self.Provinces[self.Provinces['Regent'] == enemy].copy()\n",
    "# if bonus action, must have a Guild in that province\n",
    "Province = None\n",
    "if state[3] == 1:\n",
    "    check = self.Holdings[self.Holdings['Regent']==Regent]\n",
    "    temp = pd.merge(check[check['Type']=='Guild'][['Province']], temp, on='Province', how='left')\n",
    "    if temp.shape[0] == 0:  # no valid targets\n",
    "        print('NO')\n",
    "    if temp[temp['Capital']==True].shape[0] == 0:\n",
    "        temp = temp.sort_values('Population', ascending=False)\n",
    "        Province = temp.iloc[0]['Province']  # hardest one to hit\n",
    "    else:\n",
    "        Province = temp[temp['Capital']==True]['Province'].values[0]\n",
    "else:\n",
    "    try:\n",
    "        Province = temp[temp['Capital']==True]['Province'].values[0]\n",
    "    except:\n",
    "        # must not have a province\n",
    "        temp = pd.concat([self.Provinces[self.Provinces['Regent'] == enemy][['Province']],\n",
    "                          self.Holdings[self.Holdings['Regent']==enemy][['Province']]])\n",
    "        temp['roll'] = np.random.randint(1,temp.shape[0]+1,temp.shape[0])\n",
    "        temp = temp.sort_values('roll')\n",
    "        Province = temp['Province'].values[0]\n",
    "success, reward, message = self.domain_action_espionage(Regent, enemy, Province, 'Corruption')\n",
    "#"
   ]
  },
  {
   "cell_type": "code",
   "execution_count": null,
   "metadata": {},
   "outputs": [],
   "source": [
    "success"
   ]
  },
  {
   "cell_type": "code",
   "execution_count": null,
   "metadata": {},
   "outputs": [],
   "source": []
  }
 ],
 "metadata": {
  "kernelspec": {
   "display_name": "Python 3",
   "language": "python",
   "name": "python3"
  },
  "language_info": {
   "codemirror_mode": {
    "name": "ipython",
    "version": 3
   },
   "file_extension": ".py",
   "mimetype": "text/x-python",
   "name": "python",
   "nbconvert_exporter": "python",
   "pygments_lexer": "ipython3",
   "version": "3.7.3"
  }
 },
 "nbformat": 4,
 "nbformat_minor": 2
}
