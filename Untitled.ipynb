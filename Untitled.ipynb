{
 "cells": [
  {
   "cell_type": "code",
   "execution_count": 1,
   "metadata": {
    "scrolled": true
   },
   "outputs": [
    {
     "name": "stderr",
     "output_type": "stream",
     "text": [
      "Using TensorFlow backend.\n"
     ]
    },
    {
     "name": "stdout",
     "output_type": "stream",
     "text": [
      "WARNING:tensorflow:From C:\\Users\\darin\\Anaconda3\\lib\\site-packages\\tensorflow\\python\\framework\\op_def_library.py:263: colocate_with (from tensorflow.python.framework.ops) is deprecated and will be removed in a future version.\n",
      "Instructions for updating:\n",
      "Colocations handled automatically by placer.\n",
      "WARNING:tensorflow:From C:\\Users\\darin\\Anaconda3\\lib\\site-packages\\keras\\backend\\tensorflow_backend.py:3445: calling dropout (from tensorflow.python.ops.nn_ops) with keep_prob is deprecated and will be removed in a future version.\n",
      "Instructions for updating:\n",
      "Please use `rate` instead of `keep_prob`. Rate should be set to `rate = 1 - keep_prob`.\n",
      "ding!\n"
     ]
    }
   ],
   "source": [
    "from source.regency import Regency\n",
    "import numpy as np\n",
    "import pandas as pd\n",
    "import random as rand\n",
    "from keras.utils import to_categorical\n",
    "\n",
    "self = Regency()\n",
    "print('ding!')\n"
   ]
  },
  {
   "cell_type": "code",
   "execution_count": 16,
   "metadata": {},
   "outputs": [
    {
     "data": {
      "text/plain": [
       "'Caves of the Renegades'"
      ]
     },
     "execution_count": 16,
     "metadata": {},
     "output_type": "execute_result"
    }
   ],
   "source": [
    "Faction = 'Aboleth'\n",
    "Enemy = 'Derro Renegades'\n",
    "Target = None\n",
    "\n",
    "\n",
    "Target"
   ]
  },
  {
   "cell_type": "code",
   "execution_count": null,
   "metadata": {},
   "outputs": [],
   "source": [
    "def action_siege_stronghold(self,Faction,Target=None,Enemy=None):\n",
    "    '''\n",
    "    Attack an enemy stronghold.  \n",
    "    The cost to launch a war is the enemy’s stronghold Level Squared times 100 \n",
    "    (100 gp, 400 gp, or 900 gp).  Opposed checks are made (as if a Grapple Check).  \n",
    "    If the Attacker wins, he lays siege to the enemy stronghold, doing damage based on \n",
    "    faction level.  A Sieged stronghold may not be repaired While the Siege lasts.  \n",
    "    \n",
    "    Must have a stronghold in a settlement adjacent to a settlement in which the sieged \n",
    "    stronghold exists (or have a follower adjacent)   \n",
    "    '''\n",
    "    # do I have a target?\n",
    "    if Target == None:\n",
    "        # get self and all vassals\n",
    "        temp = self.vassalage_checked[self.vassalage_checked['Lord']==Faction]\n",
    "        temp = temp.append({'Faction':Faction, 'Lord': Faction, 'Weight':1.0}, ignore_index=True)\n",
    "        # find all areas adjacent to them\n",
    "        temp = pd.merge(temp['Faction'],self.strongholds,on='Faction',how='left').dropna()[['Area']].drop_duplicates()\n",
    "        temp = pd.merge(temp,self.geography,on='Area',how='left')\n",
    "        temp1 = temp.copy()\n",
    "        temp['Area'] = temp['Neighbor']\n",
    "        temp = pd.concat([temp1[['Area']],temp[['Area']]]).drop_duplicates()\n",
    "        # find all that the enemy has in those areas\n",
    "        temp = pd.merge(self.strongholds[self.strongholds['Faction']==Enemy],temp,on='Area',how='left')\n",
    "        if temp.shape[0]>0:\n",
    "            Target = temp['Name'].values[0]\n",
    "    if Target == None:\n",
    "        return 'Siege Stronghold: {} has no stronghold near enough to attack.'.format(enemy)\n",
    "    else: #we have a target...\n",
    "        gold = self.factions[self.factions['Name']=Faction]['Gold'].values[0]\n",
    "        level = self.strongholds[self.strongholds['Name']==Target]['Level'].values[0]\n",
    "        cost = level*level*100\n",
    "        if gold < cost:\n",
    "            return 'Siege Stronghold: Cannot afford to attack {}.'.format(Target)\n",
    "        else:\n",
    "            self.edit_faction(Faction,'Gold',gold-cost)\n",
    "            self.sieges = self.sieges.append({'Faction':Faction, 'Stronghold':Target}, ignore_index=True)\n",
    "            return 'Siege Stronghold: Laying siege to {}'.format(Target)\n",
    "            \n",
    "        "
   ]
  }
 ],
 "metadata": {
  "kernelspec": {
   "display_name": "Python 3",
   "language": "python",
   "name": "python3"
  },
  "language_info": {
   "codemirror_mode": {
    "name": "ipython",
    "version": 3
   },
   "file_extension": ".py",
   "mimetype": "text/x-python",
   "name": "python",
   "nbconvert_exporter": "python",
   "pygments_lexer": "ipython3",
   "version": "3.7.3"
  }
 },
 "nbformat": 4,
 "nbformat_minor": 2
}
