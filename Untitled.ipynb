{
 "cells": [
  {
   "cell_type": "code",
   "execution_count": 1,
   "metadata": {},
   "outputs": [
    {
     "name": "stderr",
     "output_type": "stream",
     "text": [
      "Using TensorFlow backend.\n"
     ]
    }
   ],
   "source": [
    "from source.regency import Regency\n",
    "from source.run import rungame\n",
    "from source.mapping import Mapping\n",
    "from source.DQNAgent import DQNAgent\n",
    "from IPython.display import clear_output\n",
    "import pandas as pd\n",
    "import warnings\n",
    "warnings.filterwarnings('ignore')"
   ]
  },
  {
   "cell_type": "code",
   "execution_count": 2,
   "metadata": {},
   "outputs": [
    {
     "name": "stdout",
     "output_type": "stream",
     "text": [
      "Season 0 - Action 2 - Initiative 16\r"
     ]
    },
    {
     "ename": "TypeError",
     "evalue": "cannot unpack non-iterable NoneType object",
     "output_type": "error",
     "traceback": [
      "\u001b[1;31m---------------------------------------------------------------------------\u001b[0m",
      "\u001b[1;31mTypeError\u001b[0m                                 Traceback (most recent call last)",
      "\u001b[1;32m<ipython-input-2-64823db7e229>\u001b[0m in \u001b[0;36m<module>\u001b[1;34m\u001b[0m\n\u001b[0;32m      9\u001b[0m         \u001b[0mGame\u001b[0m\u001b[1;33m.\u001b[0m\u001b[0mmaintenance_costs\u001b[0m\u001b[1;33m(\u001b[0m\u001b[0mUpdate\u001b[0m\u001b[1;33m=\u001b[0m\u001b[1;32mTrue\u001b[0m\u001b[1;33m)\u001b[0m\u001b[1;33m\u001b[0m\u001b[1;33m\u001b[0m\u001b[0m\n\u001b[0;32m     10\u001b[0m         \u001b[0mGame\u001b[0m\u001b[1;33m.\u001b[0m\u001b[0mtake_domain_actions\u001b[0m\u001b[1;33m(\u001b[0m\u001b[1;33m)\u001b[0m\u001b[1;33m\u001b[0m\u001b[1;33m\u001b[0m\u001b[0m\n\u001b[1;32m---> 11\u001b[1;33m         \u001b[0mGame\u001b[0m\u001b[1;33m.\u001b[0m\u001b[0mtake_domain_actions\u001b[0m\u001b[1;33m(\u001b[0m\u001b[1;33m)\u001b[0m\u001b[1;33m\u001b[0m\u001b[1;33m\u001b[0m\u001b[0m\n\u001b[0m\u001b[0;32m     12\u001b[0m         \u001b[0mGame\u001b[0m\u001b[1;33m.\u001b[0m\u001b[0mtake_domain_actions\u001b[0m\u001b[1;33m(\u001b[0m\u001b[1;33m)\u001b[0m\u001b[1;33m\u001b[0m\u001b[1;33m\u001b[0m\u001b[0m\n",
      "\u001b[1;32mC:\\git\\Regency\\source\\regency.py\u001b[0m in \u001b[0;36mtake_domain_actions\u001b[1;34m(self)\u001b[0m\n\u001b[0;32m   2418\u001b[0m                                     \u001b[1;31m# translate into action...\u001b[0m\u001b[1;33m\u001b[0m\u001b[1;33m\u001b[0m\u001b[1;33m\u001b[0m\u001b[0m\n\u001b[0;32m   2419\u001b[0m                                     \u001b[0mindex\u001b[0m \u001b[1;33m=\u001b[0m \u001b[0mself\u001b[0m\u001b[1;33m.\u001b[0m\u001b[0mSeasons\u001b[0m\u001b[1;33m[\u001b[0m\u001b[0mself\u001b[0m\u001b[1;33m.\u001b[0m\u001b[0mSeason\u001b[0m\u001b[1;33m]\u001b[0m\u001b[1;33m[\u001b[0m\u001b[1;34m'Actions'\u001b[0m\u001b[1;33m]\u001b[0m\u001b[1;33m[\u001b[0m\u001b[0mself\u001b[0m\u001b[1;33m.\u001b[0m\u001b[0mAction\u001b[0m\u001b[1;33m]\u001b[0m\u001b[1;33m.\u001b[0m\u001b[0mshape\u001b[0m\u001b[1;33m[\u001b[0m\u001b[1;36m0\u001b[0m\u001b[1;33m]\u001b[0m\u001b[1;33m\u001b[0m\u001b[1;33m\u001b[0m\u001b[0m\n\u001b[1;32m-> 2420\u001b[1;33m                                     \u001b[0mRegent\u001b[0m\u001b[1;33m,\u001b[0m \u001b[0mActor\u001b[0m\u001b[1;33m,\u001b[0m \u001b[0mAction_Type\u001b[0m\u001b[1;33m,\u001b[0m \u001b[0maction\u001b[0m\u001b[1;33m,\u001b[0m \u001b[0mDecision\u001b[0m\u001b[1;33m,\u001b[0m \u001b[0mTarget_Regent\u001b[0m\u001b[1;33m,\u001b[0m \u001b[0mProvince\u001b[0m\u001b[1;33m,\u001b[0m \u001b[0mTarget_Province\u001b[0m\u001b[1;33m,\u001b[0m \u001b[0mTarget_Holding\u001b[0m\u001b[1;33m,\u001b[0m \u001b[0mSuccess\u001b[0m\u001b[1;33m,\u001b[0m \u001b[0mreward\u001b[0m\u001b[1;33m,\u001b[0m \u001b[0mState\u001b[0m\u001b[1;33m,\u001b[0m \u001b[0minvalid\u001b[0m\u001b[1;33m,\u001b[0m \u001b[0mMessage\u001b[0m \u001b[1;33m=\u001b[0m \u001b[0mself\u001b[0m\u001b[1;33m.\u001b[0m\u001b[0mtake_action\u001b[0m\u001b[1;33m(\u001b[0m\u001b[0mdecision\u001b[0m\u001b[1;33m,\u001b[0m \u001b[0mRegent\u001b[0m\u001b[1;33m,\u001b[0m \u001b[0mactor\u001b[0m\u001b[1;33m,\u001b[0m \u001b[0mtype\u001b[0m\u001b[1;33m,\u001b[0m \u001b[0mstate\u001b[0m\u001b[1;33m,\u001b[0m \u001b[0mcapital\u001b[0m\u001b[1;33m,\u001b[0m \u001b[0mhigh_pop\u001b[0m\u001b[1;33m,\u001b[0m \u001b[0mlow_pop\u001b[0m\u001b[1;33m,\u001b[0m \u001b[0mfriend\u001b[0m\u001b[1;33m,\u001b[0m \u001b[0menemy\u001b[0m\u001b[1;33m,\u001b[0m \u001b[0mrando\u001b[0m\u001b[1;33m,\u001b[0m \u001b[0menemy_capital\u001b[0m\u001b[1;33m)\u001b[0m\u001b[1;33m\u001b[0m\u001b[1;33m\u001b[0m\u001b[0m\n\u001b[0m\u001b[0;32m   2421\u001b[0m                                     \u001b[1;32mif\u001b[0m \u001b[0mrow\u001b[0m\u001b[1;33m[\u001b[0m\u001b[1;34m'Player'\u001b[0m\u001b[1;33m]\u001b[0m\u001b[1;33m==\u001b[0m\u001b[1;32mTrue\u001b[0m\u001b[1;33m:\u001b[0m\u001b[1;33m\u001b[0m\u001b[1;33m\u001b[0m\u001b[0m\n\u001b[0;32m   2422\u001b[0m                                         \u001b[0minput\u001b[0m\u001b[1;33m(\u001b[0m\u001b[0mMessage\u001b[0m\u001b[1;33m)\u001b[0m\u001b[1;33m\u001b[0m\u001b[1;33m\u001b[0m\u001b[0m\n",
      "\u001b[1;31mTypeError\u001b[0m: cannot unpack non-iterable NoneType object"
     ]
    }
   ],
   "source": [
    "for X in range(1,3):\n",
    "    my_game = rungame('TestGame_{}'.format(X), train=True, GameLength=X, IntDC = 15)\n",
    "    Game = my_game.Game\n",
    "    for a in range(X):\n",
    "        Game.random_events()\n",
    "        Game.collect_regency_points()\n",
    "        Game.domain_initiative()\n",
    "        Game.collect_gold_bars()\n",
    "        Game.maintenance_costs(Update=True)\n",
    "        Game.take_domain_actions()\n",
    "        Game.take_domain_actions()\n",
    "        Game.take_domain_actions()"
   ]
  },
  {
   "cell_type": "code",
   "execution_count": null,
   "metadata": {},
   "outputs": [],
   "source": [
    "import numpy as np\n",
    "print(np.argmax(Game.errors[1]))\n",
    "Game.take_action(decision=Game.errors[1]\n",
    "                 , Regent=Game.errors[0]\n",
    "                 , actor = Game.errors[2]\n",
    "                 , Type = Game.errors[3] \n",
    "                 ,  state = Game.errors[4]\n",
    "                 , capital = Game.errors[5]\n",
    "                 , high_pop = Game.errors[6]\n",
    "                 , low_pop = Game.errors[7]\n",
    "                 , friend = Game.errors[8]\n",
    "                 , enemy = Game.errors[9]\n",
    "                 , rando = Game.errors[10]\n",
    "                 , enemy_capital = Game.errors[11])"
   ]
  },
  {
   "cell_type": "code",
   "execution_count": null,
   "metadata": {},
   "outputs": [],
   "source": [
    "self=Game\n",
    "decision=Game.errors[1]\n",
    "Regent=Game.errors[0]\n",
    "actor = Game.errors[2]\n",
    "Type = Game.errors[3] \n",
    "state = Game.errors[4]\n",
    "capital = Game.errors[5]\n",
    "high_pop = Game.errors[6]\n",
    "low_pop = Game.errors[7]\n",
    "friend = Game.errors[8]\n",
    "enemy = Game.errors[9]\n",
    "rando = Game.errors[10]\n",
    "enemy_capital = Game.errors[11]\n"
   ]
  },
  {
   "cell_type": "code",
   "execution_count": null,
   "metadata": {},
   "outputs": [],
   "source": [
    "Game.Regents[Game.Regents['Regent']==Regent]\n"
   ]
  },
  {
   "cell_type": "code",
   "execution_count": null,
   "metadata": {},
   "outputs": [],
   "source": [
    "Target = None\n",
    "if Target == None:\n",
    "    temp = pd.concat([self.Provinces[self.Provinces['Regent']==Regent][['Province']].copy()\n",
    "                  ,self.Holdings[self.Holdings['Regent']==Regent][['Province']].copy()], sort=False).drop_duplicates()\n",
    "    # all neighboring provinces to regent\n",
    "    temp = pd.merge(temp, self.Geography.copy(), on='Province', how='left').drop_duplicates()\n",
    "    temp = temp[temp['Border']==1]\n",
    "    temp['Province'] = temp['Neighbor']\n",
    "\n",
    "    temp_ = pd.merge(temp[['Province']], self.Holdings[self.Holdings['Type'] == Type].copy(), on='Province', how='left')\n",
    "    dct = {}\n",
    "    dct['Province'] = []\n",
    "    for p in set(temp_['Province']):\n",
    "        temp__ = temp_[temp_['Regent']==Regent]\n",
    "        if temp__[temp__['Province']==p].shape[0]==0:\n",
    "            dct['Province'].append(p)\n",
    "    temp_check = pd.DataFrame(dct)\n",
    "    # Validity\n",
    "\n",
    "    temp_check = pd.merge(temp_check, self.Provinces[['Province', 'Population', 'Regent']].copy(), on='Province', how='left')\n",
    "    temp_check = pd.merge(temp_check, self.Relationships[self.Relationships['Regent'] ==Regent][['Other', 'Diplomacy']], left_on='Regent', right_on='Other', how='left').fillna(0)\n",
    "\n",
    "    temp_check['Where'] = temp_check['Population'] - temp_check['Diplomacy']*decision[28]\n",
    "    temp_check = pd.merge(temp_check[['Province', 'Where', 'Population']], self.Holdings[self.Holdings['Type']==Type].copy(), on='Province', how='left')\n",
    "    temp_check = pd.merge(temp_check, self.Relationships[self.Relationships['Regent'] ==Regent][['Other', 'Diplomacy']], left_on='Regent', right_on='Other', how='left').fillna(0)\n",
    "\n",
    "    temp_check['Where'] = temp_check['Where'] - temp_check['Diplomacy']\n",
    "    temp_check = temp_check.sort_values('Where', ascending=False)\n",
    "    df = self.Holdings[self.Holdings['Regent']==Regent][self.Holdings['Type']==hType].copy()\n",
    "    df['Check'] = df['Type']\n",
    "    temp_check = pd.merge(temp_check, df[['Province','Check']], on='Province', how='left').fillna(0)\n",
    "    # temp_check = temp_check[temp_check['Check']==0]\n",
    "    # More likely to set up shop in rival area\n",
    "    if temp.shape[0]>0:\n",
    "        Target = temp_check.iloc[0]['Province']\n",
    "    else:\n",
    "        print('nope else')\n",
    "# make sure I'm not being redundent\n",
    "if self.Holdings[self.Holdings['Regent']==Regent][self.Holdings['Province']==Target][self.Holdings['Type']==hType].shape[0] > 0:\n",
    "    print('nope')\n",
    "success, reward, message = self.domain_action_create_holding(Regent, Target, hType)\n",
    "reward = reward -10 + 15*state[N]\n",
    "                    "
   ]
  },
  {
   "cell_type": "code",
   "execution_count": null,
   "metadata": {},
   "outputs": [],
   "source": [
    "temp = pd.concat([self.Provinces[self.Provinces['Regent'] == enemy][['Province']],\n",
    "                          self.Holdings[self.Holdings['Regent']==enemy][['Province']]])"
   ]
  },
  {
   "cell_type": "code",
   "execution_count": null,
   "metadata": {},
   "outputs": [],
   "source": [
    "self.Holdings[self.Holdings['Regent']==enemy]"
   ]
  },
  {
   "cell_type": "code",
   "execution_count": null,
   "metadata": {},
   "outputs": [],
   "source": []
  }
 ],
 "metadata": {
  "kernelspec": {
   "display_name": "Python 3",
   "language": "python",
   "name": "python3"
  }
 },
 "nbformat": 4,
 "nbformat_minor": 2
}
