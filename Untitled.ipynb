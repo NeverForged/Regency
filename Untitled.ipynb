{
 "cells": [
  {
   "cell_type": "markdown",
   "metadata": {},
   "source": [
    "### Structure of dataframes\n",
    "* **provences**: ['Provence', 'Domain', 'Regent', 'Population', 'Magic', 'Law', 'Guild', 'Temple', 'Source', 'Capital', 'Terrain', 'Loyalty', 'Castle', 'Taxation', 'Troops']\n",
    "* **regents**: ['Regent', 'Full Name', 'Player', 'Class', 'Level', 'Alignment', 'Str', 'Dex', 'Con', 'Int', 'Wis', 'Cha', 'Insight', 'Perception', 'Deception', 'Persuasion', 'Regency Points', 'Gold Bars', 'Regency Bonus', 'Attitude', 'Lieutenants', 'Liege']\n",
    "* **network**: ['Provence', 'Neighbor', 'Border', 'Road', 'Trade']  -sea trade is a 2\n",
    "* **relationships**: = ['Regent', 'Other', 'Relationship', 'Payment']"
   ]
  },
  {
   "cell_type": "code",
   "execution_count": 1,
   "metadata": {
    "collapsed": false
   },
   "outputs": [],
   "source": [
    "import pandas as pd\n",
    "\n",
    "provences = pd.DataFrame(columns=['Provence', 'Domain', 'Regent'\n",
    "                                  , 'Population', 'Magic'\n",
    "                                  , 'Law', 'Guild', 'Temple', 'Source'\n",
    "                                  , 'Capital', 'Terrain', 'Loyalty', 'Castle', 'Taxation'\n",
    "                                  , 'Troops'])\n",
    "regents = pd.DataFrame(columns=['Regent', 'Full Name', 'Player'\n",
    "                                ,'Class', 'Level', 'Alignment'\n",
    "                                , 'Str', 'Dex', 'Con', 'Int', 'Wis', 'Cha'\n",
    "                                , 'Insight', 'Deception', 'Persuasion'\n",
    "                                , 'Regency Points', 'Gold Bars', 'Regency Bonus'\n",
    "                                , 'Attitude', 'Lieutenants', 'Liege'])\n",
    "network =  pd.DataFrame(columns=['Provence', 'Neighbor', 'Border', 'Road', 'Trade'])\n",
    "relationships = pd.DataFrame(columns=['Regent', 'Other', 'Relationship', 'Payment'])\n",
    "\n",
    "def add_provence(Provence, Domain, Regent, df=provences\n",
    "                 , Population=0, Magic=0\n",
    "                 , Law=0, Guild=0, Temple=0, Source=0\n",
    "                 , Capital=False, Terrain='Grasslands', Loyalty='Average', Taxation='Moderate'\n",
    "                 , Troops=[], Castle=0):\n",
    "    '''\n",
    "    all set to 0 to represent adding a single holding\n",
    "    '''\n",
    "    df.loc[df.shape[0]] = [Provence, Domain, Regent\n",
    "                           , Population, Magic\n",
    "                           , Law, Guild, Temple, Source\n",
    "                           , Capital, Terrain, Loyalty, Taxation\n",
    "                           , Castle, Troops]\n",
    "    # df = df.drop_duplicates()\n",
    "    return df\n",
    "\n",
    "def add_regent(Regent, Name, Player=False, df=regents, Class='Noble', Level=2, Alignment = 'NN'\n",
    "               , Str = 0, Dex = 1, Con = 0, Int = 1, Wis = 2, Cha = 3\n",
    "               , Insight = 4, Deception = 5, Persuasion = 5\n",
    "               , Regency_Points = 0, Gold_Bars = 0, Regency_Bonus = 1\n",
    "               , Attitude = 'Normal', Lieutenants=[], Liege=None, Archetype=None, relationships=relationships):\n",
    "    if Archetype != None:\n",
    "        # set the stats based on archetype\n",
    "        Class, Level, Str, Dex, Con, Int, Wis, Cha, Insight, Deception, Persuasion = get_archetype(Archetype)\n",
    "    if Liege == None:\n",
    "        df.loc[df.shape[0]] = [Regent, Name, Player, Class, Level, Alignment\n",
    "                               , Str, Dex, Con, Int, Wis, Cha\n",
    "                               , Insight, Deception, Persuasion\n",
    "                               , Regency_Points, Gold_Bars, Regency_Bonus\n",
    "                               , Attitude, Lieutenants, Regent]\n",
    "    else:\n",
    "        df.loc[df.shape[0]] = [Regent, Name, Player, Class, Level, Alignment\n",
    "                               , Str, Dex, Con, Int, Wis, Cha\n",
    "                               , Insight, Deception, Persuasion\n",
    "                               , Regency_Points, Gold_Bars, Regency_Bonus\n",
    "                               , Attitude, Lieutenants, Liege]\n",
    "        temp = relationships[relationships['Regent']==Regent]\n",
    "        temp = temp[temp['Other']==Liege]\n",
    "        if temp.shape[0] >= 1:\n",
    "            a = list(temp.values[0])\n",
    "            a[2] = a[2] + 10\n",
    "            relationships.loc[temp.index[0]] = a\n",
    "        else:\n",
    "            relationships.loc[relationships.shape[0]] = [Regent, Liege, 10, 0]\n",
    "    return df, relationships\n",
    "\n",
    "def add_borders(Provence, Neighbor, df=network):\n",
    "    df.loc[df.shape[0]] = [Provence, Neighbor, 1, 0, 0]\n",
    "    df.loc[df.shape[0]] = [Neighbor, Provence, 1, 0, 0]\n",
    "    df = df.drop_duplicates()\n",
    "    return df\n",
    "\n",
    "def add_road(Provence, Neighbor, df=network, dfp=provences):\n",
    "    df.loc[df.shape[0]] = [Provence, Neighbor, 0, 1, 0]\n",
    "    df.loc[df.shape[0]] = [Neighbor, Provence, 0, 1, 0]\n",
    "    df = df.drop_duplicates()\n",
    "    return df\n",
    "\n",
    "def add_trade(Provence, Neighbor, df=network, dfp=provences):\n",
    "    df.loc[df.shape[0]] = [Provence, Neighbor, 0, 0, 1]\n",
    "    df.loc[df.shape[0]] = [Neighbor, Provence, 0, 0, 1]\n",
    "    df = df.drop_duplicates()\n",
    "    return df\n",
    "\n",
    "def add_sea_trade(Provence, Neighbor, df=network, dfp=provences):\n",
    "    df.loc[df.shape[0]] = [Provence, Neighbor, 0, 0, 2]\n",
    "    df.loc[df.shape[0]] = [Neighbor, Provence, 0, 0, 2]\n",
    "    df = df.drop_duplicates()\n",
    "    return df\n",
    "\n",
    "def get_archetype(Archetype):\n",
    "    # return  Class, Level, Str, Dex, Con, Int, Wis, Cha, Insight, Deception, Persuasion\n",
    "    if Archetype == 'Noble':\n",
    "        return 'Noble', 2, 0, 1, 0, 1, 2, 3, 4, 5, 5\n",
    "    elif Archetype == 'Archmage':\n",
    "        return 'Archmage', 18, 0, 2, 1, 5, 2, 3, 5, 3, 3\n",
    "    elif Archetype == 'Assassin':\n",
    "        return 'Assassin', 12, 0, 3, 2, 1, 0, 0, 1, 3, 0\n",
    "    elif Archetype == 'Bandit' or Archetype == 'Bandit Captain':\n",
    "        return 'Bandit Captain', 10, 2, 3, 2, 2, 0, 2, 2, 4, 2\n",
    "    elif Archetype == 'Commoner':\n",
    "        return 'Commoner', 1, 0, 0, 0, 0, 0, 0, 0, 0, 0\n",
    "    elif Archetype == 'Druid':\n",
    "        return 'Druid', 5, 0, 1, 1, 1, 2, 0, 1, 0, 0\n",
    "    elif Archetype == 'Knight':\n",
    "        return 'Knight', 8, 3, 0, 2, 0, 0, 2, 0, 2, 2\n",
    "    elif Archetype == 'Lich':\n",
    "        return 'Lich', 18, 0, 3, 3, 5, 2, 3, 9, 3, 3\n",
    "    elif Archetype == 'Mage':\n",
    "        return 'Mage', 9, -1, 2, 0, 3, 1, 0, 3, 0, 0\n",
    "    elif Archetype == 'Hag' or Archetype == 'Green Hag':\n",
    "        return 'Green Hag', 11, 4, 1, 3, 1, 2, 2, 1, 4, 2\n",
    "    elif Archetype == 'Priest':\n",
    "        return 'Priest', 5, 0, 0, 1, 1, 3, 1, 1, 1, 3\n",
    "    \n",
    "    # if none of the above, return Noble stats\n",
    "    else:\n",
    "        return 'Noble', 2, 0, 1, 0, 1, 2, 3, 4, 5, 5"
   ]
  },
  {
   "cell_type": "code",
   "execution_count": 2,
   "metadata": {
    "collapsed": false
   },
   "outputs": [],
   "source": [
    "# Coeranys\n",
    "\n",
    "domain='Coeranys'\n",
    "regents, relationships = add_regent('EC', 'Eluvie Cariele', Player=True, Class='Fighter', Alignment='CG', Regency_Bonus=2\n",
    "                     , Attitude='Peaceful', Lieutenants=['Aedric Bherenstae'])\n",
    "regents, relationships = add_regent('LPA', 'Life abd Protection of Avanalae (Medhlorie Haensen)', Archetype='Priest', Liege='EC', Regency_Bonus=3)\n",
    "regents, relationships = add_regent('GH', 'Ghorien Hiriele (Highland/Overland Traders)')\n",
    "regents, relationships = add_regent('Sw2', 'Second Swamp Mage', Archetype='Hag')\n",
    "regents, relationships = add_regent('HA', \"Haelyn's Aegis (Anita Maricoere)\", Archetype='Priest')\n",
    "regents, relationships = add_regent('DW', \"Diirk Watersold (Royal Guild of Baruk-Azhir)\")\n",
    "regents, relationships = add_regent('TBM', \"Three Brother Mages\", Archetype='Mage')\n",
    "regents, relationships = add_regent('EL', \"Elamien Lamier (Points East Trading Guild)\")\n",
    "\n",
    "provences = add_provence('Bogsend', domain, 'EC', Population=3, Magic=2, Law=1, Terrain='Swamp')\n",
    "provences = add_provence('Bogsend', domain, 'LPA', Temple=1, Terrain='Swamp')  # every holding gets an= seperate entry\n",
    "provences = add_provence('Bogsend', domain, 'GH', Terrain='Swamp', Guild=3)\n",
    "provences = add_provence('Bogsend', domain, 'Sw2', Terrain='Swamp', Source=2)\n",
    "\n",
    "provences = add_provence('Caudraight', domain, 'EC', Population=4, Magic=1, Law=2)\n",
    "provences = add_provence('Caudraight', domain, 'HA', Temple=2)\n",
    "provences = add_provence('Caudraight', domain, 'LPA', Temple=2)\n",
    "provences = add_provence('Caudraight', domain, 'DW', Guild=2)\n",
    "provences = add_provence('Caudraight', domain, 'GH', Guild=2)\n",
    "\n",
    "provences = add_provence('Deepshadow', domain, 'EC', Population=3, Magic=2, Law=2)\n",
    "provences = add_provence('Deepshadow', domain, 'LPA', Temple=2)\n",
    "provences = add_provence('Deepshadow', domain, 'DW', Guild=3)\n",
    "provences = add_provence('Deepshadow', domain, 'TBM', Source=3)\n",
    "\n",
    "provences = add_provence('Duornil', domain, 'TBM', Source=2)\n",
    "provences = add_provence('Duornil', domain, 'DW', Guild=3)\n",
    "provences = add_provence('Duornil', domain, 'LPA', Temple=1)\n",
    "provences = add_provence('Duornil', domain, 'EC', Population=2, Magic=3, Law=1)\n",
    "\n",
    "provences = add_provence('Mistil', domain, 'EC', Population=2, Magic=3, Law=1)\n",
    "provences = add_provence('Mistil', domain, 'LPA', Temple=2)\n",
    "provences = add_provence('Mistil', domain, 'DW', Guild=2)\n",
    "provences = add_provence('Mistil', domain, 'TBM', Source=3)\n",
    "\n",
    "provences = add_provence('Ranien', domain, 'EC', Population=2, Magic=3, Law=1)\n",
    "provences = add_provence('Ranien', domain, 'LPA', Temple=1)\n",
    "provences = add_provence('Ranien', domain, 'EL', Guild=2)\n",
    "provences = add_provence('Ranien', domain, 'TBM', Source=3)\n",
    "\n",
    "provences = add_provence('Rhorven', domain, 'EC', Population=4, Magic=1, Law=3, Terrain='Swamp', Capital=True)\n",
    "provences = add_provence('Rhorven', domain, 'LPA', Temple=3, Terrain='Swamp', Capital=True)\n",
    "provences = add_provence('Rhorven', domain, 'HA', Temple=1, Terrain='Swamp', Capital=True)\n",
    "provences = add_provence('Rhorven', domain, 'EL', Guild=2, Terrain='Swamp', Capital=True)\n",
    "provences = add_provence('Rhorven', domain, 'DW', Guild=2, Terrain='Swamp', Capital=True)\n",
    "\n",
    "network=add_borders('Deepshadow', 'Duornil')\n",
    "network=add_borders('Caudraight', 'Duornil')\n",
    "network=add_borders('Deepshadow', 'Caudraight')\n",
    "network=add_borders('Caudraight', 'Ranien')\n",
    "network=add_borders('Caudraight', 'Bogsend')\n",
    "network=add_borders('Mistil', 'Ranien')\n",
    "network=add_borders('Mistil', 'Rhorven')\n",
    "network=add_borders('Bogsend', 'Rhorven')\n",
    "network=add_borders('Bogsend', 'Ranien')\n",
    "network=add_borders('Ranien', 'Rhorven')\n",
    "network=add_borders('Ranien', 'Duornil')\n",
    "\n"
   ]
  },
  {
   "cell_type": "code",
   "execution_count": 3,
   "metadata": {
    "collapsed": true
   },
   "outputs": [],
   "source": [
    "domain='Osoerde'\n",
    "regents, relationships = add_regent('JR', 'Jaison Raenech', Class='Fighter', Level=7, Alignment='LE', Regency_Bonus=3\n",
    "                     , Attitude='Aggresive', Lieutenants=['Terence Gryphon'])\n",
    "regents, relationships = add_regent('WM', 'Willaim Moergen', Class='Fighter', Level=5, Alignment='CG', Regency_Bonus=3)\n",
    "regents, relationships = add_regent('IHH', 'Impregnable Heart of Haelyn (Hubaere Armeindin)', Archetype='Priest')\n",
    "regents, relationships = add_regent('Sw', 'Swamp Mage', Archetype='Hag')\n",
    "regents, relationships = add_regent('CSH', \"Church of Storm's End\", Archetype='Priest')\n",
    "regents, relationships = add_regent('TCV', 'One True Church of Vosgaard', Archetype='Priest')\n",
    "\n",
    "provences = add_provence('Algael', domain, 'JR', Population=2, Magic=3, Law=2, Terrain='Swamp')\n",
    "provences = add_provence('Algael', domain, 'IHH', Temple=2, Terrain='Swamp')\n",
    "provences = add_provence('Algael', domain, 'DW', Guild=2, Terrain='Swamp')\n",
    "provences = add_provence('Algael', domain, 'Sw', Source=3, Terrain='Swamp')\n",
    "\n",
    "provences = add_provence('Brothendar', domain, 'JR', Population=3, Magic=2, Law=3)\n",
    "provences = add_provence('Brothendar', domain, 'CSH', Temple=3)\n",
    "provences = add_provence('Brothendar', domain, 'GH', Guild=3)\n",
    "provences = add_provence('Brothendar', domain, 'Sw', Source=2)\n",
    "\n",
    "provences = add_provence('Ghalliere', domain, 'JR', Population=2, Magic=3, Law=1)\n",
    "provences = add_provence('Ghalliere', domain, 'IHH', Temple=2)\n",
    "provences = add_provence('Ghalliere', domain, 'GH', Guild=2)\n",
    "provences = add_provence('Ghalliere', domain, 'Sw2', Source=3)\n",
    "\n",
    "provences = add_provence('Gulfport', domain, 'JR', Population=3, Magic=2, Law=3)\n",
    "provences = add_provence('Gulfport', domain, 'CSH', Temple=2)\n",
    "provences = add_provence('Gulfport', domain, 'Sw2', Source=2)\n",
    "\n",
    "provences = add_provence('Moergen', domain, 'JR', Population=2, Magic=3)\n",
    "provences = add_provence('Moergen', domain, 'WM', Law=2)\n",
    "provences = add_provence('Moergen', domain, 'IHH', Temple=2)\n",
    "provences = add_provence('Moergen', domain, 'DW', Guild=2)\n",
    "provences = add_provence('Moergen', domain, 'Sw2', Source=3)\n",
    "\n",
    "provences = add_provence('Morial', domain, 'JR', Population=4, Magic=1, Law=3, Capital=True)\n",
    "provences = add_provence('Morial', domain, 'WM', Law=1)\n",
    "provences = add_provence('Morial', domain, 'CSH', Temple=3)\n",
    "provences = add_provence('Morial', domain, 'TCV', Temple=1)\n",
    "provences = add_provence('Morial', domain, 'DW', Guild=1)\n",
    "provences = add_provence('Morial', domain, 'GH', Guild=2)\n",
    "provences = add_provence('Morial', domain, 'Sw2', Source=1)\n",
    "\n",
    "provences = add_provence('Spiritsend', domain, 'JR', Population=2, Magic=6, Terrain='Swamp', Law=1)\n",
    "provences = add_provence('Spirtisend', domain, 'DW', Guild=2)\n",
    "provences = add_provence('Spirtisend', domain, 'Sw', Source=6)\n",
    "\n",
    "provences = add_provence('Sunken Lands', domain, 'JR', Population=2, Magic=6, Terrain='Swamp')\n",
    "provences = add_provence('Sunken Lands', domain, 'WM', Law=2)\n",
    "provences = add_provence('Sunken Lands', domain, 'CSH', Temple=2)\n",
    "provences = add_provence('Sunken Lands', domain, 'Sw2', Source=6)\n",
    "\n",
    "network=add_borders('Brothendar', 'Algael')\n",
    "network=add_borders('Brothendar', 'Ghalliere')\n",
    "network=add_borders('Brothendar', 'Gulfport')\n",
    "network=add_borders('Moergen', 'Ghalliere')\n",
    "network=add_borders('Moergen', 'Gulfport')\n",
    "network=add_borders('Morial', 'Ghalliere')\n",
    "network=add_borders('Morial', 'Gulfport')\n",
    "network=add_borders('Morial', 'Brothendar')\n",
    "network=add_borders('Morial', 'Moergen')\n",
    "network=add_borders('Spirtisend', 'Algael')\n",
    "network=add_borders('Spirtisend', 'Gulfport')\n",
    "network=add_borders('Spirtisend', 'Brothendar')\n",
    "network=add_borders('Spirtisend', 'Morial')\n",
    "network=add_borders('Sunken Lands', 'Gulfport')\n",
    "network=add_borders('Sunken Lands', 'Moergen')\n",
    "\n",
    "network=add_borders('Sunken Lands', 'Bogsend')\n",
    "network=add_borders('Bogsend', 'Moergen')\n",
    "network=add_borders('Sunken Lands', 'Rhorven')\n",
    "network=add_borders('Rhorven', 'Moergen')"
   ]
  },
  {
   "cell_type": "code",
   "execution_count": 4,
   "metadata": {
    "collapsed": false
   },
   "outputs": [],
   "source": [
    "def get_active(regents=regents, provences=provences, network=network, relationships=relationships):\n",
    "    active_regents = regents[regents['Player']==True]\n",
    "\n",
    "    ap = []\n",
    "    ar = list(active_regents['Regent'])\n",
    "\n",
    "    # get provences our PCs are in\n",
    "    for r in ar:\n",
    "        ap = ap + list(provences[provences['Regent']==r]['Provence'])\n",
    "\n",
    "    # get neighboring provences\n",
    "    n_p = []    \n",
    "    for p in ap:\n",
    "        n_p = n_p + list(network[network['Provence']==p]['Neighbor'])    \n",
    "    ap = list(set(ap + n_p))\n",
    "\n",
    "    # get all relevent regents to these locations\n",
    "    for p in ap:\n",
    "        ar = ar + list(provences[provences['Provence']==p]['Regent'])\n",
    "    ar = list(set(ar))\n",
    "\n",
    "\n",
    "    active_provences = pd.DataFrame()\n",
    "    active_networks = pd.DataFrame()\n",
    "    active_regents = pd.DataFrame()\n",
    "    active_relationships = pd.DataFrame()\n",
    "    for p in ap:\n",
    "        active_provences = pd.concat([active_provences, provences[provences['Provence']==p]])\n",
    "        active_networks = pd.concat([active_networks, network[network['Provence']==p]])\n",
    "\n",
    "    for r in ar:\n",
    "        active_regents = pd.concat([active_regents, regents[regents['Regent']==r]])\n",
    "        active_relationships = pd.concat([active_relationships, relationships[relationships['Regent']==r]])\n",
    "    return active_regents, active_provences, active_networks, active_relationships"
   ]
  },
  {
   "cell_type": "code",
   "execution_count": 14,
   "metadata": {
    "collapsed": false
   },
   "outputs": [
    {
     "data": {
      "text/html": [
       "<div>\n",
       "<table border=\"1\" class=\"dataframe\">\n",
       "  <thead>\n",
       "    <tr style=\"text-align: right;\">\n",
       "      <th></th>\n",
       "      <th>Regent</th>\n",
       "      <th>Other</th>\n",
       "      <th>Relationship</th>\n",
       "      <th>Payment</th>\n",
       "    </tr>\n",
       "  </thead>\n",
       "  <tbody>\n",
       "    <tr>\n",
       "      <th>0</th>\n",
       "      <td>LPA</td>\n",
       "      <td>EC</td>\n",
       "      <td>10.0</td>\n",
       "      <td>0.0</td>\n",
       "    </tr>\n",
       "  </tbody>\n",
       "</table>\n",
       "</div>"
      ],
      "text/plain": [
       "  Regent Other  Relationship  Payment\n",
       "0    LPA    EC          10.0      0.0"
      ]
     },
     "execution_count": 14,
     "metadata": {},
     "output_type": "execute_result"
    }
   ],
   "source": [
    "active_regents, active_provences, active_networks, active_relationships = get_active()\n",
    "active_relationships.head()"
   ]
  },
  {
   "cell_type": "code",
   "execution_count": 15,
   "metadata": {
    "collapsed": false
   },
   "outputs": [],
   "source": [
    "import networkx as nx\n",
    "try:\n",
    "    G = nx.from_pandas_edgelist(active_networks, 'Provence', 'Neighbor', ['Border', 'Road', 'Trade'])\n",
    "except:\n",
    "    \n",
    "    G = nx.from_pandas_dataframe(active_networks, 'Provence', 'Neighbor', ['Border', 'Road', 'Trade'])"
   ]
  },
  {
   "cell_type": "code",
   "execution_count": 16,
   "metadata": {
    "collapsed": false
   },
   "outputs": [
    {
     "data": {
      "image/png": "[encoded data removed]",
      "text/plain": [
       "<matplotlib.figure.Figure at 0x214cf151748>"
      ]
     },
     "metadata": {},
     "output_type": "display_data"
    }
   ],
   "source": [
    "import matplotlib.pyplot as plt\n",
    "\n",
    "nx.draw_networkx(G)\n",
    "nx.relabel_\n",
    "plt.show()"
   ]
  },
  {
   "cell_type": "code",
   "execution_count": 46,
   "metadata": {
    "collapsed": false
   },
   "outputs": [
    {
     "name": "stderr",
     "output_type": "stream",
     "text": [
      "C:\\Users\\darin\\Anaconda3\\lib\\site-packages\\ipykernel\\__main__.py:39: SettingWithCopyWarning: \n",
      "A value is trying to be set on a copy of a slice from a DataFrame.\n",
      "Try using .loc[row_indexer,col_indexer] = value instead\n",
      "\n",
      "See the caveats in the documentation: http://pandas.pydata.org/pandas-docs/stable/indexing.html#indexing-view-versus-copy\n"
     ]
    },
    {
     "data": {
      "image/png": "[encoded data removed]",
      "text/plain": [
       "<matplotlib.figure.Figure at 0x214cf18f6d8>"
      ]
     },
     "metadata": {},
     "output_type": "display_data"
    }
   ],
   "source": [
    "# spring position until I can get better\n",
    "pos=nx.spring_layout(G)    \n",
    "\n",
    "# player nodes\n",
    "player_regents = list(regents[regents['Player']]['Regent'])\n",
    "nodes = []\n",
    "for reg in player_regents:\n",
    "    temp = active_provences[active_provences['Magic']>0]\n",
    "    nodes = nodes + list(temp[temp['Regent']==reg]['Provence'])\n",
    "nodes = list(set(nodes))\n",
    "\n",
    "nx.draw_networkx_nodes(G,pos,\n",
    "                       nodelist=nodes,\n",
    "                       node_color='b',\n",
    "                       node_size=500,\n",
    "                       alpha=0.8)\n",
    "\n",
    "\n",
    "# enemy provences\n",
    "nodes = []\n",
    "npc_regents = list(active_regents[active_regents['Player']==False]['Regent'])\n",
    "for reg in npc_regents:\n",
    "    temp = active_provences[active_provences['Magic']>0]\n",
    "    nodes = nodes + list(temp[temp['Regent']==reg]['Provence'])\n",
    "nodes = list(set(nodes))\n",
    "\n",
    "nx.draw_networkx_nodes(G,pos,\n",
    "                       nodelist=nodes,\n",
    "                       node_color='r',\n",
    "                       node_size=500,\n",
    "                       alpha=0.8)\n",
    "\n",
    "# edges\n",
    "# nx.draw_networkx_edges(G,pos,width=1.0,alpha=0.5)\n",
    "\n",
    "\n",
    "# labels\n",
    "temp = active_provences[active_provences['Magic']>0]\n",
    "temp['Label'] = temp['Provence'] + ' (' + temp['Population'].astype(int).astype(str) + '/' + temp['Magic'].astype(int).astype(str) + ')'\n",
    "\n",
    "labels={}\n",
    "for i, row in temp.iterrows():\n",
    "    labels[row['Provence']] =  row['Label']\n",
    "nx.draw_networkx_labels(G,pos,labels,font_size=10)\n",
    "plt.show()"
   ]
  },
  {
   "cell_type": "code",
   "execution_count": 47,
   "metadata": {
    "collapsed": false
   },
   "outputs": [
    {
     "data": {
      "text/plain": [
       "{'Bogsend': array([ 0.49546865,  0.33649737]),\n",
       " 'Caudraight': array([ 0.94747982,  0.28989324]),\n",
       " 'Deepshadow': array([ 1.        ,  0.47718425]),\n",
       " 'Duornil': array([ 0.98730849,  0.61113877]),\n",
       " 'Ghalliere': array([ 0.19356823,  0.88430057]),\n",
       " 'Gulfport': array([ 0.        ,  0.54606508]),\n",
       " 'Mistil': array([ 0.54659252,  0.        ]),\n",
       " 'Moergen': array([ 0.2505691 ,  0.59187972]),\n",
       " 'Morial': array([ 0.44486259,  0.99204405]),\n",
       " 'Ranien': array([ 0.74199945,  0.20111521]),\n",
       " 'Rhorven': array([ 0.32898432,  0.15826039]),\n",
       " 'Sunken Lands': array([ 0.08792837,  0.299494  ])}"
      ]
     },
     "execution_count": 47,
     "metadata": {},
     "output_type": "execute_result"
    }
   ],
   "source": [
    "pos"
   ]
  },
  {
   "cell_type": "code",
   "execution_count": 8,
   "metadata": {
    "collapsed": false
   },
   "outputs": [],
   "source": [
    "# The Season\n",
    "season = 0\n",
    "\n",
    "\n",
    "def random_events(regents=regents):\n",
    "    '''\n",
    "    At the beginning of the season, the Game Master checks for \n",
    "    events that take place in each domain. A Game Master \n",
    "    may either randomly determine the event (or lack thereof), \n",
    "    or they may have a specific set of events that unravels \n",
    "    depending on the outcomes of previous seasons or the plot \n",
    "    they wish to present.\n",
    "    '''\n",
    "    \n",
    "    # skipping for now\n",
    "    return None\n",
    "\n",
    "def domain_initiative():\n",
    "    '''\n",
    "    Running steps concurrently.  Regents react in subsequent turns.\n",
    "    '''\n",
    "    return None\n",
    "\n",
    "def collect_regency_points(provences=provences, regents=regents):\n",
    "    '''\n",
    "    As outlined previously, a regent collects Regency Points \n",
    "    equivalent to their Domain Power (sum of all levels of all \n",
    "    holdings and provinces) plus their Bloodline score modifier.\n",
    "    '''\n",
    "    df = provences.copy()  # don't want to effect the provence list\n",
    "    df = df[['Regent','Population','Law','Guild','Temple','Source']].groupby('Regent').sum().reset_index()\n",
    "    df2 = regents.copy()\n",
    "    # Vassals give their Liege their bonus points...\n",
    "    df2 = df2[['Liege','Regency Bonus']].groupby('Liege').sum().reset_index()\n",
    "    df2['Regent'] = df2['Liege']\n",
    "    df2 = pd.merge(regents[['Regent', 'Regency Points']], df2[['Regent', 'Regency Bonus']], on='Regent', how='left')\n",
    "    df = pd.merge(df2, df, on='Regent', how='left').fillna(0)\n",
    "    df['New Value'] = df['Regency Points'] + df['Population'] + df['Law'] + df['Guild'] + df['Temple'] + df['Source'] + df['Regency Bonus']\n",
    "    regents['Regency Points'] = df['New Value'].astype(int)\n",
    "    return regents\n",
    "\n"
   ]
  },
  {
   "cell_type": "code",
   "execution_count": 9,
   "metadata": {
    "collapsed": true
   },
   "outputs": [],
   "source": [
    "temp = relationships[relationships['Regent']=='LPA']\n",
    "temp = temp[temp['Other']=='EC']"
   ]
  },
  {
   "cell_type": "code",
   "execution_count": 10,
   "metadata": {
    "collapsed": false
   },
   "outputs": [
    {
     "data": {
      "text/plain": [
       "0"
      ]
     },
     "execution_count": 10,
     "metadata": {},
     "output_type": "execute_result"
    }
   ],
   "source": [
    "temp.index[0]"
   ]
  },
  {
   "cell_type": "code",
   "execution_count": 11,
   "metadata": {
    "collapsed": false
   },
   "outputs": [
    {
     "data": {
      "text/plain": [
       "['LPA', 'EC', 10.0, 0.0]"
      ]
     },
     "execution_count": 11,
     "metadata": {},
     "output_type": "execute_result"
    }
   ],
   "source": [
    "list(temp.values[0])"
   ]
  },
  {
   "cell_type": "code",
   "execution_count": null,
   "metadata": {
    "collapsed": true
   },
   "outputs": [],
   "source": []
  }
 ],
 "metadata": {
  "anaconda-cloud": {},
  "kernelspec": {
   "display_name": "Python [default]",
   "language": "python",
   "name": "python3"
  },
  "language_info": {
   "codemirror_mode": {
    "name": "ipython",
    "version": 3
   },
   "file_extension": ".py",
   "mimetype": "text/x-python",
   "name": "python",
   "nbconvert_exporter": "python",
   "pygments_lexer": "ipython3",
   "version": "3.5.2"
  }
 },
 "nbformat": 4,
 "nbformat_minor": 2
}
