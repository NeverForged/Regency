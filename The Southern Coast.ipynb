{
 "cells": [
  {
   "cell_type": "code",
   "execution_count": 4,
   "metadata": {},
   "outputs": [],
   "source": [
    "from source.regency import Regency\n",
    "from source.mapping import Mapping\n",
    "%matplotlib notebook\n",
    "Game = Regency('Birthright')"
   ]
  },
  {
   "cell_type": "markdown",
   "metadata": {},
   "source": [
    "### Avanil"
   ]
  },
  {
   "cell_type": "code",
   "execution_count": null,
   "metadata": {},
   "outputs": [],
   "source": [
    "Region = 'The Southern Coast'\n",
    "d = 'Roesone'\n",
    "p = 'Abbatuor'\n",
    "Game.add_provence(p, d, Region, 'MR', Population=3, Magic=4, x=1185, y=2450, Terrain='Forest', Waterway=True)\n",
    "\n",
    "p = 'Bellam'\n",
    "Game.add_provence(p, d, Region, 'MR', Population=3, Magic=2, x=1265, y=2220)\n",
    "Game.add_geo(p, 'Algael')\n",
    "Game.add_geo(p, 'Brothendar')\n",
    "Game.add_geo(p, 'Danaroene')\n",
    "Game.add_geo(p, 'Achiese')\n",
    "p = 'Caercas'\n",
    "Game.add_provence(p, d, Region, 'MR', Population=4, Magic=1, x=1105, y=2300, Capital=True, Waterway=True)\n",
    "p = 'Duerlin'\n",
    "Game.add_provence(p, d, Region, 'MR', Population=3, Magic=2, x=1190, y=2390, Waterway=True)\n",
    "Game.add_geo(p, 'Caercas')\n",
    "Game.add_geo(p, 'Abbatuor')\n",
    "p = 'Edlin'\n",
    "\n",
    "p = 'Fairfield'\n",
    "\n",
    "p = 'Ghoried'\n",
    "\n",
    "\n",
    "\n"
   ]
  },
  {
   "cell_type": "code",
   "execution_count": null,
   "metadata": {},
   "outputs": [],
   "source": [
    "import pandas as pd\n",
    "from PIL import Image\n",
    "import networkx as nx\n",
    "import matplotlib.pyplot as plt"
   ]
  },
  {
   "cell_type": "markdown",
   "metadata": {},
   "source": [
    "### Regents"
   ]
  },
  {
   "cell_type": "code",
   "execution_count": 1,
   "metadata": {},
   "outputs": [],
   "source": []
  },
  {
   "cell_type": "code",
   "execution_count": null,
   "metadata": {},
   "outputs": [],
   "source": []
  }
 ],
 "metadata": {
  "kernelspec": {
   "display_name": "Python 3",
   "language": "python",
   "name": "python3"
  },
  "language_info": {
   "codemirror_mode": {
    "name": "ipython",
    "version": 3
   },
   "file_extension": ".py",
   "mimetype": "text/x-python",
   "name": "python",
   "nbconvert_exporter": "python",
   "pygments_lexer": "ipython3",
   "version": "3.7.3"
  }
 },
 "nbformat": 4,
 "nbformat_minor": 2
}
