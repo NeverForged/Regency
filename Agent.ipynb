{
 "cells": [
  {
   "cell_type": "code",
   "execution_count": 1,
   "metadata": {},
   "outputs": [
    {
     "name": "stderr",
     "output_type": "stream",
     "text": [
      "Using TensorFlow backend.\n"
     ]
    },
    {
     "name": "stdout",
     "output_type": "stream",
     "text": [
      "WARNING:tensorflow:From C:\\ProgramData\\Anaconda3\\lib\\site-packages\\tensorflow\\python\\framework\\op_def_library.py:263: colocate_with (from tensorflow.python.framework.ops) is deprecated and will be removed in a future version.\n",
      "Instructions for updating:\n",
      "Colocations handled automatically by placer.\n",
      "WARNING:tensorflow:From C:\\ProgramData\\Anaconda3\\lib\\site-packages\\keras\\backend\\tensorflow_backend.py:3445: calling dropout (from tensorflow.python.ops.nn_ops) with keep_prob is deprecated and will be removed in a future version.\n",
      "Instructions for updating:\n",
      "Please use `rate` instead of `keep_prob`. Rate should be set to `rate = 1 - keep_prob`.\n"
     ]
    },
    {
     "name": "stderr",
     "output_type": "stream",
     "text": [
      "C:\\git\\Regency\\DQNAgent.py:107: UserWarning: Update your `Dense` call to the Keras 2 API: `Dense(activation=\"relu\", input_dim=18, units=120)`\n",
      "  model.add(Dense(output_dim=120, activation='relu', input_dim=K))\n",
      "C:\\git\\Regency\\DQNAgent.py:109: UserWarning: Update your `Dense` call to the Keras 2 API: `Dense(activation=\"relu\", units=120)`\n",
      "  model.add(Dense(output_dim=120, activation='relu'))\n",
      "C:\\git\\Regency\\DQNAgent.py:111: UserWarning: Update your `Dense` call to the Keras 2 API: `Dense(activation=\"relu\", units=120)`\n",
      "  model.add(Dense(output_dim=120, activation='relu'))\n",
      "C:\\git\\Regency\\DQNAgent.py:113: UserWarning: Update your `Dense` call to the Keras 2 API: `Dense(activation=\"softmax\", units=4)`\n",
      "  model.add(Dense(output_dim=N, activation='softmax'))\n"
     ]
    }
   ],
   "source": [
    "from DQNAgent import DQNAgent\n",
    "norm = DQNAgent('Normal')\n",
    "agg = DQNAgent('Aggressive')\n",
    "pcf = DQNAgent('Peaceful')\n",
    "\n",
    "import pickle\n",
    "\n",
    "with open('agent_n.pickle', 'wb') as handle:\n",
    "            pickle.dump(norm, handle, protocol=pickle.HIGHEST_PROTOCOL)\n",
    "with open('agent_p.pickle', 'wb') as handle:\n",
    "            pickle.dump(pcf, handle, protocol=pickle.HIGHEST_PROTOCOL)\n",
    "with open('agent_a.pickle', 'wb') as handle:\n",
    "            pickle.dump(agg, handle, protocol=pickle.HIGHEST_PROTOCOL)"
   ]
  },
  {
   "cell_type": "code",
   "execution_count": null,
   "metadata": {},
   "outputs": [],
   "source": []
  }
 ],
 "metadata": {
  "kernelspec": {
   "display_name": "Python 3",
   "language": "python",
   "name": "python3"
  },
  "language_info": {
   "codemirror_mode": {
    "name": "ipython",
    "version": 3
   },
   "file_extension": ".py",
   "mimetype": "text/x-python",
   "name": "python",
   "nbconvert_exporter": "python",
   "pygments_lexer": "ipython3",
   "version": "3.7.3"
  }
 },
 "nbformat": 4,
 "nbformat_minor": 2
}
